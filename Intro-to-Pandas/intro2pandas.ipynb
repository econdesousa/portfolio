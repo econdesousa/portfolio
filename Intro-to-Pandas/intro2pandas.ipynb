{
 "cells": [
  {
   "cell_type": "markdown",
   "source": "# What is Pandas?",
   "metadata": {
    "tags": [],
    "cell_id": "00000-e953577a-cf64-4cd1-b500-f75650a925cc",
    "deepnote_app_coordinates": {
     "x": 0,
     "y": 0,
     "w": 12,
     "h": 5
    },
    "deepnote_cell_type": "markdown"
   }
  },
  {
   "cell_type": "markdown",
   "source": "**pandas** is a fast, powerful, flexible and easy to use open source data analysis and manipulation tool,\nbuilt on top of the Python programming language.\n\n[source](https://pandas.pydata.org/)",
   "metadata": {
    "tags": [],
    "cell_id": "00001-cb3135de-0904-4739-bd27-0ad7071bf814",
    "deepnote_cell_type": "markdown"
   }
  },
  {
   "cell_type": "markdown",
   "source": "Pandas is built on top of numpy (see [here](https://github.com/econdesousa/portfolio/tree/main/Intro-to-numpy) for an introduction to numpy) and uses Series and dataframes as primary data structures.",
   "metadata": {
    "tags": [],
    "cell_id": "00002-97f6e39f-cf88-453c-8e4d-eff52892a2e6",
    "deepnote_cell_type": "markdown"
   }
  },
  {
   "cell_type": "markdown",
   "source": "## Install Pandas",
   "metadata": {
    "tags": [],
    "cell_id": "00003-f94a7b7f-2191-46a4-b1ad-968c0dc21026",
    "deepnote_cell_type": "markdown"
   }
  },
  {
   "cell_type": "markdown",
   "source": "As most of the python libraries, pandas can be installed from conda\n>conda install pandas\nor from pip\n>pip install pandas",
   "metadata": {
    "tags": [],
    "cell_id": "00004-96a38a65-606e-4c0f-879c-07331f712554",
    "deepnote_cell_type": "markdown"
   }
  },
  {
   "cell_type": "markdown",
   "source": "## Importing Pandas",
   "metadata": {
    "tags": [],
    "cell_id": "00005-945adbda-c06d-4b6c-8440-7661f4021784",
    "deepnote_cell_type": "markdown"
   }
  },
  {
   "cell_type": "markdown",
   "source": "To import pandas into your script",
   "metadata": {
    "tags": [],
    "cell_id": "00006-aa073498-3528-4306-a749-679abb53b0a2",
    "deepnote_cell_type": "markdown"
   }
  },
  {
   "cell_type": "code",
   "metadata": {
    "tags": [],
    "cell_id": "00000-3c715c7a-b62f-418b-b2d7-1a9188008dc3",
    "deepnote_to_be_reexecuted": false,
    "source_hash": "9b82ee11",
    "execution_start": 1638787045851,
    "execution_millis": 46,
    "deepnote_cell_type": "code"
   },
   "source": "import pandas as pd",
   "execution_count": 1,
   "outputs": []
  },
  {
   "cell_type": "markdown",
   "source": "## Pandas Series",
   "metadata": {
    "tags": [],
    "cell_id": "00008-6cb06273-b592-439f-84ab-d6d93ea53dbf",
    "deepnote_cell_type": "markdown"
   }
  },
  {
   "cell_type": "code",
   "source": "numericalSeries = pd.Series([10,21,32,43])\nnumericalSeries",
   "metadata": {
    "tags": [],
    "cell_id": "00009-2f1472d5-4744-4d87-b777-f2bcae8ae058",
    "deepnote_to_be_reexecuted": false,
    "source_hash": "c3797de5",
    "execution_start": 1638787045898,
    "execution_millis": 10,
    "deepnote_output_heights": [
     97.9375
    ],
    "deepnote_cell_type": "code"
   },
   "outputs": [
    {
     "output_type": "execute_result",
     "execution_count": 2,
     "data": {
      "text/plain": "0    10\n1    21\n2    32\n3    43\ndtype: int64"
     },
     "metadata": {}
    }
   ],
   "execution_count": 2
  },
  {
   "cell_type": "code",
   "source": "CharacterSeries = pd.Series(['a','b','c'])\nCharacterSeries",
   "metadata": {
    "tags": [],
    "cell_id": "00011-2aa43483-dc93-48e8-87ac-cb0053cb40b1",
    "deepnote_to_be_reexecuted": false,
    "source_hash": "b1200f62",
    "execution_start": 1638787045899,
    "execution_millis": 36,
    "deepnote_output_heights": [
     78.75
    ],
    "deepnote_cell_type": "code"
   },
   "outputs": [
    {
     "output_type": "execute_result",
     "execution_count": 3,
     "data": {
      "text/plain": "0    a\n1    b\n2    c\ndtype: object"
     },
     "metadata": {}
    }
   ],
   "execution_count": 3
  },
  {
   "cell_type": "markdown",
   "source": "Combining pandas with numpy",
   "metadata": {
    "tags": [],
    "cell_id": "00011-50455d5e-1b39-422d-bfb5-df25e225e9d3",
    "deepnote_cell_type": "markdown"
   }
  },
  {
   "cell_type": "code",
   "source": "import numpy as np\n\nnumpySeries = pd.Series(np.random.randn(10))\nnumpySeries",
   "metadata": {
    "tags": [],
    "cell_id": "00012-7dd20220-6899-4718-8103-9d782ac78d15",
    "deepnote_to_be_reexecuted": false,
    "source_hash": "da5e01a",
    "execution_start": 1638787045929,
    "execution_millis": 7,
    "deepnote_output_heights": [
     213.0625
    ],
    "deepnote_cell_type": "code"
   },
   "outputs": [
    {
     "output_type": "execute_result",
     "execution_count": 4,
     "data": {
      "text/plain": "0   -0.919858\n1   -0.047902\n2   -0.800299\n3   -1.759447\n4   -1.599635\n5   -0.747060\n6    1.648134\n7   -1.346622\n8    1.217698\n9    1.179268\ndtype: float64"
     },
     "metadata": {}
    }
   ],
   "execution_count": 4
  },
  {
   "cell_type": "markdown",
   "source": "## Assigning indexes to series",
   "metadata": {
    "tags": [],
    "cell_id": "00013-3f611dcc-93ac-4cab-ad33-94f28a57cde1",
    "deepnote_cell_type": "markdown"
   }
  },
  {
   "cell_type": "code",
   "source": "numpySeriesWithIndex = pd.Series(np.random.randn(10),index=['a','b','c','d','e','f','g','h','i','j'])\nnumpySeriesWithIndex",
   "metadata": {
    "tags": [],
    "cell_id": "00014-f5014f03-dba1-462e-be2c-207b7801244c",
    "deepnote_to_be_reexecuted": false,
    "source_hash": "11b973af",
    "execution_start": 1638787045930,
    "execution_millis": 7,
    "deepnote_output_heights": [
     213.0625
    ],
    "deepnote_cell_type": "code"
   },
   "outputs": [
    {
     "output_type": "execute_result",
     "execution_count": 5,
     "data": {
      "text/plain": "a    0.932594\nb   -0.472996\nc   -0.345444\nd   -0.636789\ne    0.859272\nf   -1.082917\ng   -0.169093\nh    0.209436\ni   -1.213947\nj    0.556698\ndtype: float64"
     },
     "metadata": {}
    }
   ],
   "execution_count": 5
  },
  {
   "cell_type": "markdown",
   "source": "Or the same from a dictionary",
   "metadata": {
    "tags": [],
    "cell_id": "00015-0f121d38-5d78-41ff-a72e-36e9dfe4816c",
    "deepnote_cell_type": "markdown"
   }
  },
  {
   "cell_type": "code",
   "source": "dictionary = {'a' : 1,'b' : 2,'c' : 3,'d' : 4,'e' : 5,'f' : 6,'g' : 7,'h' : 8,'i' : 9,'j' : 10}\nnumpySeriesWithIndexFromDict = pd.Series(dictionary)\nnumpySeriesWithIndexFromDict",
   "metadata": {
    "tags": [],
    "cell_id": "00016-a2e4395c-3029-44b8-b5d3-44073cfc67e2",
    "deepnote_to_be_reexecuted": false,
    "source_hash": "a27ef841",
    "execution_start": 1638787045938,
    "execution_millis": 12,
    "deepnote_output_heights": [
     213.0625
    ],
    "deepnote_cell_type": "code"
   },
   "outputs": [
    {
     "output_type": "execute_result",
     "execution_count": 6,
     "data": {
      "text/plain": "a     1\nb     2\nc     3\nd     4\ne     5\nf     6\ng     7\nh     8\ni     9\nj    10\ndtype: int64"
     },
     "metadata": {}
    }
   ],
   "execution_count": 6
  },
  {
   "cell_type": "markdown",
   "source": "## Indexing",
   "metadata": {
    "tags": [],
    "cell_id": "00017-9e53e378-bf70-4db9-b577-7201a4f91aac",
    "deepnote_cell_type": "markdown"
   }
  },
  {
   "cell_type": "markdown",
   "source": "### from index\n",
   "metadata": {
    "tags": [],
    "cell_id": "00018-07422aaa-1e42-4289-b812-ffb58c6d8e5c",
    "deepnote_cell_type": "markdown"
   }
  },
  {
   "cell_type": "code",
   "source": "numpySeriesWithIndexFromDict[0] # first element of the Series",
   "metadata": {
    "tags": [],
    "cell_id": "00018-69c0ec79-b4dd-408c-87d0-b11524691317",
    "deepnote_to_be_reexecuted": false,
    "source_hash": "61d3e223",
    "execution_start": 1638787045949,
    "execution_millis": 11,
    "deepnote_output_heights": [
     21.1875
    ],
    "deepnote_cell_type": "code"
   },
   "outputs": [
    {
     "output_type": "execute_result",
     "execution_count": 7,
     "data": {
      "text/plain": "1"
     },
     "metadata": {}
    }
   ],
   "execution_count": 7
  },
  {
   "cell_type": "code",
   "source": "numpySeriesWithIndexFromDict[-1] # last element of the Series",
   "metadata": {
    "tags": [],
    "cell_id": "00019-948c7c2f-140e-41d1-977f-99cbf0a34309",
    "deepnote_to_be_reexecuted": false,
    "source_hash": "f686b907",
    "execution_start": 1638787045962,
    "execution_millis": 9,
    "deepnote_output_heights": [
     21.1875
    ],
    "deepnote_cell_type": "code"
   },
   "outputs": [
    {
     "output_type": "execute_result",
     "execution_count": 8,
     "data": {
      "text/plain": "10"
     },
     "metadata": {}
    }
   ],
   "execution_count": 8
  },
  {
   "cell_type": "code",
   "source": "numpySeriesWithIndexFromDict[5:-2] # from sixth element (index=5) to penultimate element (index=-2)",
   "metadata": {
    "tags": [],
    "cell_id": "00021-0300c0d1-1068-4055-a378-da33ca061eb8",
    "deepnote_to_be_reexecuted": false,
    "source_hash": "f32ba225",
    "execution_start": 1638787045977,
    "execution_millis": 13,
    "deepnote_output_heights": [
     78.75
    ],
    "deepnote_cell_type": "code"
   },
   "outputs": [
    {
     "output_type": "execute_result",
     "execution_count": 9,
     "data": {
      "text/plain": "f    6\ng    7\nh    8\ndtype: int64"
     },
     "metadata": {}
    }
   ],
   "execution_count": 9
  },
  {
   "cell_type": "markdown",
   "source": "### from name of index",
   "metadata": {
    "tags": [],
    "cell_id": "00022-44dc4793-75ef-4159-82c8-e1013456be86",
    "deepnote_cell_type": "markdown"
   }
  },
  {
   "cell_type": "code",
   "source": "numpySeriesWithIndexFromDict['b']",
   "metadata": {
    "tags": [],
    "cell_id": "00023-48a100e2-8055-4341-b53f-b93305528b10",
    "deepnote_to_be_reexecuted": false,
    "source_hash": "a4cca6a3",
    "execution_start": 1638787045984,
    "execution_millis": 10,
    "deepnote_output_heights": [
     21.1875
    ],
    "deepnote_cell_type": "code"
   },
   "outputs": [
    {
     "output_type": "execute_result",
     "execution_count": 10,
     "data": {
      "text/plain": "2"
     },
     "metadata": {}
    }
   ],
   "execution_count": 10
  },
  {
   "cell_type": "markdown",
   "source": "### Edit values by math operations (numpy style)",
   "metadata": {
    "tags": [],
    "cell_id": "00024-f5608d01-1838-4fae-9792-efd681ce8be1",
    "deepnote_cell_type": "markdown"
   }
  },
  {
   "cell_type": "code",
   "source": "numpySeriesWithIndexFromDict + 2",
   "metadata": {
    "tags": [],
    "cell_id": "00025-e9778b43-e8c4-44fc-bc33-bdacca1bb984",
    "deepnote_to_be_reexecuted": false,
    "source_hash": "96bea41c",
    "execution_start": 1638787045993,
    "execution_millis": 8,
    "deepnote_output_heights": [
     213.0625
    ],
    "deepnote_cell_type": "code"
   },
   "outputs": [
    {
     "output_type": "execute_result",
     "execution_count": 11,
     "data": {
      "text/plain": "a     3\nb     4\nc     5\nd     6\ne     7\nf     8\ng     9\nh    10\ni    11\nj    12\ndtype: int64"
     },
     "metadata": {}
    }
   ],
   "execution_count": 11
  },
  {
   "cell_type": "code",
   "source": "numpySeriesWithIndexFromDict / 2",
   "metadata": {
    "tags": [],
    "cell_id": "00026-2571ae38-4cc8-409d-91fb-7531dda2840d",
    "deepnote_to_be_reexecuted": false,
    "source_hash": "76a23228",
    "execution_start": 1638787046010,
    "execution_millis": 13,
    "deepnote_output_heights": [
     213.0625
    ],
    "deepnote_cell_type": "code"
   },
   "outputs": [
    {
     "output_type": "execute_result",
     "execution_count": 12,
     "data": {
      "text/plain": "a    0.5\nb    1.0\nc    1.5\nd    2.0\ne    2.5\nf    3.0\ng    3.5\nh    4.0\ni    4.5\nj    5.0\ndtype: float64"
     },
     "metadata": {}
    }
   ],
   "execution_count": 12
  },
  {
   "cell_type": "code",
   "source": "numpySeriesWithIndexFromDict ** 2 ",
   "metadata": {
    "tags": [],
    "cell_id": "00027-2b5149d9-2fb5-4771-b114-aecfe276b413",
    "deepnote_to_be_reexecuted": false,
    "source_hash": "74592a5f",
    "execution_start": 1638787046024,
    "execution_millis": 6,
    "deepnote_output_heights": [
     213.0625
    ],
    "deepnote_cell_type": "code"
   },
   "outputs": [
    {
     "output_type": "execute_result",
     "execution_count": 13,
     "data": {
      "text/plain": "a      1\nb      4\nc      9\nd     16\ne     25\nf     36\ng     49\nh     64\ni     81\nj    100\ndtype: int64"
     },
     "metadata": {}
    }
   ],
   "execution_count": 13
  },
  {
   "cell_type": "markdown",
   "source": "## Pandas Dataframe",
   "metadata": {
    "tags": [],
    "cell_id": "00028-1a482b30-1f61-4b91-8a83-51e4b871ae7d",
    "deepnote_cell_type": "markdown"
   }
  },
  {
   "cell_type": "markdown",
   "source": "A pandas dataframe is an heterogenous struture in python\nIt can be thought as the python equivalent to an excel spreedsheet",
   "metadata": {
    "tags": [],
    "cell_id": "00029-0b9125eb-8e3b-4e52-9026-fde5bfb1a67c",
    "deepnote_cell_type": "markdown"
   }
  },
  {
   "cell_type": "code",
   "source": "twoColDataframe = pd.DataFrame({'var1' : [1,2,3,4,5], 'var2' : np.random.rand(5)})\ntwoColDataframe",
   "metadata": {
    "tags": [],
    "cell_id": "00030-a019c828-2b95-4b0a-b37e-6929caa08cee",
    "deepnote_to_be_reexecuted": false,
    "source_hash": "9025075",
    "execution_start": 1638787046097,
    "execution_millis": 2,
    "deepnote_cell_type": "code"
   },
   "outputs": [
    {
     "output_type": "execute_result",
     "execution_count": 14,
     "data": {
      "application/vnd.deepnote.dataframe.v2+json": {
       "row_count": 5,
       "column_count": 2,
       "columns": [
        {
         "name": "var1",
         "dtype": "int64",
         "stats": {
          "unique_count": 5,
          "nan_count": 0,
          "min": "1",
          "max": "5",
          "histogram": [
           {
            "bin_start": 1,
            "bin_end": 1.4,
            "count": 1
           },
           {
            "bin_start": 1.4,
            "bin_end": 1.8,
            "count": 0
           },
           {
            "bin_start": 1.8,
            "bin_end": 2.2,
            "count": 1
           },
           {
            "bin_start": 2.2,
            "bin_end": 2.6,
            "count": 0
           },
           {
            "bin_start": 2.6,
            "bin_end": 3,
            "count": 0
           },
           {
            "bin_start": 3,
            "bin_end": 3.4000000000000004,
            "count": 1
           },
           {
            "bin_start": 3.4000000000000004,
            "bin_end": 3.8000000000000003,
            "count": 0
           },
           {
            "bin_start": 3.8000000000000003,
            "bin_end": 4.2,
            "count": 1
           },
           {
            "bin_start": 4.2,
            "bin_end": 4.6,
            "count": 0
           },
           {
            "bin_start": 4.6,
            "bin_end": 5,
            "count": 1
           }
          ]
         }
        },
        {
         "name": "var2",
         "dtype": "float64",
         "stats": {
          "unique_count": 5,
          "nan_count": 0,
          "min": "0.0016659512240425611",
          "max": "0.7927752446068241",
          "histogram": [
           {
            "bin_start": 0.0016659512240425611,
            "bin_end": 0.08077688056232071,
            "count": 1
           },
           {
            "bin_start": 0.08077688056232071,
            "bin_end": 0.15988780990059887,
            "count": 0
           },
           {
            "bin_start": 0.15988780990059887,
            "bin_end": 0.23899873923887702,
            "count": 2
           },
           {
            "bin_start": 0.23899873923887702,
            "bin_end": 0.31810966857715517,
            "count": 0
           },
           {
            "bin_start": 0.31810966857715517,
            "bin_end": 0.3972205979154333,
            "count": 0
           },
           {
            "bin_start": 0.3972205979154333,
            "bin_end": 0.4763315272537115,
            "count": 0
           },
           {
            "bin_start": 0.4763315272537115,
            "bin_end": 0.5554424565919897,
            "count": 1
           },
           {
            "bin_start": 0.5554424565919897,
            "bin_end": 0.6345533859302678,
            "count": 0
           },
           {
            "bin_start": 0.6345533859302678,
            "bin_end": 0.7136643152685459,
            "count": 0
           },
           {
            "bin_start": 0.7136643152685459,
            "bin_end": 0.7927752446068241,
            "count": 1
           }
          ]
         }
        },
        {
         "name": "_deepnote_index_column",
         "dtype": "int64"
        }
       ],
       "rows_top": [
        {
         "var1": 1,
         "var2": 0.16448163451906328,
         "_deepnote_index_column": 0
        },
        {
         "var1": 2,
         "var2": 0.7927752446068241,
         "_deepnote_index_column": 1
        },
        {
         "var1": 3,
         "var2": 0.4770679265023755,
         "_deepnote_index_column": 2
        },
        {
         "var1": 4,
         "var2": 0.0016659512240425611,
         "_deepnote_index_column": 3
        },
        {
         "var1": 5,
         "var2": 0.18108648830855079,
         "_deepnote_index_column": 4
        }
       ],
       "rows_bottom": null
      },
      "text/plain": "   var1      var2\n0     1  0.164482\n1     2  0.792775\n2     3  0.477068\n3     4  0.001666\n4     5  0.181086",
      "text/html": "<div>\n<style scoped>\n    .dataframe tbody tr th:only-of-type {\n        vertical-align: middle;\n    }\n\n    .dataframe tbody tr th {\n        vertical-align: top;\n    }\n\n    .dataframe thead th {\n        text-align: right;\n    }\n</style>\n<table border=\"1\" class=\"dataframe\">\n  <thead>\n    <tr style=\"text-align: right;\">\n      <th></th>\n      <th>var1</th>\n      <th>var2</th>\n    </tr>\n  </thead>\n  <tbody>\n    <tr>\n      <th>0</th>\n      <td>1</td>\n      <td>0.164482</td>\n    </tr>\n    <tr>\n      <th>1</th>\n      <td>2</td>\n      <td>0.792775</td>\n    </tr>\n    <tr>\n      <th>2</th>\n      <td>3</td>\n      <td>0.477068</td>\n    </tr>\n    <tr>\n      <th>3</th>\n      <td>4</td>\n      <td>0.001666</td>\n    </tr>\n    <tr>\n      <th>4</th>\n      <td>5</td>\n      <td>0.181086</td>\n    </tr>\n  </tbody>\n</table>\n</div>"
     },
     "metadata": {}
    }
   ],
   "execution_count": 14
  },
  {
   "cell_type": "code",
   "source": "dataframeFromDictionary = pd.DataFrame([dictionary]) # if passed as imput to a dataframe, each dictionary entry will became a column\ndataframeFromDictionary",
   "metadata": {
    "tags": [],
    "cell_id": "00031-0d1ea5bb-ff32-47e7-939c-80b7d23dc99c",
    "deepnote_to_be_reexecuted": false,
    "source_hash": "a2f768fe",
    "execution_start": 1638787046114,
    "execution_millis": 3,
    "deepnote_cell_type": "code"
   },
   "outputs": [
    {
     "output_type": "execute_result",
     "execution_count": 15,
     "data": {
      "application/vnd.deepnote.dataframe.v2+json": {
       "row_count": 1,
       "column_count": 10,
       "columns": [
        {
         "name": "a",
         "dtype": "int64",
         "stats": {
          "unique_count": 1,
          "nan_count": 0,
          "min": "1",
          "max": "1",
          "histogram": [
           {
            "bin_start": 0.5,
            "bin_end": 0.6,
            "count": 0
           },
           {
            "bin_start": 0.6,
            "bin_end": 0.7,
            "count": 0
           },
           {
            "bin_start": 0.7,
            "bin_end": 0.8,
            "count": 0
           },
           {
            "bin_start": 0.8,
            "bin_end": 0.9,
            "count": 0
           },
           {
            "bin_start": 0.9,
            "bin_end": 1,
            "count": 0
           },
           {
            "bin_start": 1,
            "bin_end": 1.1,
            "count": 1
           },
           {
            "bin_start": 1.1,
            "bin_end": 1.2000000000000002,
            "count": 0
           },
           {
            "bin_start": 1.2000000000000002,
            "bin_end": 1.3,
            "count": 0
           },
           {
            "bin_start": 1.3,
            "bin_end": 1.4,
            "count": 0
           },
           {
            "bin_start": 1.4,
            "bin_end": 1.5,
            "count": 0
           }
          ]
         }
        },
        {
         "name": "b",
         "dtype": "int64",
         "stats": {
          "unique_count": 1,
          "nan_count": 0,
          "min": "2",
          "max": "2",
          "histogram": [
           {
            "bin_start": 1.5,
            "bin_end": 1.6,
            "count": 0
           },
           {
            "bin_start": 1.6,
            "bin_end": 1.7,
            "count": 0
           },
           {
            "bin_start": 1.7,
            "bin_end": 1.8,
            "count": 0
           },
           {
            "bin_start": 1.8,
            "bin_end": 1.9,
            "count": 0
           },
           {
            "bin_start": 1.9,
            "bin_end": 2,
            "count": 0
           },
           {
            "bin_start": 2,
            "bin_end": 2.1,
            "count": 1
           },
           {
            "bin_start": 2.1,
            "bin_end": 2.2,
            "count": 0
           },
           {
            "bin_start": 2.2,
            "bin_end": 2.3,
            "count": 0
           },
           {
            "bin_start": 2.3,
            "bin_end": 2.4,
            "count": 0
           },
           {
            "bin_start": 2.4,
            "bin_end": 2.5,
            "count": 0
           }
          ]
         }
        },
        {
         "name": "c",
         "dtype": "int64",
         "stats": {
          "unique_count": 1,
          "nan_count": 0,
          "min": "3",
          "max": "3",
          "histogram": [
           {
            "bin_start": 2.5,
            "bin_end": 2.6,
            "count": 0
           },
           {
            "bin_start": 2.6,
            "bin_end": 2.7,
            "count": 0
           },
           {
            "bin_start": 2.7,
            "bin_end": 2.8,
            "count": 0
           },
           {
            "bin_start": 2.8,
            "bin_end": 2.9,
            "count": 0
           },
           {
            "bin_start": 2.9,
            "bin_end": 3,
            "count": 0
           },
           {
            "bin_start": 3,
            "bin_end": 3.1,
            "count": 1
           },
           {
            "bin_start": 3.1,
            "bin_end": 3.2,
            "count": 0
           },
           {
            "bin_start": 3.2,
            "bin_end": 3.3,
            "count": 0
           },
           {
            "bin_start": 3.3,
            "bin_end": 3.4,
            "count": 0
           },
           {
            "bin_start": 3.4,
            "bin_end": 3.5,
            "count": 0
           }
          ]
         }
        },
        {
         "name": "d",
         "dtype": "int64",
         "stats": {
          "unique_count": 1,
          "nan_count": 0,
          "min": "4",
          "max": "4",
          "histogram": [
           {
            "bin_start": 3.5,
            "bin_end": 3.6,
            "count": 0
           },
           {
            "bin_start": 3.6,
            "bin_end": 3.7,
            "count": 0
           },
           {
            "bin_start": 3.7,
            "bin_end": 3.8,
            "count": 0
           },
           {
            "bin_start": 3.8,
            "bin_end": 3.9,
            "count": 0
           },
           {
            "bin_start": 3.9,
            "bin_end": 4,
            "count": 0
           },
           {
            "bin_start": 4,
            "bin_end": 4.1,
            "count": 1
           },
           {
            "bin_start": 4.1,
            "bin_end": 4.2,
            "count": 0
           },
           {
            "bin_start": 4.2,
            "bin_end": 4.3,
            "count": 0
           },
           {
            "bin_start": 4.3,
            "bin_end": 4.4,
            "count": 0
           },
           {
            "bin_start": 4.4,
            "bin_end": 4.5,
            "count": 0
           }
          ]
         }
        },
        {
         "name": "e",
         "dtype": "int64",
         "stats": {
          "unique_count": 1,
          "nan_count": 0,
          "min": "5",
          "max": "5",
          "histogram": [
           {
            "bin_start": 4.5,
            "bin_end": 4.6,
            "count": 0
           },
           {
            "bin_start": 4.6,
            "bin_end": 4.7,
            "count": 0
           },
           {
            "bin_start": 4.7,
            "bin_end": 4.8,
            "count": 0
           },
           {
            "bin_start": 4.8,
            "bin_end": 4.9,
            "count": 0
           },
           {
            "bin_start": 4.9,
            "bin_end": 5,
            "count": 0
           },
           {
            "bin_start": 5,
            "bin_end": 5.1,
            "count": 1
           },
           {
            "bin_start": 5.1,
            "bin_end": 5.2,
            "count": 0
           },
           {
            "bin_start": 5.2,
            "bin_end": 5.3,
            "count": 0
           },
           {
            "bin_start": 5.3,
            "bin_end": 5.4,
            "count": 0
           },
           {
            "bin_start": 5.4,
            "bin_end": 5.5,
            "count": 0
           }
          ]
         }
        },
        {
         "name": "f",
         "dtype": "int64",
         "stats": {
          "unique_count": 1,
          "nan_count": 0,
          "min": "6",
          "max": "6",
          "histogram": [
           {
            "bin_start": 5.5,
            "bin_end": 5.6,
            "count": 0
           },
           {
            "bin_start": 5.6,
            "bin_end": 5.7,
            "count": 0
           },
           {
            "bin_start": 5.7,
            "bin_end": 5.8,
            "count": 0
           },
           {
            "bin_start": 5.8,
            "bin_end": 5.9,
            "count": 0
           },
           {
            "bin_start": 5.9,
            "bin_end": 6,
            "count": 0
           },
           {
            "bin_start": 6,
            "bin_end": 6.1,
            "count": 1
           },
           {
            "bin_start": 6.1,
            "bin_end": 6.2,
            "count": 0
           },
           {
            "bin_start": 6.2,
            "bin_end": 6.3,
            "count": 0
           },
           {
            "bin_start": 6.3,
            "bin_end": 6.4,
            "count": 0
           },
           {
            "bin_start": 6.4,
            "bin_end": 6.5,
            "count": 0
           }
          ]
         }
        },
        {
         "name": "g",
         "dtype": "int64",
         "stats": {
          "unique_count": 1,
          "nan_count": 0,
          "min": "7",
          "max": "7",
          "histogram": [
           {
            "bin_start": 6.5,
            "bin_end": 6.6,
            "count": 0
           },
           {
            "bin_start": 6.6,
            "bin_end": 6.7,
            "count": 0
           },
           {
            "bin_start": 6.7,
            "bin_end": 6.8,
            "count": 0
           },
           {
            "bin_start": 6.8,
            "bin_end": 6.9,
            "count": 0
           },
           {
            "bin_start": 6.9,
            "bin_end": 7,
            "count": 0
           },
           {
            "bin_start": 7,
            "bin_end": 7.1,
            "count": 1
           },
           {
            "bin_start": 7.1,
            "bin_end": 7.2,
            "count": 0
           },
           {
            "bin_start": 7.2,
            "bin_end": 7.3,
            "count": 0
           },
           {
            "bin_start": 7.3,
            "bin_end": 7.4,
            "count": 0
           },
           {
            "bin_start": 7.4,
            "bin_end": 7.5,
            "count": 0
           }
          ]
         }
        },
        {
         "name": "h",
         "dtype": "int64",
         "stats": {
          "unique_count": 1,
          "nan_count": 0,
          "min": "8",
          "max": "8",
          "histogram": [
           {
            "bin_start": 7.5,
            "bin_end": 7.6,
            "count": 0
           },
           {
            "bin_start": 7.6,
            "bin_end": 7.7,
            "count": 0
           },
           {
            "bin_start": 7.7,
            "bin_end": 7.8,
            "count": 0
           },
           {
            "bin_start": 7.8,
            "bin_end": 7.9,
            "count": 0
           },
           {
            "bin_start": 7.9,
            "bin_end": 8,
            "count": 0
           },
           {
            "bin_start": 8,
            "bin_end": 8.1,
            "count": 1
           },
           {
            "bin_start": 8.1,
            "bin_end": 8.2,
            "count": 0
           },
           {
            "bin_start": 8.2,
            "bin_end": 8.3,
            "count": 0
           },
           {
            "bin_start": 8.3,
            "bin_end": 8.4,
            "count": 0
           },
           {
            "bin_start": 8.4,
            "bin_end": 8.5,
            "count": 0
           }
          ]
         }
        },
        {
         "name": "i",
         "dtype": "int64",
         "stats": {
          "unique_count": 1,
          "nan_count": 0,
          "min": "9",
          "max": "9",
          "histogram": [
           {
            "bin_start": 8.5,
            "bin_end": 8.6,
            "count": 0
           },
           {
            "bin_start": 8.6,
            "bin_end": 8.7,
            "count": 0
           },
           {
            "bin_start": 8.7,
            "bin_end": 8.8,
            "count": 0
           },
           {
            "bin_start": 8.8,
            "bin_end": 8.9,
            "count": 0
           },
           {
            "bin_start": 8.9,
            "bin_end": 9,
            "count": 0
           },
           {
            "bin_start": 9,
            "bin_end": 9.1,
            "count": 1
           },
           {
            "bin_start": 9.1,
            "bin_end": 9.2,
            "count": 0
           },
           {
            "bin_start": 9.2,
            "bin_end": 9.3,
            "count": 0
           },
           {
            "bin_start": 9.3,
            "bin_end": 9.4,
            "count": 0
           },
           {
            "bin_start": 9.4,
            "bin_end": 9.5,
            "count": 0
           }
          ]
         }
        },
        {
         "name": "j",
         "dtype": "int64",
         "stats": {
          "unique_count": 1,
          "nan_count": 0,
          "min": "10",
          "max": "10",
          "histogram": [
           {
            "bin_start": 9.5,
            "bin_end": 9.6,
            "count": 0
           },
           {
            "bin_start": 9.6,
            "bin_end": 9.7,
            "count": 0
           },
           {
            "bin_start": 9.7,
            "bin_end": 9.8,
            "count": 0
           },
           {
            "bin_start": 9.8,
            "bin_end": 9.9,
            "count": 0
           },
           {
            "bin_start": 9.9,
            "bin_end": 10,
            "count": 0
           },
           {
            "bin_start": 10,
            "bin_end": 10.1,
            "count": 1
           },
           {
            "bin_start": 10.1,
            "bin_end": 10.2,
            "count": 0
           },
           {
            "bin_start": 10.2,
            "bin_end": 10.3,
            "count": 0
           },
           {
            "bin_start": 10.3,
            "bin_end": 10.4,
            "count": 0
           },
           {
            "bin_start": 10.4,
            "bin_end": 10.5,
            "count": 0
           }
          ]
         }
        },
        {
         "name": "_deepnote_index_column",
         "dtype": "int64"
        }
       ],
       "rows_top": [
        {
         "a": 1,
         "b": 2,
         "c": 3,
         "d": 4,
         "e": 5,
         "f": 6,
         "g": 7,
         "h": 8,
         "i": 9,
         "j": 10,
         "_deepnote_index_column": 0
        }
       ],
       "rows_bottom": null
      },
      "text/plain": "   a  b  c  d  e  f  g  h  i   j\n0  1  2  3  4  5  6  7  8  9  10",
      "text/html": "<div>\n<style scoped>\n    .dataframe tbody tr th:only-of-type {\n        vertical-align: middle;\n    }\n\n    .dataframe tbody tr th {\n        vertical-align: top;\n    }\n\n    .dataframe thead th {\n        text-align: right;\n    }\n</style>\n<table border=\"1\" class=\"dataframe\">\n  <thead>\n    <tr style=\"text-align: right;\">\n      <th></th>\n      <th>a</th>\n      <th>b</th>\n      <th>c</th>\n      <th>d</th>\n      <th>e</th>\n      <th>f</th>\n      <th>g</th>\n      <th>h</th>\n      <th>i</th>\n      <th>j</th>\n    </tr>\n  </thead>\n  <tbody>\n    <tr>\n      <th>0</th>\n      <td>1</td>\n      <td>2</td>\n      <td>3</td>\n      <td>4</td>\n      <td>5</td>\n      <td>6</td>\n      <td>7</td>\n      <td>8</td>\n      <td>9</td>\n      <td>10</td>\n    </tr>\n  </tbody>\n</table>\n</div>"
     },
     "metadata": {}
    }
   ],
   "execution_count": 15
  },
  {
   "cell_type": "markdown",
   "source": "## Import and export to csv",
   "metadata": {
    "tags": [],
    "cell_id": "00032-796e6d8b-9ad4-4b45-8f28-9c57a988d3f3",
    "deepnote_cell_type": "markdown"
   }
  },
  {
   "cell_type": "markdown",
   "source": "To save a dataframe to csv we just use the variable pointing to the dataframe and appy to it the function to_csv() ",
   "metadata": {
    "tags": [],
    "cell_id": "00033-ff592cfd-b117-4277-83a1-08fc1773101a",
    "deepnote_cell_type": "markdown"
   }
  },
  {
   "cell_type": "code",
   "source": "filename = 'data2CSV.csv'\ntwoColDataframe.to_csv(filename)",
   "metadata": {
    "tags": [],
    "cell_id": "00032-9ec2ad9c-7e03-4e30-9a92-875a64aabe22",
    "deepnote_to_be_reexecuted": false,
    "source_hash": "5edddc1f",
    "execution_start": 1638787046165,
    "execution_millis": 1,
    "deepnote_cell_type": "code"
   },
   "outputs": [],
   "execution_count": 16
  },
  {
   "cell_type": "code",
   "source": "newDataframeFromFile = pd.read_csv(filename)\nnewDataframeFromFile",
   "metadata": {
    "tags": [],
    "cell_id": "00035-f18a6348-091e-41de-afa6-646c0fca7405",
    "deepnote_to_be_reexecuted": false,
    "source_hash": "81ef7664",
    "execution_start": 1638787046166,
    "execution_millis": 73,
    "deepnote_cell_type": "code"
   },
   "outputs": [
    {
     "output_type": "execute_result",
     "execution_count": 17,
     "data": {
      "application/vnd.deepnote.dataframe.v2+json": {
       "row_count": 5,
       "column_count": 3,
       "columns": [
        {
         "name": "Unnamed: 0",
         "dtype": "int64",
         "stats": {
          "unique_count": 5,
          "nan_count": 0,
          "min": "0",
          "max": "4",
          "histogram": [
           {
            "bin_start": 0,
            "bin_end": 0.4,
            "count": 1
           },
           {
            "bin_start": 0.4,
            "bin_end": 0.8,
            "count": 0
           },
           {
            "bin_start": 0.8,
            "bin_end": 1.2000000000000002,
            "count": 1
           },
           {
            "bin_start": 1.2000000000000002,
            "bin_end": 1.6,
            "count": 0
           },
           {
            "bin_start": 1.6,
            "bin_end": 2,
            "count": 0
           },
           {
            "bin_start": 2,
            "bin_end": 2.4000000000000004,
            "count": 1
           },
           {
            "bin_start": 2.4000000000000004,
            "bin_end": 2.8000000000000003,
            "count": 0
           },
           {
            "bin_start": 2.8000000000000003,
            "bin_end": 3.2,
            "count": 1
           },
           {
            "bin_start": 3.2,
            "bin_end": 3.6,
            "count": 0
           },
           {
            "bin_start": 3.6,
            "bin_end": 4,
            "count": 1
           }
          ]
         }
        },
        {
         "name": "var1",
         "dtype": "int64",
         "stats": {
          "unique_count": 5,
          "nan_count": 0,
          "min": "1",
          "max": "5",
          "histogram": [
           {
            "bin_start": 1,
            "bin_end": 1.4,
            "count": 1
           },
           {
            "bin_start": 1.4,
            "bin_end": 1.8,
            "count": 0
           },
           {
            "bin_start": 1.8,
            "bin_end": 2.2,
            "count": 1
           },
           {
            "bin_start": 2.2,
            "bin_end": 2.6,
            "count": 0
           },
           {
            "bin_start": 2.6,
            "bin_end": 3,
            "count": 0
           },
           {
            "bin_start": 3,
            "bin_end": 3.4000000000000004,
            "count": 1
           },
           {
            "bin_start": 3.4000000000000004,
            "bin_end": 3.8000000000000003,
            "count": 0
           },
           {
            "bin_start": 3.8000000000000003,
            "bin_end": 4.2,
            "count": 1
           },
           {
            "bin_start": 4.2,
            "bin_end": 4.6,
            "count": 0
           },
           {
            "bin_start": 4.6,
            "bin_end": 5,
            "count": 1
           }
          ]
         }
        },
        {
         "name": "var2",
         "dtype": "float64",
         "stats": {
          "unique_count": 5,
          "nan_count": 0,
          "min": "0.0016659512240425",
          "max": "0.7927752446068241",
          "histogram": [
           {
            "bin_start": 0.0016659512240425,
            "bin_end": 0.08077688056232067,
            "count": 1
           },
           {
            "bin_start": 0.08077688056232067,
            "bin_end": 0.15988780990059884,
            "count": 0
           },
           {
            "bin_start": 0.15988780990059884,
            "bin_end": 0.238998739238877,
            "count": 2
           },
           {
            "bin_start": 0.238998739238877,
            "bin_end": 0.31810966857715517,
            "count": 0
           },
           {
            "bin_start": 0.31810966857715517,
            "bin_end": 0.39722059791543335,
            "count": 0
           },
           {
            "bin_start": 0.39722059791543335,
            "bin_end": 0.4763315272537115,
            "count": 0
           },
           {
            "bin_start": 0.4763315272537115,
            "bin_end": 0.5554424565919897,
            "count": 1
           },
           {
            "bin_start": 0.5554424565919897,
            "bin_end": 0.6345533859302678,
            "count": 0
           },
           {
            "bin_start": 0.6345533859302678,
            "bin_end": 0.7136643152685459,
            "count": 0
           },
           {
            "bin_start": 0.7136643152685459,
            "bin_end": 0.7927752446068241,
            "count": 1
           }
          ]
         }
        },
        {
         "name": "_deepnote_index_column",
         "dtype": "int64"
        }
       ],
       "rows_top": [
        {
         "Unnamed: 0": 0,
         "var1": 1,
         "var2": 0.1644816345190632,
         "_deepnote_index_column": 0
        },
        {
         "Unnamed: 0": 1,
         "var1": 2,
         "var2": 0.7927752446068241,
         "_deepnote_index_column": 1
        },
        {
         "Unnamed: 0": 2,
         "var1": 3,
         "var2": 0.4770679265023755,
         "_deepnote_index_column": 2
        },
        {
         "Unnamed: 0": 3,
         "var1": 4,
         "var2": 0.0016659512240425,
         "_deepnote_index_column": 3
        },
        {
         "Unnamed: 0": 4,
         "var1": 5,
         "var2": 0.1810864883085507,
         "_deepnote_index_column": 4
        }
       ],
       "rows_bottom": null
      },
      "text/plain": "   Unnamed: 0  var1      var2\n0           0     1  0.164482\n1           1     2  0.792775\n2           2     3  0.477068\n3           3     4  0.001666\n4           4     5  0.181086",
      "text/html": "<div>\n<style scoped>\n    .dataframe tbody tr th:only-of-type {\n        vertical-align: middle;\n    }\n\n    .dataframe tbody tr th {\n        vertical-align: top;\n    }\n\n    .dataframe thead th {\n        text-align: right;\n    }\n</style>\n<table border=\"1\" class=\"dataframe\">\n  <thead>\n    <tr style=\"text-align: right;\">\n      <th></th>\n      <th>Unnamed: 0</th>\n      <th>var1</th>\n      <th>var2</th>\n    </tr>\n  </thead>\n  <tbody>\n    <tr>\n      <th>0</th>\n      <td>0</td>\n      <td>1</td>\n      <td>0.164482</td>\n    </tr>\n    <tr>\n      <th>1</th>\n      <td>1</td>\n      <td>2</td>\n      <td>0.792775</td>\n    </tr>\n    <tr>\n      <th>2</th>\n      <td>2</td>\n      <td>3</td>\n      <td>0.477068</td>\n    </tr>\n    <tr>\n      <th>3</th>\n      <td>3</td>\n      <td>4</td>\n      <td>0.001666</td>\n    </tr>\n    <tr>\n      <th>4</th>\n      <td>4</td>\n      <td>5</td>\n      <td>0.181086</td>\n    </tr>\n  </tbody>\n</table>\n</div>"
     },
     "metadata": {}
    }
   ],
   "execution_count": 17
  },
  {
   "cell_type": "markdown",
   "source": "Saving to and reading from CSV can be customized. For example, instead of using comm as separator we can use tab ",
   "metadata": {
    "tags": [],
    "cell_id": "00036-ff1ed73c-c353-437f-b1c3-10a9e11bf432",
    "deepnote_cell_type": "markdown"
   }
  },
  {
   "cell_type": "code",
   "source": "twoColDataframe.to_csv(filename,sep=\"\\t\",index=False);\nnewDataframeFromFile=pd.read_csv(filename,sep=\"\\t\")\nnewDataframeFromFile",
   "metadata": {
    "tags": [],
    "cell_id": "00037-b85bfbdb-fbf8-436d-af59-96ed243a3a5b",
    "deepnote_to_be_reexecuted": false,
    "source_hash": "ac1b27b6",
    "execution_start": 1638787046222,
    "execution_millis": 17,
    "deepnote_cell_type": "code"
   },
   "outputs": [
    {
     "output_type": "execute_result",
     "execution_count": 18,
     "data": {
      "application/vnd.deepnote.dataframe.v2+json": {
       "row_count": 5,
       "column_count": 2,
       "columns": [
        {
         "name": "var1",
         "dtype": "int64",
         "stats": {
          "unique_count": 5,
          "nan_count": 0,
          "min": "1",
          "max": "5",
          "histogram": [
           {
            "bin_start": 1,
            "bin_end": 1.4,
            "count": 1
           },
           {
            "bin_start": 1.4,
            "bin_end": 1.8,
            "count": 0
           },
           {
            "bin_start": 1.8,
            "bin_end": 2.2,
            "count": 1
           },
           {
            "bin_start": 2.2,
            "bin_end": 2.6,
            "count": 0
           },
           {
            "bin_start": 2.6,
            "bin_end": 3,
            "count": 0
           },
           {
            "bin_start": 3,
            "bin_end": 3.4000000000000004,
            "count": 1
           },
           {
            "bin_start": 3.4000000000000004,
            "bin_end": 3.8000000000000003,
            "count": 0
           },
           {
            "bin_start": 3.8000000000000003,
            "bin_end": 4.2,
            "count": 1
           },
           {
            "bin_start": 4.2,
            "bin_end": 4.6,
            "count": 0
           },
           {
            "bin_start": 4.6,
            "bin_end": 5,
            "count": 1
           }
          ]
         }
        },
        {
         "name": "var2",
         "dtype": "float64",
         "stats": {
          "unique_count": 5,
          "nan_count": 0,
          "min": "0.0016659512240425",
          "max": "0.7927752446068241",
          "histogram": [
           {
            "bin_start": 0.0016659512240425,
            "bin_end": 0.08077688056232067,
            "count": 1
           },
           {
            "bin_start": 0.08077688056232067,
            "bin_end": 0.15988780990059884,
            "count": 0
           },
           {
            "bin_start": 0.15988780990059884,
            "bin_end": 0.238998739238877,
            "count": 2
           },
           {
            "bin_start": 0.238998739238877,
            "bin_end": 0.31810966857715517,
            "count": 0
           },
           {
            "bin_start": 0.31810966857715517,
            "bin_end": 0.39722059791543335,
            "count": 0
           },
           {
            "bin_start": 0.39722059791543335,
            "bin_end": 0.4763315272537115,
            "count": 0
           },
           {
            "bin_start": 0.4763315272537115,
            "bin_end": 0.5554424565919897,
            "count": 1
           },
           {
            "bin_start": 0.5554424565919897,
            "bin_end": 0.6345533859302678,
            "count": 0
           },
           {
            "bin_start": 0.6345533859302678,
            "bin_end": 0.7136643152685459,
            "count": 0
           },
           {
            "bin_start": 0.7136643152685459,
            "bin_end": 0.7927752446068241,
            "count": 1
           }
          ]
         }
        },
        {
         "name": "_deepnote_index_column",
         "dtype": "int64"
        }
       ],
       "rows_top": [
        {
         "var1": 1,
         "var2": 0.1644816345190632,
         "_deepnote_index_column": 0
        },
        {
         "var1": 2,
         "var2": 0.7927752446068241,
         "_deepnote_index_column": 1
        },
        {
         "var1": 3,
         "var2": 0.4770679265023755,
         "_deepnote_index_column": 2
        },
        {
         "var1": 4,
         "var2": 0.0016659512240425,
         "_deepnote_index_column": 3
        },
        {
         "var1": 5,
         "var2": 0.1810864883085507,
         "_deepnote_index_column": 4
        }
       ],
       "rows_bottom": null
      },
      "text/plain": "   var1      var2\n0     1  0.164482\n1     2  0.792775\n2     3  0.477068\n3     4  0.001666\n4     5  0.181086",
      "text/html": "<div>\n<style scoped>\n    .dataframe tbody tr th:only-of-type {\n        vertical-align: middle;\n    }\n\n    .dataframe tbody tr th {\n        vertical-align: top;\n    }\n\n    .dataframe thead th {\n        text-align: right;\n    }\n</style>\n<table border=\"1\" class=\"dataframe\">\n  <thead>\n    <tr style=\"text-align: right;\">\n      <th></th>\n      <th>var1</th>\n      <th>var2</th>\n    </tr>\n  </thead>\n  <tbody>\n    <tr>\n      <th>0</th>\n      <td>1</td>\n      <td>0.164482</td>\n    </tr>\n    <tr>\n      <th>1</th>\n      <td>2</td>\n      <td>0.792775</td>\n    </tr>\n    <tr>\n      <th>2</th>\n      <td>3</td>\n      <td>0.477068</td>\n    </tr>\n    <tr>\n      <th>3</th>\n      <td>4</td>\n      <td>0.001666</td>\n    </tr>\n    <tr>\n      <th>4</th>\n      <td>5</td>\n      <td>0.181086</td>\n    </tr>\n  </tbody>\n</table>\n</div>"
     },
     "metadata": {}
    }
   ],
   "execution_count": 18
  },
  {
   "cell_type": "markdown",
   "source": "<a style='text-decoration:none;line-height:16px;display:flex;color:#5B5B62;padding:10px;justify-content:end;' href='https://deepnote.com?utm_source=created-in-deepnote-cell&projectId=438bfc66-3ecc-45f9-a712-d9b30601a8bf' target=\"_blank\">\n<img alt='Created in deepnote.com' style='display:inline;max-height:16px;margin:0px;margin-right:7.5px;' src='data:image/svg+xml;base64,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' > </img>\nCreated in <span style='font-weight:600;margin-left:4px;'>Deepnote</span></a>",
   "metadata": {
    "tags": [],
    "created_in_deepnote_cell": true,
    "deepnote_cell_type": "markdown"
   }
  }
 ],
 "nbformat": 4,
 "nbformat_minor": 2,
 "metadata": {
  "orig_nbformat": 2,
  "deepnote": {
   "is_reactive": false
  },
  "deepnote_notebook_id": "b8b434ea-5e12-4ff1-a117-c74ae54d96bc",
  "deepnote_app_layout": "dashboard",
  "deepnote_execution_queue": []
 }
}