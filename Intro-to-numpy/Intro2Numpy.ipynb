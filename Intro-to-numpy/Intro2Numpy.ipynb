{
 "cells": [
  {
   "cell_type": "markdown",
   "source": "# Why?",
   "metadata": {
    "tags": [],
    "cell_id": "00000-db6ee636-34f6-4ae4-ab3a-aebe5aa36e2b",
    "deepnote_app_coordinates": {
     "x": 0,
     "y": 0,
     "w": 12,
     "h": 5
    },
    "deepnote_cell_type": "markdown"
   }
  },
  {
   "cell_type": "markdown",
   "source": "NumPy (Numerical Python) is an open source Python library that’s used in almost every field of science and engineering. It’s the universal standard for working with numerical data in Python, and it’s at the core of the scientific Python and PyData ecosystems. NumPy users include everyone from beginning coders to experienced researchers doing state-of-the-art scientific and industrial research and development. The NumPy API is used extensively in Pandas, SciPy, Matplotlib, scikit-learn, scikit-image and most other data science and scientific Python packages.\n\nThe NumPy library contains multidimensional array and matrix data structures (you’ll find more information about this in later sections). It provides ndarray, a homogeneous n-dimensional array object, with methods to efficiently operate on it. NumPy can be used to perform a wide variety of mathematical operations on arrays. It adds powerful data structures to Python that guarantee efficient calculations with arrays and matrices and it supplies an enormous library of high-level mathematical functions that operate on these arrays and matrices.\n\n[source](https://numpy.org/devdocs/user/absolute_beginners.html)\n\n",
   "metadata": {
    "tags": [],
    "cell_id": "00001-d4e0a723-5e20-4813-8aac-b6cf111e0b6a",
    "deepnote_cell_type": "markdown"
   }
  },
  {
   "cell_type": "markdown",
   "source": "To use numpy we first need to install it and then import it to our python script\n",
   "metadata": {
    "tags": [],
    "cell_id": "00002-a9c8d46c-d74b-4815-90d5-03ca6fa69043",
    "deepnote_cell_type": "markdown"
   }
  },
  {
   "cell_type": "markdown",
   "source": "## Install",
   "metadata": {
    "tags": [],
    "cell_id": "00003-d7746bd7-8bbf-41b1-9f07-f0c89b5828c5",
    "deepnote_cell_type": "markdown"
   }
  },
  {
   "cell_type": "markdown",
   "source": "There are two choices for installation, for conda users we can install numpy whith \n\n>conda install numpy\n\nOr, if we don't use conda\n\n>pip install numpy",
   "metadata": {
    "tags": [],
    "cell_id": "00004-af03da83-9baf-44e3-8d1d-b9d57f30ce7f",
    "deepnote_cell_type": "markdown"
   }
  },
  {
   "cell_type": "markdown",
   "source": "## Import Numpy",
   "metadata": {
    "tags": [],
    "cell_id": "00005-44dd353b-4e52-47b3-a599-d025e44d9af7",
    "deepnote_cell_type": "markdown"
   }
  },
  {
   "cell_type": "markdown",
   "source": "As usual, after installing a library, we need to load it to be able to use it",
   "metadata": {
    "tags": [],
    "cell_id": "00006-7600662b-d52c-4597-8466-c0effb653776",
    "deepnote_cell_type": "markdown"
   }
  },
  {
   "cell_type": "code",
   "source": "import numpy as np",
   "metadata": {
    "tags": [],
    "cell_id": "00005-7ad83acc-b594-449b-9157-8d8ffc1b183c",
    "deepnote_to_be_reexecuted": false,
    "source_hash": "c2602aa8",
    "execution_start": 1638783821345,
    "execution_millis": 640569,
    "deepnote_cell_type": "code"
   },
   "outputs": [],
   "execution_count": 1
  },
  {
   "cell_type": "markdown",
   "source": "## Numpy Basics",
   "metadata": {
    "tags": [],
    "cell_id": "00008-d5455baf-67e6-42e6-9b7a-dfb114a8915c",
    "deepnote_cell_type": "markdown"
   }
  },
  {
   "cell_type": "markdown",
   "source": "Now, whenever we need to access a numpy function, we just call it by np.FUNCTIONNAME.\n\nFor example, to create a 1D array with 5, 7, 8 stored on it we just:",
   "metadata": {
    "tags": [],
    "cell_id": "00008-96b1977f-a1af-48d5-86ed-da53468a6640",
    "deepnote_cell_type": "markdown"
   }
  },
  {
   "cell_type": "code",
   "source": "np.array([5,7,8])",
   "metadata": {
    "tags": [],
    "cell_id": "00009-33df23b1-2c36-4618-b567-81761c347ebe",
    "deepnote_to_be_reexecuted": false,
    "source_hash": "dc0d9d45",
    "execution_start": 1638783821345,
    "execution_millis": 3,
    "deepnote_output_heights": [
     21.1875
    ],
    "deepnote_cell_type": "code"
   },
   "outputs": [
    {
     "output_type": "execute_result",
     "execution_count": 2,
     "data": {
      "text/plain": "array([5, 7, 8])"
     },
     "metadata": {}
    }
   ],
   "execution_count": 2
  },
  {
   "cell_type": "markdown",
   "source": "To create a sequence array we can use the function \"arange\"",
   "metadata": {
    "tags": [],
    "cell_id": "00011-0c8ac686-8ad0-4e3f-963b-938c17caccd5",
    "deepnote_cell_type": "markdown"
   }
  },
  {
   "cell_type": "code",
   "source": "seqArr01 = np.arange(start=5, stop=10)\nprint(seqArr01) ",
   "metadata": {
    "tags": [],
    "cell_id": "00012-f48160b5-500a-469d-b552-1e5c97544d34",
    "deepnote_to_be_reexecuted": false,
    "source_hash": "d0a3286d",
    "execution_start": 1638783821349,
    "execution_millis": 5,
    "deepnote_cell_type": "code"
   },
   "outputs": [
    {
     "name": "stdout",
     "text": "[5 6 7 8 9]\n",
     "output_type": "stream"
    }
   ],
   "execution_count": 3
  },
  {
   "cell_type": "markdown",
   "source": "Note that the first element of the array is 5\n>start=5\nbut the last is the last value acceptable that is less than 10\n>stop=10\nIn this case \n>9",
   "metadata": {
    "tags": [],
    "cell_id": "00013-525569c4-bbce-4f7e-8550-9a73e962ff4d",
    "deepnote_cell_type": "markdown"
   }
  },
  {
   "cell_type": "markdown",
   "source": "or we can use steps of 2 ",
   "metadata": {
    "tags": [],
    "cell_id": "00013-cf987d9f-eb93-4bcd-b089-d09358bbf19d",
    "deepnote_cell_type": "markdown"
   }
  },
  {
   "cell_type": "code",
   "source": "seqArr02 = np.arange(start=5, stop=20, step=2)\nprint(seqArr02) ",
   "metadata": {
    "tags": [],
    "cell_id": "00014-990f3fcc-2e3b-4bb8-b141-27694b7ca0d1",
    "deepnote_to_be_reexecuted": false,
    "source_hash": "1738c77c",
    "execution_start": 1638783821355,
    "execution_millis": 6,
    "deepnote_cell_type": "code"
   },
   "outputs": [
    {
     "name": "stdout",
     "text": "[ 5  7  9 11 13 15 17 19]\n",
     "output_type": "stream"
    }
   ],
   "execution_count": 4
  },
  {
   "cell_type": "markdown",
   "source": "## Special Arrays",
   "metadata": {
    "tags": [],
    "cell_id": "00016-e3ccc719-2a12-412b-b95f-ed6b5a34f05a",
    "deepnote_cell_type": "markdown"
   }
  },
  {
   "cell_type": "markdown",
   "source": "### zeros",
   "metadata": {
    "tags": [],
    "cell_id": "00017-175e9a57-63e8-48d4-94e5-316e2f68add7",
    "deepnote_cell_type": "markdown"
   }
  },
  {
   "cell_type": "code",
   "source": "zeroArr = np.zeros(5) # creates an array with 5 \"zeros\"\nprint(zeroArr)",
   "metadata": {
    "tags": [],
    "cell_id": "00018-d4d58ab3-1604-4b0e-bf02-81048422b46e",
    "deepnote_to_be_reexecuted": false,
    "source_hash": "65d612b9",
    "execution_start": 1638783821404,
    "execution_millis": 0,
    "deepnote_cell_type": "code"
   },
   "outputs": [
    {
     "name": "stdout",
     "text": "[0. 0. 0. 0. 0.]\n",
     "output_type": "stream"
    }
   ],
   "execution_count": 5
  },
  {
   "cell_type": "markdown",
   "source": "### Ones",
   "metadata": {
    "tags": [],
    "cell_id": "00019-e39408d7-f1a1-4cb3-9efa-052f6caae2e9",
    "deepnote_cell_type": "markdown"
   }
  },
  {
   "cell_type": "code",
   "source": "onesArr = np.ones(3) # aray with 3 \"ones\"\nprint(onesArr)",
   "metadata": {
    "tags": [],
    "cell_id": "00020-0a0c18b1-b6f5-45aa-b3fe-e22235c79f14",
    "deepnote_to_be_reexecuted": false,
    "source_hash": "27071a2f",
    "execution_start": 1638783821405,
    "execution_millis": 15,
    "deepnote_cell_type": "code"
   },
   "outputs": [
    {
     "name": "stdout",
     "text": "[1. 1. 1.]\n",
     "output_type": "stream"
    }
   ],
   "execution_count": 6
  },
  {
   "cell_type": "markdown",
   "source": "### Constant Arrays",
   "metadata": {
    "tags": [],
    "cell_id": "00021-91c1d6dc-2afd-4da1-878c-c4fd7fbef6fe",
    "deepnote_cell_type": "markdown"
   }
  },
  {
   "cell_type": "code",
   "source": "eightArr = np.ones(10) * 8 # first creates a 10 ones array; and them multiplies all values by 8\neightArr",
   "metadata": {
    "tags": [],
    "cell_id": "00021-c8d03dfa-557d-47ae-aee1-b6e45f267a38",
    "deepnote_to_be_reexecuted": false,
    "source_hash": "cb442e47",
    "execution_start": 1638783821406,
    "execution_millis": 14,
    "deepnote_output_heights": [
     21.1875
    ],
    "deepnote_cell_type": "code"
   },
   "outputs": [
    {
     "output_type": "execute_result",
     "execution_count": 7,
     "data": {
      "text/plain": "array([8., 8., 8., 8., 8., 8., 8., 8., 8., 8.])"
     },
     "metadata": {}
    }
   ],
   "execution_count": 7
  },
  {
   "cell_type": "markdown",
   "source": "## Creating a matrix",
   "metadata": {
    "tags": [],
    "cell_id": "00023-832adbc1-e987-4dcd-ad20-78a0a365a825",
    "deepnote_cell_type": "markdown"
   }
  },
  {
   "cell_type": "markdown",
   "source": "A matrix can be thought as an array of arrays, so to create a matrix we just type ist values:",
   "metadata": {
    "tags": [],
    "cell_id": "00024-84002add-1d08-42b1-8706-8b364e309c58",
    "deepnote_cell_type": "markdown"
   }
  },
  {
   "cell_type": "code",
   "source": "np.array([[1,2,3],[4,5,6],[7,8,9]])",
   "metadata": {
    "tags": [],
    "cell_id": "00024-b2145c33-6c98-4786-9276-c95b8e3c4207",
    "deepnote_to_be_reexecuted": false,
    "source_hash": "3234b223",
    "execution_start": 1638783821431,
    "execution_millis": 1,
    "deepnote_output_heights": [
     59.5625
    ],
    "deepnote_cell_type": "code"
   },
   "outputs": [
    {
     "output_type": "execute_result",
     "execution_count": 8,
     "data": {
      "text/plain": "array([[1, 2, 3],\n       [4, 5, 6],\n       [7, 8, 9]])"
     },
     "metadata": {}
    }
   ],
   "execution_count": 8
  },
  {
   "cell_type": "markdown",
   "source": "or we can reshap am 1D array into a 2D matrix",
   "metadata": {
    "tags": [],
    "cell_id": "00026-bed5bcaa-219b-4cd9-801a-181a4b5a719f",
    "deepnote_cell_type": "markdown"
   }
  },
  {
   "cell_type": "code",
   "source": "array1D = np.arange(9)\narray1D",
   "metadata": {
    "tags": [],
    "cell_id": "00027-6aa08747-2aee-4999-a55b-24fe776fc177",
    "deepnote_to_be_reexecuted": false,
    "source_hash": "aa3965d4",
    "execution_start": 1638783821435,
    "execution_millis": 640561,
    "deepnote_output_heights": [
     21.1875
    ],
    "deepnote_cell_type": "code"
   },
   "outputs": [
    {
     "output_type": "execute_result",
     "execution_count": 9,
     "data": {
      "text/plain": "array([0, 1, 2, 3, 4, 5, 6, 7, 8])"
     },
     "metadata": {}
    }
   ],
   "execution_count": 9
  },
  {
   "cell_type": "code",
   "source": "matrix2D = array1D.reshape(3,3)\nmatrix2D",
   "metadata": {
    "tags": [],
    "cell_id": "00028-eb4d5254-aadf-4108-9f78-bf1d16a8fad5",
    "deepnote_to_be_reexecuted": false,
    "source_hash": "a7befa0",
    "execution_start": 1638783821441,
    "execution_millis": 640567,
    "deepnote_output_heights": [
     59.5625
    ],
    "deepnote_cell_type": "code"
   },
   "outputs": [
    {
     "output_type": "execute_result",
     "execution_count": 10,
     "data": {
      "text/plain": "array([[0, 1, 2],\n       [3, 4, 5],\n       [6, 7, 8]])"
     },
     "metadata": {}
    }
   ],
   "execution_count": 10
  },
  {
   "cell_type": "markdown",
   "source": "## Special Functions",
   "metadata": {
    "tags": [],
    "cell_id": "00029-71dce6a6-83da-4aa0-8e2c-5a3969f28ae5",
    "deepnote_cell_type": "markdown"
   }
  },
  {
   "cell_type": "markdown",
   "source": "### random",
   "metadata": {
    "tags": [],
    "cell_id": "00030-7eb68678-96a8-4394-aff8-ccc513362f93",
    "deepnote_cell_type": "markdown"
   }
  },
  {
   "cell_type": "code",
   "source": "np.random.rand(3) # 3 random numbers between 0 and 1",
   "metadata": {
    "tags": [],
    "cell_id": "00031-ff1025b0-c6ef-4619-b38f-93bc33c40cad",
    "deepnote_to_be_reexecuted": false,
    "source_hash": "dd05c4ce",
    "execution_start": 1638783821450,
    "execution_millis": 546490,
    "deepnote_output_heights": [
     21.1875
    ],
    "deepnote_cell_type": "code"
   },
   "outputs": [
    {
     "output_type": "execute_result",
     "execution_count": 11,
     "data": {
      "text/plain": "array([0.55635872, 0.42260894, 0.74383992])"
     },
     "metadata": {}
    }
   ],
   "execution_count": 11
  },
  {
   "cell_type": "code",
   "source": "np.random.randint(low=10,high=20,size=(10,10)) # 100 integers between 10 and 20 (excluding 20) stored in a matrix 10 by 10",
   "metadata": {
    "tags": [],
    "cell_id": "00032-89800bed-41ca-4726-b111-aa2331e251f9",
    "deepnote_to_be_reexecuted": false,
    "source_hash": "9fc89707",
    "execution_start": 1638783821482,
    "execution_millis": 70,
    "deepnote_output_heights": [
     193.875
    ],
    "deepnote_cell_type": "code"
   },
   "outputs": [
    {
     "output_type": "execute_result",
     "execution_count": 12,
     "data": {
      "text/plain": "array([[12, 18, 13, 11, 19, 17, 10, 15, 13, 16],\n       [11, 12, 16, 13, 13, 17, 14, 17, 12, 11],\n       [14, 12, 18, 16, 14, 18, 11, 14, 16, 10],\n       [18, 18, 17, 16, 19, 17, 16, 13, 12, 13],\n       [16, 16, 14, 13, 12, 10, 12, 11, 14, 12],\n       [16, 15, 15, 10, 11, 13, 17, 13, 19, 17],\n       [12, 10, 16, 14, 18, 16, 13, 15, 16, 19],\n       [14, 12, 17, 10, 16, 19, 12, 14, 17, 18],\n       [19, 15, 10, 19, 12, 13, 16, 15, 16, 14],\n       [12, 11, 19, 12, 13, 19, 12, 16, 18, 11]])"
     },
     "metadata": {}
    }
   ],
   "execution_count": 12
  },
  {
   "cell_type": "code",
   "source": "np.random.randn(4) # 4 values from a standard normal distribution",
   "metadata": {
    "tags": [],
    "cell_id": "00033-932c5611-609c-4c87-b360-10b41ffca004",
    "deepnote_to_be_reexecuted": false,
    "source_hash": "d2a2c032",
    "execution_start": 1638783821483,
    "execution_millis": 70,
    "deepnote_output_heights": [
     21.1875
    ],
    "deepnote_cell_type": "code"
   },
   "outputs": [
    {
     "output_type": "execute_result",
     "execution_count": 13,
     "data": {
      "text/plain": "array([ 0.24917572,  0.56923773, -1.86051709, -0.75640188])"
     },
     "metadata": {}
    }
   ],
   "execution_count": 13
  },
  {
   "cell_type": "markdown",
   "source": "### Linear spaced arrays",
   "metadata": {
    "tags": [],
    "cell_id": "00034-96eb7dbd-d669-421b-b00a-df5f4453bf3c",
    "deepnote_cell_type": "markdown"
   }
  },
  {
   "cell_type": "code",
   "source": "np.linspace(start=10,stop=20,num=100) # array with length = 100 with equally spaced values between 10 and 20 ",
   "metadata": {
    "tags": [],
    "cell_id": "00035-012aaffa-f98b-42ba-9457-34bc6ce7e959",
    "deepnote_to_be_reexecuted": false,
    "source_hash": "53964e4b",
    "execution_start": 1638783821493,
    "execution_millis": 61,
    "deepnote_output_heights": [
     385.75
    ],
    "deepnote_cell_type": "code"
   },
   "outputs": [
    {
     "output_type": "execute_result",
     "execution_count": 14,
     "data": {
      "text/plain": "array([10.        , 10.1010101 , 10.2020202 , 10.3030303 , 10.4040404 ,\n       10.50505051, 10.60606061, 10.70707071, 10.80808081, 10.90909091,\n       11.01010101, 11.11111111, 11.21212121, 11.31313131, 11.41414141,\n       11.51515152, 11.61616162, 11.71717172, 11.81818182, 11.91919192,\n       12.02020202, 12.12121212, 12.22222222, 12.32323232, 12.42424242,\n       12.52525253, 12.62626263, 12.72727273, 12.82828283, 12.92929293,\n       13.03030303, 13.13131313, 13.23232323, 13.33333333, 13.43434343,\n       13.53535354, 13.63636364, 13.73737374, 13.83838384, 13.93939394,\n       14.04040404, 14.14141414, 14.24242424, 14.34343434, 14.44444444,\n       14.54545455, 14.64646465, 14.74747475, 14.84848485, 14.94949495,\n       15.05050505, 15.15151515, 15.25252525, 15.35353535, 15.45454545,\n       15.55555556, 15.65656566, 15.75757576, 15.85858586, 15.95959596,\n       16.06060606, 16.16161616, 16.26262626, 16.36363636, 16.46464646,\n       16.56565657, 16.66666667, 16.76767677, 16.86868687, 16.96969697,\n       17.07070707, 17.17171717, 17.27272727, 17.37373737, 17.47474747,\n       17.57575758, 17.67676768, 17.77777778, 17.87878788, 17.97979798,\n       18.08080808, 18.18181818, 18.28282828, 18.38383838, 18.48484848,\n       18.58585859, 18.68686869, 18.78787879, 18.88888889, 18.98989899,\n       19.09090909, 19.19191919, 19.29292929, 19.39393939, 19.49494949,\n       19.5959596 , 19.6969697 , 19.7979798 , 19.8989899 , 20.        ])"
     },
     "metadata": {}
    }
   ],
   "execution_count": 14
  },
  {
   "cell_type": "markdown",
   "source": "## Operations on arrays ",
   "metadata": {
    "tags": [],
    "cell_id": "00036-67a18b71-36e7-48bf-aba8-89db2ece8a28",
    "deepnote_cell_type": "markdown"
   }
  },
  {
   "cell_type": "code",
   "source": "arr1 = np.arange(10)\narr2 = np.ones(10)*2\narr3 = arr1 + arr2\narr4 = arr1 / arr2\nprint(arr1)\nprint(arr2)\nprint(arr3)\nprint(arr4)",
   "metadata": {
    "tags": [],
    "cell_id": "00037-77cd3f9d-1bd8-4769-b168-526b5a906278",
    "deepnote_to_be_reexecuted": false,
    "source_hash": "fb5e8c9e",
    "execution_start": 1638783821503,
    "execution_millis": 52,
    "deepnote_cell_type": "code"
   },
   "outputs": [
    {
     "name": "stdout",
     "text": "[0 1 2 3 4 5 6 7 8 9]\n[2. 2. 2. 2. 2. 2. 2. 2. 2. 2.]\n[ 2.  3.  4.  5.  6.  7.  8.  9. 10. 11.]\n[0.  0.5 1.  1.5 2.  2.5 3.  3.5 4.  4.5]\n",
     "output_type": "stream"
    }
   ],
   "execution_count": 15
  },
  {
   "cell_type": "markdown",
   "source": "## Statistics",
   "metadata": {
    "tags": [],
    "cell_id": "00038-dd53001b-5b3b-4c85-853e-c754917eb1b9",
    "deepnote_cell_type": "markdown"
   }
  },
  {
   "cell_type": "code",
   "source": "# Mean\narr4.mean()",
   "metadata": {
    "tags": [],
    "cell_id": "00038-5e95df00-0d79-4cfd-af01-b78e54af87d7",
    "deepnote_to_be_reexecuted": false,
    "source_hash": "43641dd2",
    "execution_start": 1638783821512,
    "execution_millis": 45,
    "deepnote_output_heights": [
     21.1875
    ],
    "deepnote_cell_type": "code"
   },
   "outputs": [
    {
     "output_type": "execute_result",
     "execution_count": 16,
     "data": {
      "text/plain": "2.25"
     },
     "metadata": {}
    }
   ],
   "execution_count": 16
  },
  {
   "cell_type": "code",
   "source": "# Sum\narr4.sum()",
   "metadata": {
    "tags": [],
    "cell_id": "00040-1e81d4c0-a9f4-466d-8098-b3f8e0f08a56",
    "deepnote_to_be_reexecuted": false,
    "source_hash": "c4d94c0e",
    "execution_start": 1638783821513,
    "execution_millis": 175,
    "deepnote_output_heights": [
     21.1875
    ],
    "deepnote_cell_type": "code"
   },
   "outputs": [
    {
     "output_type": "execute_result",
     "execution_count": 17,
     "data": {
      "text/plain": "22.5"
     },
     "metadata": {}
    }
   ],
   "execution_count": 17
  },
  {
   "cell_type": "code",
   "source": "# standard deviation\narr4.std()",
   "metadata": {
    "tags": [],
    "cell_id": "00041-4a5f3298-75fa-4095-9bd6-3d1d3ba891a5",
    "deepnote_to_be_reexecuted": false,
    "source_hash": "a83f03fd",
    "execution_start": 1638783821560,
    "execution_millis": 129,
    "deepnote_output_heights": [
     21.1875
    ],
    "deepnote_cell_type": "code"
   },
   "outputs": [
    {
     "output_type": "execute_result",
     "execution_count": 18,
     "data": {
      "text/plain": "1.4361406616345072"
     },
     "metadata": {}
    }
   ],
   "execution_count": 18
  },
  {
   "cell_type": "code",
   "source": "# min\narr4.min()",
   "metadata": {
    "tags": [],
    "cell_id": "00042-90d6c262-8115-4f53-9549-4df6a37c3297",
    "deepnote_to_be_reexecuted": false,
    "source_hash": "312ee07a",
    "execution_start": 1638783821561,
    "execution_millis": 128,
    "deepnote_output_heights": [
     21.1875
    ],
    "deepnote_cell_type": "code"
   },
   "outputs": [
    {
     "output_type": "execute_result",
     "execution_count": 19,
     "data": {
      "text/plain": "0.0"
     },
     "metadata": {}
    }
   ],
   "execution_count": 19
  },
  {
   "cell_type": "code",
   "source": "# max\narr4.max()",
   "metadata": {
    "tags": [],
    "cell_id": "00043-d12725eb-4c5f-4954-8937-82d5c39cb6e3",
    "deepnote_to_be_reexecuted": false,
    "source_hash": "b0275be3",
    "execution_start": 1638783821563,
    "execution_millis": 126,
    "deepnote_output_heights": [
     21.1875
    ],
    "deepnote_cell_type": "code"
   },
   "outputs": [
    {
     "output_type": "execute_result",
     "execution_count": 20,
     "data": {
      "text/plain": "4.5"
     },
     "metadata": {}
    }
   ],
   "execution_count": 20
  },
  {
   "cell_type": "markdown",
   "source": "<a style='text-decoration:none;line-height:16px;display:flex;color:#5B5B62;padding:10px;justify-content:end;' href='https://deepnote.com?utm_source=created-in-deepnote-cell&projectId=3ec91331-1c3b-4ae6-9b0d-a4b8270f2efc' target=\"_blank\">\n<img alt='Created in deepnote.com' style='display:inline;max-height:16px;margin:0px;margin-right:7.5px;' src='data:image/svg+xml;base64,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' > </img>\nCreated in <span style='font-weight:600;margin-left:4px;'>Deepnote</span></a>",
   "metadata": {
    "tags": [],
    "created_in_deepnote_cell": true,
    "deepnote_cell_type": "markdown"
   }
  }
 ],
 "nbformat": 4,
 "nbformat_minor": 2,
 "metadata": {
  "orig_nbformat": 2,
  "deepnote": {
   "is_reactive": false
  },
  "deepnote_notebook_id": "b59ce0b7-7b43-4bd7-9626-018bf1bb6a69",
  "deepnote_app_layout": "dashboard",
  "deepnote_execution_queue": []
 }
}