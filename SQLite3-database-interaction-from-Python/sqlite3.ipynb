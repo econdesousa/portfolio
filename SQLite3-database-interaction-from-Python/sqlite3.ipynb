{
 "cells": [
  {
   "cell_type": "markdown",
   "metadata": {
    "cell_id": "00001-16c1dadd-ebdb-4f10-bf4e-569a151efb65",
    "deepnote_app_coordinates": {
     "h": 5,
     "w": 12,
     "x": 0,
     "y": 0
    },
    "deepnote_cell_type": "markdown",
    "tags": []
   },
   "source": [
    "# SQLite3\n",
    "## database interaction from Python"
   ]
  },
  {
   "cell_type": "markdown",
   "metadata": {
    "cell_id": "00001-df373803-219c-4ddd-a72d-d54d888ac757",
    "deepnote_cell_type": "markdown",
    "tags": []
   },
   "source": [
    "\n",
    "To interact with a databse sqlite3 and pandas are excelent starting points."
   ]
  },
  {
   "cell_type": "code",
   "execution_count": 1,
   "metadata": {
    "cell_id": "00001-57225758-b89d-4cfe-82ca-ff791831a016",
    "deepnote_cell_type": "code",
    "deepnote_to_be_reexecuted": false,
    "execution_millis": 25,
    "execution_start": 1638459121601,
    "source_hash": "ff22691a",
    "tags": []
   },
   "outputs": [],
   "source": [
    "# import\n",
    "import sqlite3\n",
    "import pandas as pd"
   ]
  },
  {
   "cell_type": "markdown",
   "metadata": {
    "cell_id": "00002-66d49159-2e01-47ce-8906-1fd379159735",
    "deepnote_cell_type": "markdown",
    "tags": []
   },
   "source": [
    "As an example database we will work with a dataset downloaded from [BOLD database](https://boldsystems.org/) with information related to the canidae family.\n",
    "The database here used was converted to db format from a csv table used in our paper [4SpecID: Reference DNA Libraries Auditing and Annotation System for Forensic Applications](https://doi.org/10.3390/genes12010061) just for demonstration pruposes.\n",
    "\n",
    "The datase includes two tables:\n",
    "* species: with columns ['recordID', 'phylum_name', 'class_name', 'order_name', 'family_name',\n",
    "       'genus_name', 'species_name', 'subspecies_name']\n",
    "* bins: with columns ['recordID', 'bin_uri', 'nucleotides']\n",
    "\n",
    "Both tables connect through a common columns, 'recordid'\n"
   ]
  },
  {
   "cell_type": "markdown",
   "metadata": {
    "cell_id": "00004-6cb5979b-b6d0-41ad-be79-94398d71824c",
    "deepnote_cell_type": "markdown",
    "tags": []
   },
   "source": [
    "The first thing we need is to create a pointer (squlite3 connection object) to our database and a function to get access to its entries, by taking advantadge of pandas. "
   ]
  },
  {
   "cell_type": "code",
   "execution_count": 2,
   "metadata": {
    "cell_id": "00005-603e784e-b1ce-4740-896d-852c58e76694",
    "deepnote_cell_type": "code",
    "deepnote_output_heights": [
     21.1875
    ],
    "deepnote_to_be_reexecuted": false,
    "execution_millis": 0,
    "execution_start": 1638459121627,
    "source_hash": "52341309",
    "tags": []
   },
   "outputs": [],
   "source": [
    "# connect database\n",
    "db = sqlite3.connect('Canidae_COI.db')\n",
    "def get_data(query):\n",
    "    '''\n",
    "    get data from the database\n",
    "    '''\n",
    "    return pd.read_sql(query, db)"
   ]
  },
  {
   "cell_type": "markdown",
   "metadata": {
    "cell_id": "00006-815c119f-6995-4071-9933-7e548ebe3ef4",
    "deepnote_cell_type": "markdown",
    "tags": []
   },
   "source": [
    "## Tables in database\n",
    "\n",
    "One database can contain one or more tables. The example here contain two (described above), but if we want to access data from a db without previous knowledge we can  access the number of tables and their names by using the command .execute as in the example below."
   ]
  },
  {
   "cell_type": "code",
   "execution_count": 3,
   "metadata": {
    "cell_id": "00006-919f3d9f-d2c4-476b-a354-8911e0544f8f",
    "deepnote_cell_type": "code",
    "deepnote_output_heights": [
     21.1875
    ],
    "deepnote_to_be_reexecuted": false,
    "execution_millis": 3,
    "execution_start": 1638459121627,
    "source_hash": "30606832",
    "tags": []
   },
   "outputs": [
    {
     "name": "stdout",
     "output_type": "stream",
     "text": [
      "['species', 'bins']\n"
     ]
    }
   ],
   "source": [
    "cursor = db.cursor()\n",
    "cursor.execute(\"SELECT name FROM sqlite_master WHERE type='table';\")\n",
    "tableNames = cursor.fetchall()\n",
    "tableNames = [ tableNames[i][0] for i in range(len(tableNames)) ]\n",
    "print(tableNames)"
   ]
  },
  {
   "cell_type": "markdown",
   "metadata": {
    "cell_id": "00004-7238aaf1-456c-4858-8c57-2ba6741cb124",
    "deepnote_cell_type": "markdown",
    "tags": []
   },
   "source": [
    "To access specific tables and/or data inside tables several functions exist.\n",
    "\n",
    "Let's start by investigating some SQL commands such as SELECT; WHERE; LIMIT,...\n"
   ]
  },
  {
   "cell_type": "markdown",
   "metadata": {
    "cell_id": "00007-f9631f6f-404a-42dd-9b28-42f607ecb6e5",
    "deepnote_cell_type": "markdown",
    "tags": []
   },
   "source": [
    "## Access database data\n"
   ]
  },
  {
   "cell_type": "markdown",
   "metadata": {
    "cell_id": "00010-8f722b69-f8a6-4154-8330-590cdf3e4b86",
    "deepnote_cell_type": "markdown",
    "tags": []
   },
   "source": [
    "### SELECT\n",
    "Command \"SELECT\" plus wildcard \"*\" to get the entire table\n"
   ]
  },
  {
   "cell_type": "code",
   "execution_count": 4,
   "metadata": {
    "cell_id": "00005-9f5d0faa-b970-4e92-8fd2-4d2636eb111d",
    "deepnote_cell_type": "code",
    "deepnote_output_heights": [
     21.1875
    ],
    "deepnote_to_be_reexecuted": false,
    "execution_millis": 240,
    "execution_start": 1638459121628,
    "source_hash": "eda8910a",
    "tags": []
   },
   "outputs": [
    {
     "data": {
      "application/vnd.deepnote.dataframe.v2+json": {
       "column_count": 8,
       "columns": [
        {
         "dtype": "int64",
         "name": "recordID",
         "stats": {
          "histogram": [
           {
            "bin_end": 1191680.8,
            "bin_start": 40750,
            "count": 302
           },
           {
            "bin_end": 2342611.6,
            "bin_start": 1191680.8,
            "count": 43
           },
           {
            "bin_end": 3493542.4000000004,
            "bin_start": 2342611.6,
            "count": 3
           },
           {
            "bin_end": 4644473.2,
            "bin_start": 3493542.4000000004,
            "count": 105
           },
           {
            "bin_end": 5795404,
            "bin_start": 4644473.2,
            "count": 26
           },
           {
            "bin_end": 6946334.800000001,
            "bin_start": 5795404,
            "count": 444
           },
           {
            "bin_end": 8097265.600000001,
            "bin_start": 6946334.800000001,
            "count": 19
           },
           {
            "bin_end": 9248196.4,
            "bin_start": 8097265.600000001,
            "count": 24
           },
           {
            "bin_end": 10399127.200000001,
            "bin_start": 9248196.4,
            "count": 980
           },
           {
            "bin_end": 11550058,
            "bin_start": 10399127.200000001,
            "count": 63
           }
          ],
          "max": "11550058",
          "min": "40750",
          "nan_count": 0,
          "unique_count": 2009
         }
        },
        {
         "dtype": "object",
         "name": "phylum_name",
         "stats": {
          "categories": [
           {
            "count": 2009,
            "name": "Chordata"
           }
          ],
          "nan_count": 0,
          "unique_count": 1
         }
        },
        {
         "dtype": "object",
         "name": "class_name",
         "stats": {
          "categories": [
           {
            "count": 2009,
            "name": "Mammalia"
           }
          ],
          "nan_count": 0,
          "unique_count": 1
         }
        },
        {
         "dtype": "object",
         "name": "order_name",
         "stats": {
          "categories": [
           {
            "count": 2009,
            "name": "Carnivora"
           }
          ],
          "nan_count": 0,
          "unique_count": 1
         }
        },
        {
         "dtype": "object",
         "name": "family_name",
         "stats": {
          "categories": [
           {
            "count": 1972,
            "name": "Canidae"
           },
           {
            "count": 37,
            "name": "Missing"
           }
          ],
          "nan_count": 37,
          "unique_count": 1
         }
        },
        {
         "dtype": "object",
         "name": "genus_name",
         "stats": {
          "categories": [
           {
            "count": 1581,
            "name": "Canis"
           },
           {
            "count": 391,
            "name": "10 others"
           },
           {
            "count": 37,
            "name": "Missing"
           }
          ],
          "nan_count": 37,
          "unique_count": 11
         }
        },
        {
         "dtype": "object",
         "name": "species_name",
         "stats": {
          "categories": [
           {
            "count": 1544,
            "name": "Canis lupus"
           },
           {
            "count": 424,
            "name": "29 others"
           },
           {
            "count": 41,
            "name": "Missing"
           }
          ],
          "nan_count": 41,
          "unique_count": 30
         }
        },
        {
         "dtype": "object",
         "name": "subspecies_name",
         "stats": {
          "categories": [
           {
            "count": 130,
            "name": "Canis lupus familiaris"
           },
           {
            "count": 168,
            "name": "10 others"
           },
           {
            "count": 1711,
            "name": "Missing"
           }
          ],
          "nan_count": 1711,
          "unique_count": 11
         }
        },
        {
         "dtype": "int64",
         "name": "_deepnote_index_column"
        }
       ],
       "row_count": 2009,
       "rows_bottom": [
        {
         "_deepnote_index_column": 1946,
         "class_name": "Mammalia",
         "family_name": "Canidae",
         "genus_name": "Vulpes",
         "order_name": "Carnivora",
         "phylum_name": "Chordata",
         "recordID": 9793083,
         "species_name": "Vulpes lagopus",
         "subspecies_name": "None"
        },
        {
         "_deepnote_index_column": 1947,
         "class_name": "Mammalia",
         "family_name": "Canidae",
         "genus_name": "Vulpes",
         "order_name": "Carnivora",
         "phylum_name": "Chordata",
         "recordID": 9793096,
         "species_name": "Vulpes lagopus",
         "subspecies_name": "None"
        },
        {
         "_deepnote_index_column": 1948,
         "class_name": "Mammalia",
         "family_name": "Canidae",
         "genus_name": "Canis",
         "order_name": "Carnivora",
         "phylum_name": "Chordata",
         "recordID": 1183142,
         "species_name": "Canis lupus",
         "subspecies_name": "None"
        },
        {
         "_deepnote_index_column": 1949,
         "class_name": "Mammalia",
         "family_name": "Canidae",
         "genus_name": "Canis",
         "order_name": "Carnivora",
         "phylum_name": "Chordata",
         "recordID": 1183145,
         "species_name": "Canis lupus",
         "subspecies_name": "None"
        },
        {
         "_deepnote_index_column": 1950,
         "class_name": "Mammalia",
         "family_name": "Canidae",
         "genus_name": "Canis",
         "order_name": "Carnivora",
         "phylum_name": "Chordata",
         "recordID": 9793959,
         "species_name": "Canis lupus",
         "subspecies_name": "None"
        },
        {
         "_deepnote_index_column": 1951,
         "class_name": "Mammalia",
         "family_name": "Canidae",
         "genus_name": "Canis",
         "order_name": "Carnivora",
         "phylum_name": "Chordata",
         "recordID": 1183188,
         "species_name": "Canis lupus",
         "subspecies_name": "None"
        },
        {
         "_deepnote_index_column": 1952,
         "class_name": "Mammalia",
         "family_name": "Canidae",
         "genus_name": "Canis",
         "order_name": "Carnivora",
         "phylum_name": "Chordata",
         "recordID": 1183205,
         "species_name": "Canis lupus",
         "subspecies_name": "None"
        },
        {
         "_deepnote_index_column": 1953,
         "class_name": "Mammalia",
         "family_name": "Canidae",
         "genus_name": "Canis",
         "order_name": "Carnivora",
         "phylum_name": "Chordata",
         "recordID": 3599873,
         "species_name": "Canis lupus",
         "subspecies_name": "Canis lupus familiaris"
        },
        {
         "_deepnote_index_column": 1954,
         "class_name": "Mammalia",
         "family_name": "Canidae",
         "genus_name": "Canis",
         "order_name": "Carnivora",
         "phylum_name": "Chordata",
         "recordID": 3599885,
         "species_name": "Canis lupus",
         "subspecies_name": "Canis lupus familiaris"
        },
        {
         "_deepnote_index_column": 1955,
         "class_name": "Mammalia",
         "family_name": "Canidae",
         "genus_name": "Canis",
         "order_name": "Carnivora",
         "phylum_name": "Chordata",
         "recordID": 3599921,
         "species_name": "Canis lupus",
         "subspecies_name": "Canis lupus familiaris"
        },
        {
         "_deepnote_index_column": 1956,
         "class_name": "Mammalia",
         "family_name": "Canidae",
         "genus_name": "Canis",
         "order_name": "Carnivora",
         "phylum_name": "Chordata",
         "recordID": 3599928,
         "species_name": "Canis lupus",
         "subspecies_name": "Canis lupus familiaris"
        },
        {
         "_deepnote_index_column": 1957,
         "class_name": "Mammalia",
         "family_name": "Canidae",
         "genus_name": "Canis",
         "order_name": "Carnivora",
         "phylum_name": "Chordata",
         "recordID": 6170513,
         "species_name": "Canis lupus",
         "subspecies_name": "None"
        },
        {
         "_deepnote_index_column": 1958,
         "class_name": "Mammalia",
         "family_name": "Canidae",
         "genus_name": "Canis",
         "order_name": "Carnivora",
         "phylum_name": "Chordata",
         "recordID": 6170526,
         "species_name": "Canis lupus",
         "subspecies_name": "None"
        },
        {
         "_deepnote_index_column": 1959,
         "class_name": "Mammalia",
         "family_name": "Canidae",
         "genus_name": "Canis",
         "order_name": "Carnivora",
         "phylum_name": "Chordata",
         "recordID": 6170583,
         "species_name": "Canis lupus",
         "subspecies_name": "None"
        },
        {
         "_deepnote_index_column": 1960,
         "class_name": "Mammalia",
         "family_name": "Canidae",
         "genus_name": "Canis",
         "order_name": "Carnivora",
         "phylum_name": "Chordata",
         "recordID": 6170584,
         "species_name": "Canis lupus",
         "subspecies_name": "None"
        },
        {
         "_deepnote_index_column": 1961,
         "class_name": "Mammalia",
         "family_name": "Canidae",
         "genus_name": "Canis",
         "order_name": "Carnivora",
         "phylum_name": "Chordata",
         "recordID": 6170606,
         "species_name": "Canis lupus",
         "subspecies_name": "None"
        },
        {
         "_deepnote_index_column": 1962,
         "class_name": "Mammalia",
         "family_name": "Canidae",
         "genus_name": "Canis",
         "order_name": "Carnivora",
         "phylum_name": "Chordata",
         "recordID": 6170676,
         "species_name": "Canis lupus",
         "subspecies_name": "None"
        },
        {
         "_deepnote_index_column": 1963,
         "class_name": "Mammalia",
         "family_name": "Canidae",
         "genus_name": "Urocyon",
         "order_name": "Carnivora",
         "phylum_name": "Chordata",
         "recordID": 6170687,
         "species_name": "Urocyon cinereoargenteus",
         "subspecies_name": "None"
        },
        {
         "_deepnote_index_column": 1964,
         "class_name": "Mammalia",
         "family_name": "Canidae",
         "genus_name": "Urocyon",
         "order_name": "Carnivora",
         "phylum_name": "Chordata",
         "recordID": 6170706,
         "species_name": "Urocyon cinereoargenteus",
         "subspecies_name": "None"
        },
        {
         "_deepnote_index_column": 1965,
         "class_name": "Mammalia",
         "family_name": "Canidae",
         "genus_name": "Urocyon",
         "order_name": "Carnivora",
         "phylum_name": "Chordata",
         "recordID": 6170728,
         "species_name": "Urocyon littoralis",
         "subspecies_name": "Urocyon littoralis catalinae"
        },
        {
         "_deepnote_index_column": 1966,
         "class_name": "Mammalia",
         "family_name": "Canidae",
         "genus_name": "Urocyon",
         "order_name": "Carnivora",
         "phylum_name": "Chordata",
         "recordID": 6170754,
         "species_name": "Urocyon littoralis",
         "subspecies_name": "Urocyon littoralis clementae"
        },
        {
         "_deepnote_index_column": 1967,
         "class_name": "Mammalia",
         "family_name": "Canidae",
         "genus_name": "Vulpes",
         "order_name": "Carnivora",
         "phylum_name": "Chordata",
         "recordID": 6170874,
         "species_name": "Vulpes lagopus",
         "subspecies_name": "None"
        },
        {
         "_deepnote_index_column": 1968,
         "class_name": "Mammalia",
         "family_name": "Canidae",
         "genus_name": "Canis",
         "order_name": "Carnivora",
         "phylum_name": "Chordata",
         "recordID": 5108268,
         "species_name": "Canis lupus",
         "subspecies_name": "None"
        },
        {
         "_deepnote_index_column": 1969,
         "class_name": "Mammalia",
         "family_name": "Canidae",
         "genus_name": "Canis",
         "order_name": "Carnivora",
         "phylum_name": "Chordata",
         "recordID": 9630460,
         "species_name": "Canis anthus",
         "subspecies_name": "None"
        },
        {
         "_deepnote_index_column": 1970,
         "class_name": "Mammalia",
         "family_name": "Canidae",
         "genus_name": "Lycalopex",
         "order_name": "Carnivora",
         "phylum_name": "Chordata",
         "recordID": 11549547,
         "species_name": "Lycalopex gymnocercus",
         "subspecies_name": "None"
        },
        {
         "_deepnote_index_column": 1971,
         "class_name": "Mammalia",
         "family_name": "Canidae",
         "genus_name": "Lycalopex",
         "order_name": "Carnivora",
         "phylum_name": "Chordata",
         "recordID": 11549553,
         "species_name": "Lycalopex griseus",
         "subspecies_name": "None"
        },
        {
         "_deepnote_index_column": 1972,
         "class_name": "Mammalia",
         "family_name": "None",
         "genus_name": "None",
         "order_name": "Carnivora",
         "phylum_name": "Chordata",
         "recordID": 1171954,
         "species_name": "None",
         "subspecies_name": "None"
        },
        {
         "_deepnote_index_column": 1973,
         "class_name": "Mammalia",
         "family_name": "None",
         "genus_name": "None",
         "order_name": "Carnivora",
         "phylum_name": "Chordata",
         "recordID": 6219151,
         "species_name": "None",
         "subspecies_name": "None"
        },
        {
         "_deepnote_index_column": 1974,
         "class_name": "Mammalia",
         "family_name": "None",
         "genus_name": "None",
         "order_name": "Carnivora",
         "phylum_name": "Chordata",
         "recordID": 2006459,
         "species_name": "None",
         "subspecies_name": "None"
        },
        {
         "_deepnote_index_column": 1975,
         "class_name": "Mammalia",
         "family_name": "None",
         "genus_name": "None",
         "order_name": "Carnivora",
         "phylum_name": "Chordata",
         "recordID": 1929531,
         "species_name": "None",
         "subspecies_name": "None"
        },
        {
         "_deepnote_index_column": 1976,
         "class_name": "Mammalia",
         "family_name": "None",
         "genus_name": "None",
         "order_name": "Carnivora",
         "phylum_name": "Chordata",
         "recordID": 1929532,
         "species_name": "None",
         "subspecies_name": "None"
        },
        {
         "_deepnote_index_column": 1977,
         "class_name": "Mammalia",
         "family_name": "None",
         "genus_name": "None",
         "order_name": "Carnivora",
         "phylum_name": "Chordata",
         "recordID": 1929533,
         "species_name": "None",
         "subspecies_name": "None"
        },
        {
         "_deepnote_index_column": 1978,
         "class_name": "Mammalia",
         "family_name": "None",
         "genus_name": "None",
         "order_name": "Carnivora",
         "phylum_name": "Chordata",
         "recordID": 1929535,
         "species_name": "None",
         "subspecies_name": "None"
        },
        {
         "_deepnote_index_column": 1979,
         "class_name": "Mammalia",
         "family_name": "None",
         "genus_name": "None",
         "order_name": "Carnivora",
         "phylum_name": "Chordata",
         "recordID": 1929538,
         "species_name": "None",
         "subspecies_name": "None"
        },
        {
         "_deepnote_index_column": 1980,
         "class_name": "Mammalia",
         "family_name": "None",
         "genus_name": "None",
         "order_name": "Carnivora",
         "phylum_name": "Chordata",
         "recordID": 1620066,
         "species_name": "None",
         "subspecies_name": "None"
        },
        {
         "_deepnote_index_column": 1981,
         "class_name": "Mammalia",
         "family_name": "None",
         "genus_name": "None",
         "order_name": "Carnivora",
         "phylum_name": "Chordata",
         "recordID": 2006398,
         "species_name": "None",
         "subspecies_name": "None"
        },
        {
         "_deepnote_index_column": 1982,
         "class_name": "Mammalia",
         "family_name": "None",
         "genus_name": "None",
         "order_name": "Carnivora",
         "phylum_name": "Chordata",
         "recordID": 2006460,
         "species_name": "None",
         "subspecies_name": "None"
        },
        {
         "_deepnote_index_column": 1983,
         "class_name": "Mammalia",
         "family_name": "None",
         "genus_name": "None",
         "order_name": "Carnivora",
         "phylum_name": "Chordata",
         "recordID": 2006461,
         "species_name": "None",
         "subspecies_name": "None"
        },
        {
         "_deepnote_index_column": 1984,
         "class_name": "Mammalia",
         "family_name": "None",
         "genus_name": "None",
         "order_name": "Carnivora",
         "phylum_name": "Chordata",
         "recordID": 1263589,
         "species_name": "None",
         "subspecies_name": "None"
        },
        {
         "_deepnote_index_column": 1985,
         "class_name": "Mammalia",
         "family_name": "None",
         "genus_name": "None",
         "order_name": "Carnivora",
         "phylum_name": "Chordata",
         "recordID": 1620228,
         "species_name": "None",
         "subspecies_name": "None"
        },
        {
         "_deepnote_index_column": 1986,
         "class_name": "Mammalia",
         "family_name": "None",
         "genus_name": "None",
         "order_name": "Carnivora",
         "phylum_name": "Chordata",
         "recordID": 2006397,
         "species_name": "None",
         "subspecies_name": "None"
        },
        {
         "_deepnote_index_column": 1987,
         "class_name": "Mammalia",
         "family_name": "None",
         "genus_name": "None",
         "order_name": "Carnivora",
         "phylum_name": "Chordata",
         "recordID": 1929529,
         "species_name": "None",
         "subspecies_name": "None"
        },
        {
         "_deepnote_index_column": 1988,
         "class_name": "Mammalia",
         "family_name": "None",
         "genus_name": "None",
         "order_name": "Carnivora",
         "phylum_name": "Chordata",
         "recordID": 1929547,
         "species_name": "None",
         "subspecies_name": "None"
        },
        {
         "_deepnote_index_column": 1989,
         "class_name": "Mammalia",
         "family_name": "None",
         "genus_name": "None",
         "order_name": "Carnivora",
         "phylum_name": "Chordata",
         "recordID": 1263593,
         "species_name": "None",
         "subspecies_name": "None"
        },
        {
         "_deepnote_index_column": 1990,
         "class_name": "Mammalia",
         "family_name": "None",
         "genus_name": "None",
         "order_name": "Carnivora",
         "phylum_name": "Chordata",
         "recordID": 1263599,
         "species_name": "None",
         "subspecies_name": "None"
        },
        {
         "_deepnote_index_column": 1991,
         "class_name": "Mammalia",
         "family_name": "None",
         "genus_name": "None",
         "order_name": "Carnivora",
         "phylum_name": "Chordata",
         "recordID": 1263603,
         "species_name": "None",
         "subspecies_name": "None"
        },
        {
         "_deepnote_index_column": 1992,
         "class_name": "Mammalia",
         "family_name": "None",
         "genus_name": "None",
         "order_name": "Carnivora",
         "phylum_name": "Chordata",
         "recordID": 1263607,
         "species_name": "None",
         "subspecies_name": "None"
        },
        {
         "_deepnote_index_column": 1993,
         "class_name": "Mammalia",
         "family_name": "None",
         "genus_name": "None",
         "order_name": "Carnivora",
         "phylum_name": "Chordata",
         "recordID": 1620214,
         "species_name": "None",
         "subspecies_name": "None"
        },
        {
         "_deepnote_index_column": 1994,
         "class_name": "Mammalia",
         "family_name": "None",
         "genus_name": "None",
         "order_name": "Carnivora",
         "phylum_name": "Chordata",
         "recordID": 3929247,
         "species_name": "None",
         "subspecies_name": "None"
        },
        {
         "_deepnote_index_column": 1995,
         "class_name": "Mammalia",
         "family_name": "None",
         "genus_name": "None",
         "order_name": "Carnivora",
         "phylum_name": "Chordata",
         "recordID": 1929528,
         "species_name": "None",
         "subspecies_name": "None"
        },
        {
         "_deepnote_index_column": 1996,
         "class_name": "Mammalia",
         "family_name": "None",
         "genus_name": "None",
         "order_name": "Carnivora",
         "phylum_name": "Chordata",
         "recordID": 1929530,
         "species_name": "None",
         "subspecies_name": "None"
        },
        {
         "_deepnote_index_column": 1997,
         "class_name": "Mammalia",
         "family_name": "None",
         "genus_name": "None",
         "order_name": "Carnivora",
         "phylum_name": "Chordata",
         "recordID": 1263600,
         "species_name": "None",
         "subspecies_name": "None"
        },
        {
         "_deepnote_index_column": 1998,
         "class_name": "Mammalia",
         "family_name": "None",
         "genus_name": "None",
         "order_name": "Carnivora",
         "phylum_name": "Chordata",
         "recordID": 1263601,
         "species_name": "None",
         "subspecies_name": "None"
        },
        {
         "_deepnote_index_column": 1999,
         "class_name": "Mammalia",
         "family_name": "None",
         "genus_name": "None",
         "order_name": "Carnivora",
         "phylum_name": "Chordata",
         "recordID": 1263602,
         "species_name": "None",
         "subspecies_name": "None"
        },
        {
         "_deepnote_index_column": 2000,
         "class_name": "Mammalia",
         "family_name": "None",
         "genus_name": "None",
         "order_name": "Carnivora",
         "phylum_name": "Chordata",
         "recordID": 1263604,
         "species_name": "None",
         "subspecies_name": "None"
        },
        {
         "_deepnote_index_column": 2001,
         "class_name": "Mammalia",
         "family_name": "None",
         "genus_name": "None",
         "order_name": "Carnivora",
         "phylum_name": "Chordata",
         "recordID": 1620062,
         "species_name": "None",
         "subspecies_name": "None"
        },
        {
         "_deepnote_index_column": 2002,
         "class_name": "Mammalia",
         "family_name": "None",
         "genus_name": "None",
         "order_name": "Carnivora",
         "phylum_name": "Chordata",
         "recordID": 1620227,
         "species_name": "None",
         "subspecies_name": "None"
        },
        {
         "_deepnote_index_column": 2003,
         "class_name": "Mammalia",
         "family_name": "None",
         "genus_name": "None",
         "order_name": "Carnivora",
         "phylum_name": "Chordata",
         "recordID": 1929525,
         "species_name": "None",
         "subspecies_name": "None"
        },
        {
         "_deepnote_index_column": 2004,
         "class_name": "Mammalia",
         "family_name": "None",
         "genus_name": "None",
         "order_name": "Carnivora",
         "phylum_name": "Chordata",
         "recordID": 1263606,
         "species_name": "None",
         "subspecies_name": "None"
        },
        {
         "_deepnote_index_column": 2005,
         "class_name": "Mammalia",
         "family_name": "None",
         "genus_name": "None",
         "order_name": "Carnivora",
         "phylum_name": "Chordata",
         "recordID": 1620215,
         "species_name": "None",
         "subspecies_name": "None"
        },
        {
         "_deepnote_index_column": 2006,
         "class_name": "Mammalia",
         "family_name": "None",
         "genus_name": "None",
         "order_name": "Carnivora",
         "phylum_name": "Chordata",
         "recordID": 1929546,
         "species_name": "None",
         "subspecies_name": "None"
        },
        {
         "_deepnote_index_column": 2007,
         "class_name": "Mammalia",
         "family_name": "None",
         "genus_name": "None",
         "order_name": "Carnivora",
         "phylum_name": "Chordata",
         "recordID": 6219159,
         "species_name": "None",
         "subspecies_name": "None"
        },
        {
         "_deepnote_index_column": 2008,
         "class_name": "Mammalia",
         "family_name": "None",
         "genus_name": "None",
         "order_name": "Carnivora",
         "phylum_name": "Chordata",
         "recordID": 2509984,
         "species_name": "None",
         "subspecies_name": "None"
        }
       ],
       "rows_top": [
        {
         "_deepnote_index_column": 0,
         "class_name": "Mammalia",
         "family_name": "Canidae",
         "genus_name": "Vulpes",
         "order_name": "Carnivora",
         "phylum_name": "Chordata",
         "recordID": 40935,
         "species_name": "Vulpes vulpes",
         "subspecies_name": "None"
        },
        {
         "_deepnote_index_column": 1,
         "class_name": "Mammalia",
         "family_name": "Canidae",
         "genus_name": "Urocyon",
         "order_name": "Carnivora",
         "phylum_name": "Chordata",
         "recordID": 546839,
         "species_name": "Urocyon cinereoargenteus",
         "subspecies_name": "None"
        },
        {
         "_deepnote_index_column": 2,
         "class_name": "Mammalia",
         "family_name": "Canidae",
         "genus_name": "Canis",
         "order_name": "Carnivora",
         "phylum_name": "Chordata",
         "recordID": 488348,
         "species_name": "Canis lupus",
         "subspecies_name": "None"
        },
        {
         "_deepnote_index_column": 3,
         "class_name": "Mammalia",
         "family_name": "Canidae",
         "genus_name": "Vulpes",
         "order_name": "Carnivora",
         "phylum_name": "Chordata",
         "recordID": 8458404,
         "species_name": "Vulpes chama",
         "subspecies_name": "None"
        },
        {
         "_deepnote_index_column": 4,
         "class_name": "Mammalia",
         "family_name": "Canidae",
         "genus_name": "Vulpes",
         "order_name": "Carnivora",
         "phylum_name": "Chordata",
         "recordID": 8458416,
         "species_name": "Vulpes vulpes",
         "subspecies_name": "None"
        },
        {
         "_deepnote_index_column": 5,
         "class_name": "Mammalia",
         "family_name": "Canidae",
         "genus_name": "Canis",
         "order_name": "Carnivora",
         "phylum_name": "Chordata",
         "recordID": 9787435,
         "species_name": "Canis lupus",
         "subspecies_name": "None"
        },
        {
         "_deepnote_index_column": 6,
         "class_name": "Mammalia",
         "family_name": "Canidae",
         "genus_name": "Canis",
         "order_name": "Carnivora",
         "phylum_name": "Chordata",
         "recordID": 9787458,
         "species_name": "Canis lupus",
         "subspecies_name": "None"
        },
        {
         "_deepnote_index_column": 7,
         "class_name": "Mammalia",
         "family_name": "Canidae",
         "genus_name": "Canis",
         "order_name": "Carnivora",
         "phylum_name": "Chordata",
         "recordID": 9787661,
         "species_name": "Canis lupus",
         "subspecies_name": "None"
        },
        {
         "_deepnote_index_column": 8,
         "class_name": "Mammalia",
         "family_name": "Canidae",
         "genus_name": "Canis",
         "order_name": "Carnivora",
         "phylum_name": "Chordata",
         "recordID": 9787673,
         "species_name": "Canis lupus",
         "subspecies_name": "None"
        },
        {
         "_deepnote_index_column": 9,
         "class_name": "Mammalia",
         "family_name": "Canidae",
         "genus_name": "Canis",
         "order_name": "Carnivora",
         "phylum_name": "Chordata",
         "recordID": 9787974,
         "species_name": "Canis lupus",
         "subspecies_name": "None"
        },
        {
         "_deepnote_index_column": 10,
         "class_name": "Mammalia",
         "family_name": "Canidae",
         "genus_name": "Canis",
         "order_name": "Carnivora",
         "phylum_name": "Chordata",
         "recordID": 9787976,
         "species_name": "Canis lupus",
         "subspecies_name": "None"
        },
        {
         "_deepnote_index_column": 11,
         "class_name": "Mammalia",
         "family_name": "Canidae",
         "genus_name": "Canis",
         "order_name": "Carnivora",
         "phylum_name": "Chordata",
         "recordID": 9787987,
         "species_name": "Canis lupus",
         "subspecies_name": "None"
        },
        {
         "_deepnote_index_column": 12,
         "class_name": "Mammalia",
         "family_name": "Canidae",
         "genus_name": "Canis",
         "order_name": "Carnivora",
         "phylum_name": "Chordata",
         "recordID": 9788012,
         "species_name": "Canis lupus",
         "subspecies_name": "None"
        },
        {
         "_deepnote_index_column": 13,
         "class_name": "Mammalia",
         "family_name": "Canidae",
         "genus_name": "Canis",
         "order_name": "Carnivora",
         "phylum_name": "Chordata",
         "recordID": 9788016,
         "species_name": "Canis lupus",
         "subspecies_name": "None"
        },
        {
         "_deepnote_index_column": 14,
         "class_name": "Mammalia",
         "family_name": "Canidae",
         "genus_name": "Canis",
         "order_name": "Carnivora",
         "phylum_name": "Chordata",
         "recordID": 9788022,
         "species_name": "Canis lupus",
         "subspecies_name": "None"
        },
        {
         "_deepnote_index_column": 15,
         "class_name": "Mammalia",
         "family_name": "Canidae",
         "genus_name": "Canis",
         "order_name": "Carnivora",
         "phylum_name": "Chordata",
         "recordID": 9788040,
         "species_name": "Canis lupus",
         "subspecies_name": "None"
        },
        {
         "_deepnote_index_column": 16,
         "class_name": "Mammalia",
         "family_name": "Canidae",
         "genus_name": "Canis",
         "order_name": "Carnivora",
         "phylum_name": "Chordata",
         "recordID": 9788146,
         "species_name": "Canis lupus",
         "subspecies_name": "None"
        },
        {
         "_deepnote_index_column": 17,
         "class_name": "Mammalia",
         "family_name": "Canidae",
         "genus_name": "Canis",
         "order_name": "Carnivora",
         "phylum_name": "Chordata",
         "recordID": 9788157,
         "species_name": "Canis lupus",
         "subspecies_name": "None"
        },
        {
         "_deepnote_index_column": 18,
         "class_name": "Mammalia",
         "family_name": "Canidae",
         "genus_name": "Canis",
         "order_name": "Carnivora",
         "phylum_name": "Chordata",
         "recordID": 9788243,
         "species_name": "Canis lupus",
         "subspecies_name": "None"
        },
        {
         "_deepnote_index_column": 19,
         "class_name": "Mammalia",
         "family_name": "Canidae",
         "genus_name": "Canis",
         "order_name": "Carnivora",
         "phylum_name": "Chordata",
         "recordID": 9788274,
         "species_name": "Canis lupus",
         "subspecies_name": "None"
        },
        {
         "_deepnote_index_column": 20,
         "class_name": "Mammalia",
         "family_name": "Canidae",
         "genus_name": "Canis",
         "order_name": "Carnivora",
         "phylum_name": "Chordata",
         "recordID": 9788316,
         "species_name": "Canis lupus",
         "subspecies_name": "None"
        },
        {
         "_deepnote_index_column": 21,
         "class_name": "Mammalia",
         "family_name": "Canidae",
         "genus_name": "Canis",
         "order_name": "Carnivora",
         "phylum_name": "Chordata",
         "recordID": 9788382,
         "species_name": "Canis lupus",
         "subspecies_name": "None"
        },
        {
         "_deepnote_index_column": 22,
         "class_name": "Mammalia",
         "family_name": "Canidae",
         "genus_name": "Canis",
         "order_name": "Carnivora",
         "phylum_name": "Chordata",
         "recordID": 9788392,
         "species_name": "Canis lupus",
         "subspecies_name": "None"
        },
        {
         "_deepnote_index_column": 23,
         "class_name": "Mammalia",
         "family_name": "Canidae",
         "genus_name": "Canis",
         "order_name": "Carnivora",
         "phylum_name": "Chordata",
         "recordID": 9788407,
         "species_name": "Canis lupus",
         "subspecies_name": "None"
        },
        {
         "_deepnote_index_column": 24,
         "class_name": "Mammalia",
         "family_name": "Canidae",
         "genus_name": "Canis",
         "order_name": "Carnivora",
         "phylum_name": "Chordata",
         "recordID": 9788412,
         "species_name": "Canis lupus",
         "subspecies_name": "None"
        },
        {
         "_deepnote_index_column": 25,
         "class_name": "Mammalia",
         "family_name": "Canidae",
         "genus_name": "Canis",
         "order_name": "Carnivora",
         "phylum_name": "Chordata",
         "recordID": 9788442,
         "species_name": "Canis lupus",
         "subspecies_name": "None"
        },
        {
         "_deepnote_index_column": 26,
         "class_name": "Mammalia",
         "family_name": "Canidae",
         "genus_name": "Canis",
         "order_name": "Carnivora",
         "phylum_name": "Chordata",
         "recordID": 9788561,
         "species_name": "Canis lupus",
         "subspecies_name": "None"
        },
        {
         "_deepnote_index_column": 27,
         "class_name": "Mammalia",
         "family_name": "Canidae",
         "genus_name": "Canis",
         "order_name": "Carnivora",
         "phylum_name": "Chordata",
         "recordID": 9788576,
         "species_name": "Canis lupus",
         "subspecies_name": "None"
        },
        {
         "_deepnote_index_column": 28,
         "class_name": "Mammalia",
         "family_name": "Canidae",
         "genus_name": "Canis",
         "order_name": "Carnivora",
         "phylum_name": "Chordata",
         "recordID": 9788834,
         "species_name": "Canis aureus",
         "subspecies_name": "None"
        },
        {
         "_deepnote_index_column": 29,
         "class_name": "Mammalia",
         "family_name": "Canidae",
         "genus_name": "Canis",
         "order_name": "Carnivora",
         "phylum_name": "Chordata",
         "recordID": 1118206,
         "species_name": "Canis lupus",
         "subspecies_name": "None"
        },
        {
         "_deepnote_index_column": 30,
         "class_name": "Mammalia",
         "family_name": "Canidae",
         "genus_name": "Canis",
         "order_name": "Carnivora",
         "phylum_name": "Chordata",
         "recordID": 1118218,
         "species_name": "Canis lupus",
         "subspecies_name": "None"
        },
        {
         "_deepnote_index_column": 31,
         "class_name": "Mammalia",
         "family_name": "Canidae",
         "genus_name": "Canis",
         "order_name": "Carnivora",
         "phylum_name": "Chordata",
         "recordID": 1183116,
         "species_name": "Canis lupus",
         "subspecies_name": "None"
        },
        {
         "_deepnote_index_column": 32,
         "class_name": "Mammalia",
         "family_name": "Canidae",
         "genus_name": "Canis",
         "order_name": "Carnivora",
         "phylum_name": "Chordata",
         "recordID": 1183241,
         "species_name": "Canis lupus",
         "subspecies_name": "None"
        },
        {
         "_deepnote_index_column": 33,
         "class_name": "Mammalia",
         "family_name": "Canidae",
         "genus_name": "Otocyon",
         "order_name": "Carnivora",
         "phylum_name": "Chordata",
         "recordID": 9795767,
         "species_name": "Otocyon megalotis",
         "subspecies_name": "None"
        },
        {
         "_deepnote_index_column": 34,
         "class_name": "Mammalia",
         "family_name": "Canidae",
         "genus_name": "Canis",
         "order_name": "Carnivora",
         "phylum_name": "Chordata",
         "recordID": 3599939,
         "species_name": "Canis lupus",
         "subspecies_name": "Canis lupus familiaris"
        },
        {
         "_deepnote_index_column": 35,
         "class_name": "Mammalia",
         "family_name": "Canidae",
         "genus_name": "Canis",
         "order_name": "Carnivora",
         "phylum_name": "Chordata",
         "recordID": 6170458,
         "species_name": "Canis lupus",
         "subspecies_name": "None"
        },
        {
         "_deepnote_index_column": 36,
         "class_name": "Mammalia",
         "family_name": "Canidae",
         "genus_name": "Canis",
         "order_name": "Carnivora",
         "phylum_name": "Chordata",
         "recordID": 6170502,
         "species_name": "Canis lupus",
         "subspecies_name": "None"
        },
        {
         "_deepnote_index_column": 37,
         "class_name": "Mammalia",
         "family_name": "Canidae",
         "genus_name": "Canis",
         "order_name": "Carnivora",
         "phylum_name": "Chordata",
         "recordID": 6170522,
         "species_name": "Canis lupus",
         "subspecies_name": "None"
        },
        {
         "_deepnote_index_column": 38,
         "class_name": "Mammalia",
         "family_name": "Canidae",
         "genus_name": "Canis",
         "order_name": "Carnivora",
         "phylum_name": "Chordata",
         "recordID": 6170530,
         "species_name": "Canis lupus",
         "subspecies_name": "None"
        },
        {
         "_deepnote_index_column": 39,
         "class_name": "Mammalia",
         "family_name": "Canidae",
         "genus_name": "Canis",
         "order_name": "Carnivora",
         "phylum_name": "Chordata",
         "recordID": 6170536,
         "species_name": "Canis lupus",
         "subspecies_name": "None"
        },
        {
         "_deepnote_index_column": 40,
         "class_name": "Mammalia",
         "family_name": "Canidae",
         "genus_name": "Canis",
         "order_name": "Carnivora",
         "phylum_name": "Chordata",
         "recordID": 6170544,
         "species_name": "Canis lupus",
         "subspecies_name": "None"
        },
        {
         "_deepnote_index_column": 41,
         "class_name": "Mammalia",
         "family_name": "Canidae",
         "genus_name": "Canis",
         "order_name": "Carnivora",
         "phylum_name": "Chordata",
         "recordID": 6170556,
         "species_name": "Canis lupus",
         "subspecies_name": "None"
        },
        {
         "_deepnote_index_column": 42,
         "class_name": "Mammalia",
         "family_name": "Canidae",
         "genus_name": "Canis",
         "order_name": "Carnivora",
         "phylum_name": "Chordata",
         "recordID": 6170607,
         "species_name": "Canis lupus",
         "subspecies_name": "None"
        },
        {
         "_deepnote_index_column": 43,
         "class_name": "Mammalia",
         "family_name": "Canidae",
         "genus_name": "Canis",
         "order_name": "Carnivora",
         "phylum_name": "Chordata",
         "recordID": 6170608,
         "species_name": "Canis lupus",
         "subspecies_name": "None"
        },
        {
         "_deepnote_index_column": 44,
         "class_name": "Mammalia",
         "family_name": "Canidae",
         "genus_name": "Canis",
         "order_name": "Carnivora",
         "phylum_name": "Chordata",
         "recordID": 6170670,
         "species_name": "Canis lupus",
         "subspecies_name": "None"
        },
        {
         "_deepnote_index_column": 45,
         "class_name": "Mammalia",
         "family_name": "Canidae",
         "genus_name": "Canis",
         "order_name": "Carnivora",
         "phylum_name": "Chordata",
         "recordID": 6170684,
         "species_name": "Canis lupus",
         "subspecies_name": "None"
        },
        {
         "_deepnote_index_column": 46,
         "class_name": "Mammalia",
         "family_name": "Canidae",
         "genus_name": "Urocyon",
         "order_name": "Carnivora",
         "phylum_name": "Chordata",
         "recordID": 6170688,
         "species_name": "Urocyon cinereoargenteus",
         "subspecies_name": "None"
        },
        {
         "_deepnote_index_column": 47,
         "class_name": "Mammalia",
         "family_name": "Canidae",
         "genus_name": "Urocyon",
         "order_name": "Carnivora",
         "phylum_name": "Chordata",
         "recordID": 6170710,
         "species_name": "Urocyon cinereoargenteus",
         "subspecies_name": "None"
        },
        {
         "_deepnote_index_column": 48,
         "class_name": "Mammalia",
         "family_name": "Canidae",
         "genus_name": "Urocyon",
         "order_name": "Carnivora",
         "phylum_name": "Chordata",
         "recordID": 6170726,
         "species_name": "Urocyon littoralis",
         "subspecies_name": "Urocyon littoralis catalinae"
        },
        {
         "_deepnote_index_column": 49,
         "class_name": "Mammalia",
         "family_name": "Canidae",
         "genus_name": "Urocyon",
         "order_name": "Carnivora",
         "phylum_name": "Chordata",
         "recordID": 6170826,
         "species_name": "Urocyon littoralis",
         "subspecies_name": "Urocyon littoralis santacruzae"
        },
        {
         "_deepnote_index_column": 50,
         "class_name": "Mammalia",
         "family_name": "Canidae",
         "genus_name": "Lycalopex",
         "order_name": "Carnivora",
         "phylum_name": "Chordata",
         "recordID": 11549526,
         "species_name": "Lycalopex griseus",
         "subspecies_name": "None"
        },
        {
         "_deepnote_index_column": 51,
         "class_name": "Mammalia",
         "family_name": "Canidae",
         "genus_name": "Lycalopex",
         "order_name": "Carnivora",
         "phylum_name": "Chordata",
         "recordID": 11549569,
         "species_name": "Lycalopex gymnocercus",
         "subspecies_name": "None"
        },
        {
         "_deepnote_index_column": 52,
         "class_name": "Mammalia",
         "family_name": "Canidae",
         "genus_name": "Nyctereutes",
         "order_name": "Carnivora",
         "phylum_name": "Chordata",
         "recordID": 6960559,
         "species_name": "Nyctereutes procyonoides",
         "subspecies_name": "None"
        },
        {
         "_deepnote_index_column": 53,
         "class_name": "Mammalia",
         "family_name": "Canidae",
         "genus_name": "Vulpes",
         "order_name": "Carnivora",
         "phylum_name": "Chordata",
         "recordID": 8458406,
         "species_name": "Vulpes vulpes",
         "subspecies_name": "None"
        },
        {
         "_deepnote_index_column": 54,
         "class_name": "Mammalia",
         "family_name": "Canidae",
         "genus_name": "Canis",
         "order_name": "Carnivora",
         "phylum_name": "Chordata",
         "recordID": 9787468,
         "species_name": "Canis lupus",
         "subspecies_name": "None"
        },
        {
         "_deepnote_index_column": 55,
         "class_name": "Mammalia",
         "family_name": "Canidae",
         "genus_name": "Canis",
         "order_name": "Carnivora",
         "phylum_name": "Chordata",
         "recordID": 9787475,
         "species_name": "Canis lupus",
         "subspecies_name": "None"
        },
        {
         "_deepnote_index_column": 56,
         "class_name": "Mammalia",
         "family_name": "Canidae",
         "genus_name": "Canis",
         "order_name": "Carnivora",
         "phylum_name": "Chordata",
         "recordID": 9787491,
         "species_name": "Canis lupus",
         "subspecies_name": "None"
        },
        {
         "_deepnote_index_column": 57,
         "class_name": "Mammalia",
         "family_name": "Canidae",
         "genus_name": "Canis",
         "order_name": "Carnivora",
         "phylum_name": "Chordata",
         "recordID": 9787915,
         "species_name": "Canis lupus",
         "subspecies_name": "None"
        },
        {
         "_deepnote_index_column": 58,
         "class_name": "Mammalia",
         "family_name": "Canidae",
         "genus_name": "Canis",
         "order_name": "Carnivora",
         "phylum_name": "Chordata",
         "recordID": 9787921,
         "species_name": "Canis lupus",
         "subspecies_name": "None"
        },
        {
         "_deepnote_index_column": 59,
         "class_name": "Mammalia",
         "family_name": "Canidae",
         "genus_name": "Canis",
         "order_name": "Carnivora",
         "phylum_name": "Chordata",
         "recordID": 9787951,
         "species_name": "Canis lupus",
         "subspecies_name": "None"
        },
        {
         "_deepnote_index_column": 60,
         "class_name": "Mammalia",
         "family_name": "Canidae",
         "genus_name": "Canis",
         "order_name": "Carnivora",
         "phylum_name": "Chordata",
         "recordID": 9788020,
         "species_name": "Canis lupus",
         "subspecies_name": "None"
        },
        {
         "_deepnote_index_column": 61,
         "class_name": "Mammalia",
         "family_name": "Canidae",
         "genus_name": "Canis",
         "order_name": "Carnivora",
         "phylum_name": "Chordata",
         "recordID": 9788044,
         "species_name": "Canis lupus",
         "subspecies_name": "None"
        }
       ]
      },
      "text/html": [
       "<div>\n",
       "<style scoped>\n",
       "    .dataframe tbody tr th:only-of-type {\n",
       "        vertical-align: middle;\n",
       "    }\n",
       "\n",
       "    .dataframe tbody tr th {\n",
       "        vertical-align: top;\n",
       "    }\n",
       "\n",
       "    .dataframe thead th {\n",
       "        text-align: right;\n",
       "    }\n",
       "</style>\n",
       "<table border=\"1\" class=\"dataframe\">\n",
       "  <thead>\n",
       "    <tr style=\"text-align: right;\">\n",
       "      <th></th>\n",
       "      <th>recordID</th>\n",
       "      <th>phylum_name</th>\n",
       "      <th>class_name</th>\n",
       "      <th>order_name</th>\n",
       "      <th>family_name</th>\n",
       "      <th>genus_name</th>\n",
       "      <th>species_name</th>\n",
       "      <th>subspecies_name</th>\n",
       "    </tr>\n",
       "  </thead>\n",
       "  <tbody>\n",
       "    <tr>\n",
       "      <th>0</th>\n",
       "      <td>40935</td>\n",
       "      <td>Chordata</td>\n",
       "      <td>Mammalia</td>\n",
       "      <td>Carnivora</td>\n",
       "      <td>Canidae</td>\n",
       "      <td>Vulpes</td>\n",
       "      <td>Vulpes vulpes</td>\n",
       "      <td>None</td>\n",
       "    </tr>\n",
       "    <tr>\n",
       "      <th>1</th>\n",
       "      <td>546839</td>\n",
       "      <td>Chordata</td>\n",
       "      <td>Mammalia</td>\n",
       "      <td>Carnivora</td>\n",
       "      <td>Canidae</td>\n",
       "      <td>Urocyon</td>\n",
       "      <td>Urocyon cinereoargenteus</td>\n",
       "      <td>None</td>\n",
       "    </tr>\n",
       "    <tr>\n",
       "      <th>2</th>\n",
       "      <td>488348</td>\n",
       "      <td>Chordata</td>\n",
       "      <td>Mammalia</td>\n",
       "      <td>Carnivora</td>\n",
       "      <td>Canidae</td>\n",
       "      <td>Canis</td>\n",
       "      <td>Canis lupus</td>\n",
       "      <td>None</td>\n",
       "    </tr>\n",
       "    <tr>\n",
       "      <th>3</th>\n",
       "      <td>8458404</td>\n",
       "      <td>Chordata</td>\n",
       "      <td>Mammalia</td>\n",
       "      <td>Carnivora</td>\n",
       "      <td>Canidae</td>\n",
       "      <td>Vulpes</td>\n",
       "      <td>Vulpes chama</td>\n",
       "      <td>None</td>\n",
       "    </tr>\n",
       "    <tr>\n",
       "      <th>4</th>\n",
       "      <td>8458416</td>\n",
       "      <td>Chordata</td>\n",
       "      <td>Mammalia</td>\n",
       "      <td>Carnivora</td>\n",
       "      <td>Canidae</td>\n",
       "      <td>Vulpes</td>\n",
       "      <td>Vulpes vulpes</td>\n",
       "      <td>None</td>\n",
       "    </tr>\n",
       "    <tr>\n",
       "      <th>...</th>\n",
       "      <td>...</td>\n",
       "      <td>...</td>\n",
       "      <td>...</td>\n",
       "      <td>...</td>\n",
       "      <td>...</td>\n",
       "      <td>...</td>\n",
       "      <td>...</td>\n",
       "      <td>...</td>\n",
       "    </tr>\n",
       "    <tr>\n",
       "      <th>2004</th>\n",
       "      <td>1263606</td>\n",
       "      <td>Chordata</td>\n",
       "      <td>Mammalia</td>\n",
       "      <td>Carnivora</td>\n",
       "      <td>None</td>\n",
       "      <td>None</td>\n",
       "      <td>None</td>\n",
       "      <td>None</td>\n",
       "    </tr>\n",
       "    <tr>\n",
       "      <th>2005</th>\n",
       "      <td>1620215</td>\n",
       "      <td>Chordata</td>\n",
       "      <td>Mammalia</td>\n",
       "      <td>Carnivora</td>\n",
       "      <td>None</td>\n",
       "      <td>None</td>\n",
       "      <td>None</td>\n",
       "      <td>None</td>\n",
       "    </tr>\n",
       "    <tr>\n",
       "      <th>2006</th>\n",
       "      <td>1929546</td>\n",
       "      <td>Chordata</td>\n",
       "      <td>Mammalia</td>\n",
       "      <td>Carnivora</td>\n",
       "      <td>None</td>\n",
       "      <td>None</td>\n",
       "      <td>None</td>\n",
       "      <td>None</td>\n",
       "    </tr>\n",
       "    <tr>\n",
       "      <th>2007</th>\n",
       "      <td>6219159</td>\n",
       "      <td>Chordata</td>\n",
       "      <td>Mammalia</td>\n",
       "      <td>Carnivora</td>\n",
       "      <td>None</td>\n",
       "      <td>None</td>\n",
       "      <td>None</td>\n",
       "      <td>None</td>\n",
       "    </tr>\n",
       "    <tr>\n",
       "      <th>2008</th>\n",
       "      <td>2509984</td>\n",
       "      <td>Chordata</td>\n",
       "      <td>Mammalia</td>\n",
       "      <td>Carnivora</td>\n",
       "      <td>None</td>\n",
       "      <td>None</td>\n",
       "      <td>None</td>\n",
       "      <td>None</td>\n",
       "    </tr>\n",
       "  </tbody>\n",
       "</table>\n",
       "<p>2009 rows × 8 columns</p>\n",
       "</div>"
      ],
      "text/plain": [
       "      recordID phylum_name class_name order_name family_name genus_name  \\\n",
       "0        40935    Chordata   Mammalia  Carnivora     Canidae     Vulpes   \n",
       "1       546839    Chordata   Mammalia  Carnivora     Canidae    Urocyon   \n",
       "2       488348    Chordata   Mammalia  Carnivora     Canidae      Canis   \n",
       "3      8458404    Chordata   Mammalia  Carnivora     Canidae     Vulpes   \n",
       "4      8458416    Chordata   Mammalia  Carnivora     Canidae     Vulpes   \n",
       "...        ...         ...        ...        ...         ...        ...   \n",
       "2004   1263606    Chordata   Mammalia  Carnivora        None       None   \n",
       "2005   1620215    Chordata   Mammalia  Carnivora        None       None   \n",
       "2006   1929546    Chordata   Mammalia  Carnivora        None       None   \n",
       "2007   6219159    Chordata   Mammalia  Carnivora        None       None   \n",
       "2008   2509984    Chordata   Mammalia  Carnivora        None       None   \n",
       "\n",
       "                  species_name subspecies_name  \n",
       "0                Vulpes vulpes            None  \n",
       "1     Urocyon cinereoargenteus            None  \n",
       "2                  Canis lupus            None  \n",
       "3                 Vulpes chama            None  \n",
       "4                Vulpes vulpes            None  \n",
       "...                        ...             ...  \n",
       "2004                      None            None  \n",
       "2005                      None            None  \n",
       "2006                      None            None  \n",
       "2007                      None            None  \n",
       "2008                      None            None  \n",
       "\n",
       "[2009 rows x 8 columns]"
      ]
     },
     "execution_count": 4,
     "metadata": {},
     "output_type": "execute_result"
    }
   ],
   "source": [
    "query = 'SELECT * FROM species;'\n",
    "speciesDF = get_data(query)\n",
    "speciesDF"
   ]
  },
  {
   "cell_type": "markdown",
   "metadata": {
    "cell_id": "00009-e02c45d4-5896-4802-9b17-7d8e069453f6",
    "deepnote_cell_type": "markdown",
    "tags": []
   },
   "source": [
    "### LIMIT\n",
    "A smaller version of the database could have been retrived by using LIMIT, to limit the number of output rows; and SELECT, to retrieve just a few variables"
   ]
  },
  {
   "cell_type": "code",
   "execution_count": 5,
   "metadata": {
    "cell_id": "00010-f5427529-340a-43f4-9c17-cb3d2ef6b2b2",
    "deepnote_cell_type": "code",
    "deepnote_to_be_reexecuted": false,
    "execution_millis": 26,
    "execution_start": 1638459121870,
    "source_hash": "6c52ad1d",
    "tags": []
   },
   "outputs": [
    {
     "data": {
      "application/vnd.deepnote.dataframe.v2+json": {
       "column_count": 3,
       "columns": [
        {
         "dtype": "int64",
         "name": "recordID",
         "stats": {
          "histogram": [
           {
            "bin_end": 1191798.4,
            "bin_start": 40935,
            "count": 7
           },
           {
            "bin_end": 2342661.8,
            "bin_start": 1191798.4,
            "count": 0
           },
           {
            "bin_end": 3493525.1999999997,
            "bin_start": 2342661.8,
            "count": 0
           },
           {
            "bin_end": 4644388.6,
            "bin_start": 3493525.1999999997,
            "count": 3
           },
           {
            "bin_end": 5795252,
            "bin_start": 4644388.6,
            "count": 0
           },
           {
            "bin_end": 6946115.399999999,
            "bin_start": 5795252,
            "count": 34
           },
           {
            "bin_end": 8096978.799999999,
            "bin_start": 6946115.399999999,
            "count": 1
           },
           {
            "bin_end": 9247842.2,
            "bin_start": 8096978.799999999,
            "count": 3
           },
           {
            "bin_end": 10398705.6,
            "bin_start": 9247842.2,
            "count": 50
           },
           {
            "bin_end": 11549569,
            "bin_start": 10398705.6,
            "count": 2
           }
          ],
          "max": "11549569",
          "min": "40935",
          "nan_count": 0,
          "unique_count": 100
         }
        },
        {
         "dtype": "object",
         "name": "species_name",
         "stats": {
          "categories": [
           {
            "count": 82,
            "name": "Canis lupus"
           },
           {
            "count": 3,
            "name": "Vulpes vulpes"
           },
           {
            "count": 15,
            "name": "9 others"
           }
          ],
          "nan_count": 0,
          "unique_count": 11
         }
        },
        {
         "dtype": "object",
         "name": "subspecies_name",
         "stats": {
          "categories": [
           {
            "count": 3,
            "name": "Canis lupus familiaris"
           },
           {
            "count": 3,
            "name": "2 others"
           },
           {
            "count": 94,
            "name": "Missing"
           }
          ],
          "nan_count": 94,
          "unique_count": 3
         }
        },
        {
         "dtype": "int64",
         "name": "_deepnote_index_column"
        }
       ],
       "row_count": 100,
       "rows_bottom": null,
       "rows_top": [
        {
         "_deepnote_index_column": 0,
         "recordID": 40935,
         "species_name": "Vulpes vulpes",
         "subspecies_name": "None"
        },
        {
         "_deepnote_index_column": 1,
         "recordID": 546839,
         "species_name": "Urocyon cinereoargenteus",
         "subspecies_name": "None"
        },
        {
         "_deepnote_index_column": 2,
         "recordID": 488348,
         "species_name": "Canis lupus",
         "subspecies_name": "None"
        },
        {
         "_deepnote_index_column": 3,
         "recordID": 8458404,
         "species_name": "Vulpes chama",
         "subspecies_name": "None"
        },
        {
         "_deepnote_index_column": 4,
         "recordID": 8458416,
         "species_name": "Vulpes vulpes",
         "subspecies_name": "None"
        },
        {
         "_deepnote_index_column": 5,
         "recordID": 9787435,
         "species_name": "Canis lupus",
         "subspecies_name": "None"
        },
        {
         "_deepnote_index_column": 6,
         "recordID": 9787458,
         "species_name": "Canis lupus",
         "subspecies_name": "None"
        },
        {
         "_deepnote_index_column": 7,
         "recordID": 9787661,
         "species_name": "Canis lupus",
         "subspecies_name": "None"
        },
        {
         "_deepnote_index_column": 8,
         "recordID": 9787673,
         "species_name": "Canis lupus",
         "subspecies_name": "None"
        },
        {
         "_deepnote_index_column": 9,
         "recordID": 9787974,
         "species_name": "Canis lupus",
         "subspecies_name": "None"
        },
        {
         "_deepnote_index_column": 10,
         "recordID": 9787976,
         "species_name": "Canis lupus",
         "subspecies_name": "None"
        },
        {
         "_deepnote_index_column": 11,
         "recordID": 9787987,
         "species_name": "Canis lupus",
         "subspecies_name": "None"
        },
        {
         "_deepnote_index_column": 12,
         "recordID": 9788012,
         "species_name": "Canis lupus",
         "subspecies_name": "None"
        },
        {
         "_deepnote_index_column": 13,
         "recordID": 9788016,
         "species_name": "Canis lupus",
         "subspecies_name": "None"
        },
        {
         "_deepnote_index_column": 14,
         "recordID": 9788022,
         "species_name": "Canis lupus",
         "subspecies_name": "None"
        },
        {
         "_deepnote_index_column": 15,
         "recordID": 9788040,
         "species_name": "Canis lupus",
         "subspecies_name": "None"
        },
        {
         "_deepnote_index_column": 16,
         "recordID": 9788146,
         "species_name": "Canis lupus",
         "subspecies_name": "None"
        },
        {
         "_deepnote_index_column": 17,
         "recordID": 9788157,
         "species_name": "Canis lupus",
         "subspecies_name": "None"
        },
        {
         "_deepnote_index_column": 18,
         "recordID": 9788243,
         "species_name": "Canis lupus",
         "subspecies_name": "None"
        },
        {
         "_deepnote_index_column": 19,
         "recordID": 9788274,
         "species_name": "Canis lupus",
         "subspecies_name": "None"
        },
        {
         "_deepnote_index_column": 20,
         "recordID": 9788316,
         "species_name": "Canis lupus",
         "subspecies_name": "None"
        },
        {
         "_deepnote_index_column": 21,
         "recordID": 9788382,
         "species_name": "Canis lupus",
         "subspecies_name": "None"
        },
        {
         "_deepnote_index_column": 22,
         "recordID": 9788392,
         "species_name": "Canis lupus",
         "subspecies_name": "None"
        },
        {
         "_deepnote_index_column": 23,
         "recordID": 9788407,
         "species_name": "Canis lupus",
         "subspecies_name": "None"
        },
        {
         "_deepnote_index_column": 24,
         "recordID": 9788412,
         "species_name": "Canis lupus",
         "subspecies_name": "None"
        },
        {
         "_deepnote_index_column": 25,
         "recordID": 9788442,
         "species_name": "Canis lupus",
         "subspecies_name": "None"
        },
        {
         "_deepnote_index_column": 26,
         "recordID": 9788561,
         "species_name": "Canis lupus",
         "subspecies_name": "None"
        },
        {
         "_deepnote_index_column": 27,
         "recordID": 9788576,
         "species_name": "Canis lupus",
         "subspecies_name": "None"
        },
        {
         "_deepnote_index_column": 28,
         "recordID": 9788834,
         "species_name": "Canis aureus",
         "subspecies_name": "None"
        },
        {
         "_deepnote_index_column": 29,
         "recordID": 1118206,
         "species_name": "Canis lupus",
         "subspecies_name": "None"
        },
        {
         "_deepnote_index_column": 30,
         "recordID": 1118218,
         "species_name": "Canis lupus",
         "subspecies_name": "None"
        },
        {
         "_deepnote_index_column": 31,
         "recordID": 1183116,
         "species_name": "Canis lupus",
         "subspecies_name": "None"
        },
        {
         "_deepnote_index_column": 32,
         "recordID": 1183241,
         "species_name": "Canis lupus",
         "subspecies_name": "None"
        },
        {
         "_deepnote_index_column": 33,
         "recordID": 9795767,
         "species_name": "Otocyon megalotis",
         "subspecies_name": "None"
        },
        {
         "_deepnote_index_column": 34,
         "recordID": 3599939,
         "species_name": "Canis lupus",
         "subspecies_name": "Canis lupus familiaris"
        },
        {
         "_deepnote_index_column": 35,
         "recordID": 6170458,
         "species_name": "Canis lupus",
         "subspecies_name": "None"
        },
        {
         "_deepnote_index_column": 36,
         "recordID": 6170502,
         "species_name": "Canis lupus",
         "subspecies_name": "None"
        },
        {
         "_deepnote_index_column": 37,
         "recordID": 6170522,
         "species_name": "Canis lupus",
         "subspecies_name": "None"
        },
        {
         "_deepnote_index_column": 38,
         "recordID": 6170530,
         "species_name": "Canis lupus",
         "subspecies_name": "None"
        },
        {
         "_deepnote_index_column": 39,
         "recordID": 6170536,
         "species_name": "Canis lupus",
         "subspecies_name": "None"
        },
        {
         "_deepnote_index_column": 40,
         "recordID": 6170544,
         "species_name": "Canis lupus",
         "subspecies_name": "None"
        },
        {
         "_deepnote_index_column": 41,
         "recordID": 6170556,
         "species_name": "Canis lupus",
         "subspecies_name": "None"
        },
        {
         "_deepnote_index_column": 42,
         "recordID": 6170607,
         "species_name": "Canis lupus",
         "subspecies_name": "None"
        },
        {
         "_deepnote_index_column": 43,
         "recordID": 6170608,
         "species_name": "Canis lupus",
         "subspecies_name": "None"
        },
        {
         "_deepnote_index_column": 44,
         "recordID": 6170670,
         "species_name": "Canis lupus",
         "subspecies_name": "None"
        },
        {
         "_deepnote_index_column": 45,
         "recordID": 6170684,
         "species_name": "Canis lupus",
         "subspecies_name": "None"
        },
        {
         "_deepnote_index_column": 46,
         "recordID": 6170688,
         "species_name": "Urocyon cinereoargenteus",
         "subspecies_name": "None"
        },
        {
         "_deepnote_index_column": 47,
         "recordID": 6170710,
         "species_name": "Urocyon cinereoargenteus",
         "subspecies_name": "None"
        },
        {
         "_deepnote_index_column": 48,
         "recordID": 6170726,
         "species_name": "Urocyon littoralis",
         "subspecies_name": "Urocyon littoralis catalinae"
        },
        {
         "_deepnote_index_column": 49,
         "recordID": 6170826,
         "species_name": "Urocyon littoralis",
         "subspecies_name": "Urocyon littoralis santacruzae"
        },
        {
         "_deepnote_index_column": 50,
         "recordID": 11549526,
         "species_name": "Lycalopex griseus",
         "subspecies_name": "None"
        },
        {
         "_deepnote_index_column": 51,
         "recordID": 11549569,
         "species_name": "Lycalopex gymnocercus",
         "subspecies_name": "None"
        },
        {
         "_deepnote_index_column": 52,
         "recordID": 6960559,
         "species_name": "Nyctereutes procyonoides",
         "subspecies_name": "None"
        },
        {
         "_deepnote_index_column": 53,
         "recordID": 8458406,
         "species_name": "Vulpes vulpes",
         "subspecies_name": "None"
        },
        {
         "_deepnote_index_column": 54,
         "recordID": 9787468,
         "species_name": "Canis lupus",
         "subspecies_name": "None"
        },
        {
         "_deepnote_index_column": 55,
         "recordID": 9787475,
         "species_name": "Canis lupus",
         "subspecies_name": "None"
        },
        {
         "_deepnote_index_column": 56,
         "recordID": 9787491,
         "species_name": "Canis lupus",
         "subspecies_name": "None"
        },
        {
         "_deepnote_index_column": 57,
         "recordID": 9787915,
         "species_name": "Canis lupus",
         "subspecies_name": "None"
        },
        {
         "_deepnote_index_column": 58,
         "recordID": 9787921,
         "species_name": "Canis lupus",
         "subspecies_name": "None"
        },
        {
         "_deepnote_index_column": 59,
         "recordID": 9787951,
         "species_name": "Canis lupus",
         "subspecies_name": "None"
        },
        {
         "_deepnote_index_column": 60,
         "recordID": 9788020,
         "species_name": "Canis lupus",
         "subspecies_name": "None"
        },
        {
         "_deepnote_index_column": 61,
         "recordID": 9788044,
         "species_name": "Canis lupus",
         "subspecies_name": "None"
        },
        {
         "_deepnote_index_column": 62,
         "recordID": 9788089,
         "species_name": "Canis lupus",
         "subspecies_name": "None"
        },
        {
         "_deepnote_index_column": 63,
         "recordID": 9788145,
         "species_name": "Canis lupus",
         "subspecies_name": "None"
        },
        {
         "_deepnote_index_column": 64,
         "recordID": 9788194,
         "species_name": "Canis lupus",
         "subspecies_name": "None"
        },
        {
         "_deepnote_index_column": 65,
         "recordID": 9788271,
         "species_name": "Canis lupus",
         "subspecies_name": "None"
        },
        {
         "_deepnote_index_column": 66,
         "recordID": 9788272,
         "species_name": "Canis lupus",
         "subspecies_name": "None"
        },
        {
         "_deepnote_index_column": 67,
         "recordID": 9788291,
         "species_name": "Canis lupus",
         "subspecies_name": "None"
        },
        {
         "_deepnote_index_column": 68,
         "recordID": 9788298,
         "species_name": "Canis lupus",
         "subspecies_name": "None"
        },
        {
         "_deepnote_index_column": 69,
         "recordID": 9788411,
         "species_name": "Canis lupus",
         "subspecies_name": "None"
        },
        {
         "_deepnote_index_column": 70,
         "recordID": 9788457,
         "species_name": "Canis lupus",
         "subspecies_name": "None"
        },
        {
         "_deepnote_index_column": 71,
         "recordID": 9788474,
         "species_name": "Canis lupus",
         "subspecies_name": "None"
        },
        {
         "_deepnote_index_column": 72,
         "recordID": 9788600,
         "species_name": "Canis lupus",
         "subspecies_name": "None"
        },
        {
         "_deepnote_index_column": 73,
         "recordID": 9788637,
         "species_name": "Canis lupus",
         "subspecies_name": "None"
        },
        {
         "_deepnote_index_column": 74,
         "recordID": 9792813,
         "species_name": "Canis lupus",
         "subspecies_name": "None"
        },
        {
         "_deepnote_index_column": 75,
         "recordID": 9792818,
         "species_name": "Canis lupus",
         "subspecies_name": "None"
        },
        {
         "_deepnote_index_column": 76,
         "recordID": 9793068,
         "species_name": "Vulpes lagopus",
         "subspecies_name": "None"
        },
        {
         "_deepnote_index_column": 77,
         "recordID": 9793072,
         "species_name": "Vulpes lagopus",
         "subspecies_name": "None"
        },
        {
         "_deepnote_index_column": 78,
         "recordID": 9793095,
         "species_name": "Vulpes lagopus",
         "subspecies_name": "None"
        },
        {
         "_deepnote_index_column": 79,
         "recordID": 3599875,
         "species_name": "Canis lupus",
         "subspecies_name": "Canis lupus familiaris"
        },
        {
         "_deepnote_index_column": 80,
         "recordID": 3599961,
         "species_name": "Canis lupus",
         "subspecies_name": "Canis lupus familiaris"
        },
        {
         "_deepnote_index_column": 81,
         "recordID": 6170455,
         "species_name": "Canis lupus",
         "subspecies_name": "None"
        },
        {
         "_deepnote_index_column": 82,
         "recordID": 6170461,
         "species_name": "Canis lupus",
         "subspecies_name": "None"
        },
        {
         "_deepnote_index_column": 83,
         "recordID": 6170463,
         "species_name": "Canis lupus",
         "subspecies_name": "None"
        },
        {
         "_deepnote_index_column": 84,
         "recordID": 6170468,
         "species_name": "Canis lupus",
         "subspecies_name": "None"
        },
        {
         "_deepnote_index_column": 85,
         "recordID": 6170488,
         "species_name": "Canis lupus",
         "subspecies_name": "None"
        },
        {
         "_deepnote_index_column": 86,
         "recordID": 6170491,
         "species_name": "Canis lupus",
         "subspecies_name": "None"
        },
        {
         "_deepnote_index_column": 87,
         "recordID": 6170494,
         "species_name": "Canis lupus",
         "subspecies_name": "None"
        },
        {
         "_deepnote_index_column": 88,
         "recordID": 6170501,
         "species_name": "Canis lupus",
         "subspecies_name": "None"
        },
        {
         "_deepnote_index_column": 89,
         "recordID": 6170504,
         "species_name": "Canis lupus",
         "subspecies_name": "None"
        },
        {
         "_deepnote_index_column": 90,
         "recordID": 6170523,
         "species_name": "Canis lupus",
         "subspecies_name": "None"
        },
        {
         "_deepnote_index_column": 91,
         "recordID": 6170524,
         "species_name": "Canis lupus",
         "subspecies_name": "None"
        },
        {
         "_deepnote_index_column": 92,
         "recordID": 6170551,
         "species_name": "Canis lupus",
         "subspecies_name": "None"
        },
        {
         "_deepnote_index_column": 93,
         "recordID": 6170588,
         "species_name": "Canis lupus",
         "subspecies_name": "None"
        },
        {
         "_deepnote_index_column": 94,
         "recordID": 6170592,
         "species_name": "Canis lupus",
         "subspecies_name": "None"
        },
        {
         "_deepnote_index_column": 95,
         "recordID": 6170634,
         "species_name": "Canis lupus",
         "subspecies_name": "None"
        },
        {
         "_deepnote_index_column": 96,
         "recordID": 6170662,
         "species_name": "Canis lupus",
         "subspecies_name": "None"
        },
        {
         "_deepnote_index_column": 97,
         "recordID": 6170666,
         "species_name": "Canis lupus",
         "subspecies_name": "None"
        },
        {
         "_deepnote_index_column": 98,
         "recordID": 6170677,
         "species_name": "Canis lupus",
         "subspecies_name": "None"
        },
        {
         "_deepnote_index_column": 99,
         "recordID": 6170841,
         "species_name": "Urocyon littoralis",
         "subspecies_name": "Urocyon littoralis santacruzae"
        }
       ]
      },
      "text/html": [
       "<div>\n",
       "<style scoped>\n",
       "    .dataframe tbody tr th:only-of-type {\n",
       "        vertical-align: middle;\n",
       "    }\n",
       "\n",
       "    .dataframe tbody tr th {\n",
       "        vertical-align: top;\n",
       "    }\n",
       "\n",
       "    .dataframe thead th {\n",
       "        text-align: right;\n",
       "    }\n",
       "</style>\n",
       "<table border=\"1\" class=\"dataframe\">\n",
       "  <thead>\n",
       "    <tr style=\"text-align: right;\">\n",
       "      <th></th>\n",
       "      <th>recordID</th>\n",
       "      <th>species_name</th>\n",
       "      <th>subspecies_name</th>\n",
       "    </tr>\n",
       "  </thead>\n",
       "  <tbody>\n",
       "    <tr>\n",
       "      <th>0</th>\n",
       "      <td>40935</td>\n",
       "      <td>Vulpes vulpes</td>\n",
       "      <td>None</td>\n",
       "    </tr>\n",
       "    <tr>\n",
       "      <th>1</th>\n",
       "      <td>546839</td>\n",
       "      <td>Urocyon cinereoargenteus</td>\n",
       "      <td>None</td>\n",
       "    </tr>\n",
       "    <tr>\n",
       "      <th>2</th>\n",
       "      <td>488348</td>\n",
       "      <td>Canis lupus</td>\n",
       "      <td>None</td>\n",
       "    </tr>\n",
       "    <tr>\n",
       "      <th>3</th>\n",
       "      <td>8458404</td>\n",
       "      <td>Vulpes chama</td>\n",
       "      <td>None</td>\n",
       "    </tr>\n",
       "    <tr>\n",
       "      <th>4</th>\n",
       "      <td>8458416</td>\n",
       "      <td>Vulpes vulpes</td>\n",
       "      <td>None</td>\n",
       "    </tr>\n",
       "    <tr>\n",
       "      <th>...</th>\n",
       "      <td>...</td>\n",
       "      <td>...</td>\n",
       "      <td>...</td>\n",
       "    </tr>\n",
       "    <tr>\n",
       "      <th>95</th>\n",
       "      <td>6170634</td>\n",
       "      <td>Canis lupus</td>\n",
       "      <td>None</td>\n",
       "    </tr>\n",
       "    <tr>\n",
       "      <th>96</th>\n",
       "      <td>6170662</td>\n",
       "      <td>Canis lupus</td>\n",
       "      <td>None</td>\n",
       "    </tr>\n",
       "    <tr>\n",
       "      <th>97</th>\n",
       "      <td>6170666</td>\n",
       "      <td>Canis lupus</td>\n",
       "      <td>None</td>\n",
       "    </tr>\n",
       "    <tr>\n",
       "      <th>98</th>\n",
       "      <td>6170677</td>\n",
       "      <td>Canis lupus</td>\n",
       "      <td>None</td>\n",
       "    </tr>\n",
       "    <tr>\n",
       "      <th>99</th>\n",
       "      <td>6170841</td>\n",
       "      <td>Urocyon littoralis</td>\n",
       "      <td>Urocyon littoralis santacruzae</td>\n",
       "    </tr>\n",
       "  </tbody>\n",
       "</table>\n",
       "<p>100 rows × 3 columns</p>\n",
       "</div>"
      ],
      "text/plain": [
       "    recordID              species_name                 subspecies_name\n",
       "0      40935             Vulpes vulpes                            None\n",
       "1     546839  Urocyon cinereoargenteus                            None\n",
       "2     488348               Canis lupus                            None\n",
       "3    8458404              Vulpes chama                            None\n",
       "4    8458416             Vulpes vulpes                            None\n",
       "..       ...                       ...                             ...\n",
       "95   6170634               Canis lupus                            None\n",
       "96   6170662               Canis lupus                            None\n",
       "97   6170666               Canis lupus                            None\n",
       "98   6170677               Canis lupus                            None\n",
       "99   6170841        Urocyon littoralis  Urocyon littoralis santacruzae\n",
       "\n",
       "[100 rows x 3 columns]"
      ]
     },
     "execution_count": 5,
     "metadata": {},
     "output_type": "execute_result"
    }
   ],
   "source": [
    "speciesSmallerDF = get_data('SELECT recordid, species_name, subspecies_name FROM species LIMIT 100;')\n",
    "speciesSmallerDF"
   ]
  },
  {
   "cell_type": "markdown",
   "metadata": {
    "cell_id": "00014-f9393ad3-d882-4d49-8349-557b4b30e9fd",
    "deepnote_cell_type": "markdown",
    "tags": []
   },
   "source": [
    "### ORDER BY"
   ]
  },
  {
   "cell_type": "markdown",
   "metadata": {
    "cell_id": "00013-e1061391-9bc0-4b77-a9c1-287e7bf39085",
    "deepnote_cell_type": "markdown",
    "tags": []
   },
   "source": [
    "Data can be sorted according to some column of interest using \"ORDER BY\" followed by ASC or DESC for ascending or descending order."
   ]
  },
  {
   "cell_type": "code",
   "execution_count": 6,
   "metadata": {
    "cell_id": "00012-99042238-613e-46d2-9d2e-7e058ac48322",
    "deepnote_cell_type": "code",
    "deepnote_to_be_reexecuted": false,
    "execution_millis": 5,
    "execution_start": 1638459121920,
    "source_hash": "50f73574",
    "tags": []
   },
   "outputs": [
    {
     "data": {
      "application/vnd.deepnote.dataframe.v2+json": {
       "column_count": 3,
       "columns": [
        {
         "dtype": "int64",
         "name": "recordID",
         "stats": {
          "histogram": [
           {
            "bin_end": 1016139.3,
            "bin_start": 40922,
            "count": 13
           },
           {
            "bin_end": 1991356.6,
            "bin_start": 1016139.3,
            "count": 4
           },
           {
            "bin_end": 2966573.9000000004,
            "bin_start": 1991356.6,
            "count": 0
           },
           {
            "bin_end": 3941791.2,
            "bin_start": 2966573.9000000004,
            "count": 1
           },
           {
            "bin_end": 4917008.5,
            "bin_start": 3941791.2,
            "count": 0
           },
           {
            "bin_end": 5892225.800000001,
            "bin_start": 4917008.5,
            "count": 1
           },
           {
            "bin_end": 6867443.100000001,
            "bin_start": 5892225.800000001,
            "count": 11
           },
           {
            "bin_end": 7842660.4,
            "bin_start": 6867443.100000001,
            "count": 4
           },
           {
            "bin_end": 8817877.700000001,
            "bin_start": 7842660.4,
            "count": 12
           },
           {
            "bin_end": 9793095,
            "bin_start": 8817877.700000001,
            "count": 54
           }
          ],
          "max": "9793095",
          "min": "40922",
          "nan_count": 0,
          "unique_count": 100
         }
        },
        {
         "dtype": "object",
         "name": "species_name",
         "stats": {
          "categories": [
           {
            "count": 55,
            "name": "Vulpes lagopus"
           },
           {
            "count": 39,
            "name": "Vulpes vulpes"
           },
           {
            "count": 6,
            "name": "2 others"
           }
          ],
          "nan_count": 0,
          "unique_count": 4
         }
        },
        {
         "dtype": "object",
         "name": "subspecies_name",
         "stats": {
          "categories": [
           {
            "count": 100,
            "name": "Missing"
           }
          ],
          "nan_count": 100,
          "unique_count": 0
         }
        },
        {
         "dtype": "int64",
         "name": "_deepnote_index_column"
        }
       ],
       "row_count": 100,
       "rows_bottom": null,
       "rows_top": [
        {
         "_deepnote_index_column": 0,
         "recordID": 6963578,
         "species_name": "Vulpes zerda",
         "subspecies_name": "None"
        },
        {
         "_deepnote_index_column": 1,
         "recordID": 9630467,
         "species_name": "Vulpes zerda",
         "subspecies_name": "None"
        },
        {
         "_deepnote_index_column": 2,
         "recordID": 6170884,
         "species_name": "Vulpes zerda",
         "subspecies_name": "None"
        },
        {
         "_deepnote_index_column": 3,
         "recordID": 40935,
         "species_name": "Vulpes vulpes",
         "subspecies_name": "None"
        },
        {
         "_deepnote_index_column": 4,
         "recordID": 8458416,
         "species_name": "Vulpes vulpes",
         "subspecies_name": "None"
        },
        {
         "_deepnote_index_column": 5,
         "recordID": 8458406,
         "species_name": "Vulpes vulpes",
         "subspecies_name": "None"
        },
        {
         "_deepnote_index_column": 6,
         "recordID": 8458410,
         "species_name": "Vulpes vulpes",
         "subspecies_name": "None"
        },
        {
         "_deepnote_index_column": 7,
         "recordID": 8458407,
         "species_name": "Vulpes vulpes",
         "subspecies_name": "None"
        },
        {
         "_deepnote_index_column": 8,
         "recordID": 6959251,
         "species_name": "Vulpes vulpes",
         "subspecies_name": "None"
        },
        {
         "_deepnote_index_column": 9,
         "recordID": 8458408,
         "species_name": "Vulpes vulpes",
         "subspecies_name": "None"
        },
        {
         "_deepnote_index_column": 10,
         "recordID": 8458414,
         "species_name": "Vulpes vulpes",
         "subspecies_name": "None"
        },
        {
         "_deepnote_index_column": 11,
         "recordID": 6170880,
         "species_name": "Vulpes vulpes",
         "subspecies_name": "None"
        },
        {
         "_deepnote_index_column": 12,
         "recordID": 1020279,
         "species_name": "Vulpes vulpes",
         "subspecies_name": "None"
        },
        {
         "_deepnote_index_column": 13,
         "recordID": 9787636,
         "species_name": "Vulpes vulpes",
         "subspecies_name": "None"
        },
        {
         "_deepnote_index_column": 14,
         "recordID": 6170875,
         "species_name": "Vulpes vulpes",
         "subspecies_name": "None"
        },
        {
         "_deepnote_index_column": 15,
         "recordID": 58091,
         "species_name": "Vulpes vulpes",
         "subspecies_name": "None"
        },
        {
         "_deepnote_index_column": 16,
         "recordID": 8458411,
         "species_name": "Vulpes vulpes",
         "subspecies_name": "None"
        },
        {
         "_deepnote_index_column": 17,
         "recordID": 9787633,
         "species_name": "Vulpes vulpes",
         "subspecies_name": "None"
        },
        {
         "_deepnote_index_column": 18,
         "recordID": 9636534,
         "species_name": "Vulpes vulpes",
         "subspecies_name": "None"
        },
        {
         "_deepnote_index_column": 19,
         "recordID": 9787632,
         "species_name": "Vulpes vulpes",
         "subspecies_name": "None"
        },
        {
         "_deepnote_index_column": 20,
         "recordID": 8458409,
         "species_name": "Vulpes vulpes",
         "subspecies_name": "None"
        },
        {
         "_deepnote_index_column": 21,
         "recordID": 9787634,
         "species_name": "Vulpes vulpes",
         "subspecies_name": "None"
        },
        {
         "_deepnote_index_column": 22,
         "recordID": 1108776,
         "species_name": "Vulpes vulpes",
         "subspecies_name": "None"
        },
        {
         "_deepnote_index_column": 23,
         "recordID": 1020288,
         "species_name": "Vulpes vulpes",
         "subspecies_name": "None"
        },
        {
         "_deepnote_index_column": 24,
         "recordID": 7561707,
         "species_name": "Vulpes vulpes",
         "subspecies_name": "None"
        },
        {
         "_deepnote_index_column": 25,
         "recordID": 8458405,
         "species_name": "Vulpes vulpes",
         "subspecies_name": "None"
        },
        {
         "_deepnote_index_column": 26,
         "recordID": 3564619,
         "species_name": "Vulpes vulpes",
         "subspecies_name": "None"
        },
        {
         "_deepnote_index_column": 27,
         "recordID": 41172,
         "species_name": "Vulpes vulpes",
         "subspecies_name": "None"
        },
        {
         "_deepnote_index_column": 28,
         "recordID": 8458413,
         "species_name": "Vulpes vulpes",
         "subspecies_name": "None"
        },
        {
         "_deepnote_index_column": 29,
         "recordID": 8458415,
         "species_name": "Vulpes vulpes",
         "subspecies_name": "None"
        },
        {
         "_deepnote_index_column": 30,
         "recordID": 6170877,
         "species_name": "Vulpes vulpes",
         "subspecies_name": "None"
        },
        {
         "_deepnote_index_column": 31,
         "recordID": 9787635,
         "species_name": "Vulpes vulpes",
         "subspecies_name": "None"
        },
        {
         "_deepnote_index_column": 32,
         "recordID": 6170878,
         "species_name": "Vulpes vulpes",
         "subspecies_name": "None"
        },
        {
         "_deepnote_index_column": 33,
         "recordID": 9787883,
         "species_name": "Vulpes vulpes",
         "subspecies_name": "None"
        },
        {
         "_deepnote_index_column": 34,
         "recordID": 6170882,
         "species_name": "Vulpes vulpes",
         "subspecies_name": "None"
        },
        {
         "_deepnote_index_column": 35,
         "recordID": 6170876,
         "species_name": "Vulpes vulpes",
         "subspecies_name": "None"
        },
        {
         "_deepnote_index_column": 36,
         "recordID": 6170879,
         "species_name": "Vulpes vulpes",
         "subspecies_name": "None"
        },
        {
         "_deepnote_index_column": 37,
         "recordID": 969865,
         "species_name": "Vulpes vulpes",
         "subspecies_name": "None"
        },
        {
         "_deepnote_index_column": 38,
         "recordID": 6170881,
         "species_name": "Vulpes vulpes",
         "subspecies_name": "None"
        },
        {
         "_deepnote_index_column": 39,
         "recordID": 6170883,
         "species_name": "Vulpes vulpes",
         "subspecies_name": "None"
        },
        {
         "_deepnote_index_column": 40,
         "recordID": 8458403,
         "species_name": "Vulpes vulpes",
         "subspecies_name": "None"
        },
        {
         "_deepnote_index_column": 41,
         "recordID": 1020353,
         "species_name": "Vulpes vulpes",
         "subspecies_name": "None"
        },
        {
         "_deepnote_index_column": 42,
         "recordID": 40932,
         "species_name": "Vulpes velox",
         "subspecies_name": "None"
        },
        {
         "_deepnote_index_column": 43,
         "recordID": 546604,
         "species_name": "Vulpes velox",
         "subspecies_name": "None"
        },
        {
         "_deepnote_index_column": 44,
         "recordID": 40922,
         "species_name": "Vulpes velox",
         "subspecies_name": "None"
        },
        {
         "_deepnote_index_column": 45,
         "recordID": 9793068,
         "species_name": "Vulpes lagopus",
         "subspecies_name": "None"
        },
        {
         "_deepnote_index_column": 46,
         "recordID": 9793072,
         "species_name": "Vulpes lagopus",
         "subspecies_name": "None"
        },
        {
         "_deepnote_index_column": 47,
         "recordID": 9793095,
         "species_name": "Vulpes lagopus",
         "subspecies_name": "None"
        },
        {
         "_deepnote_index_column": 48,
         "recordID": 9630468,
         "species_name": "Vulpes lagopus",
         "subspecies_name": "None"
        },
        {
         "_deepnote_index_column": 49,
         "recordID": 258718,
         "species_name": "Vulpes lagopus",
         "subspecies_name": "None"
        },
        {
         "_deepnote_index_column": 50,
         "recordID": 9793058,
         "species_name": "Vulpes lagopus",
         "subspecies_name": "None"
        },
        {
         "_deepnote_index_column": 51,
         "recordID": 9793051,
         "species_name": "Vulpes lagopus",
         "subspecies_name": "None"
        },
        {
         "_deepnote_index_column": 52,
         "recordID": 9793056,
         "species_name": "Vulpes lagopus",
         "subspecies_name": "None"
        },
        {
         "_deepnote_index_column": 53,
         "recordID": 9793054,
         "species_name": "Vulpes lagopus",
         "subspecies_name": "None"
        },
        {
         "_deepnote_index_column": 54,
         "recordID": 258717,
         "species_name": "Vulpes lagopus",
         "subspecies_name": "None"
        },
        {
         "_deepnote_index_column": 55,
         "recordID": 258719,
         "species_name": "Vulpes lagopus",
         "subspecies_name": "None"
        },
        {
         "_deepnote_index_column": 56,
         "recordID": 9788774,
         "species_name": "Vulpes lagopus",
         "subspecies_name": "None"
        },
        {
         "_deepnote_index_column": 57,
         "recordID": 5086652,
         "species_name": "Vulpes lagopus",
         "subspecies_name": "None"
        },
        {
         "_deepnote_index_column": 58,
         "recordID": 9793079,
         "species_name": "Vulpes lagopus",
         "subspecies_name": "None"
        },
        {
         "_deepnote_index_column": 59,
         "recordID": 9793082,
         "species_name": "Vulpes lagopus",
         "subspecies_name": "None"
        },
        {
         "_deepnote_index_column": 60,
         "recordID": 9793067,
         "species_name": "Vulpes lagopus",
         "subspecies_name": "None"
        },
        {
         "_deepnote_index_column": 61,
         "recordID": 9793059,
         "species_name": "Vulpes lagopus",
         "subspecies_name": "None"
        },
        {
         "_deepnote_index_column": 62,
         "recordID": 9793061,
         "species_name": "Vulpes lagopus",
         "subspecies_name": "None"
        },
        {
         "_deepnote_index_column": 63,
         "recordID": 9793078,
         "species_name": "Vulpes lagopus",
         "subspecies_name": "None"
        },
        {
         "_deepnote_index_column": 64,
         "recordID": 6170872,
         "species_name": "Vulpes lagopus",
         "subspecies_name": "None"
        },
        {
         "_deepnote_index_column": 65,
         "recordID": 9793080,
         "species_name": "Vulpes lagopus",
         "subspecies_name": "None"
        },
        {
         "_deepnote_index_column": 66,
         "recordID": 9793086,
         "species_name": "Vulpes lagopus",
         "subspecies_name": "None"
        },
        {
         "_deepnote_index_column": 67,
         "recordID": 258716,
         "species_name": "Vulpes lagopus",
         "subspecies_name": "None"
        },
        {
         "_deepnote_index_column": 68,
         "recordID": 9793066,
         "species_name": "Vulpes lagopus",
         "subspecies_name": "None"
        },
        {
         "_deepnote_index_column": 69,
         "recordID": 9793091,
         "species_name": "Vulpes lagopus",
         "subspecies_name": "None"
        },
        {
         "_deepnote_index_column": 70,
         "recordID": 9793060,
         "species_name": "Vulpes lagopus",
         "subspecies_name": "None"
        },
        {
         "_deepnote_index_column": 71,
         "recordID": 9793062,
         "species_name": "Vulpes lagopus",
         "subspecies_name": "None"
        },
        {
         "_deepnote_index_column": 72,
         "recordID": 9793065,
         "species_name": "Vulpes lagopus",
         "subspecies_name": "None"
        },
        {
         "_deepnote_index_column": 73,
         "recordID": 6962869,
         "species_name": "Vulpes lagopus",
         "subspecies_name": "None"
        },
        {
         "_deepnote_index_column": 74,
         "recordID": 9793084,
         "species_name": "Vulpes lagopus",
         "subspecies_name": "None"
        },
        {
         "_deepnote_index_column": 75,
         "recordID": 9793092,
         "species_name": "Vulpes lagopus",
         "subspecies_name": "None"
        },
        {
         "_deepnote_index_column": 76,
         "recordID": 9793063,
         "species_name": "Vulpes lagopus",
         "subspecies_name": "None"
        },
        {
         "_deepnote_index_column": 77,
         "recordID": 9793093,
         "species_name": "Vulpes lagopus",
         "subspecies_name": "None"
        },
        {
         "_deepnote_index_column": 78,
         "recordID": 9793070,
         "species_name": "Vulpes lagopus",
         "subspecies_name": "None"
        },
        {
         "_deepnote_index_column": 79,
         "recordID": 9793094,
         "species_name": "Vulpes lagopus",
         "subspecies_name": "None"
        },
        {
         "_deepnote_index_column": 80,
         "recordID": 9793057,
         "species_name": "Vulpes lagopus",
         "subspecies_name": "None"
        },
        {
         "_deepnote_index_column": 81,
         "recordID": 9793088,
         "species_name": "Vulpes lagopus",
         "subspecies_name": "None"
        },
        {
         "_deepnote_index_column": 82,
         "recordID": 9793050,
         "species_name": "Vulpes lagopus",
         "subspecies_name": "None"
        },
        {
         "_deepnote_index_column": 83,
         "recordID": 9793081,
         "species_name": "Vulpes lagopus",
         "subspecies_name": "None"
        },
        {
         "_deepnote_index_column": 84,
         "recordID": 9793075,
         "species_name": "Vulpes lagopus",
         "subspecies_name": "None"
        },
        {
         "_deepnote_index_column": 85,
         "recordID": 9793085,
         "species_name": "Vulpes lagopus",
         "subspecies_name": "None"
        },
        {
         "_deepnote_index_column": 86,
         "recordID": 9793087,
         "species_name": "Vulpes lagopus",
         "subspecies_name": "None"
        },
        {
         "_deepnote_index_column": 87,
         "recordID": 60340,
         "species_name": "Vulpes lagopus",
         "subspecies_name": "None"
        },
        {
         "_deepnote_index_column": 88,
         "recordID": 486938,
         "species_name": "Vulpes lagopus",
         "subspecies_name": "None"
        },
        {
         "_deepnote_index_column": 89,
         "recordID": 9793064,
         "species_name": "Vulpes lagopus",
         "subspecies_name": "None"
        },
        {
         "_deepnote_index_column": 90,
         "recordID": 9793077,
         "species_name": "Vulpes lagopus",
         "subspecies_name": "None"
        },
        {
         "_deepnote_index_column": 91,
         "recordID": 9793089,
         "species_name": "Vulpes lagopus",
         "subspecies_name": "None"
        },
        {
         "_deepnote_index_column": 92,
         "recordID": 9793071,
         "species_name": "Vulpes lagopus",
         "subspecies_name": "None"
        },
        {
         "_deepnote_index_column": 93,
         "recordID": 9793052,
         "species_name": "Vulpes lagopus",
         "subspecies_name": "None"
        },
        {
         "_deepnote_index_column": 94,
         "recordID": 9793069,
         "species_name": "Vulpes lagopus",
         "subspecies_name": "None"
        },
        {
         "_deepnote_index_column": 95,
         "recordID": 9793074,
         "species_name": "Vulpes lagopus",
         "subspecies_name": "None"
        },
        {
         "_deepnote_index_column": 96,
         "recordID": 9793073,
         "species_name": "Vulpes lagopus",
         "subspecies_name": "None"
        },
        {
         "_deepnote_index_column": 97,
         "recordID": 9793076,
         "species_name": "Vulpes lagopus",
         "subspecies_name": "None"
        },
        {
         "_deepnote_index_column": 98,
         "recordID": 9793053,
         "species_name": "Vulpes lagopus",
         "subspecies_name": "None"
        },
        {
         "_deepnote_index_column": 99,
         "recordID": 9793055,
         "species_name": "Vulpes lagopus",
         "subspecies_name": "None"
        }
       ]
      },
      "text/html": [
       "<div>\n",
       "<style scoped>\n",
       "    .dataframe tbody tr th:only-of-type {\n",
       "        vertical-align: middle;\n",
       "    }\n",
       "\n",
       "    .dataframe tbody tr th {\n",
       "        vertical-align: top;\n",
       "    }\n",
       "\n",
       "    .dataframe thead th {\n",
       "        text-align: right;\n",
       "    }\n",
       "</style>\n",
       "<table border=\"1\" class=\"dataframe\">\n",
       "  <thead>\n",
       "    <tr style=\"text-align: right;\">\n",
       "      <th></th>\n",
       "      <th>recordID</th>\n",
       "      <th>species_name</th>\n",
       "      <th>subspecies_name</th>\n",
       "    </tr>\n",
       "  </thead>\n",
       "  <tbody>\n",
       "    <tr>\n",
       "      <th>0</th>\n",
       "      <td>6963578</td>\n",
       "      <td>Vulpes zerda</td>\n",
       "      <td>None</td>\n",
       "    </tr>\n",
       "    <tr>\n",
       "      <th>1</th>\n",
       "      <td>9630467</td>\n",
       "      <td>Vulpes zerda</td>\n",
       "      <td>None</td>\n",
       "    </tr>\n",
       "    <tr>\n",
       "      <th>2</th>\n",
       "      <td>6170884</td>\n",
       "      <td>Vulpes zerda</td>\n",
       "      <td>None</td>\n",
       "    </tr>\n",
       "    <tr>\n",
       "      <th>3</th>\n",
       "      <td>40935</td>\n",
       "      <td>Vulpes vulpes</td>\n",
       "      <td>None</td>\n",
       "    </tr>\n",
       "    <tr>\n",
       "      <th>4</th>\n",
       "      <td>8458416</td>\n",
       "      <td>Vulpes vulpes</td>\n",
       "      <td>None</td>\n",
       "    </tr>\n",
       "    <tr>\n",
       "      <th>...</th>\n",
       "      <td>...</td>\n",
       "      <td>...</td>\n",
       "      <td>...</td>\n",
       "    </tr>\n",
       "    <tr>\n",
       "      <th>95</th>\n",
       "      <td>9793074</td>\n",
       "      <td>Vulpes lagopus</td>\n",
       "      <td>None</td>\n",
       "    </tr>\n",
       "    <tr>\n",
       "      <th>96</th>\n",
       "      <td>9793073</td>\n",
       "      <td>Vulpes lagopus</td>\n",
       "      <td>None</td>\n",
       "    </tr>\n",
       "    <tr>\n",
       "      <th>97</th>\n",
       "      <td>9793076</td>\n",
       "      <td>Vulpes lagopus</td>\n",
       "      <td>None</td>\n",
       "    </tr>\n",
       "    <tr>\n",
       "      <th>98</th>\n",
       "      <td>9793053</td>\n",
       "      <td>Vulpes lagopus</td>\n",
       "      <td>None</td>\n",
       "    </tr>\n",
       "    <tr>\n",
       "      <th>99</th>\n",
       "      <td>9793055</td>\n",
       "      <td>Vulpes lagopus</td>\n",
       "      <td>None</td>\n",
       "    </tr>\n",
       "  </tbody>\n",
       "</table>\n",
       "<p>100 rows × 3 columns</p>\n",
       "</div>"
      ],
      "text/plain": [
       "    recordID    species_name subspecies_name\n",
       "0    6963578    Vulpes zerda            None\n",
       "1    9630467    Vulpes zerda            None\n",
       "2    6170884    Vulpes zerda            None\n",
       "3      40935   Vulpes vulpes            None\n",
       "4    8458416   Vulpes vulpes            None\n",
       "..       ...             ...             ...\n",
       "95   9793074  Vulpes lagopus            None\n",
       "96   9793073  Vulpes lagopus            None\n",
       "97   9793076  Vulpes lagopus            None\n",
       "98   9793053  Vulpes lagopus            None\n",
       "99   9793055  Vulpes lagopus            None\n",
       "\n",
       "[100 rows x 3 columns]"
      ]
     },
     "execution_count": 6,
     "metadata": {},
     "output_type": "execute_result"
    }
   ],
   "source": [
    "speciesOrderSmallerDF = get_data('SELECT recordid, species_name, subspecies_name FROM species ORDER BY species_name DESC LIMIT 100;')\n",
    "speciesOrderSmallerDF"
   ]
  },
  {
   "cell_type": "markdown",
   "metadata": {
    "cell_id": "00017-7956ff26-d4a0-43db-a1db-b34e49e5308f",
    "deepnote_cell_type": "markdown",
    "tags": []
   },
   "source": [
    "### WHERE"
   ]
  },
  {
   "cell_type": "markdown",
   "metadata": {
    "cell_id": "00013-113b284a-fd53-4951-b111-a21e99660a10",
    "deepnote_cell_type": "markdown",
    "tags": []
   },
   "source": [
    "Other keywords can be used to trim the recovered  database. For example \"WHERE\".\n",
    "Let's get just data with subspecies assigned."
   ]
  },
  {
   "cell_type": "code",
   "execution_count": 7,
   "metadata": {
    "cell_id": "00014-70dc649e-e0b3-4aac-93cf-3be2b7a76a39",
    "deepnote_cell_type": "code",
    "deepnote_to_be_reexecuted": false,
    "execution_millis": 44,
    "execution_start": 1638459121927,
    "source_hash": "66aceb03",
    "tags": []
   },
   "outputs": [
    {
     "data": {
      "application/vnd.deepnote.dataframe.v2+json": {
       "column_count": 3,
       "columns": [
        {
         "dtype": "int64",
         "name": "recordID",
         "stats": {
          "histogram": [
           {
            "bin_end": 1540478,
            "bin_start": 504046,
            "count": 12
           },
           {
            "bin_end": 2576910,
            "bin_start": 1540478,
            "count": 0
           },
           {
            "bin_end": 3613342,
            "bin_start": 2576910,
            "count": 102
           },
           {
            "bin_end": 4649774,
            "bin_start": 3613342,
            "count": 1
           },
           {
            "bin_end": 5686206,
            "bin_start": 4649774,
            "count": 15
           },
           {
            "bin_end": 6722638,
            "bin_start": 5686206,
            "count": 159
           },
           {
            "bin_end": 7759070,
            "bin_start": 6722638,
            "count": 4
           },
           {
            "bin_end": 8795502,
            "bin_start": 7759070,
            "count": 0
           },
           {
            "bin_end": 9831934,
            "bin_start": 8795502,
            "count": 4
           },
           {
            "bin_end": 10868366,
            "bin_start": 9831934,
            "count": 1
           }
          ],
          "max": "10868366",
          "min": "504046",
          "nan_count": 0,
          "unique_count": 298
         }
        },
        {
         "dtype": "object",
         "name": "species_name",
         "stats": {
          "categories": [
           {
            "count": 159,
            "name": "Urocyon littoralis"
           },
           {
            "count": 139,
            "name": "Canis lupus"
           }
          ],
          "nan_count": 0,
          "unique_count": 2
         }
        },
        {
         "dtype": "object",
         "name": "subspecies_name",
         "stats": {
          "categories": [
           {
            "count": 130,
            "name": "Canis lupus familiaris"
           },
           {
            "count": 42,
            "name": "Urocyon littoralis santacruzae"
           },
           {
            "count": 126,
            "name": "9 others"
           }
          ],
          "nan_count": 0,
          "unique_count": 11
         }
        },
        {
         "dtype": "int64",
         "name": "_deepnote_index_column"
        }
       ],
       "row_count": 298,
       "rows_bottom": null,
       "rows_top": [
        {
         "_deepnote_index_column": 0,
         "recordID": 9630458,
         "species_name": "Canis lupus",
         "subspecies_name": "Canis lupus chanco"
        },
        {
         "_deepnote_index_column": 1,
         "recordID": 1176624,
         "species_name": "Canis lupus",
         "subspecies_name": "Canis lupus chanco"
        },
        {
         "_deepnote_index_column": 2,
         "recordID": 6959422,
         "species_name": "Canis lupus",
         "subspecies_name": "Canis lupus chanco"
        },
        {
         "_deepnote_index_column": 3,
         "recordID": 3619539,
         "species_name": "Canis lupus",
         "subspecies_name": "Canis lupus desertorum"
        },
        {
         "_deepnote_index_column": 4,
         "recordID": 3599939,
         "species_name": "Canis lupus",
         "subspecies_name": "Canis lupus familiaris"
        },
        {
         "_deepnote_index_column": 5,
         "recordID": 3599875,
         "species_name": "Canis lupus",
         "subspecies_name": "Canis lupus familiaris"
        },
        {
         "_deepnote_index_column": 6,
         "recordID": 3599961,
         "species_name": "Canis lupus",
         "subspecies_name": "Canis lupus familiaris"
        },
        {
         "_deepnote_index_column": 7,
         "recordID": 3599870,
         "species_name": "Canis lupus",
         "subspecies_name": "Canis lupus familiaris"
        },
        {
         "_deepnote_index_column": 8,
         "recordID": 3599954,
         "species_name": "Canis lupus",
         "subspecies_name": "Canis lupus familiaris"
        },
        {
         "_deepnote_index_column": 9,
         "recordID": 3599887,
         "species_name": "Canis lupus",
         "subspecies_name": "Canis lupus familiaris"
        },
        {
         "_deepnote_index_column": 10,
         "recordID": 3599934,
         "species_name": "Canis lupus",
         "subspecies_name": "Canis lupus familiaris"
        },
        {
         "_deepnote_index_column": 11,
         "recordID": 5108255,
         "species_name": "Canis lupus",
         "subspecies_name": "Canis lupus familiaris"
        },
        {
         "_deepnote_index_column": 12,
         "recordID": 3599877,
         "species_name": "Canis lupus",
         "subspecies_name": "Canis lupus familiaris"
        },
        {
         "_deepnote_index_column": 13,
         "recordID": 3599880,
         "species_name": "Canis lupus",
         "subspecies_name": "Canis lupus familiaris"
        },
        {
         "_deepnote_index_column": 14,
         "recordID": 3599897,
         "species_name": "Canis lupus",
         "subspecies_name": "Canis lupus familiaris"
        },
        {
         "_deepnote_index_column": 15,
         "recordID": 3599900,
         "species_name": "Canis lupus",
         "subspecies_name": "Canis lupus familiaris"
        },
        {
         "_deepnote_index_column": 16,
         "recordID": 3599901,
         "species_name": "Canis lupus",
         "subspecies_name": "Canis lupus familiaris"
        },
        {
         "_deepnote_index_column": 17,
         "recordID": 3599904,
         "species_name": "Canis lupus",
         "subspecies_name": "Canis lupus familiaris"
        },
        {
         "_deepnote_index_column": 18,
         "recordID": 5108257,
         "species_name": "Canis lupus",
         "subspecies_name": "Canis lupus familiaris"
        },
        {
         "_deepnote_index_column": 19,
         "recordID": 2942535,
         "species_name": "Canis lupus",
         "subspecies_name": "Canis lupus familiaris"
        },
        {
         "_deepnote_index_column": 20,
         "recordID": 3599869,
         "species_name": "Canis lupus",
         "subspecies_name": "Canis lupus familiaris"
        },
        {
         "_deepnote_index_column": 21,
         "recordID": 3599893,
         "species_name": "Canis lupus",
         "subspecies_name": "Canis lupus familiaris"
        },
        {
         "_deepnote_index_column": 22,
         "recordID": 3599912,
         "species_name": "Canis lupus",
         "subspecies_name": "Canis lupus familiaris"
        },
        {
         "_deepnote_index_column": 23,
         "recordID": 3599916,
         "species_name": "Canis lupus",
         "subspecies_name": "Canis lupus familiaris"
        },
        {
         "_deepnote_index_column": 24,
         "recordID": 3599935,
         "species_name": "Canis lupus",
         "subspecies_name": "Canis lupus familiaris"
        },
        {
         "_deepnote_index_column": 25,
         "recordID": 3599942,
         "species_name": "Canis lupus",
         "subspecies_name": "Canis lupus familiaris"
        },
        {
         "_deepnote_index_column": 26,
         "recordID": 3599951,
         "species_name": "Canis lupus",
         "subspecies_name": "Canis lupus familiaris"
        },
        {
         "_deepnote_index_column": 27,
         "recordID": 3599965,
         "species_name": "Canis lupus",
         "subspecies_name": "Canis lupus familiaris"
        },
        {
         "_deepnote_index_column": 28,
         "recordID": 3599902,
         "species_name": "Canis lupus",
         "subspecies_name": "Canis lupus familiaris"
        },
        {
         "_deepnote_index_column": 29,
         "recordID": 3599941,
         "species_name": "Canis lupus",
         "subspecies_name": "Canis lupus familiaris"
        },
        {
         "_deepnote_index_column": 30,
         "recordID": 3599945,
         "species_name": "Canis lupus",
         "subspecies_name": "Canis lupus familiaris"
        },
        {
         "_deepnote_index_column": 31,
         "recordID": 5108256,
         "species_name": "Canis lupus",
         "subspecies_name": "Canis lupus familiaris"
        },
        {
         "_deepnote_index_column": 32,
         "recordID": 5108284,
         "species_name": "Canis lupus",
         "subspecies_name": "Canis lupus familiaris"
        },
        {
         "_deepnote_index_column": 33,
         "recordID": 504057,
         "species_name": "Canis lupus",
         "subspecies_name": "Canis lupus familiaris"
        },
        {
         "_deepnote_index_column": 34,
         "recordID": 3599964,
         "species_name": "Canis lupus",
         "subspecies_name": "Canis lupus familiaris"
        },
        {
         "_deepnote_index_column": 35,
         "recordID": 3599926,
         "species_name": "Canis lupus",
         "subspecies_name": "Canis lupus familiaris"
        },
        {
         "_deepnote_index_column": 36,
         "recordID": 5108328,
         "species_name": "Canis lupus",
         "subspecies_name": "Canis lupus familiaris"
        },
        {
         "_deepnote_index_column": 37,
         "recordID": 3599871,
         "species_name": "Canis lupus",
         "subspecies_name": "Canis lupus familiaris"
        },
        {
         "_deepnote_index_column": 38,
         "recordID": 3599898,
         "species_name": "Canis lupus",
         "subspecies_name": "Canis lupus familiaris"
        },
        {
         "_deepnote_index_column": 39,
         "recordID": 3599950,
         "species_name": "Canis lupus",
         "subspecies_name": "Canis lupus familiaris"
        },
        {
         "_deepnote_index_column": 40,
         "recordID": 504055,
         "species_name": "Canis lupus",
         "subspecies_name": "Canis lupus familiaris"
        },
        {
         "_deepnote_index_column": 41,
         "recordID": 3599883,
         "species_name": "Canis lupus",
         "subspecies_name": "Canis lupus familiaris"
        },
        {
         "_deepnote_index_column": 42,
         "recordID": 3599888,
         "species_name": "Canis lupus",
         "subspecies_name": "Canis lupus familiaris"
        },
        {
         "_deepnote_index_column": 43,
         "recordID": 3599914,
         "species_name": "Canis lupus",
         "subspecies_name": "Canis lupus familiaris"
        },
        {
         "_deepnote_index_column": 44,
         "recordID": 3599937,
         "species_name": "Canis lupus",
         "subspecies_name": "Canis lupus familiaris"
        },
        {
         "_deepnote_index_column": 45,
         "recordID": 5108263,
         "species_name": "Canis lupus",
         "subspecies_name": "Canis lupus familiaris"
        },
        {
         "_deepnote_index_column": 46,
         "recordID": 504048,
         "species_name": "Canis lupus",
         "subspecies_name": "Canis lupus familiaris"
        },
        {
         "_deepnote_index_column": 47,
         "recordID": 3599925,
         "species_name": "Canis lupus",
         "subspecies_name": "Canis lupus familiaris"
        },
        {
         "_deepnote_index_column": 48,
         "recordID": 3599962,
         "species_name": "Canis lupus",
         "subspecies_name": "Canis lupus familiaris"
        },
        {
         "_deepnote_index_column": 49,
         "recordID": 5108269,
         "species_name": "Canis lupus",
         "subspecies_name": "Canis lupus familiaris"
        },
        {
         "_deepnote_index_column": 50,
         "recordID": 3599868,
         "species_name": "Canis lupus",
         "subspecies_name": "Canis lupus familiaris"
        },
        {
         "_deepnote_index_column": 51,
         "recordID": 3599890,
         "species_name": "Canis lupus",
         "subspecies_name": "Canis lupus familiaris"
        },
        {
         "_deepnote_index_column": 52,
         "recordID": 5108261,
         "species_name": "Canis lupus",
         "subspecies_name": "Canis lupus familiaris"
        },
        {
         "_deepnote_index_column": 53,
         "recordID": 3599918,
         "species_name": "Canis lupus",
         "subspecies_name": "Canis lupus familiaris"
        },
        {
         "_deepnote_index_column": 54,
         "recordID": 5108283,
         "species_name": "Canis lupus",
         "subspecies_name": "Canis lupus familiaris"
        },
        {
         "_deepnote_index_column": 55,
         "recordID": 6958482,
         "species_name": "Canis lupus",
         "subspecies_name": "Canis lupus familiaris"
        },
        {
         "_deepnote_index_column": 56,
         "recordID": 3599876,
         "species_name": "Canis lupus",
         "subspecies_name": "Canis lupus familiaris"
        },
        {
         "_deepnote_index_column": 57,
         "recordID": 3599881,
         "species_name": "Canis lupus",
         "subspecies_name": "Canis lupus familiaris"
        },
        {
         "_deepnote_index_column": 58,
         "recordID": 3599913,
         "species_name": "Canis lupus",
         "subspecies_name": "Canis lupus familiaris"
        },
        {
         "_deepnote_index_column": 59,
         "recordID": 3599929,
         "species_name": "Canis lupus",
         "subspecies_name": "Canis lupus familiaris"
        },
        {
         "_deepnote_index_column": 60,
         "recordID": 3599938,
         "species_name": "Canis lupus",
         "subspecies_name": "Canis lupus familiaris"
        },
        {
         "_deepnote_index_column": 61,
         "recordID": 504047,
         "species_name": "Canis lupus",
         "subspecies_name": "Canis lupus familiaris"
        },
        {
         "_deepnote_index_column": 62,
         "recordID": 3599872,
         "species_name": "Canis lupus",
         "subspecies_name": "Canis lupus familiaris"
        },
        {
         "_deepnote_index_column": 63,
         "recordID": 3599886,
         "species_name": "Canis lupus",
         "subspecies_name": "Canis lupus familiaris"
        },
        {
         "_deepnote_index_column": 64,
         "recordID": 3599899,
         "species_name": "Canis lupus",
         "subspecies_name": "Canis lupus familiaris"
        },
        {
         "_deepnote_index_column": 65,
         "recordID": 3599915,
         "species_name": "Canis lupus",
         "subspecies_name": "Canis lupus familiaris"
        },
        {
         "_deepnote_index_column": 66,
         "recordID": 504050,
         "species_name": "Canis lupus",
         "subspecies_name": "Canis lupus familiaris"
        },
        {
         "_deepnote_index_column": 67,
         "recordID": 3599908,
         "species_name": "Canis lupus",
         "subspecies_name": "Canis lupus familiaris"
        },
        {
         "_deepnote_index_column": 68,
         "recordID": 3599956,
         "species_name": "Canis lupus",
         "subspecies_name": "Canis lupus familiaris"
        },
        {
         "_deepnote_index_column": 69,
         "recordID": 3599879,
         "species_name": "Canis lupus",
         "subspecies_name": "Canis lupus familiaris"
        },
        {
         "_deepnote_index_column": 70,
         "recordID": 3599889,
         "species_name": "Canis lupus",
         "subspecies_name": "Canis lupus familiaris"
        },
        {
         "_deepnote_index_column": 71,
         "recordID": 3599895,
         "species_name": "Canis lupus",
         "subspecies_name": "Canis lupus familiaris"
        },
        {
         "_deepnote_index_column": 72,
         "recordID": 3599919,
         "species_name": "Canis lupus",
         "subspecies_name": "Canis lupus familiaris"
        },
        {
         "_deepnote_index_column": 73,
         "recordID": 3599931,
         "species_name": "Canis lupus",
         "subspecies_name": "Canis lupus familiaris"
        },
        {
         "_deepnote_index_column": 74,
         "recordID": 3599958,
         "species_name": "Canis lupus",
         "subspecies_name": "Canis lupus familiaris"
        },
        {
         "_deepnote_index_column": 75,
         "recordID": 3599878,
         "species_name": "Canis lupus",
         "subspecies_name": "Canis lupus familiaris"
        },
        {
         "_deepnote_index_column": 76,
         "recordID": 3599891,
         "species_name": "Canis lupus",
         "subspecies_name": "Canis lupus familiaris"
        },
        {
         "_deepnote_index_column": 77,
         "recordID": 3599944,
         "species_name": "Canis lupus",
         "subspecies_name": "Canis lupus familiaris"
        },
        {
         "_deepnote_index_column": 78,
         "recordID": 3599947,
         "species_name": "Canis lupus",
         "subspecies_name": "Canis lupus familiaris"
        },
        {
         "_deepnote_index_column": 79,
         "recordID": 504046,
         "species_name": "Canis lupus",
         "subspecies_name": "Canis lupus familiaris"
        },
        {
         "_deepnote_index_column": 80,
         "recordID": 3599894,
         "species_name": "Canis lupus",
         "subspecies_name": "Canis lupus familiaris"
        },
        {
         "_deepnote_index_column": 81,
         "recordID": 3599911,
         "species_name": "Canis lupus",
         "subspecies_name": "Canis lupus familiaris"
        },
        {
         "_deepnote_index_column": 82,
         "recordID": 3599920,
         "species_name": "Canis lupus",
         "subspecies_name": "Canis lupus familiaris"
        },
        {
         "_deepnote_index_column": 83,
         "recordID": 3599955,
         "species_name": "Canis lupus",
         "subspecies_name": "Canis lupus familiaris"
        },
        {
         "_deepnote_index_column": 84,
         "recordID": 3599907,
         "species_name": "Canis lupus",
         "subspecies_name": "Canis lupus familiaris"
        },
        {
         "_deepnote_index_column": 85,
         "recordID": 5108259,
         "species_name": "Canis lupus",
         "subspecies_name": "Canis lupus familiaris"
        },
        {
         "_deepnote_index_column": 86,
         "recordID": 5108266,
         "species_name": "Canis lupus",
         "subspecies_name": "Canis lupus familiaris"
        },
        {
         "_deepnote_index_column": 87,
         "recordID": 5109892,
         "species_name": "Canis lupus",
         "subspecies_name": "Canis lupus familiaris"
        },
        {
         "_deepnote_index_column": 88,
         "recordID": 3599923,
         "species_name": "Canis lupus",
         "subspecies_name": "Canis lupus familiaris"
        },
        {
         "_deepnote_index_column": 89,
         "recordID": 3599930,
         "species_name": "Canis lupus",
         "subspecies_name": "Canis lupus familiaris"
        },
        {
         "_deepnote_index_column": 90,
         "recordID": 3599959,
         "species_name": "Canis lupus",
         "subspecies_name": "Canis lupus familiaris"
        },
        {
         "_deepnote_index_column": 91,
         "recordID": 3599884,
         "species_name": "Canis lupus",
         "subspecies_name": "Canis lupus familiaris"
        },
        {
         "_deepnote_index_column": 92,
         "recordID": 3599903,
         "species_name": "Canis lupus",
         "subspecies_name": "Canis lupus familiaris"
        },
        {
         "_deepnote_index_column": 93,
         "recordID": 3599910,
         "species_name": "Canis lupus",
         "subspecies_name": "Canis lupus familiaris"
        },
        {
         "_deepnote_index_column": 94,
         "recordID": 3599936,
         "species_name": "Canis lupus",
         "subspecies_name": "Canis lupus familiaris"
        },
        {
         "_deepnote_index_column": 95,
         "recordID": 3599940,
         "species_name": "Canis lupus",
         "subspecies_name": "Canis lupus familiaris"
        },
        {
         "_deepnote_index_column": 96,
         "recordID": 3599952,
         "species_name": "Canis lupus",
         "subspecies_name": "Canis lupus familiaris"
        },
        {
         "_deepnote_index_column": 97,
         "recordID": 3599960,
         "species_name": "Canis lupus",
         "subspecies_name": "Canis lupus familiaris"
        },
        {
         "_deepnote_index_column": 98,
         "recordID": 2942529,
         "species_name": "Canis lupus",
         "subspecies_name": "Canis lupus familiaris"
        },
        {
         "_deepnote_index_column": 99,
         "recordID": 3599896,
         "species_name": "Canis lupus",
         "subspecies_name": "Canis lupus familiaris"
        },
        {
         "_deepnote_index_column": 100,
         "recordID": 3599927,
         "species_name": "Canis lupus",
         "subspecies_name": "Canis lupus familiaris"
        },
        {
         "_deepnote_index_column": 101,
         "recordID": 3599943,
         "species_name": "Canis lupus",
         "subspecies_name": "Canis lupus familiaris"
        },
        {
         "_deepnote_index_column": 102,
         "recordID": 3599957,
         "species_name": "Canis lupus",
         "subspecies_name": "Canis lupus familiaris"
        },
        {
         "_deepnote_index_column": 103,
         "recordID": 504058,
         "species_name": "Canis lupus",
         "subspecies_name": "Canis lupus familiaris"
        },
        {
         "_deepnote_index_column": 104,
         "recordID": 1525996,
         "species_name": "Canis lupus",
         "subspecies_name": "Canis lupus familiaris"
        },
        {
         "_deepnote_index_column": 105,
         "recordID": 3599924,
         "species_name": "Canis lupus",
         "subspecies_name": "Canis lupus familiaris"
        },
        {
         "_deepnote_index_column": 106,
         "recordID": 3599946,
         "species_name": "Canis lupus",
         "subspecies_name": "Canis lupus familiaris"
        },
        {
         "_deepnote_index_column": 107,
         "recordID": 3609565,
         "species_name": "Canis lupus",
         "subspecies_name": "Canis lupus familiaris"
        },
        {
         "_deepnote_index_column": 108,
         "recordID": 5110103,
         "species_name": "Canis lupus",
         "subspecies_name": "Canis lupus familiaris"
        },
        {
         "_deepnote_index_column": 109,
         "recordID": 3599874,
         "species_name": "Canis lupus",
         "subspecies_name": "Canis lupus familiaris"
        },
        {
         "_deepnote_index_column": 110,
         "recordID": 3599917,
         "species_name": "Canis lupus",
         "subspecies_name": "Canis lupus familiaris"
        },
        {
         "_deepnote_index_column": 111,
         "recordID": 3599932,
         "species_name": "Canis lupus",
         "subspecies_name": "Canis lupus familiaris"
        },
        {
         "_deepnote_index_column": 112,
         "recordID": 504059,
         "species_name": "Canis lupus",
         "subspecies_name": "Canis lupus familiaris"
        },
        {
         "_deepnote_index_column": 113,
         "recordID": 3599882,
         "species_name": "Canis lupus",
         "subspecies_name": "Canis lupus familiaris"
        },
        {
         "_deepnote_index_column": 114,
         "recordID": 3599933,
         "species_name": "Canis lupus",
         "subspecies_name": "Canis lupus familiaris"
        },
        {
         "_deepnote_index_column": 115,
         "recordID": 3599948,
         "species_name": "Canis lupus",
         "subspecies_name": "Canis lupus familiaris"
        },
        {
         "_deepnote_index_column": 116,
         "recordID": 3599906,
         "species_name": "Canis lupus",
         "subspecies_name": "Canis lupus familiaris"
        },
        {
         "_deepnote_index_column": 117,
         "recordID": 3599909,
         "species_name": "Canis lupus",
         "subspecies_name": "Canis lupus familiaris"
        },
        {
         "_deepnote_index_column": 118,
         "recordID": 3599949,
         "species_name": "Canis lupus",
         "subspecies_name": "Canis lupus familiaris"
        },
        {
         "_deepnote_index_column": 119,
         "recordID": 9634260,
         "species_name": "Canis lupus",
         "subspecies_name": "Canis lupus familiaris"
        },
        {
         "_deepnote_index_column": 120,
         "recordID": 504049,
         "species_name": "Canis lupus",
         "subspecies_name": "Canis lupus familiaris"
        },
        {
         "_deepnote_index_column": 121,
         "recordID": 1525997,
         "species_name": "Canis lupus",
         "subspecies_name": "Canis lupus familiaris"
        },
        {
         "_deepnote_index_column": 122,
         "recordID": 3599892,
         "species_name": "Canis lupus",
         "subspecies_name": "Canis lupus familiaris"
        },
        {
         "_deepnote_index_column": 123,
         "recordID": 3599922,
         "species_name": "Canis lupus",
         "subspecies_name": "Canis lupus familiaris"
        },
        {
         "_deepnote_index_column": 124,
         "recordID": 3599867,
         "species_name": "Canis lupus",
         "subspecies_name": "Canis lupus familiaris"
        },
        {
         "_deepnote_index_column": 125,
         "recordID": 3599905,
         "species_name": "Canis lupus",
         "subspecies_name": "Canis lupus familiaris"
        },
        {
         "_deepnote_index_column": 126,
         "recordID": 3599963,
         "species_name": "Canis lupus",
         "subspecies_name": "Canis lupus familiaris"
        },
        {
         "_deepnote_index_column": 127,
         "recordID": 3599953,
         "species_name": "Canis lupus",
         "subspecies_name": "Canis lupus familiaris"
        },
        {
         "_deepnote_index_column": 128,
         "recordID": 5108242,
         "species_name": "Canis lupus",
         "subspecies_name": "Canis lupus familiaris"
        },
        {
         "_deepnote_index_column": 129,
         "recordID": 5108264,
         "species_name": "Canis lupus",
         "subspecies_name": "Canis lupus familiaris"
        },
        {
         "_deepnote_index_column": 130,
         "recordID": 3599873,
         "species_name": "Canis lupus",
         "subspecies_name": "Canis lupus familiaris"
        },
        {
         "_deepnote_index_column": 131,
         "recordID": 3599885,
         "species_name": "Canis lupus",
         "subspecies_name": "Canis lupus familiaris"
        },
        {
         "_deepnote_index_column": 132,
         "recordID": 3599921,
         "species_name": "Canis lupus",
         "subspecies_name": "Canis lupus familiaris"
        },
        {
         "_deepnote_index_column": 133,
         "recordID": 3599928,
         "species_name": "Canis lupus",
         "subspecies_name": "Canis lupus familiaris"
        },
        {
         "_deepnote_index_column": 134,
         "recordID": 6959685,
         "species_name": "Canis lupus",
         "subspecies_name": "Canis lupus laniger"
        },
        {
         "_deepnote_index_column": 135,
         "recordID": 9630459,
         "species_name": "Canis lupus",
         "subspecies_name": "Canis lupus laniger"
        },
        {
         "_deepnote_index_column": 136,
         "recordID": 10868366,
         "species_name": "Canis lupus",
         "subspecies_name": "Canis lupus lupus"
        },
        {
         "_deepnote_index_column": 137,
         "recordID": 9630457,
         "species_name": "Canis lupus",
         "subspecies_name": "Canis lupus lupus"
        },
        {
         "_deepnote_index_column": 138,
         "recordID": 6959696,
         "species_name": "Canis lupus",
         "subspecies_name": "Canis lupus lupus"
        },
        {
         "_deepnote_index_column": 139,
         "recordID": 6170726,
         "species_name": "Urocyon littoralis",
         "subspecies_name": "Urocyon littoralis catalinae"
        },
        {
         "_deepnote_index_column": 140,
         "recordID": 6170751,
         "species_name": "Urocyon littoralis",
         "subspecies_name": "Urocyon littoralis catalinae"
        },
        {
         "_deepnote_index_column": 141,
         "recordID": 6170736,
         "species_name": "Urocyon littoralis",
         "subspecies_name": "Urocyon littoralis catalinae"
        },
        {
         "_deepnote_index_column": 142,
         "recordID": 6170739,
         "species_name": "Urocyon littoralis",
         "subspecies_name": "Urocyon littoralis catalinae"
        },
        {
         "_deepnote_index_column": 143,
         "recordID": 6170743,
         "species_name": "Urocyon littoralis",
         "subspecies_name": "Urocyon littoralis catalinae"
        },
        {
         "_deepnote_index_column": 144,
         "recordID": 6170732,
         "species_name": "Urocyon littoralis",
         "subspecies_name": "Urocyon littoralis catalinae"
        },
        {
         "_deepnote_index_column": 145,
         "recordID": 6170738,
         "species_name": "Urocyon littoralis",
         "subspecies_name": "Urocyon littoralis catalinae"
        },
        {
         "_deepnote_index_column": 146,
         "recordID": 6170719,
         "species_name": "Urocyon littoralis",
         "subspecies_name": "Urocyon littoralis catalinae"
        },
        {
         "_deepnote_index_column": 147,
         "recordID": 6170737,
         "species_name": "Urocyon littoralis",
         "subspecies_name": "Urocyon littoralis catalinae"
        },
        {
         "_deepnote_index_column": 148,
         "recordID": 6170747,
         "species_name": "Urocyon littoralis",
         "subspecies_name": "Urocyon littoralis catalinae"
        },
        {
         "_deepnote_index_column": 149,
         "recordID": 6170718,
         "species_name": "Urocyon littoralis",
         "subspecies_name": "Urocyon littoralis catalinae"
        },
        {
         "_deepnote_index_column": 150,
         "recordID": 6170746,
         "species_name": "Urocyon littoralis",
         "subspecies_name": "Urocyon littoralis catalinae"
        },
        {
         "_deepnote_index_column": 151,
         "recordID": 6170749,
         "species_name": "Urocyon littoralis",
         "subspecies_name": "Urocyon littoralis catalinae"
        },
        {
         "_deepnote_index_column": 152,
         "recordID": 6170724,
         "species_name": "Urocyon littoralis",
         "subspecies_name": "Urocyon littoralis catalinae"
        },
        {
         "_deepnote_index_column": 153,
         "recordID": 6170713,
         "species_name": "Urocyon littoralis",
         "subspecies_name": "Urocyon littoralis catalinae"
        },
        {
         "_deepnote_index_column": 154,
         "recordID": 6170731,
         "species_name": "Urocyon littoralis",
         "subspecies_name": "Urocyon littoralis catalinae"
        },
        {
         "_deepnote_index_column": 155,
         "recordID": 6170750,
         "species_name": "Urocyon littoralis",
         "subspecies_name": "Urocyon littoralis catalinae"
        },
        {
         "_deepnote_index_column": 156,
         "recordID": 6170748,
         "species_name": "Urocyon littoralis",
         "subspecies_name": "Urocyon littoralis catalinae"
        },
        {
         "_deepnote_index_column": 157,
         "recordID": 6170729,
         "species_name": "Urocyon littoralis",
         "subspecies_name": "Urocyon littoralis catalinae"
        },
        {
         "_deepnote_index_column": 158,
         "recordID": 6170717,
         "species_name": "Urocyon littoralis",
         "subspecies_name": "Urocyon littoralis catalinae"
        },
        {
         "_deepnote_index_column": 159,
         "recordID": 6170716,
         "species_name": "Urocyon littoralis",
         "subspecies_name": "Urocyon littoralis catalinae"
        },
        {
         "_deepnote_index_column": 160,
         "recordID": 6170742,
         "species_name": "Urocyon littoralis",
         "subspecies_name": "Urocyon littoralis catalinae"
        },
        {
         "_deepnote_index_column": 161,
         "recordID": 6170721,
         "species_name": "Urocyon littoralis",
         "subspecies_name": "Urocyon littoralis catalinae"
        },
        {
         "_deepnote_index_column": 162,
         "recordID": 6170740,
         "species_name": "Urocyon littoralis",
         "subspecies_name": "Urocyon littoralis catalinae"
        },
        {
         "_deepnote_index_column": 163,
         "recordID": 6170752,
         "species_name": "Urocyon littoralis",
         "subspecies_name": "Urocyon littoralis catalinae"
        },
        {
         "_deepnote_index_column": 164,
         "recordID": 6170727,
         "species_name": "Urocyon littoralis",
         "subspecies_name": "Urocyon littoralis catalinae"
        },
        {
         "_deepnote_index_column": 165,
         "recordID": 6170753,
         "species_name": "Urocyon littoralis",
         "subspecies_name": "Urocyon littoralis catalinae"
        },
        {
         "_deepnote_index_column": 166,
         "recordID": 6170725,
         "species_name": "Urocyon littoralis",
         "subspecies_name": "Urocyon littoralis catalinae"
        },
        {
         "_deepnote_index_column": 167,
         "recordID": 6170735,
         "species_name": "Urocyon littoralis",
         "subspecies_name": "Urocyon littoralis catalinae"
        },
        {
         "_deepnote_index_column": 168,
         "recordID": 6170714,
         "species_name": "Urocyon littoralis",
         "subspecies_name": "Urocyon littoralis catalinae"
        },
        {
         "_deepnote_index_column": 169,
         "recordID": 6170720,
         "species_name": "Urocyon littoralis",
         "subspecies_name": "Urocyon littoralis catalinae"
        },
        {
         "_deepnote_index_column": 170,
         "recordID": 6170723,
         "species_name": "Urocyon littoralis",
         "subspecies_name": "Urocyon littoralis catalinae"
        },
        {
         "_deepnote_index_column": 171,
         "recordID": 6170715,
         "species_name": "Urocyon littoralis",
         "subspecies_name": "Urocyon littoralis catalinae"
        },
        {
         "_deepnote_index_column": 172,
         "recordID": 6170744,
         "species_name": "Urocyon littoralis",
         "subspecies_name": "Urocyon littoralis catalinae"
        },
        {
         "_deepnote_index_column": 173,
         "recordID": 6170733,
         "species_name": "Urocyon littoralis",
         "subspecies_name": "Urocyon littoralis catalinae"
        },
        {
         "_deepnote_index_column": 174,
         "recordID": 6170734,
         "species_name": "Urocyon littoralis",
         "subspecies_name": "Urocyon littoralis catalinae"
        },
        {
         "_deepnote_index_column": 175,
         "recordID": 6170745,
         "species_name": "Urocyon littoralis",
         "subspecies_name": "Urocyon littoralis catalinae"
        },
        {
         "_deepnote_index_column": 176,
         "recordID": 6170722,
         "species_name": "Urocyon littoralis",
         "subspecies_name": "Urocyon littoralis catalinae"
        },
        {
         "_deepnote_index_column": 177,
         "recordID": 6170730,
         "species_name": "Urocyon littoralis",
         "subspecies_name": "Urocyon littoralis catalinae"
        },
        {
         "_deepnote_index_column": 178,
         "recordID": 6170741,
         "species_name": "Urocyon littoralis",
         "subspecies_name": "Urocyon littoralis catalinae"
        },
        {
         "_deepnote_index_column": 179,
         "recordID": 6170728,
         "species_name": "Urocyon littoralis",
         "subspecies_name": "Urocyon littoralis catalinae"
        },
        {
         "_deepnote_index_column": 180,
         "recordID": 6170758,
         "species_name": "Urocyon littoralis",
         "subspecies_name": "Urocyon littoralis clementae"
        },
        {
         "_deepnote_index_column": 181,
         "recordID": 6170765,
         "species_name": "Urocyon littoralis",
         "subspecies_name": "Urocyon littoralis clementae"
        },
        {
         "_deepnote_index_column": 182,
         "recordID": 6170773,
         "species_name": "Urocyon littoralis",
         "subspecies_name": "Urocyon littoralis clementae"
        },
        {
         "_deepnote_index_column": 183,
         "recordID": 6170777,
         "species_name": "Urocyon littoralis",
         "subspecies_name": "Urocyon littoralis clementae"
        },
        {
         "_deepnote_index_column": 184,
         "recordID": 6170778,
         "species_name": "Urocyon littoralis",
         "subspecies_name": "Urocyon littoralis clementae"
        },
        {
         "_deepnote_index_column": 185,
         "recordID": 6170762,
         "species_name": "Urocyon littoralis",
         "subspecies_name": "Urocyon littoralis clementae"
        },
        {
         "_deepnote_index_column": 186,
         "recordID": 6170784,
         "species_name": "Urocyon littoralis",
         "subspecies_name": "Urocyon littoralis clementae"
        },
        {
         "_deepnote_index_column": 187,
         "recordID": 6170771,
         "species_name": "Urocyon littoralis",
         "subspecies_name": "Urocyon littoralis clementae"
        },
        {
         "_deepnote_index_column": 188,
         "recordID": 6170772,
         "species_name": "Urocyon littoralis",
         "subspecies_name": "Urocyon littoralis clementae"
        },
        {
         "_deepnote_index_column": 189,
         "recordID": 6170755,
         "species_name": "Urocyon littoralis",
         "subspecies_name": "Urocyon littoralis clementae"
        },
        {
         "_deepnote_index_column": 190,
         "recordID": 6170783,
         "species_name": "Urocyon littoralis",
         "subspecies_name": "Urocyon littoralis clementae"
        },
        {
         "_deepnote_index_column": 191,
         "recordID": 6170761,
         "species_name": "Urocyon littoralis",
         "subspecies_name": "Urocyon littoralis clementae"
        },
        {
         "_deepnote_index_column": 192,
         "recordID": 6170775,
         "species_name": "Urocyon littoralis",
         "subspecies_name": "Urocyon littoralis clementae"
        },
        {
         "_deepnote_index_column": 193,
         "recordID": 6170780,
         "species_name": "Urocyon littoralis",
         "subspecies_name": "Urocyon littoralis clementae"
        },
        {
         "_deepnote_index_column": 194,
         "recordID": 6170756,
         "species_name": "Urocyon littoralis",
         "subspecies_name": "Urocyon littoralis clementae"
        },
        {
         "_deepnote_index_column": 195,
         "recordID": 6170764,
         "species_name": "Urocyon littoralis",
         "subspecies_name": "Urocyon littoralis clementae"
        },
        {
         "_deepnote_index_column": 196,
         "recordID": 6170759,
         "species_name": "Urocyon littoralis",
         "subspecies_name": "Urocyon littoralis clementae"
        },
        {
         "_deepnote_index_column": 197,
         "recordID": 6170760,
         "species_name": "Urocyon littoralis",
         "subspecies_name": "Urocyon littoralis clementae"
        },
        {
         "_deepnote_index_column": 198,
         "recordID": 6170767,
         "species_name": "Urocyon littoralis",
         "subspecies_name": "Urocyon littoralis clementae"
        },
        {
         "_deepnote_index_column": 199,
         "recordID": 6170776,
         "species_name": "Urocyon littoralis",
         "subspecies_name": "Urocyon littoralis clementae"
        },
        {
         "_deepnote_index_column": 200,
         "recordID": 6170779,
         "species_name": "Urocyon littoralis",
         "subspecies_name": "Urocyon littoralis clementae"
        },
        {
         "_deepnote_index_column": 201,
         "recordID": 6170770,
         "species_name": "Urocyon littoralis",
         "subspecies_name": "Urocyon littoralis clementae"
        },
        {
         "_deepnote_index_column": 202,
         "recordID": 6170781,
         "species_name": "Urocyon littoralis",
         "subspecies_name": "Urocyon littoralis clementae"
        },
        {
         "_deepnote_index_column": 203,
         "recordID": 6170785,
         "species_name": "Urocyon littoralis",
         "subspecies_name": "Urocyon littoralis clementae"
        },
        {
         "_deepnote_index_column": 204,
         "recordID": 6170763,
         "species_name": "Urocyon littoralis",
         "subspecies_name": "Urocyon littoralis clementae"
        },
        {
         "_deepnote_index_column": 205,
         "recordID": 6170766,
         "species_name": "Urocyon littoralis",
         "subspecies_name": "Urocyon littoralis clementae"
        },
        {
         "_deepnote_index_column": 206,
         "recordID": 6170786,
         "species_name": "Urocyon littoralis",
         "subspecies_name": "Urocyon littoralis clementae"
        },
        {
         "_deepnote_index_column": 207,
         "recordID": 6170769,
         "species_name": "Urocyon littoralis",
         "subspecies_name": "Urocyon littoralis clementae"
        },
        {
         "_deepnote_index_column": 208,
         "recordID": 6170782,
         "species_name": "Urocyon littoralis",
         "subspecies_name": "Urocyon littoralis clementae"
        },
        {
         "_deepnote_index_column": 209,
         "recordID": 6170768,
         "species_name": "Urocyon littoralis",
         "subspecies_name": "Urocyon littoralis clementae"
        },
        {
         "_deepnote_index_column": 210,
         "recordID": 6170757,
         "species_name": "Urocyon littoralis",
         "subspecies_name": "Urocyon littoralis clementae"
        },
        {
         "_deepnote_index_column": 211,
         "recordID": 6170774,
         "species_name": "Urocyon littoralis",
         "subspecies_name": "Urocyon littoralis clementae"
        },
        {
         "_deepnote_index_column": 212,
         "recordID": 6170754,
         "species_name": "Urocyon littoralis",
         "subspecies_name": "Urocyon littoralis clementae"
        },
        {
         "_deepnote_index_column": 213,
         "recordID": 6170794,
         "species_name": "Urocyon littoralis",
         "subspecies_name": "Urocyon littoralis dickeyi"
        },
        {
         "_deepnote_index_column": 214,
         "recordID": 6170793,
         "species_name": "Urocyon littoralis",
         "subspecies_name": "Urocyon littoralis dickeyi"
        },
        {
         "_deepnote_index_column": 215,
         "recordID": 6170787,
         "species_name": "Urocyon littoralis",
         "subspecies_name": "Urocyon littoralis dickeyi"
        },
        {
         "_deepnote_index_column": 216,
         "recordID": 6170788,
         "species_name": "Urocyon littoralis",
         "subspecies_name": "Urocyon littoralis dickeyi"
        },
        {
         "_deepnote_index_column": 217,
         "recordID": 6170790,
         "species_name": "Urocyon littoralis",
         "subspecies_name": "Urocyon littoralis dickeyi"
        },
        {
         "_deepnote_index_column": 218,
         "recordID": 6170792,
         "species_name": "Urocyon littoralis",
         "subspecies_name": "Urocyon littoralis dickeyi"
        },
        {
         "_deepnote_index_column": 219,
         "recordID": 6170791,
         "species_name": "Urocyon littoralis",
         "subspecies_name": "Urocyon littoralis dickeyi"
        },
        {
         "_deepnote_index_column": 220,
         "recordID": 6170796,
         "species_name": "Urocyon littoralis",
         "subspecies_name": "Urocyon littoralis dickeyi"
        },
        {
         "_deepnote_index_column": 221,
         "recordID": 6170789,
         "species_name": "Urocyon littoralis",
         "subspecies_name": "Urocyon littoralis dickeyi"
        },
        {
         "_deepnote_index_column": 222,
         "recordID": 6170795,
         "species_name": "Urocyon littoralis",
         "subspecies_name": "Urocyon littoralis dickeyi"
        },
        {
         "_deepnote_index_column": 223,
         "recordID": 6170799,
         "species_name": "Urocyon littoralis",
         "subspecies_name": "Urocyon littoralis littoralis"
        },
        {
         "_deepnote_index_column": 224,
         "recordID": 6170808,
         "species_name": "Urocyon littoralis",
         "subspecies_name": "Urocyon littoralis littoralis"
        },
        {
         "_deepnote_index_column": 225,
         "recordID": 6170813,
         "species_name": "Urocyon littoralis",
         "subspecies_name": "Urocyon littoralis littoralis"
        },
        {
         "_deepnote_index_column": 226,
         "recordID": 6170814,
         "species_name": "Urocyon littoralis",
         "subspecies_name": "Urocyon littoralis littoralis"
        },
        {
         "_deepnote_index_column": 227,
         "recordID": 6170815,
         "species_name": "Urocyon littoralis",
         "subspecies_name": "Urocyon littoralis littoralis"
        },
        {
         "_deepnote_index_column": 228,
         "recordID": 6170819,
         "species_name": "Urocyon littoralis",
         "subspecies_name": "Urocyon littoralis littoralis"
        },
        {
         "_deepnote_index_column": 229,
         "recordID": 6170798,
         "species_name": "Urocyon littoralis",
         "subspecies_name": "Urocyon littoralis littoralis"
        },
        {
         "_deepnote_index_column": 230,
         "recordID": 6170803,
         "species_name": "Urocyon littoralis",
         "subspecies_name": "Urocyon littoralis littoralis"
        },
        {
         "_deepnote_index_column": 231,
         "recordID": 6170818,
         "species_name": "Urocyon littoralis",
         "subspecies_name": "Urocyon littoralis littoralis"
        },
        {
         "_deepnote_index_column": 232,
         "recordID": 6170816,
         "species_name": "Urocyon littoralis",
         "subspecies_name": "Urocyon littoralis littoralis"
        },
        {
         "_deepnote_index_column": 233,
         "recordID": 6170802,
         "species_name": "Urocyon littoralis",
         "subspecies_name": "Urocyon littoralis littoralis"
        },
        {
         "_deepnote_index_column": 234,
         "recordID": 6170800,
         "species_name": "Urocyon littoralis",
         "subspecies_name": "Urocyon littoralis littoralis"
        },
        {
         "_deepnote_index_column": 235,
         "recordID": 6170817,
         "species_name": "Urocyon littoralis",
         "subspecies_name": "Urocyon littoralis littoralis"
        },
        {
         "_deepnote_index_column": 236,
         "recordID": 6170809,
         "species_name": "Urocyon littoralis",
         "subspecies_name": "Urocyon littoralis littoralis"
        },
        {
         "_deepnote_index_column": 237,
         "recordID": 6170810,
         "species_name": "Urocyon littoralis",
         "subspecies_name": "Urocyon littoralis littoralis"
        },
        {
         "_deepnote_index_column": 238,
         "recordID": 6170805,
         "species_name": "Urocyon littoralis",
         "subspecies_name": "Urocyon littoralis littoralis"
        },
        {
         "_deepnote_index_column": 239,
         "recordID": 6170811,
         "species_name": "Urocyon littoralis",
         "subspecies_name": "Urocyon littoralis littoralis"
        },
        {
         "_deepnote_index_column": 240,
         "recordID": 6170804,
         "species_name": "Urocyon littoralis",
         "subspecies_name": "Urocyon littoralis littoralis"
        },
        {
         "_deepnote_index_column": 241,
         "recordID": 6170820,
         "species_name": "Urocyon littoralis",
         "subspecies_name": "Urocyon littoralis littoralis"
        },
        {
         "_deepnote_index_column": 242,
         "recordID": 6170806,
         "species_name": "Urocyon littoralis",
         "subspecies_name": "Urocyon littoralis littoralis"
        },
        {
         "_deepnote_index_column": 243,
         "recordID": 6170807,
         "species_name": "Urocyon littoralis",
         "subspecies_name": "Urocyon littoralis littoralis"
        },
        {
         "_deepnote_index_column": 244,
         "recordID": 6170797,
         "species_name": "Urocyon littoralis",
         "subspecies_name": "Urocyon littoralis littoralis"
        },
        {
         "_deepnote_index_column": 245,
         "recordID": 6170801,
         "species_name": "Urocyon littoralis",
         "subspecies_name": "Urocyon littoralis littoralis"
        },
        {
         "_deepnote_index_column": 246,
         "recordID": 6170812,
         "species_name": "Urocyon littoralis",
         "subspecies_name": "Urocyon littoralis littoralis"
        },
        {
         "_deepnote_index_column": 247,
         "recordID": 6170826,
         "species_name": "Urocyon littoralis",
         "subspecies_name": "Urocyon littoralis santacruzae"
        },
        {
         "_deepnote_index_column": 248,
         "recordID": 6170841,
         "species_name": "Urocyon littoralis",
         "subspecies_name": "Urocyon littoralis santacruzae"
        },
        {
         "_deepnote_index_column": 249,
         "recordID": 6170831,
         "species_name": "Urocyon littoralis",
         "subspecies_name": "Urocyon littoralis santacruzae"
        },
        {
         "_deepnote_index_column": 250,
         "recordID": 6170827,
         "species_name": "Urocyon littoralis",
         "subspecies_name": "Urocyon littoralis santacruzae"
        },
        {
         "_deepnote_index_column": 251,
         "recordID": 6170832,
         "species_name": "Urocyon littoralis",
         "subspecies_name": "Urocyon littoralis santacruzae"
        },
        {
         "_deepnote_index_column": 252,
         "recordID": 6170845,
         "species_name": "Urocyon littoralis",
         "subspecies_name": "Urocyon littoralis santacruzae"
        },
        {
         "_deepnote_index_column": 253,
         "recordID": 6170858,
         "species_name": "Urocyon littoralis",
         "subspecies_name": "Urocyon littoralis santacruzae"
        },
        {
         "_deepnote_index_column": 254,
         "recordID": 6170861,
         "species_name": "Urocyon littoralis",
         "subspecies_name": "Urocyon littoralis santacruzae"
        },
        {
         "_deepnote_index_column": 255,
         "recordID": 6170823,
         "species_name": "Urocyon littoralis",
         "subspecies_name": "Urocyon littoralis santacruzae"
        },
        {
         "_deepnote_index_column": 256,
         "recordID": 6170840,
         "species_name": "Urocyon littoralis",
         "subspecies_name": "Urocyon littoralis santacruzae"
        },
        {
         "_deepnote_index_column": 257,
         "recordID": 6170829,
         "species_name": "Urocyon littoralis",
         "subspecies_name": "Urocyon littoralis santacruzae"
        },
        {
         "_deepnote_index_column": 258,
         "recordID": 6170839,
         "species_name": "Urocyon littoralis",
         "subspecies_name": "Urocyon littoralis santacruzae"
        },
        {
         "_deepnote_index_column": 259,
         "recordID": 6170847,
         "species_name": "Urocyon littoralis",
         "subspecies_name": "Urocyon littoralis santacruzae"
        },
        {
         "_deepnote_index_column": 260,
         "recordID": 6170825,
         "species_name": "Urocyon littoralis",
         "subspecies_name": "Urocyon littoralis santacruzae"
        },
        {
         "_deepnote_index_column": 261,
         "recordID": 6170862,
         "species_name": "Urocyon littoralis",
         "subspecies_name": "Urocyon littoralis santacruzae"
        },
        {
         "_deepnote_index_column": 262,
         "recordID": 6170860,
         "species_name": "Urocyon littoralis",
         "subspecies_name": "Urocyon littoralis santacruzae"
        },
        {
         "_deepnote_index_column": 263,
         "recordID": 6170834,
         "species_name": "Urocyon littoralis",
         "subspecies_name": "Urocyon littoralis santacruzae"
        },
        {
         "_deepnote_index_column": 264,
         "recordID": 6170830,
         "species_name": "Urocyon littoralis",
         "subspecies_name": "Urocyon littoralis santacruzae"
        },
        {
         "_deepnote_index_column": 265,
         "recordID": 6170838,
         "species_name": "Urocyon littoralis",
         "subspecies_name": "Urocyon littoralis santacruzae"
        },
        {
         "_deepnote_index_column": 266,
         "recordID": 6170859,
         "species_name": "Urocyon littoralis",
         "subspecies_name": "Urocyon littoralis santacruzae"
        },
        {
         "_deepnote_index_column": 267,
         "recordID": 6170822,
         "species_name": "Urocyon littoralis",
         "subspecies_name": "Urocyon littoralis santacruzae"
        },
        {
         "_deepnote_index_column": 268,
         "recordID": 6170824,
         "species_name": "Urocyon littoralis",
         "subspecies_name": "Urocyon littoralis santacruzae"
        },
        {
         "_deepnote_index_column": 269,
         "recordID": 6170846,
         "species_name": "Urocyon littoralis",
         "subspecies_name": "Urocyon littoralis santacruzae"
        },
        {
         "_deepnote_index_column": 270,
         "recordID": 6170849,
         "species_name": "Urocyon littoralis",
         "subspecies_name": "Urocyon littoralis santacruzae"
        },
        {
         "_deepnote_index_column": 271,
         "recordID": 6170821,
         "species_name": "Urocyon littoralis",
         "subspecies_name": "Urocyon littoralis santacruzae"
        },
        {
         "_deepnote_index_column": 272,
         "recordID": 6170854,
         "species_name": "Urocyon littoralis",
         "subspecies_name": "Urocyon littoralis santacruzae"
        },
        {
         "_deepnote_index_column": 273,
         "recordID": 6170835,
         "species_name": "Urocyon littoralis",
         "subspecies_name": "Urocyon littoralis santacruzae"
        },
        {
         "_deepnote_index_column": 274,
         "recordID": 6170853,
         "species_name": "Urocyon littoralis",
         "subspecies_name": "Urocyon littoralis santacruzae"
        },
        {
         "_deepnote_index_column": 275,
         "recordID": 6170844,
         "species_name": "Urocyon littoralis",
         "subspecies_name": "Urocyon littoralis santacruzae"
        },
        {
         "_deepnote_index_column": 276,
         "recordID": 6170836,
         "species_name": "Urocyon littoralis",
         "subspecies_name": "Urocyon littoralis santacruzae"
        },
        {
         "_deepnote_index_column": 277,
         "recordID": 6170848,
         "species_name": "Urocyon littoralis",
         "subspecies_name": "Urocyon littoralis santacruzae"
        },
        {
         "_deepnote_index_column": 278,
         "recordID": 6170828,
         "species_name": "Urocyon littoralis",
         "subspecies_name": "Urocyon littoralis santacruzae"
        },
        {
         "_deepnote_index_column": 279,
         "recordID": 6170837,
         "species_name": "Urocyon littoralis",
         "subspecies_name": "Urocyon littoralis santacruzae"
        },
        {
         "_deepnote_index_column": 280,
         "recordID": 6170856,
         "species_name": "Urocyon littoralis",
         "subspecies_name": "Urocyon littoralis santacruzae"
        },
        {
         "_deepnote_index_column": 281,
         "recordID": 6170833,
         "species_name": "Urocyon littoralis",
         "subspecies_name": "Urocyon littoralis santacruzae"
        },
        {
         "_deepnote_index_column": 282,
         "recordID": 6170842,
         "species_name": "Urocyon littoralis",
         "subspecies_name": "Urocyon littoralis santacruzae"
        },
        {
         "_deepnote_index_column": 283,
         "recordID": 6170843,
         "species_name": "Urocyon littoralis",
         "subspecies_name": "Urocyon littoralis santacruzae"
        },
        {
         "_deepnote_index_column": 284,
         "recordID": 6170855,
         "species_name": "Urocyon littoralis",
         "subspecies_name": "Urocyon littoralis santacruzae"
        },
        {
         "_deepnote_index_column": 285,
         "recordID": 6170850,
         "species_name": "Urocyon littoralis",
         "subspecies_name": "Urocyon littoralis santacruzae"
        },
        {
         "_deepnote_index_column": 286,
         "recordID": 6170851,
         "species_name": "Urocyon littoralis",
         "subspecies_name": "Urocyon littoralis santacruzae"
        },
        {
         "_deepnote_index_column": 287,
         "recordID": 6170852,
         "species_name": "Urocyon littoralis",
         "subspecies_name": "Urocyon littoralis santacruzae"
        },
        {
         "_deepnote_index_column": 288,
         "recordID": 6170857,
         "species_name": "Urocyon littoralis",
         "subspecies_name": "Urocyon littoralis santacruzae"
        },
        {
         "_deepnote_index_column": 289,
         "recordID": 6170866,
         "species_name": "Urocyon littoralis",
         "subspecies_name": "Urocyon littoralis santarosae"
        },
        {
         "_deepnote_index_column": 290,
         "recordID": 6170871,
         "species_name": "Urocyon littoralis",
         "subspecies_name": "Urocyon littoralis santarosae"
        },
        {
         "_deepnote_index_column": 291,
         "recordID": 6170865,
         "species_name": "Urocyon littoralis",
         "subspecies_name": "Urocyon littoralis santarosae"
        },
        {
         "_deepnote_index_column": 292,
         "recordID": 6170869,
         "species_name": "Urocyon littoralis",
         "subspecies_name": "Urocyon littoralis santarosae"
        },
        {
         "_deepnote_index_column": 293,
         "recordID": 6170867,
         "species_name": "Urocyon littoralis",
         "subspecies_name": "Urocyon littoralis santarosae"
        },
        {
         "_deepnote_index_column": 294,
         "recordID": 6170864,
         "species_name": "Urocyon littoralis",
         "subspecies_name": "Urocyon littoralis santarosae"
        },
        {
         "_deepnote_index_column": 295,
         "recordID": 6170868,
         "species_name": "Urocyon littoralis",
         "subspecies_name": "Urocyon littoralis santarosae"
        },
        {
         "_deepnote_index_column": 296,
         "recordID": 6170863,
         "species_name": "Urocyon littoralis",
         "subspecies_name": "Urocyon littoralis santarosae"
        },
        {
         "_deepnote_index_column": 297,
         "recordID": 6170870,
         "species_name": "Urocyon littoralis",
         "subspecies_name": "Urocyon littoralis santarosae"
        }
       ]
      },
      "text/html": [
       "<div>\n",
       "<style scoped>\n",
       "    .dataframe tbody tr th:only-of-type {\n",
       "        vertical-align: middle;\n",
       "    }\n",
       "\n",
       "    .dataframe tbody tr th {\n",
       "        vertical-align: top;\n",
       "    }\n",
       "\n",
       "    .dataframe thead th {\n",
       "        text-align: right;\n",
       "    }\n",
       "</style>\n",
       "<table border=\"1\" class=\"dataframe\">\n",
       "  <thead>\n",
       "    <tr style=\"text-align: right;\">\n",
       "      <th></th>\n",
       "      <th>recordID</th>\n",
       "      <th>species_name</th>\n",
       "      <th>subspecies_name</th>\n",
       "    </tr>\n",
       "  </thead>\n",
       "  <tbody>\n",
       "    <tr>\n",
       "      <th>0</th>\n",
       "      <td>9630458</td>\n",
       "      <td>Canis lupus</td>\n",
       "      <td>Canis lupus chanco</td>\n",
       "    </tr>\n",
       "    <tr>\n",
       "      <th>1</th>\n",
       "      <td>1176624</td>\n",
       "      <td>Canis lupus</td>\n",
       "      <td>Canis lupus chanco</td>\n",
       "    </tr>\n",
       "    <tr>\n",
       "      <th>2</th>\n",
       "      <td>6959422</td>\n",
       "      <td>Canis lupus</td>\n",
       "      <td>Canis lupus chanco</td>\n",
       "    </tr>\n",
       "    <tr>\n",
       "      <th>3</th>\n",
       "      <td>3619539</td>\n",
       "      <td>Canis lupus</td>\n",
       "      <td>Canis lupus desertorum</td>\n",
       "    </tr>\n",
       "    <tr>\n",
       "      <th>4</th>\n",
       "      <td>3599939</td>\n",
       "      <td>Canis lupus</td>\n",
       "      <td>Canis lupus familiaris</td>\n",
       "    </tr>\n",
       "    <tr>\n",
       "      <th>...</th>\n",
       "      <td>...</td>\n",
       "      <td>...</td>\n",
       "      <td>...</td>\n",
       "    </tr>\n",
       "    <tr>\n",
       "      <th>293</th>\n",
       "      <td>6170867</td>\n",
       "      <td>Urocyon littoralis</td>\n",
       "      <td>Urocyon littoralis santarosae</td>\n",
       "    </tr>\n",
       "    <tr>\n",
       "      <th>294</th>\n",
       "      <td>6170864</td>\n",
       "      <td>Urocyon littoralis</td>\n",
       "      <td>Urocyon littoralis santarosae</td>\n",
       "    </tr>\n",
       "    <tr>\n",
       "      <th>295</th>\n",
       "      <td>6170868</td>\n",
       "      <td>Urocyon littoralis</td>\n",
       "      <td>Urocyon littoralis santarosae</td>\n",
       "    </tr>\n",
       "    <tr>\n",
       "      <th>296</th>\n",
       "      <td>6170863</td>\n",
       "      <td>Urocyon littoralis</td>\n",
       "      <td>Urocyon littoralis santarosae</td>\n",
       "    </tr>\n",
       "    <tr>\n",
       "      <th>297</th>\n",
       "      <td>6170870</td>\n",
       "      <td>Urocyon littoralis</td>\n",
       "      <td>Urocyon littoralis santarosae</td>\n",
       "    </tr>\n",
       "  </tbody>\n",
       "</table>\n",
       "<p>298 rows × 3 columns</p>\n",
       "</div>"
      ],
      "text/plain": [
       "     recordID        species_name                subspecies_name\n",
       "0     9630458         Canis lupus             Canis lupus chanco\n",
       "1     1176624         Canis lupus             Canis lupus chanco\n",
       "2     6959422         Canis lupus             Canis lupus chanco\n",
       "3     3619539         Canis lupus         Canis lupus desertorum\n",
       "4     3599939         Canis lupus         Canis lupus familiaris\n",
       "..        ...                 ...                            ...\n",
       "293   6170867  Urocyon littoralis  Urocyon littoralis santarosae\n",
       "294   6170864  Urocyon littoralis  Urocyon littoralis santarosae\n",
       "295   6170868  Urocyon littoralis  Urocyon littoralis santarosae\n",
       "296   6170863  Urocyon littoralis  Urocyon littoralis santarosae\n",
       "297   6170870  Urocyon littoralis  Urocyon littoralis santarosae\n",
       "\n",
       "[298 rows x 3 columns]"
      ]
     },
     "execution_count": 7,
     "metadata": {},
     "output_type": "execute_result"
    }
   ],
   "source": [
    "query = '''\n",
    "SELECT recordid, species_name, subspecies_name\n",
    "FROM species\n",
    "WHERE ( subspecies_name != \"None\" ) \n",
    "ORDER BY subspecies_name\n",
    "'''\n",
    "speciesWithSubSpeciesDF = get_data(query)\n",
    "speciesWithSubSpeciesDF"
   ]
  },
  {
   "cell_type": "markdown",
   "metadata": {
    "cell_id": "00015-249c5cde-8c14-4441-a960-0fb3ed5b2684",
    "deepnote_cell_type": "markdown",
    "tags": []
   },
   "source": [
    "## Logical operators\n",
    "AND and OR operators can be used to filter even more"
   ]
  },
  {
   "cell_type": "code",
   "execution_count": 8,
   "metadata": {
    "cell_id": "00016-c167d82e-984e-4d9e-b5b6-3e5a154297c0",
    "deepnote_cell_type": "code",
    "deepnote_to_be_reexecuted": false,
    "execution_millis": 26,
    "execution_start": 1638459121971,
    "source_hash": "7ba92a9d",
    "tags": []
   },
   "outputs": [
    {
     "data": {
      "application/vnd.deepnote.dataframe.v2+json": {
       "column_count": 3,
       "columns": [
        {
         "dtype": "int64",
         "name": "recordID",
         "stats": {
          "histogram": [
           {
            "bin_end": 1540478,
            "bin_start": 504046,
            "count": 12
           },
           {
            "bin_end": 2576910,
            "bin_start": 1540478,
            "count": 0
           },
           {
            "bin_end": 3613342,
            "bin_start": 2576910,
            "count": 102
           },
           {
            "bin_end": 4649774,
            "bin_start": 3613342,
            "count": 1
           },
           {
            "bin_end": 5686206,
            "bin_start": 4649774,
            "count": 15
           },
           {
            "bin_end": 6722638,
            "bin_start": 5686206,
            "count": 0
           },
           {
            "bin_end": 7759070,
            "bin_start": 6722638,
            "count": 4
           },
           {
            "bin_end": 8795502,
            "bin_start": 7759070,
            "count": 0
           },
           {
            "bin_end": 9831934,
            "bin_start": 8795502,
            "count": 4
           },
           {
            "bin_end": 10868366,
            "bin_start": 9831934,
            "count": 1
           }
          ],
          "max": "10868366",
          "min": "504046",
          "nan_count": 0,
          "unique_count": 139
         }
        },
        {
         "dtype": "object",
         "name": "species_name",
         "stats": {
          "categories": [
           {
            "count": 139,
            "name": "Canis lupus"
           }
          ],
          "nan_count": 0,
          "unique_count": 1
         }
        },
        {
         "dtype": "object",
         "name": "subspecies_name",
         "stats": {
          "categories": [
           {
            "count": 130,
            "name": "Canis lupus familiaris"
           },
           {
            "count": 3,
            "name": "Canis lupus chanco"
           },
           {
            "count": 6,
            "name": "3 others"
           }
          ],
          "nan_count": 0,
          "unique_count": 5
         }
        },
        {
         "dtype": "int64",
         "name": "_deepnote_index_column"
        }
       ],
       "row_count": 139,
       "rows_bottom": null,
       "rows_top": [
        {
         "_deepnote_index_column": 0,
         "recordID": 9630458,
         "species_name": "Canis lupus",
         "subspecies_name": "Canis lupus chanco"
        },
        {
         "_deepnote_index_column": 1,
         "recordID": 1176624,
         "species_name": "Canis lupus",
         "subspecies_name": "Canis lupus chanco"
        },
        {
         "_deepnote_index_column": 2,
         "recordID": 6959422,
         "species_name": "Canis lupus",
         "subspecies_name": "Canis lupus chanco"
        },
        {
         "_deepnote_index_column": 3,
         "recordID": 3619539,
         "species_name": "Canis lupus",
         "subspecies_name": "Canis lupus desertorum"
        },
        {
         "_deepnote_index_column": 4,
         "recordID": 3599939,
         "species_name": "Canis lupus",
         "subspecies_name": "Canis lupus familiaris"
        },
        {
         "_deepnote_index_column": 5,
         "recordID": 3599875,
         "species_name": "Canis lupus",
         "subspecies_name": "Canis lupus familiaris"
        },
        {
         "_deepnote_index_column": 6,
         "recordID": 3599961,
         "species_name": "Canis lupus",
         "subspecies_name": "Canis lupus familiaris"
        },
        {
         "_deepnote_index_column": 7,
         "recordID": 3599870,
         "species_name": "Canis lupus",
         "subspecies_name": "Canis lupus familiaris"
        },
        {
         "_deepnote_index_column": 8,
         "recordID": 3599954,
         "species_name": "Canis lupus",
         "subspecies_name": "Canis lupus familiaris"
        },
        {
         "_deepnote_index_column": 9,
         "recordID": 3599887,
         "species_name": "Canis lupus",
         "subspecies_name": "Canis lupus familiaris"
        },
        {
         "_deepnote_index_column": 10,
         "recordID": 3599934,
         "species_name": "Canis lupus",
         "subspecies_name": "Canis lupus familiaris"
        },
        {
         "_deepnote_index_column": 11,
         "recordID": 5108255,
         "species_name": "Canis lupus",
         "subspecies_name": "Canis lupus familiaris"
        },
        {
         "_deepnote_index_column": 12,
         "recordID": 3599877,
         "species_name": "Canis lupus",
         "subspecies_name": "Canis lupus familiaris"
        },
        {
         "_deepnote_index_column": 13,
         "recordID": 3599880,
         "species_name": "Canis lupus",
         "subspecies_name": "Canis lupus familiaris"
        },
        {
         "_deepnote_index_column": 14,
         "recordID": 3599897,
         "species_name": "Canis lupus",
         "subspecies_name": "Canis lupus familiaris"
        },
        {
         "_deepnote_index_column": 15,
         "recordID": 3599900,
         "species_name": "Canis lupus",
         "subspecies_name": "Canis lupus familiaris"
        },
        {
         "_deepnote_index_column": 16,
         "recordID": 3599901,
         "species_name": "Canis lupus",
         "subspecies_name": "Canis lupus familiaris"
        },
        {
         "_deepnote_index_column": 17,
         "recordID": 3599904,
         "species_name": "Canis lupus",
         "subspecies_name": "Canis lupus familiaris"
        },
        {
         "_deepnote_index_column": 18,
         "recordID": 5108257,
         "species_name": "Canis lupus",
         "subspecies_name": "Canis lupus familiaris"
        },
        {
         "_deepnote_index_column": 19,
         "recordID": 2942535,
         "species_name": "Canis lupus",
         "subspecies_name": "Canis lupus familiaris"
        },
        {
         "_deepnote_index_column": 20,
         "recordID": 3599869,
         "species_name": "Canis lupus",
         "subspecies_name": "Canis lupus familiaris"
        },
        {
         "_deepnote_index_column": 21,
         "recordID": 3599893,
         "species_name": "Canis lupus",
         "subspecies_name": "Canis lupus familiaris"
        },
        {
         "_deepnote_index_column": 22,
         "recordID": 3599912,
         "species_name": "Canis lupus",
         "subspecies_name": "Canis lupus familiaris"
        },
        {
         "_deepnote_index_column": 23,
         "recordID": 3599916,
         "species_name": "Canis lupus",
         "subspecies_name": "Canis lupus familiaris"
        },
        {
         "_deepnote_index_column": 24,
         "recordID": 3599935,
         "species_name": "Canis lupus",
         "subspecies_name": "Canis lupus familiaris"
        },
        {
         "_deepnote_index_column": 25,
         "recordID": 3599942,
         "species_name": "Canis lupus",
         "subspecies_name": "Canis lupus familiaris"
        },
        {
         "_deepnote_index_column": 26,
         "recordID": 3599951,
         "species_name": "Canis lupus",
         "subspecies_name": "Canis lupus familiaris"
        },
        {
         "_deepnote_index_column": 27,
         "recordID": 3599965,
         "species_name": "Canis lupus",
         "subspecies_name": "Canis lupus familiaris"
        },
        {
         "_deepnote_index_column": 28,
         "recordID": 3599902,
         "species_name": "Canis lupus",
         "subspecies_name": "Canis lupus familiaris"
        },
        {
         "_deepnote_index_column": 29,
         "recordID": 3599941,
         "species_name": "Canis lupus",
         "subspecies_name": "Canis lupus familiaris"
        },
        {
         "_deepnote_index_column": 30,
         "recordID": 3599945,
         "species_name": "Canis lupus",
         "subspecies_name": "Canis lupus familiaris"
        },
        {
         "_deepnote_index_column": 31,
         "recordID": 5108256,
         "species_name": "Canis lupus",
         "subspecies_name": "Canis lupus familiaris"
        },
        {
         "_deepnote_index_column": 32,
         "recordID": 5108284,
         "species_name": "Canis lupus",
         "subspecies_name": "Canis lupus familiaris"
        },
        {
         "_deepnote_index_column": 33,
         "recordID": 504057,
         "species_name": "Canis lupus",
         "subspecies_name": "Canis lupus familiaris"
        },
        {
         "_deepnote_index_column": 34,
         "recordID": 3599964,
         "species_name": "Canis lupus",
         "subspecies_name": "Canis lupus familiaris"
        },
        {
         "_deepnote_index_column": 35,
         "recordID": 3599926,
         "species_name": "Canis lupus",
         "subspecies_name": "Canis lupus familiaris"
        },
        {
         "_deepnote_index_column": 36,
         "recordID": 5108328,
         "species_name": "Canis lupus",
         "subspecies_name": "Canis lupus familiaris"
        },
        {
         "_deepnote_index_column": 37,
         "recordID": 3599871,
         "species_name": "Canis lupus",
         "subspecies_name": "Canis lupus familiaris"
        },
        {
         "_deepnote_index_column": 38,
         "recordID": 3599898,
         "species_name": "Canis lupus",
         "subspecies_name": "Canis lupus familiaris"
        },
        {
         "_deepnote_index_column": 39,
         "recordID": 3599950,
         "species_name": "Canis lupus",
         "subspecies_name": "Canis lupus familiaris"
        },
        {
         "_deepnote_index_column": 40,
         "recordID": 504055,
         "species_name": "Canis lupus",
         "subspecies_name": "Canis lupus familiaris"
        },
        {
         "_deepnote_index_column": 41,
         "recordID": 3599883,
         "species_name": "Canis lupus",
         "subspecies_name": "Canis lupus familiaris"
        },
        {
         "_deepnote_index_column": 42,
         "recordID": 3599888,
         "species_name": "Canis lupus",
         "subspecies_name": "Canis lupus familiaris"
        },
        {
         "_deepnote_index_column": 43,
         "recordID": 3599914,
         "species_name": "Canis lupus",
         "subspecies_name": "Canis lupus familiaris"
        },
        {
         "_deepnote_index_column": 44,
         "recordID": 3599937,
         "species_name": "Canis lupus",
         "subspecies_name": "Canis lupus familiaris"
        },
        {
         "_deepnote_index_column": 45,
         "recordID": 5108263,
         "species_name": "Canis lupus",
         "subspecies_name": "Canis lupus familiaris"
        },
        {
         "_deepnote_index_column": 46,
         "recordID": 504048,
         "species_name": "Canis lupus",
         "subspecies_name": "Canis lupus familiaris"
        },
        {
         "_deepnote_index_column": 47,
         "recordID": 3599925,
         "species_name": "Canis lupus",
         "subspecies_name": "Canis lupus familiaris"
        },
        {
         "_deepnote_index_column": 48,
         "recordID": 3599962,
         "species_name": "Canis lupus",
         "subspecies_name": "Canis lupus familiaris"
        },
        {
         "_deepnote_index_column": 49,
         "recordID": 5108269,
         "species_name": "Canis lupus",
         "subspecies_name": "Canis lupus familiaris"
        },
        {
         "_deepnote_index_column": 50,
         "recordID": 3599868,
         "species_name": "Canis lupus",
         "subspecies_name": "Canis lupus familiaris"
        },
        {
         "_deepnote_index_column": 51,
         "recordID": 3599890,
         "species_name": "Canis lupus",
         "subspecies_name": "Canis lupus familiaris"
        },
        {
         "_deepnote_index_column": 52,
         "recordID": 5108261,
         "species_name": "Canis lupus",
         "subspecies_name": "Canis lupus familiaris"
        },
        {
         "_deepnote_index_column": 53,
         "recordID": 3599918,
         "species_name": "Canis lupus",
         "subspecies_name": "Canis lupus familiaris"
        },
        {
         "_deepnote_index_column": 54,
         "recordID": 5108283,
         "species_name": "Canis lupus",
         "subspecies_name": "Canis lupus familiaris"
        },
        {
         "_deepnote_index_column": 55,
         "recordID": 6958482,
         "species_name": "Canis lupus",
         "subspecies_name": "Canis lupus familiaris"
        },
        {
         "_deepnote_index_column": 56,
         "recordID": 3599876,
         "species_name": "Canis lupus",
         "subspecies_name": "Canis lupus familiaris"
        },
        {
         "_deepnote_index_column": 57,
         "recordID": 3599881,
         "species_name": "Canis lupus",
         "subspecies_name": "Canis lupus familiaris"
        },
        {
         "_deepnote_index_column": 58,
         "recordID": 3599913,
         "species_name": "Canis lupus",
         "subspecies_name": "Canis lupus familiaris"
        },
        {
         "_deepnote_index_column": 59,
         "recordID": 3599929,
         "species_name": "Canis lupus",
         "subspecies_name": "Canis lupus familiaris"
        },
        {
         "_deepnote_index_column": 60,
         "recordID": 3599938,
         "species_name": "Canis lupus",
         "subspecies_name": "Canis lupus familiaris"
        },
        {
         "_deepnote_index_column": 61,
         "recordID": 504047,
         "species_name": "Canis lupus",
         "subspecies_name": "Canis lupus familiaris"
        },
        {
         "_deepnote_index_column": 62,
         "recordID": 3599872,
         "species_name": "Canis lupus",
         "subspecies_name": "Canis lupus familiaris"
        },
        {
         "_deepnote_index_column": 63,
         "recordID": 3599886,
         "species_name": "Canis lupus",
         "subspecies_name": "Canis lupus familiaris"
        },
        {
         "_deepnote_index_column": 64,
         "recordID": 3599899,
         "species_name": "Canis lupus",
         "subspecies_name": "Canis lupus familiaris"
        },
        {
         "_deepnote_index_column": 65,
         "recordID": 3599915,
         "species_name": "Canis lupus",
         "subspecies_name": "Canis lupus familiaris"
        },
        {
         "_deepnote_index_column": 66,
         "recordID": 504050,
         "species_name": "Canis lupus",
         "subspecies_name": "Canis lupus familiaris"
        },
        {
         "_deepnote_index_column": 67,
         "recordID": 3599908,
         "species_name": "Canis lupus",
         "subspecies_name": "Canis lupus familiaris"
        },
        {
         "_deepnote_index_column": 68,
         "recordID": 3599956,
         "species_name": "Canis lupus",
         "subspecies_name": "Canis lupus familiaris"
        },
        {
         "_deepnote_index_column": 69,
         "recordID": 3599879,
         "species_name": "Canis lupus",
         "subspecies_name": "Canis lupus familiaris"
        },
        {
         "_deepnote_index_column": 70,
         "recordID": 3599889,
         "species_name": "Canis lupus",
         "subspecies_name": "Canis lupus familiaris"
        },
        {
         "_deepnote_index_column": 71,
         "recordID": 3599895,
         "species_name": "Canis lupus",
         "subspecies_name": "Canis lupus familiaris"
        },
        {
         "_deepnote_index_column": 72,
         "recordID": 3599919,
         "species_name": "Canis lupus",
         "subspecies_name": "Canis lupus familiaris"
        },
        {
         "_deepnote_index_column": 73,
         "recordID": 3599931,
         "species_name": "Canis lupus",
         "subspecies_name": "Canis lupus familiaris"
        },
        {
         "_deepnote_index_column": 74,
         "recordID": 3599958,
         "species_name": "Canis lupus",
         "subspecies_name": "Canis lupus familiaris"
        },
        {
         "_deepnote_index_column": 75,
         "recordID": 3599878,
         "species_name": "Canis lupus",
         "subspecies_name": "Canis lupus familiaris"
        },
        {
         "_deepnote_index_column": 76,
         "recordID": 3599891,
         "species_name": "Canis lupus",
         "subspecies_name": "Canis lupus familiaris"
        },
        {
         "_deepnote_index_column": 77,
         "recordID": 3599944,
         "species_name": "Canis lupus",
         "subspecies_name": "Canis lupus familiaris"
        },
        {
         "_deepnote_index_column": 78,
         "recordID": 3599947,
         "species_name": "Canis lupus",
         "subspecies_name": "Canis lupus familiaris"
        },
        {
         "_deepnote_index_column": 79,
         "recordID": 504046,
         "species_name": "Canis lupus",
         "subspecies_name": "Canis lupus familiaris"
        },
        {
         "_deepnote_index_column": 80,
         "recordID": 3599894,
         "species_name": "Canis lupus",
         "subspecies_name": "Canis lupus familiaris"
        },
        {
         "_deepnote_index_column": 81,
         "recordID": 3599911,
         "species_name": "Canis lupus",
         "subspecies_name": "Canis lupus familiaris"
        },
        {
         "_deepnote_index_column": 82,
         "recordID": 3599920,
         "species_name": "Canis lupus",
         "subspecies_name": "Canis lupus familiaris"
        },
        {
         "_deepnote_index_column": 83,
         "recordID": 3599955,
         "species_name": "Canis lupus",
         "subspecies_name": "Canis lupus familiaris"
        },
        {
         "_deepnote_index_column": 84,
         "recordID": 3599907,
         "species_name": "Canis lupus",
         "subspecies_name": "Canis lupus familiaris"
        },
        {
         "_deepnote_index_column": 85,
         "recordID": 5108259,
         "species_name": "Canis lupus",
         "subspecies_name": "Canis lupus familiaris"
        },
        {
         "_deepnote_index_column": 86,
         "recordID": 5108266,
         "species_name": "Canis lupus",
         "subspecies_name": "Canis lupus familiaris"
        },
        {
         "_deepnote_index_column": 87,
         "recordID": 5109892,
         "species_name": "Canis lupus",
         "subspecies_name": "Canis lupus familiaris"
        },
        {
         "_deepnote_index_column": 88,
         "recordID": 3599923,
         "species_name": "Canis lupus",
         "subspecies_name": "Canis lupus familiaris"
        },
        {
         "_deepnote_index_column": 89,
         "recordID": 3599930,
         "species_name": "Canis lupus",
         "subspecies_name": "Canis lupus familiaris"
        },
        {
         "_deepnote_index_column": 90,
         "recordID": 3599959,
         "species_name": "Canis lupus",
         "subspecies_name": "Canis lupus familiaris"
        },
        {
         "_deepnote_index_column": 91,
         "recordID": 3599884,
         "species_name": "Canis lupus",
         "subspecies_name": "Canis lupus familiaris"
        },
        {
         "_deepnote_index_column": 92,
         "recordID": 3599903,
         "species_name": "Canis lupus",
         "subspecies_name": "Canis lupus familiaris"
        },
        {
         "_deepnote_index_column": 93,
         "recordID": 3599910,
         "species_name": "Canis lupus",
         "subspecies_name": "Canis lupus familiaris"
        },
        {
         "_deepnote_index_column": 94,
         "recordID": 3599936,
         "species_name": "Canis lupus",
         "subspecies_name": "Canis lupus familiaris"
        },
        {
         "_deepnote_index_column": 95,
         "recordID": 3599940,
         "species_name": "Canis lupus",
         "subspecies_name": "Canis lupus familiaris"
        },
        {
         "_deepnote_index_column": 96,
         "recordID": 3599952,
         "species_name": "Canis lupus",
         "subspecies_name": "Canis lupus familiaris"
        },
        {
         "_deepnote_index_column": 97,
         "recordID": 3599960,
         "species_name": "Canis lupus",
         "subspecies_name": "Canis lupus familiaris"
        },
        {
         "_deepnote_index_column": 98,
         "recordID": 2942529,
         "species_name": "Canis lupus",
         "subspecies_name": "Canis lupus familiaris"
        },
        {
         "_deepnote_index_column": 99,
         "recordID": 3599896,
         "species_name": "Canis lupus",
         "subspecies_name": "Canis lupus familiaris"
        },
        {
         "_deepnote_index_column": 100,
         "recordID": 3599927,
         "species_name": "Canis lupus",
         "subspecies_name": "Canis lupus familiaris"
        },
        {
         "_deepnote_index_column": 101,
         "recordID": 3599943,
         "species_name": "Canis lupus",
         "subspecies_name": "Canis lupus familiaris"
        },
        {
         "_deepnote_index_column": 102,
         "recordID": 3599957,
         "species_name": "Canis lupus",
         "subspecies_name": "Canis lupus familiaris"
        },
        {
         "_deepnote_index_column": 103,
         "recordID": 504058,
         "species_name": "Canis lupus",
         "subspecies_name": "Canis lupus familiaris"
        },
        {
         "_deepnote_index_column": 104,
         "recordID": 1525996,
         "species_name": "Canis lupus",
         "subspecies_name": "Canis lupus familiaris"
        },
        {
         "_deepnote_index_column": 105,
         "recordID": 3599924,
         "species_name": "Canis lupus",
         "subspecies_name": "Canis lupus familiaris"
        },
        {
         "_deepnote_index_column": 106,
         "recordID": 3599946,
         "species_name": "Canis lupus",
         "subspecies_name": "Canis lupus familiaris"
        },
        {
         "_deepnote_index_column": 107,
         "recordID": 3609565,
         "species_name": "Canis lupus",
         "subspecies_name": "Canis lupus familiaris"
        },
        {
         "_deepnote_index_column": 108,
         "recordID": 5110103,
         "species_name": "Canis lupus",
         "subspecies_name": "Canis lupus familiaris"
        },
        {
         "_deepnote_index_column": 109,
         "recordID": 3599874,
         "species_name": "Canis lupus",
         "subspecies_name": "Canis lupus familiaris"
        },
        {
         "_deepnote_index_column": 110,
         "recordID": 3599917,
         "species_name": "Canis lupus",
         "subspecies_name": "Canis lupus familiaris"
        },
        {
         "_deepnote_index_column": 111,
         "recordID": 3599932,
         "species_name": "Canis lupus",
         "subspecies_name": "Canis lupus familiaris"
        },
        {
         "_deepnote_index_column": 112,
         "recordID": 504059,
         "species_name": "Canis lupus",
         "subspecies_name": "Canis lupus familiaris"
        },
        {
         "_deepnote_index_column": 113,
         "recordID": 3599882,
         "species_name": "Canis lupus",
         "subspecies_name": "Canis lupus familiaris"
        },
        {
         "_deepnote_index_column": 114,
         "recordID": 3599933,
         "species_name": "Canis lupus",
         "subspecies_name": "Canis lupus familiaris"
        },
        {
         "_deepnote_index_column": 115,
         "recordID": 3599948,
         "species_name": "Canis lupus",
         "subspecies_name": "Canis lupus familiaris"
        },
        {
         "_deepnote_index_column": 116,
         "recordID": 3599906,
         "species_name": "Canis lupus",
         "subspecies_name": "Canis lupus familiaris"
        },
        {
         "_deepnote_index_column": 117,
         "recordID": 3599909,
         "species_name": "Canis lupus",
         "subspecies_name": "Canis lupus familiaris"
        },
        {
         "_deepnote_index_column": 118,
         "recordID": 3599949,
         "species_name": "Canis lupus",
         "subspecies_name": "Canis lupus familiaris"
        },
        {
         "_deepnote_index_column": 119,
         "recordID": 9634260,
         "species_name": "Canis lupus",
         "subspecies_name": "Canis lupus familiaris"
        },
        {
         "_deepnote_index_column": 120,
         "recordID": 504049,
         "species_name": "Canis lupus",
         "subspecies_name": "Canis lupus familiaris"
        },
        {
         "_deepnote_index_column": 121,
         "recordID": 1525997,
         "species_name": "Canis lupus",
         "subspecies_name": "Canis lupus familiaris"
        },
        {
         "_deepnote_index_column": 122,
         "recordID": 3599892,
         "species_name": "Canis lupus",
         "subspecies_name": "Canis lupus familiaris"
        },
        {
         "_deepnote_index_column": 123,
         "recordID": 3599922,
         "species_name": "Canis lupus",
         "subspecies_name": "Canis lupus familiaris"
        },
        {
         "_deepnote_index_column": 124,
         "recordID": 3599867,
         "species_name": "Canis lupus",
         "subspecies_name": "Canis lupus familiaris"
        },
        {
         "_deepnote_index_column": 125,
         "recordID": 3599905,
         "species_name": "Canis lupus",
         "subspecies_name": "Canis lupus familiaris"
        },
        {
         "_deepnote_index_column": 126,
         "recordID": 3599963,
         "species_name": "Canis lupus",
         "subspecies_name": "Canis lupus familiaris"
        },
        {
         "_deepnote_index_column": 127,
         "recordID": 3599953,
         "species_name": "Canis lupus",
         "subspecies_name": "Canis lupus familiaris"
        },
        {
         "_deepnote_index_column": 128,
         "recordID": 5108242,
         "species_name": "Canis lupus",
         "subspecies_name": "Canis lupus familiaris"
        },
        {
         "_deepnote_index_column": 129,
         "recordID": 5108264,
         "species_name": "Canis lupus",
         "subspecies_name": "Canis lupus familiaris"
        },
        {
         "_deepnote_index_column": 130,
         "recordID": 3599873,
         "species_name": "Canis lupus",
         "subspecies_name": "Canis lupus familiaris"
        },
        {
         "_deepnote_index_column": 131,
         "recordID": 3599885,
         "species_name": "Canis lupus",
         "subspecies_name": "Canis lupus familiaris"
        },
        {
         "_deepnote_index_column": 132,
         "recordID": 3599921,
         "species_name": "Canis lupus",
         "subspecies_name": "Canis lupus familiaris"
        },
        {
         "_deepnote_index_column": 133,
         "recordID": 3599928,
         "species_name": "Canis lupus",
         "subspecies_name": "Canis lupus familiaris"
        },
        {
         "_deepnote_index_column": 134,
         "recordID": 6959685,
         "species_name": "Canis lupus",
         "subspecies_name": "Canis lupus laniger"
        },
        {
         "_deepnote_index_column": 135,
         "recordID": 9630459,
         "species_name": "Canis lupus",
         "subspecies_name": "Canis lupus laniger"
        },
        {
         "_deepnote_index_column": 136,
         "recordID": 10868366,
         "species_name": "Canis lupus",
         "subspecies_name": "Canis lupus lupus"
        },
        {
         "_deepnote_index_column": 137,
         "recordID": 9630457,
         "species_name": "Canis lupus",
         "subspecies_name": "Canis lupus lupus"
        },
        {
         "_deepnote_index_column": 138,
         "recordID": 6959696,
         "species_name": "Canis lupus",
         "subspecies_name": "Canis lupus lupus"
        }
       ]
      },
      "text/html": [
       "<div>\n",
       "<style scoped>\n",
       "    .dataframe tbody tr th:only-of-type {\n",
       "        vertical-align: middle;\n",
       "    }\n",
       "\n",
       "    .dataframe tbody tr th {\n",
       "        vertical-align: top;\n",
       "    }\n",
       "\n",
       "    .dataframe thead th {\n",
       "        text-align: right;\n",
       "    }\n",
       "</style>\n",
       "<table border=\"1\" class=\"dataframe\">\n",
       "  <thead>\n",
       "    <tr style=\"text-align: right;\">\n",
       "      <th></th>\n",
       "      <th>recordID</th>\n",
       "      <th>species_name</th>\n",
       "      <th>subspecies_name</th>\n",
       "    </tr>\n",
       "  </thead>\n",
       "  <tbody>\n",
       "    <tr>\n",
       "      <th>0</th>\n",
       "      <td>9630458</td>\n",
       "      <td>Canis lupus</td>\n",
       "      <td>Canis lupus chanco</td>\n",
       "    </tr>\n",
       "    <tr>\n",
       "      <th>1</th>\n",
       "      <td>1176624</td>\n",
       "      <td>Canis lupus</td>\n",
       "      <td>Canis lupus chanco</td>\n",
       "    </tr>\n",
       "    <tr>\n",
       "      <th>2</th>\n",
       "      <td>6959422</td>\n",
       "      <td>Canis lupus</td>\n",
       "      <td>Canis lupus chanco</td>\n",
       "    </tr>\n",
       "    <tr>\n",
       "      <th>3</th>\n",
       "      <td>3619539</td>\n",
       "      <td>Canis lupus</td>\n",
       "      <td>Canis lupus desertorum</td>\n",
       "    </tr>\n",
       "    <tr>\n",
       "      <th>4</th>\n",
       "      <td>3599939</td>\n",
       "      <td>Canis lupus</td>\n",
       "      <td>Canis lupus familiaris</td>\n",
       "    </tr>\n",
       "    <tr>\n",
       "      <th>...</th>\n",
       "      <td>...</td>\n",
       "      <td>...</td>\n",
       "      <td>...</td>\n",
       "    </tr>\n",
       "    <tr>\n",
       "      <th>134</th>\n",
       "      <td>6959685</td>\n",
       "      <td>Canis lupus</td>\n",
       "      <td>Canis lupus laniger</td>\n",
       "    </tr>\n",
       "    <tr>\n",
       "      <th>135</th>\n",
       "      <td>9630459</td>\n",
       "      <td>Canis lupus</td>\n",
       "      <td>Canis lupus laniger</td>\n",
       "    </tr>\n",
       "    <tr>\n",
       "      <th>136</th>\n",
       "      <td>10868366</td>\n",
       "      <td>Canis lupus</td>\n",
       "      <td>Canis lupus lupus</td>\n",
       "    </tr>\n",
       "    <tr>\n",
       "      <th>137</th>\n",
       "      <td>9630457</td>\n",
       "      <td>Canis lupus</td>\n",
       "      <td>Canis lupus lupus</td>\n",
       "    </tr>\n",
       "    <tr>\n",
       "      <th>138</th>\n",
       "      <td>6959696</td>\n",
       "      <td>Canis lupus</td>\n",
       "      <td>Canis lupus lupus</td>\n",
       "    </tr>\n",
       "  </tbody>\n",
       "</table>\n",
       "<p>139 rows × 3 columns</p>\n",
       "</div>"
      ],
      "text/plain": [
       "     recordID species_name         subspecies_name\n",
       "0     9630458  Canis lupus      Canis lupus chanco\n",
       "1     1176624  Canis lupus      Canis lupus chanco\n",
       "2     6959422  Canis lupus      Canis lupus chanco\n",
       "3     3619539  Canis lupus  Canis lupus desertorum\n",
       "4     3599939  Canis lupus  Canis lupus familiaris\n",
       "..        ...          ...                     ...\n",
       "134   6959685  Canis lupus     Canis lupus laniger\n",
       "135   9630459  Canis lupus     Canis lupus laniger\n",
       "136  10868366  Canis lupus       Canis lupus lupus\n",
       "137   9630457  Canis lupus       Canis lupus lupus\n",
       "138   6959696  Canis lupus       Canis lupus lupus\n",
       "\n",
       "[139 rows x 3 columns]"
      ]
     },
     "execution_count": 8,
     "metadata": {},
     "output_type": "execute_result"
    }
   ],
   "source": [
    "query = '''\n",
    "SELECT recordid, species_name, subspecies_name\n",
    "FROM species\n",
    "WHERE ( subspecies_name != \"None\" AND species_name == \"Canis lupus\") \n",
    "ORDER BY subspecies_name\n",
    "'''\n",
    "speciesWithSubSpeciesDF = get_data(query)\n",
    "speciesWithSubSpeciesDF"
   ]
  },
  {
   "cell_type": "markdown",
   "metadata": {
    "cell_id": "00020-de05208b-4429-44f8-a53d-cfab7df90637",
    "deepnote_cell_type": "markdown",
    "tags": []
   },
   "source": [
    "## Statistics"
   ]
  },
  {
   "cell_type": "markdown",
   "metadata": {
    "cell_id": "00017-2de1105a-9241-4853-a95c-7addd13235ca",
    "deepnote_cell_type": "markdown",
    "tags": []
   },
   "source": [
    "### COUNT\n",
    "Finally, to determine the number of entries that fulfilled a given set of criteria, we can get the table and determine its size, or, **more quickly**, use the COUNT"
   ]
  },
  {
   "cell_type": "markdown",
   "metadata": {
    "cell_id": "00017-91a775bb-8b2f-4df0-8f37-38043248362b",
    "deepnote_cell_type": "markdown",
    "tags": []
   },
   "source": []
  },
  {
   "cell_type": "code",
   "execution_count": 9,
   "metadata": {
    "cell_id": "00019-bae331ed-a3ad-4983-8f01-d680fda342b2",
    "deepnote_cell_type": "code",
    "deepnote_to_be_reexecuted": false,
    "execution_millis": 13,
    "execution_start": 1638459121997,
    "source_hash": "56d57b9f",
    "tags": []
   },
   "outputs": [
    {
     "data": {
      "application/vnd.deepnote.dataframe.v2+json": {
       "column_count": 1,
       "columns": [
        {
         "dtype": "int64",
         "name": "COUNT(*)",
         "stats": {
          "histogram": [
           {
            "bin_end": 1543.6,
            "bin_start": 1543.5,
            "count": 0
           },
           {
            "bin_end": 1543.7,
            "bin_start": 1543.6,
            "count": 0
           },
           {
            "bin_end": 1543.8,
            "bin_start": 1543.7,
            "count": 0
           },
           {
            "bin_end": 1543.9,
            "bin_start": 1543.8,
            "count": 0
           },
           {
            "bin_end": 1544,
            "bin_start": 1543.9,
            "count": 0
           },
           {
            "bin_end": 1544.1,
            "bin_start": 1544,
            "count": 1
           },
           {
            "bin_end": 1544.2,
            "bin_start": 1544.1,
            "count": 0
           },
           {
            "bin_end": 1544.3,
            "bin_start": 1544.2,
            "count": 0
           },
           {
            "bin_end": 1544.4,
            "bin_start": 1544.3,
            "count": 0
           },
           {
            "bin_end": 1544.5,
            "bin_start": 1544.4,
            "count": 0
           }
          ],
          "max": "1544",
          "min": "1544",
          "nan_count": 0,
          "unique_count": 1
         }
        },
        {
         "dtype": "int64",
         "name": "_deepnote_index_column"
        }
       ],
       "row_count": 1,
       "rows_bottom": null,
       "rows_top": [
        {
         "COUNT(*)": 1544,
         "_deepnote_index_column": 0
        }
       ]
      },
      "text/html": [
       "<div>\n",
       "<style scoped>\n",
       "    .dataframe tbody tr th:only-of-type {\n",
       "        vertical-align: middle;\n",
       "    }\n",
       "\n",
       "    .dataframe tbody tr th {\n",
       "        vertical-align: top;\n",
       "    }\n",
       "\n",
       "    .dataframe thead th {\n",
       "        text-align: right;\n",
       "    }\n",
       "</style>\n",
       "<table border=\"1\" class=\"dataframe\">\n",
       "  <thead>\n",
       "    <tr style=\"text-align: right;\">\n",
       "      <th></th>\n",
       "      <th>COUNT(*)</th>\n",
       "    </tr>\n",
       "  </thead>\n",
       "  <tbody>\n",
       "    <tr>\n",
       "      <th>0</th>\n",
       "      <td>1544</td>\n",
       "    </tr>\n",
       "  </tbody>\n",
       "</table>\n",
       "</div>"
      ],
      "text/plain": [
       "   COUNT(*)\n",
       "0      1544"
      ]
     },
     "execution_count": 9,
     "metadata": {},
     "output_type": "execute_result"
    }
   ],
   "source": [
    "howManyCanisLupus = get_data('SELECT COUNT(*) FROM species WHERE species_name == \"Canis lupus\";')\n",
    "howManyCanisLupus"
   ]
  },
  {
   "cell_type": "markdown",
   "metadata": {
    "cell_id": "00021-633211eb-1a71-4758-a3d4-4a871688b835",
    "deepnote_cell_type": "markdown",
    "tags": []
   },
   "source": [
    "### GROUP BY\n",
    "Or we can use COUNT combined with GROUP BY to get counts by groups."
   ]
  },
  {
   "cell_type": "code",
   "execution_count": 10,
   "metadata": {
    "cell_id": "00022-92a49f8f-7476-4dc3-8c72-e2d5c61dccef",
    "deepnote_cell_type": "code",
    "deepnote_to_be_reexecuted": false,
    "execution_millis": 20,
    "execution_start": 1638459122012,
    "source_hash": "8aecaebc",
    "tags": []
   },
   "outputs": [
    {
     "data": {
      "application/vnd.deepnote.dataframe.v2+json": {
       "column_count": 2,
       "columns": [
        {
         "dtype": "object",
         "name": "species_name",
         "stats": {
          "categories": [
           {
            "count": 1,
            "name": "Canis adustus"
           },
           {
            "count": 7,
            "name": "7 others"
           },
           {
            "count": 1,
            "name": "Missing"
           }
          ],
          "nan_count": 1,
          "unique_count": 8
         }
        },
        {
         "dtype": "int64",
         "name": "COUNT(*)",
         "stats": {
          "histogram": [
           {
            "bin_end": 155.3,
            "bin_start": 1,
            "count": 8
           },
           {
            "bin_end": 309.6,
            "bin_start": 155.3,
            "count": 0
           },
           {
            "bin_end": 463.90000000000003,
            "bin_start": 309.6,
            "count": 0
           },
           {
            "bin_end": 618.2,
            "bin_start": 463.90000000000003,
            "count": 0
           },
           {
            "bin_end": 772.5,
            "bin_start": 618.2,
            "count": 0
           },
           {
            "bin_end": 926.8000000000001,
            "bin_start": 772.5,
            "count": 0
           },
           {
            "bin_end": 1081.1000000000001,
            "bin_start": 926.8000000000001,
            "count": 0
           },
           {
            "bin_end": 1235.4,
            "bin_start": 1081.1000000000001,
            "count": 0
           },
           {
            "bin_end": 1389.7,
            "bin_start": 1235.4,
            "count": 0
           },
           {
            "bin_end": 1544,
            "bin_start": 1389.7,
            "count": 1
           }
          ],
          "max": "1544",
          "min": "1",
          "nan_count": 0,
          "unique_count": 6
         }
        },
        {
         "dtype": "int64",
         "name": "_deepnote_index_column"
        }
       ],
       "row_count": 9,
       "rows_bottom": null,
       "rows_top": [
        {
         "COUNT(*)": 1,
         "_deepnote_index_column": 0,
         "species_name": "None"
        },
        {
         "COUNT(*)": 6,
         "_deepnote_index_column": 1,
         "species_name": "Canis adustus"
        },
        {
         "COUNT(*)": 2,
         "_deepnote_index_column": 2,
         "species_name": "Canis anthus"
        },
        {
         "COUNT(*)": 6,
         "_deepnote_index_column": 3,
         "species_name": "Canis aureus"
        },
        {
         "COUNT(*)": 3,
         "_deepnote_index_column": 4,
         "species_name": "Canis familiaris"
        },
        {
         "COUNT(*)": 15,
         "_deepnote_index_column": 5,
         "species_name": "Canis latrans"
        },
        {
         "COUNT(*)": 1544,
         "_deepnote_index_column": 6,
         "species_name": "Canis lupus"
        },
        {
         "COUNT(*)": 1,
         "_deepnote_index_column": 7,
         "species_name": "Canis lycaon"
        },
        {
         "COUNT(*)": 3,
         "_deepnote_index_column": 8,
         "species_name": "Canis mesomelas"
        }
       ]
      },
      "text/html": [
       "<div>\n",
       "<style scoped>\n",
       "    .dataframe tbody tr th:only-of-type {\n",
       "        vertical-align: middle;\n",
       "    }\n",
       "\n",
       "    .dataframe tbody tr th {\n",
       "        vertical-align: top;\n",
       "    }\n",
       "\n",
       "    .dataframe thead th {\n",
       "        text-align: right;\n",
       "    }\n",
       "</style>\n",
       "<table border=\"1\" class=\"dataframe\">\n",
       "  <thead>\n",
       "    <tr style=\"text-align: right;\">\n",
       "      <th></th>\n",
       "      <th>species_name</th>\n",
       "      <th>COUNT(*)</th>\n",
       "    </tr>\n",
       "  </thead>\n",
       "  <tbody>\n",
       "    <tr>\n",
       "      <th>0</th>\n",
       "      <td>None</td>\n",
       "      <td>1</td>\n",
       "    </tr>\n",
       "    <tr>\n",
       "      <th>1</th>\n",
       "      <td>Canis adustus</td>\n",
       "      <td>6</td>\n",
       "    </tr>\n",
       "    <tr>\n",
       "      <th>2</th>\n",
       "      <td>Canis anthus</td>\n",
       "      <td>2</td>\n",
       "    </tr>\n",
       "    <tr>\n",
       "      <th>3</th>\n",
       "      <td>Canis aureus</td>\n",
       "      <td>6</td>\n",
       "    </tr>\n",
       "    <tr>\n",
       "      <th>4</th>\n",
       "      <td>Canis familiaris</td>\n",
       "      <td>3</td>\n",
       "    </tr>\n",
       "    <tr>\n",
       "      <th>5</th>\n",
       "      <td>Canis latrans</td>\n",
       "      <td>15</td>\n",
       "    </tr>\n",
       "    <tr>\n",
       "      <th>6</th>\n",
       "      <td>Canis lupus</td>\n",
       "      <td>1544</td>\n",
       "    </tr>\n",
       "    <tr>\n",
       "      <th>7</th>\n",
       "      <td>Canis lycaon</td>\n",
       "      <td>1</td>\n",
       "    </tr>\n",
       "    <tr>\n",
       "      <th>8</th>\n",
       "      <td>Canis mesomelas</td>\n",
       "      <td>3</td>\n",
       "    </tr>\n",
       "  </tbody>\n",
       "</table>\n",
       "</div>"
      ],
      "text/plain": [
       "       species_name  COUNT(*)\n",
       "0              None         1\n",
       "1     Canis adustus         6\n",
       "2      Canis anthus         2\n",
       "3      Canis aureus         6\n",
       "4  Canis familiaris         3\n",
       "5     Canis latrans        15\n",
       "6       Canis lupus      1544\n",
       "7      Canis lycaon         1\n",
       "8   Canis mesomelas         3"
      ]
     },
     "execution_count": 10,
     "metadata": {},
     "output_type": "execute_result"
    }
   ],
   "source": [
    "query = '''\n",
    "SELECT species_name, COUNT(*) \n",
    "FROM species \n",
    "WHERE genus_name == \"Canis\"\n",
    "GROUP BY species_name;\n",
    "'''\n",
    "howManyPerGenus = get_data(query)\n",
    "howManyPerGenus"
   ]
  },
  {
   "cell_type": "markdown",
   "metadata": {
    "cell_id": "00028-8021a28d-449a-47b9-8eb0-c66e842157bd",
    "deepnote_cell_type": "markdown",
    "tags": []
   },
   "source": [
    "### MIN(), MAX(), and AVG()"
   ]
  },
  {
   "cell_type": "markdown",
   "metadata": {
    "cell_id": "00021-58407c54-5e2a-41a2-a917-233a399e7435",
    "deepnote_cell_type": "markdown",
    "tags": []
   },
   "source": [
    "Other mathematical functions can be used to retrieve results directly.\n",
    "For example, the code below will get the average, minimum and maximum recordid among all Canis adustus (just demonstrations, the value is meaningless in this context)."
   ]
  },
  {
   "cell_type": "code",
   "execution_count": 11,
   "metadata": {
    "cell_id": "00021-05db26a8-c1ee-4243-8c92-5da6c7edf8ad",
    "deepnote_cell_type": "code",
    "deepnote_to_be_reexecuted": false,
    "execution_millis": 21,
    "execution_start": 1638459122035,
    "source_hash": "388b785f",
    "tags": []
   },
   "outputs": [
    {
     "data": {
      "application/vnd.deepnote.dataframe.v2+json": {
       "column_count": 3,
       "columns": [
        {
         "dtype": "float64",
         "name": "AVG(recordid)",
         "stats": {
          "histogram": [
           {
            "bin_end": 5889701.1,
            "bin_start": 5889701,
            "count": 0
           },
           {
            "bin_end": 5889701.2,
            "bin_start": 5889701.1,
            "count": 0
           },
           {
            "bin_end": 5889701.3,
            "bin_start": 5889701.2,
            "count": 0
           },
           {
            "bin_end": 5889701.4,
            "bin_start": 5889701.3,
            "count": 0
           },
           {
            "bin_end": 5889701.5,
            "bin_start": 5889701.4,
            "count": 0
           },
           {
            "bin_end": 5889701.6,
            "bin_start": 5889701.5,
            "count": 1
           },
           {
            "bin_end": 5889701.7,
            "bin_start": 5889701.6,
            "count": 0
           },
           {
            "bin_end": 5889701.8,
            "bin_start": 5889701.7,
            "count": 0
           },
           {
            "bin_end": 5889701.9,
            "bin_start": 5889701.8,
            "count": 0
           },
           {
            "bin_end": 5889702,
            "bin_start": 5889701.9,
            "count": 0
           }
          ],
          "max": "5889701.5",
          "min": "5889701.5",
          "nan_count": 0,
          "unique_count": 1
         }
        },
        {
         "dtype": "int64",
         "name": "MIN(recordid)",
         "stats": {
          "histogram": [
           {
            "bin_end": 5109910.6,
            "bin_start": 5109910.5,
            "count": 0
           },
           {
            "bin_end": 5109910.7,
            "bin_start": 5109910.6,
            "count": 0
           },
           {
            "bin_end": 5109910.8,
            "bin_start": 5109910.7,
            "count": 0
           },
           {
            "bin_end": 5109910.9,
            "bin_start": 5109910.8,
            "count": 0
           },
           {
            "bin_end": 5109911,
            "bin_start": 5109910.9,
            "count": 0
           },
           {
            "bin_end": 5109911.1,
            "bin_start": 5109911,
            "count": 1
           },
           {
            "bin_end": 5109911.2,
            "bin_start": 5109911.1,
            "count": 0
           },
           {
            "bin_end": 5109911.3,
            "bin_start": 5109911.2,
            "count": 0
           },
           {
            "bin_end": 5109911.4,
            "bin_start": 5109911.3,
            "count": 0
           },
           {
            "bin_end": 5109911.5,
            "bin_start": 5109911.4,
            "count": 0
           }
          ],
          "max": "5109911",
          "min": "5109911",
          "nan_count": 0,
          "unique_count": 1
         }
        },
        {
         "dtype": "int64",
         "name": "MAX(recordid)",
         "stats": {
          "histogram": [
           {
            "bin_end": 9788641.6,
            "bin_start": 9788641.5,
            "count": 0
           },
           {
            "bin_end": 9788641.7,
            "bin_start": 9788641.6,
            "count": 0
           },
           {
            "bin_end": 9788641.8,
            "bin_start": 9788641.7,
            "count": 0
           },
           {
            "bin_end": 9788641.9,
            "bin_start": 9788641.8,
            "count": 0
           },
           {
            "bin_end": 9788642,
            "bin_start": 9788641.9,
            "count": 0
           },
           {
            "bin_end": 9788642.1,
            "bin_start": 9788642,
            "count": 1
           },
           {
            "bin_end": 9788642.2,
            "bin_start": 9788642.1,
            "count": 0
           },
           {
            "bin_end": 9788642.3,
            "bin_start": 9788642.2,
            "count": 0
           },
           {
            "bin_end": 9788642.4,
            "bin_start": 9788642.3,
            "count": 0
           },
           {
            "bin_end": 9788642.5,
            "bin_start": 9788642.4,
            "count": 0
           }
          ],
          "max": "9788642",
          "min": "9788642",
          "nan_count": 0,
          "unique_count": 1
         }
        },
        {
         "dtype": "int64",
         "name": "_deepnote_index_column"
        }
       ],
       "row_count": 1,
       "rows_bottom": null,
       "rows_top": [
        {
         "AVG(recordid)": 5889701.5,
         "MAX(recordid)": 9788642,
         "MIN(recordid)": 5109911,
         "_deepnote_index_column": 0
        }
       ]
      },
      "text/html": [
       "<div>\n",
       "<style scoped>\n",
       "    .dataframe tbody tr th:only-of-type {\n",
       "        vertical-align: middle;\n",
       "    }\n",
       "\n",
       "    .dataframe tbody tr th {\n",
       "        vertical-align: top;\n",
       "    }\n",
       "\n",
       "    .dataframe thead th {\n",
       "        text-align: right;\n",
       "    }\n",
       "</style>\n",
       "<table border=\"1\" class=\"dataframe\">\n",
       "  <thead>\n",
       "    <tr style=\"text-align: right;\">\n",
       "      <th></th>\n",
       "      <th>AVG(recordid)</th>\n",
       "      <th>MIN(recordid)</th>\n",
       "      <th>MAX(recordid)</th>\n",
       "    </tr>\n",
       "  </thead>\n",
       "  <tbody>\n",
       "    <tr>\n",
       "      <th>0</th>\n",
       "      <td>5889701.5</td>\n",
       "      <td>5109911</td>\n",
       "      <td>9788642</td>\n",
       "    </tr>\n",
       "  </tbody>\n",
       "</table>\n",
       "</div>"
      ],
      "text/plain": [
       "   AVG(recordid)  MIN(recordid)  MAX(recordid)\n",
       "0      5889701.5        5109911        9788642"
      ]
     },
     "execution_count": 11,
     "metadata": {},
     "output_type": "execute_result"
    }
   ],
   "source": [
    "get_data('SELECT AVG(recordid), MIN(recordid), MAX(recordid) FROM species WHERE species_name == \"Canis adustus\";')\n"
   ]
  },
  {
   "cell_type": "markdown",
   "metadata": {
    "cell_id": "00027-a2dd4d99-4f6d-4a9c-80c8-8e46fda41c3e",
    "deepnote_cell_type": "markdown",
    "tags": []
   },
   "source": [
    "## Connect/combine two tables\n",
    "\n",
    "To combine multiple tables, we can SELECT columns by naming them table.columnName, e.g. species.recordid will correspond to the column recordid of table species, while bins.recordid will correspond to the recordid column in bins table.\n",
    "\n",
    "To join two tables we can use JOIN: \n",
    "* FROM tableName1 INNER JOIN tableName2\n",
    "\n",
    "and tell it to JOIN these two tables by column tableName1.x and tableName2.y we use \n",
    "* ON  tableName1.x = tableName2.y"
   ]
  },
  {
   "cell_type": "markdown",
   "metadata": {
    "cell_id": "00032-3f6d8cdc-d488-44f8-9c14-790256cfbaed",
    "deepnote_cell_type": "markdown",
    "tags": []
   },
   "source": [
    "### INNER JOIN and ON "
   ]
  },
  {
   "cell_type": "code",
   "execution_count": 12,
   "metadata": {
    "cell_id": "00029-8d7516ba-136a-4854-b3f0-5e4d34cc517f",
    "deepnote_cell_type": "code",
    "deepnote_output_heights": [
     232.25
    ],
    "deepnote_to_be_reexecuted": false,
    "execution_millis": 60,
    "execution_start": 1638459122061,
    "source_hash": "ca4c902a",
    "tags": []
   },
   "outputs": [
    {
     "data": {
      "application/vnd.deepnote.dataframe.v2+json": {
       "column_count": 3,
       "columns": [
        {
         "dtype": "int64",
         "name": "RecordID",
         "stats": {
          "histogram": [
           {
            "bin_end": 1191675.7,
            "bin_start": 40750,
            "count": 301
           },
           {
            "bin_end": 2342601.4,
            "bin_start": 1191675.7,
            "count": 11
           },
           {
            "bin_end": 3493527.0999999996,
            "bin_start": 2342601.4,
            "count": 2
           },
           {
            "bin_end": 4644452.8,
            "bin_start": 3493527.0999999996,
            "count": 104
           },
           {
            "bin_end": 5795378.5,
            "bin_start": 4644452.8,
            "count": 26
           },
           {
            "bin_end": 6946304.199999999,
            "bin_start": 5795378.5,
            "count": 442
           },
           {
            "bin_end": 8097229.899999999,
            "bin_start": 6946304.199999999,
            "count": 19
           },
           {
            "bin_end": 9248155.6,
            "bin_start": 8097229.899999999,
            "count": 24
           },
           {
            "bin_end": 10399081.299999999,
            "bin_start": 9248155.6,
            "count": 979
           },
           {
            "bin_end": 11550007,
            "bin_start": 10399081.299999999,
            "count": 60
           }
          ],
          "max": "11550007",
          "min": "40750",
          "nan_count": 0,
          "unique_count": 1968
         }
        },
        {
         "dtype": "object",
         "name": "Species Name",
         "stats": {
          "categories": [
           {
            "count": 1544,
            "name": "Canis lupus"
           },
           {
            "count": 159,
            "name": "Urocyon littoralis"
           },
           {
            "count": 265,
            "name": "28 others"
           }
          ],
          "nan_count": 0,
          "unique_count": 30
         }
        },
        {
         "dtype": "object",
         "name": "BIN",
         "stats": {
          "categories": [
           {
            "count": 1552,
            "name": "BOLD:AAA1542"
           },
           {
            "count": 189,
            "name": "BOLD:AAC5230"
           },
           {
            "count": 227,
            "name": "28 others"
           }
          ],
          "nan_count": 0,
          "unique_count": 30
         }
        },
        {
         "dtype": "int64",
         "name": "_deepnote_index_column"
        }
       ],
       "row_count": 1968,
       "rows_bottom": [
        {
         "BIN": "BOLD:AAA1542",
         "RecordID": 6170595,
         "Species Name": "Canis lupus",
         "_deepnote_index_column": 1801
        },
        {
         "BIN": "BOLD:AAA1542",
         "RecordID": 6170635,
         "Species Name": "Canis lupus",
         "_deepnote_index_column": 1802
        },
        {
         "BIN": "BOLD:AAA1542",
         "RecordID": 9634260,
         "Species Name": "Canis lupus",
         "_deepnote_index_column": 1803
        },
        {
         "BIN": "BOLD:AAA1542",
         "RecordID": 504049,
         "Species Name": "Canis lupus",
         "_deepnote_index_column": 1804
        },
        {
         "BIN": "BOLD:AAA1542",
         "RecordID": 504052,
         "Species Name": "Canis lupus",
         "_deepnote_index_column": 1805
        },
        {
         "BIN": "BOLD:AAA1542",
         "RecordID": 9787493,
         "Species Name": "Canis lupus",
         "_deepnote_index_column": 1806
        },
        {
         "BIN": "BOLD:AAA1542",
         "RecordID": 9787910,
         "Species Name": "Canis lupus",
         "_deepnote_index_column": 1807
        },
        {
         "BIN": "BOLD:AAA1542",
         "RecordID": 9787944,
         "Species Name": "Canis lupus",
         "_deepnote_index_column": 1808
        },
        {
         "BIN": "BOLD:AAA1542",
         "RecordID": 9787981,
         "Species Name": "Canis lupus",
         "_deepnote_index_column": 1809
        },
        {
         "BIN": "BOLD:AAA1542",
         "RecordID": 9787983,
         "Species Name": "Canis lupus",
         "_deepnote_index_column": 1810
        },
        {
         "BIN": "BOLD:AAA1542",
         "RecordID": 9787994,
         "Species Name": "Canis lupus",
         "_deepnote_index_column": 1811
        },
        {
         "BIN": "BOLD:AAA1542",
         "RecordID": 9788153,
         "Species Name": "Canis lupus",
         "_deepnote_index_column": 1812
        },
        {
         "BIN": "BOLD:AAA1542",
         "RecordID": 9788161,
         "Species Name": "Canis lupus",
         "_deepnote_index_column": 1813
        },
        {
         "BIN": "BOLD:AAA1542",
         "RecordID": 9788176,
         "Species Name": "Canis lupus",
         "_deepnote_index_column": 1814
        },
        {
         "BIN": "BOLD:AAA1542",
         "RecordID": 9788223,
         "Species Name": "Canis lupus",
         "_deepnote_index_column": 1815
        },
        {
         "BIN": "BOLD:AAA1542",
         "RecordID": 9788225,
         "Species Name": "Canis lupus",
         "_deepnote_index_column": 1816
        },
        {
         "BIN": "BOLD:AAA1542",
         "RecordID": 9788283,
         "Species Name": "Canis lupus",
         "_deepnote_index_column": 1817
        },
        {
         "BIN": "BOLD:AAA1542",
         "RecordID": 9788376,
         "Species Name": "Canis lupus",
         "_deepnote_index_column": 1818
        },
        {
         "BIN": "BOLD:AAA1542",
         "RecordID": 9788418,
         "Species Name": "Canis lupus",
         "_deepnote_index_column": 1819
        },
        {
         "BIN": "BOLD:AAA1542",
         "RecordID": 9788486,
         "Species Name": "Canis lupus",
         "_deepnote_index_column": 1820
        },
        {
         "BIN": "BOLD:AAA1542",
         "RecordID": 9788501,
         "Species Name": "Canis lupus",
         "_deepnote_index_column": 1821
        },
        {
         "BIN": "BOLD:AAA1542",
         "RecordID": 9788552,
         "Species Name": "Canis lupus",
         "_deepnote_index_column": 1822
        },
        {
         "BIN": "BOLD:AAA1542",
         "RecordID": 9788590,
         "Species Name": "Canis lupus",
         "_deepnote_index_column": 1823
        },
        {
         "BIN": "BOLD:AAA1542",
         "RecordID": 9788632,
         "Species Name": "Canis lupus",
         "_deepnote_index_column": 1824
        },
        {
         "BIN": "BOLD:AAA1542",
         "RecordID": 9788634,
         "Species Name": "Canis lupus",
         "_deepnote_index_column": 1825
        },
        {
         "BIN": "BOLD:AAA1542",
         "RecordID": 9788640,
         "Species Name": "Canis lupus",
         "_deepnote_index_column": 1826
        },
        {
         "BIN": "BOLD:AAA1542",
         "RecordID": 1116159,
         "Species Name": "Canis lupus",
         "_deepnote_index_column": 1827
        },
        {
         "BIN": "BOLD:AAA1542",
         "RecordID": 1118209,
         "Species Name": "Canis lupus",
         "_deepnote_index_column": 1828
        },
        {
         "BIN": "BOLD:AAA1542",
         "RecordID": 1118215,
         "Species Name": "Canis lupus",
         "_deepnote_index_column": 1829
        },
        {
         "BIN": "BOLD:AAA1542",
         "RecordID": 1183123,
         "Species Name": "Canis lupus",
         "_deepnote_index_column": 1830
        },
        {
         "BIN": "BOLD:AAA1542",
         "RecordID": 1183170,
         "Species Name": "Canis lupus",
         "_deepnote_index_column": 1831
        },
        {
         "BIN": "BOLD:AAA1542",
         "RecordID": 1525997,
         "Species Name": "Canis lupus",
         "_deepnote_index_column": 1832
        },
        {
         "BIN": "BOLD:AAA1542",
         "RecordID": 3599892,
         "Species Name": "Canis lupus",
         "_deepnote_index_column": 1833
        },
        {
         "BIN": "BOLD:AAA1542",
         "RecordID": 3599922,
         "Species Name": "Canis lupus",
         "_deepnote_index_column": 1834
        },
        {
         "BIN": "BOLD:AAA1542",
         "RecordID": 6170531,
         "Species Name": "Canis lupus",
         "_deepnote_index_column": 1835
        },
        {
         "BIN": "BOLD:AAA1542",
         "RecordID": 6170538,
         "Species Name": "Canis lupus",
         "_deepnote_index_column": 1836
        },
        {
         "BIN": "BOLD:AAA1542",
         "RecordID": 6170546,
         "Species Name": "Canis lupus",
         "_deepnote_index_column": 1837
        },
        {
         "BIN": "BOLD:AAA1542",
         "RecordID": 6170568,
         "Species Name": "Canis lupus",
         "_deepnote_index_column": 1838
        },
        {
         "BIN": "BOLD:AAA1542",
         "RecordID": 6170570,
         "Species Name": "Canis lupus",
         "_deepnote_index_column": 1839
        },
        {
         "BIN": "BOLD:AAA1542",
         "RecordID": 6170577,
         "Species Name": "Canis lupus",
         "_deepnote_index_column": 1840
        },
        {
         "BIN": "BOLD:AAA1542",
         "RecordID": 6170618,
         "Species Name": "Canis lupus",
         "_deepnote_index_column": 1841
        },
        {
         "BIN": "BOLD:AAA1542",
         "RecordID": 6170620,
         "Species Name": "Canis lupus",
         "_deepnote_index_column": 1842
        },
        {
         "BIN": "BOLD:AAA1542",
         "RecordID": 6170640,
         "Species Name": "Canis lupus",
         "_deepnote_index_column": 1843
        },
        {
         "BIN": "BOLD:AAA1542",
         "RecordID": 6170644,
         "Species Name": "Canis lupus",
         "_deepnote_index_column": 1844
        },
        {
         "BIN": "BOLD:AAA1542",
         "RecordID": 6170648,
         "Species Name": "Canis lupus",
         "_deepnote_index_column": 1845
        },
        {
         "BIN": "BOLD:AAA1542",
         "RecordID": 6959696,
         "Species Name": "Canis lupus",
         "_deepnote_index_column": 1846
        },
        {
         "BIN": "BOLD:AAA1542",
         "RecordID": 9785699,
         "Species Name": "Canis lupus",
         "_deepnote_index_column": 1847
        },
        {
         "BIN": "BOLD:AAA1542",
         "RecordID": 9787473,
         "Species Name": "Canis lupus",
         "_deepnote_index_column": 1848
        },
        {
         "BIN": "BOLD:AAA1542",
         "RecordID": 9787949,
         "Species Name": "Canis lupus",
         "_deepnote_index_column": 1849
        },
        {
         "BIN": "BOLD:AAA1542",
         "RecordID": 9787978,
         "Species Name": "Canis lupus",
         "_deepnote_index_column": 1850
        },
        {
         "BIN": "BOLD:AAA1542",
         "RecordID": 9788000,
         "Species Name": "Canis lupus",
         "_deepnote_index_column": 1851
        },
        {
         "BIN": "BOLD:AAA1542",
         "RecordID": 9788030,
         "Species Name": "Canis lupus",
         "_deepnote_index_column": 1852
        },
        {
         "BIN": "BOLD:AAA1542",
         "RecordID": 9788091,
         "Species Name": "Canis lupus",
         "_deepnote_index_column": 1853
        },
        {
         "BIN": "BOLD:AAA1542",
         "RecordID": 9788167,
         "Species Name": "Canis lupus",
         "_deepnote_index_column": 1854
        },
        {
         "BIN": "BOLD:AAA1542",
         "RecordID": 9788189,
         "Species Name": "Canis lupus",
         "_deepnote_index_column": 1855
        },
        {
         "BIN": "BOLD:AAA1542",
         "RecordID": 9788287,
         "Species Name": "Canis lupus",
         "_deepnote_index_column": 1856
        },
        {
         "BIN": "BOLD:AAA1542",
         "RecordID": 9788299,
         "Species Name": "Canis lupus",
         "_deepnote_index_column": 1857
        },
        {
         "BIN": "BOLD:AAA1542",
         "RecordID": 9788309,
         "Species Name": "Canis lupus",
         "_deepnote_index_column": 1858
        },
        {
         "BIN": "BOLD:AAA1542",
         "RecordID": 9788337,
         "Species Name": "Canis lupus",
         "_deepnote_index_column": 1859
        },
        {
         "BIN": "BOLD:AAA1542",
         "RecordID": 9788352,
         "Species Name": "Canis lupus",
         "_deepnote_index_column": 1860
        },
        {
         "BIN": "BOLD:AAA1542",
         "RecordID": 9788363,
         "Species Name": "Canis lupus",
         "_deepnote_index_column": 1861
        },
        {
         "BIN": "BOLD:AAA1542",
         "RecordID": 9788379,
         "Species Name": "Canis lupus",
         "_deepnote_index_column": 1862
        },
        {
         "BIN": "BOLD:AAA1542",
         "RecordID": 9788487,
         "Species Name": "Canis lupus",
         "_deepnote_index_column": 1863
        },
        {
         "BIN": "BOLD:AAA1542",
         "RecordID": 9788492,
         "Species Name": "Canis lupus",
         "_deepnote_index_column": 1864
        },
        {
         "BIN": "BOLD:AAA1542",
         "RecordID": 9788560,
         "Species Name": "Canis lupus",
         "_deepnote_index_column": 1865
        },
        {
         "BIN": "BOLD:AAA1542",
         "RecordID": 9788568,
         "Species Name": "Canis lupus",
         "_deepnote_index_column": 1866
        },
        {
         "BIN": "BOLD:AAA1542",
         "RecordID": 9788577,
         "Species Name": "Canis lupus",
         "_deepnote_index_column": 1867
        },
        {
         "BIN": "BOLD:AAA1542",
         "RecordID": 9788581,
         "Species Name": "Canis lupus",
         "_deepnote_index_column": 1868
        },
        {
         "BIN": "BOLD:AAA1542",
         "RecordID": 9788583,
         "Species Name": "Canis lupus",
         "_deepnote_index_column": 1869
        },
        {
         "BIN": "BOLD:AAA1542",
         "RecordID": 9788613,
         "Species Name": "Canis lupus",
         "_deepnote_index_column": 1870
        },
        {
         "BIN": "BOLD:AAA1542",
         "RecordID": 9788614,
         "Species Name": "Canis lupus",
         "_deepnote_index_column": 1871
        },
        {
         "BIN": "BOLD:AAA1542",
         "RecordID": 1118191,
         "Species Name": "Canis lupus",
         "_deepnote_index_column": 1872
        },
        {
         "BIN": "BOLD:AAA1542",
         "RecordID": 9792819,
         "Species Name": "Canis lupus",
         "_deepnote_index_column": 1873
        },
        {
         "BIN": "BOLD:AAA1542",
         "RecordID": 1183164,
         "Species Name": "Canis lupus",
         "_deepnote_index_column": 1874
        },
        {
         "BIN": "BOLD:AAA1542",
         "RecordID": 9793960,
         "Species Name": "Canis lupus",
         "_deepnote_index_column": 1875
        },
        {
         "BIN": "BOLD:AAA1542",
         "RecordID": 1183182,
         "Species Name": "Canis lupus",
         "_deepnote_index_column": 1876
        },
        {
         "BIN": "BOLD:AAA1542",
         "RecordID": 1183220,
         "Species Name": "Canis lupus",
         "_deepnote_index_column": 1877
        },
        {
         "BIN": "BOLD:AAA1542",
         "RecordID": 1525993,
         "Species Name": "Canis lupus",
         "_deepnote_index_column": 1878
        },
        {
         "BIN": "BOLD:AAA1542",
         "RecordID": 3599867,
         "Species Name": "Canis lupus",
         "_deepnote_index_column": 1879
        },
        {
         "BIN": "BOLD:AAA1542",
         "RecordID": 3599905,
         "Species Name": "Canis lupus",
         "_deepnote_index_column": 1880
        },
        {
         "BIN": "BOLD:AAA1542",
         "RecordID": 3599963,
         "Species Name": "Canis lupus",
         "_deepnote_index_column": 1881
        },
        {
         "BIN": "BOLD:AAA1542",
         "RecordID": 6170485,
         "Species Name": "Canis lupus",
         "_deepnote_index_column": 1882
        },
        {
         "BIN": "BOLD:AAA1542",
         "RecordID": 6170643,
         "Species Name": "Canis lupus",
         "_deepnote_index_column": 1883
        },
        {
         "BIN": "BOLD:AAA1542",
         "RecordID": 5108262,
         "Species Name": "Canis lupus",
         "_deepnote_index_column": 1884
        },
        {
         "BIN": "BOLD:AAA1542",
         "RecordID": 8455974,
         "Species Name": "Canis lupus",
         "_deepnote_index_column": 1885
        },
        {
         "BIN": "BOLD:AAA1542",
         "RecordID": 9787449,
         "Species Name": "Canis lupus",
         "_deepnote_index_column": 1886
        },
        {
         "BIN": "BOLD:AAA1542",
         "RecordID": 9787496,
         "Species Name": "Canis lupus",
         "_deepnote_index_column": 1887
        },
        {
         "BIN": "BOLD:AAA1542",
         "RecordID": 9787680,
         "Species Name": "Canis lupus",
         "_deepnote_index_column": 1888
        },
        {
         "BIN": "BOLD:AAA1542",
         "RecordID": 9787924,
         "Species Name": "Canis lupus",
         "_deepnote_index_column": 1889
        },
        {
         "BIN": "BOLD:AAA1542",
         "RecordID": 9787953,
         "Species Name": "Canis lupus",
         "_deepnote_index_column": 1890
        },
        {
         "BIN": "BOLD:AAA1542",
         "RecordID": 9788028,
         "Species Name": "Canis lupus",
         "_deepnote_index_column": 1891
        },
        {
         "BIN": "BOLD:AAA1542",
         "RecordID": 9788038,
         "Species Name": "Canis lupus",
         "_deepnote_index_column": 1892
        },
        {
         "BIN": "BOLD:AAA1542",
         "RecordID": 9788039,
         "Species Name": "Canis lupus",
         "_deepnote_index_column": 1893
        },
        {
         "BIN": "BOLD:AAA1542",
         "RecordID": 9788055,
         "Species Name": "Canis lupus",
         "_deepnote_index_column": 1894
        },
        {
         "BIN": "BOLD:AAA1542",
         "RecordID": 9788071,
         "Species Name": "Canis lupus",
         "_deepnote_index_column": 1895
        },
        {
         "BIN": "BOLD:AAA1542",
         "RecordID": 9788086,
         "Species Name": "Canis lupus",
         "_deepnote_index_column": 1896
        },
        {
         "BIN": "BOLD:AAA1542",
         "RecordID": 9788115,
         "Species Name": "Canis lupus",
         "_deepnote_index_column": 1897
        },
        {
         "BIN": "BOLD:AAA1542",
         "RecordID": 9788135,
         "Species Name": "Canis lupus",
         "_deepnote_index_column": 1898
        },
        {
         "BIN": "BOLD:AAA1542",
         "RecordID": 9788171,
         "Species Name": "Canis lupus",
         "_deepnote_index_column": 1899
        },
        {
         "BIN": "BOLD:AAA1542",
         "RecordID": 9788183,
         "Species Name": "Canis lupus",
         "_deepnote_index_column": 1900
        },
        {
         "BIN": "BOLD:AAA1542",
         "RecordID": 9788229,
         "Species Name": "Canis lupus",
         "_deepnote_index_column": 1901
        },
        {
         "BIN": "BOLD:AAA1542",
         "RecordID": 9788386,
         "Species Name": "Canis lupus",
         "_deepnote_index_column": 1902
        },
        {
         "BIN": "BOLD:AAA1542",
         "RecordID": 9788390,
         "Species Name": "Canis lupus",
         "_deepnote_index_column": 1903
        },
        {
         "BIN": "BOLD:AAA1542",
         "RecordID": 9788429,
         "Species Name": "Canis lupus",
         "_deepnote_index_column": 1904
        },
        {
         "BIN": "BOLD:AAA1542",
         "RecordID": 9788440,
         "Species Name": "Canis lupus",
         "_deepnote_index_column": 1905
        },
        {
         "BIN": "BOLD:AAA1542",
         "RecordID": 9788459,
         "Species Name": "Canis lupus",
         "_deepnote_index_column": 1906
        },
        {
         "BIN": "BOLD:AAA1542",
         "RecordID": 9788546,
         "Species Name": "Canis lupus",
         "_deepnote_index_column": 1907
        },
        {
         "BIN": "BOLD:AAA1542",
         "RecordID": 9788549,
         "Species Name": "Canis lupus",
         "_deepnote_index_column": 1908
        },
        {
         "BIN": "BOLD:AAA1542",
         "RecordID": 9788608,
         "Species Name": "Canis lupus",
         "_deepnote_index_column": 1909
        },
        {
         "BIN": "BOLD:AAA1542",
         "RecordID": 9788626,
         "Species Name": "Canis lupus",
         "_deepnote_index_column": 1910
        },
        {
         "BIN": "BOLD:AAA1542",
         "RecordID": 9788630,
         "Species Name": "Canis lupus",
         "_deepnote_index_column": 1911
        },
        {
         "BIN": "BOLD:AAA1542",
         "RecordID": 1118169,
         "Species Name": "Canis lupus",
         "_deepnote_index_column": 1912
        },
        {
         "BIN": "BOLD:AAA1542",
         "RecordID": 1183132,
         "Species Name": "Canis lupus",
         "_deepnote_index_column": 1913
        },
        {
         "BIN": "BOLD:AAA1542",
         "RecordID": 1183197,
         "Species Name": "Canis lupus",
         "_deepnote_index_column": 1914
        },
        {
         "BIN": "BOLD:AAA1542",
         "RecordID": 1183244,
         "Species Name": "Canis lupus",
         "_deepnote_index_column": 1915
        },
        {
         "BIN": "BOLD:AAA1542",
         "RecordID": 1183247,
         "Species Name": "Canis lupus",
         "_deepnote_index_column": 1916
        },
        {
         "BIN": "BOLD:AAA1542",
         "RecordID": 3599953,
         "Species Name": "Canis lupus",
         "_deepnote_index_column": 1917
        },
        {
         "BIN": "BOLD:AAA1542",
         "RecordID": 6170444,
         "Species Name": "Canis lupus",
         "_deepnote_index_column": 1918
        },
        {
         "BIN": "BOLD:AAA1542",
         "RecordID": 6170457,
         "Species Name": "Canis lupus",
         "_deepnote_index_column": 1919
        },
        {
         "BIN": "BOLD:AAA1542",
         "RecordID": 6170469,
         "Species Name": "Canis lupus",
         "_deepnote_index_column": 1920
        },
        {
         "BIN": "BOLD:AAA1542",
         "RecordID": 6170535,
         "Species Name": "Canis lupus",
         "_deepnote_index_column": 1921
        },
        {
         "BIN": "BOLD:AAA1542",
         "RecordID": 6170539,
         "Species Name": "Canis lupus",
         "_deepnote_index_column": 1922
        },
        {
         "BIN": "BOLD:AAA1542",
         "RecordID": 6170558,
         "Species Name": "Canis lupus",
         "_deepnote_index_column": 1923
        },
        {
         "BIN": "BOLD:AAA1542",
         "RecordID": 6170582,
         "Species Name": "Canis lupus",
         "_deepnote_index_column": 1924
        },
        {
         "BIN": "BOLD:AAA1542",
         "RecordID": 6170653,
         "Species Name": "Canis lupus",
         "_deepnote_index_column": 1925
        },
        {
         "BIN": "BOLD:AAA1542",
         "RecordID": 5108242,
         "Species Name": "Canis lupus",
         "_deepnote_index_column": 1926
        },
        {
         "BIN": "BOLD:AAA1542",
         "RecordID": 5108264,
         "Species Name": "Canis lupus",
         "_deepnote_index_column": 1927
        },
        {
         "BIN": "BOLD:AAA1542",
         "RecordID": 9630459,
         "Species Name": "Canis lupus",
         "_deepnote_index_column": 1928
        },
        {
         "BIN": "BOLD:AAA1542",
         "RecordID": 9787451,
         "Species Name": "Canis lupus",
         "_deepnote_index_column": 1929
        },
        {
         "BIN": "BOLD:AAA1542",
         "RecordID": 9787452,
         "Species Name": "Canis lupus",
         "_deepnote_index_column": 1930
        },
        {
         "BIN": "BOLD:AAA1542",
         "RecordID": 9787459,
         "Species Name": "Canis lupus",
         "_deepnote_index_column": 1931
        },
        {
         "BIN": "BOLD:AAA1542",
         "RecordID": 9787666,
         "Species Name": "Canis lupus",
         "_deepnote_index_column": 1932
        },
        {
         "BIN": "BOLD:AAA1542",
         "RecordID": 9787684,
         "Species Name": "Canis lupus",
         "_deepnote_index_column": 1933
        },
        {
         "BIN": "BOLD:AAA1542",
         "RecordID": 9787685,
         "Species Name": "Canis lupus",
         "_deepnote_index_column": 1934
        },
        {
         "BIN": "BOLD:AAA1542",
         "RecordID": 9787960,
         "Species Name": "Canis lupus",
         "_deepnote_index_column": 1935
        },
        {
         "BIN": "BOLD:AAA1542",
         "RecordID": 9788006,
         "Species Name": "Canis lupus",
         "_deepnote_index_column": 1936
        },
        {
         "BIN": "BOLD:AAA1542",
         "RecordID": 9788037,
         "Species Name": "Canis lupus",
         "_deepnote_index_column": 1937
        },
        {
         "BIN": "BOLD:AAA1542",
         "RecordID": 9788150,
         "Species Name": "Canis lupus",
         "_deepnote_index_column": 1938
        },
        {
         "BIN": "BOLD:AAA1542",
         "RecordID": 9788210,
         "Species Name": "Canis lupus",
         "_deepnote_index_column": 1939
        },
        {
         "BIN": "BOLD:AAA1542",
         "RecordID": 9788253,
         "Species Name": "Canis lupus",
         "_deepnote_index_column": 1940
        },
        {
         "BIN": "BOLD:AAA1542",
         "RecordID": 9788264,
         "Species Name": "Canis lupus",
         "_deepnote_index_column": 1941
        },
        {
         "BIN": "BOLD:AAA1542",
         "RecordID": 9788282,
         "Species Name": "Canis lupus",
         "_deepnote_index_column": 1942
        },
        {
         "BIN": "BOLD:AAA1542",
         "RecordID": 9788324,
         "Species Name": "Canis lupus",
         "_deepnote_index_column": 1943
        },
        {
         "BIN": "BOLD:AAA1542",
         "RecordID": 9788332,
         "Species Name": "Canis lupus",
         "_deepnote_index_column": 1944
        },
        {
         "BIN": "BOLD:AAA1542",
         "RecordID": 9788396,
         "Species Name": "Canis lupus",
         "_deepnote_index_column": 1945
        },
        {
         "BIN": "BOLD:AAA1542",
         "RecordID": 9788579,
         "Species Name": "Canis lupus",
         "_deepnote_index_column": 1946
        },
        {
         "BIN": "BOLD:AAA1542",
         "RecordID": 9788591,
         "Species Name": "Canis lupus",
         "_deepnote_index_column": 1947
        },
        {
         "BIN": "BOLD:AAA1542",
         "RecordID": 9788631,
         "Species Name": "Canis lupus",
         "_deepnote_index_column": 1948
        },
        {
         "BIN": "BOLD:AAA1542",
         "RecordID": 9788831,
         "Species Name": "Canis aureus",
         "_deepnote_index_column": 1949
        },
        {
         "BIN": "BOLD:AAA1542",
         "RecordID": 9788832,
         "Species Name": "Canis aureus",
         "_deepnote_index_column": 1950
        },
        {
         "BIN": "BOLD:AAA1542",
         "RecordID": 1183142,
         "Species Name": "Canis lupus",
         "_deepnote_index_column": 1951
        },
        {
         "BIN": "BOLD:AAA1542",
         "RecordID": 1183145,
         "Species Name": "Canis lupus",
         "_deepnote_index_column": 1952
        },
        {
         "BIN": "BOLD:AAA1542",
         "RecordID": 9793959,
         "Species Name": "Canis lupus",
         "_deepnote_index_column": 1953
        },
        {
         "BIN": "BOLD:AAA1542",
         "RecordID": 1183188,
         "Species Name": "Canis lupus",
         "_deepnote_index_column": 1954
        },
        {
         "BIN": "BOLD:AAA1542",
         "RecordID": 1183205,
         "Species Name": "Canis lupus",
         "_deepnote_index_column": 1955
        },
        {
         "BIN": "BOLD:AAA1542",
         "RecordID": 3599873,
         "Species Name": "Canis lupus",
         "_deepnote_index_column": 1956
        },
        {
         "BIN": "BOLD:AAA1542",
         "RecordID": 3599885,
         "Species Name": "Canis lupus",
         "_deepnote_index_column": 1957
        },
        {
         "BIN": "BOLD:AAA1542",
         "RecordID": 3599921,
         "Species Name": "Canis lupus",
         "_deepnote_index_column": 1958
        },
        {
         "BIN": "BOLD:AAA1542",
         "RecordID": 3599928,
         "Species Name": "Canis lupus",
         "_deepnote_index_column": 1959
        },
        {
         "BIN": "BOLD:AAA1542",
         "RecordID": 6170513,
         "Species Name": "Canis lupus",
         "_deepnote_index_column": 1960
        },
        {
         "BIN": "BOLD:AAA1542",
         "RecordID": 6170526,
         "Species Name": "Canis lupus",
         "_deepnote_index_column": 1961
        },
        {
         "BIN": "BOLD:AAA1542",
         "RecordID": 6170583,
         "Species Name": "Canis lupus",
         "_deepnote_index_column": 1962
        },
        {
         "BIN": "BOLD:AAA1542",
         "RecordID": 6170584,
         "Species Name": "Canis lupus",
         "_deepnote_index_column": 1963
        },
        {
         "BIN": "BOLD:AAA1542",
         "RecordID": 6170606,
         "Species Name": "Canis lupus",
         "_deepnote_index_column": 1964
        },
        {
         "BIN": "BOLD:AAA1542",
         "RecordID": 6170676,
         "Species Name": "Canis lupus",
         "_deepnote_index_column": 1965
        },
        {
         "BIN": "BOLD:AAA1542",
         "RecordID": 5108268,
         "Species Name": "Canis lupus",
         "_deepnote_index_column": 1966
        },
        {
         "BIN": "BOLD:AAA1542",
         "RecordID": 9630460,
         "Species Name": "Canis anthus",
         "_deepnote_index_column": 1967
        }
       ],
       "rows_top": [
        {
         "BIN": "BOLD:AEE9377",
         "RecordID": 9788642,
         "Species Name": "Canis adustus",
         "_deepnote_index_column": 0
        },
        {
         "BIN": "BOLD:AED1264",
         "RecordID": 11549569,
         "Species Name": "Lycalopex gymnocercus",
         "_deepnote_index_column": 1
        },
        {
         "BIN": "BOLD:AED1264",
         "RecordID": 11549555,
         "Species Name": "Lycalopex sechurae",
         "_deepnote_index_column": 2
        },
        {
         "BIN": "BOLD:AED1264",
         "RecordID": 11550007,
         "Species Name": "Lycalopex gymnocercus",
         "_deepnote_index_column": 3
        },
        {
         "BIN": "BOLD:AED1264",
         "RecordID": 11549562,
         "Species Name": "Lycalopex gymnocercus",
         "_deepnote_index_column": 4
        },
        {
         "BIN": "BOLD:AED1264",
         "RecordID": 11549552,
         "Species Name": "Lycalopex culpaeus",
         "_deepnote_index_column": 5
        },
        {
         "BIN": "BOLD:AED1264",
         "RecordID": 11549556,
         "Species Name": "Lycalopex gymnocercus",
         "_deepnote_index_column": 6
        },
        {
         "BIN": "BOLD:AED1264",
         "RecordID": 11549571,
         "Species Name": "Lycalopex gymnocercus",
         "_deepnote_index_column": 7
        },
        {
         "BIN": "BOLD:AED1264",
         "RecordID": 11549559,
         "Species Name": "Lycalopex culpaeus",
         "_deepnote_index_column": 8
        },
        {
         "BIN": "BOLD:AED1264",
         "RecordID": 11549560,
         "Species Name": "Lycalopex fulvipes",
         "_deepnote_index_column": 9
        },
        {
         "BIN": "BOLD:AED1264",
         "RecordID": 11549570,
         "Species Name": "Lycalopex gymnocercus",
         "_deepnote_index_column": 10
        },
        {
         "BIN": "BOLD:AED1264",
         "RecordID": 11549531,
         "Species Name": "Lycalopex culpaeus",
         "_deepnote_index_column": 11
        },
        {
         "BIN": "BOLD:AED1264",
         "RecordID": 11549525,
         "Species Name": "Lycalopex gymnocercus",
         "_deepnote_index_column": 12
        },
        {
         "BIN": "BOLD:AED1264",
         "RecordID": 11549561,
         "Species Name": "Lycalopex gymnocercus",
         "_deepnote_index_column": 13
        },
        {
         "BIN": "BOLD:AED1264",
         "RecordID": 11549532,
         "Species Name": "Lycalopex culpaeus",
         "_deepnote_index_column": 14
        },
        {
         "BIN": "BOLD:AED1264",
         "RecordID": 11549548,
         "Species Name": "Lycalopex culpaeus",
         "_deepnote_index_column": 15
        },
        {
         "BIN": "BOLD:AED1264",
         "RecordID": 9787884,
         "Species Name": "Lycalopex sechurae",
         "_deepnote_index_column": 16
        },
        {
         "BIN": "BOLD:AED1264",
         "RecordID": 11549547,
         "Species Name": "Lycalopex gymnocercus",
         "_deepnote_index_column": 17
        },
        {
         "BIN": "BOLD:ADX1193",
         "RecordID": 9795767,
         "Species Name": "Otocyon megalotis",
         "_deepnote_index_column": 18
        },
        {
         "BIN": "BOLD:ADX1193",
         "RecordID": 9630465,
         "Species Name": "Otocyon megalotis",
         "_deepnote_index_column": 19
        },
        {
         "BIN": "BOLD:ADW2121",
         "RecordID": 8455977,
         "Species Name": "Canis mesomelas",
         "_deepnote_index_column": 20
        },
        {
         "BIN": "BOLD:ADW1234",
         "RecordID": 8458404,
         "Species Name": "Vulpes chama",
         "_deepnote_index_column": 21
        },
        {
         "BIN": "BOLD:ADM0647",
         "RecordID": 9788834,
         "Species Name": "Canis aureus",
         "_deepnote_index_column": 22
        },
        {
         "BIN": "BOLD:ADM0647",
         "RecordID": 9787639,
         "Species Name": "Canis aureus",
         "_deepnote_index_column": 23
        },
        {
         "BIN": "BOLD:ADM0647",
         "RecordID": 9787638,
         "Species Name": "Canis aureus",
         "_deepnote_index_column": 24
        },
        {
         "BIN": "BOLD:ADK6525",
         "RecordID": 8455976,
         "Species Name": "Canis mesomelas",
         "_deepnote_index_column": 25
        },
        {
         "BIN": "BOLD:ADK6164",
         "RecordID": 8458406,
         "Species Name": "Vulpes vulpes",
         "_deepnote_index_column": 26
        },
        {
         "BIN": "BOLD:ADK6164",
         "RecordID": 8458407,
         "Species Name": "Vulpes vulpes",
         "_deepnote_index_column": 27
        },
        {
         "BIN": "BOLD:ADK6164",
         "RecordID": 9787633,
         "Species Name": "Vulpes vulpes",
         "_deepnote_index_column": 28
        },
        {
         "BIN": "BOLD:ADK6164",
         "RecordID": 8458409,
         "Species Name": "Vulpes vulpes",
         "_deepnote_index_column": 29
        },
        {
         "BIN": "BOLD:ADK6164",
         "RecordID": 8458405,
         "Species Name": "Vulpes vulpes",
         "_deepnote_index_column": 30
        },
        {
         "BIN": "BOLD:ADJ8649",
         "RecordID": 8458412,
         "Species Name": "Vulpes chama",
         "_deepnote_index_column": 31
        },
        {
         "BIN": "BOLD:ADH8421",
         "RecordID": 9788646,
         "Species Name": "Speothos venaticus",
         "_deepnote_index_column": 32
        },
        {
         "BIN": "BOLD:ADH8421",
         "RecordID": 11549557,
         "Species Name": "Speothos venaticus",
         "_deepnote_index_column": 33
        },
        {
         "BIN": "BOLD:ADH8318",
         "RecordID": 11549572,
         "Species Name": "Lycalopex vetulus",
         "_deepnote_index_column": 34
        },
        {
         "BIN": "BOLD:ADC8514",
         "RecordID": 9630469,
         "Species Name": "Vulpes ferrilata",
         "_deepnote_index_column": 35
        },
        {
         "BIN": "BOLD:ADC8514",
         "RecordID": 6969184,
         "Species Name": "Vulpes ferrilata",
         "_deepnote_index_column": 36
        },
        {
         "BIN": "BOLD:ADC8199",
         "RecordID": 9630470,
         "Species Name": "Vulpes corsac",
         "_deepnote_index_column": 37
        },
        {
         "BIN": "BOLD:ADC8199",
         "RecordID": 6963327,
         "Species Name": "Vulpes corsac",
         "_deepnote_index_column": 38
        },
        {
         "BIN": "BOLD:ADC5958",
         "RecordID": 6960559,
         "Species Name": "Nyctereutes procyonoides",
         "_deepnote_index_column": 39
        },
        {
         "BIN": "BOLD:ADC5958",
         "RecordID": 9630464,
         "Species Name": "Nyctereutes procyonoides",
         "_deepnote_index_column": 40
        },
        {
         "BIN": "BOLD:ADC5958",
         "RecordID": 9787608,
         "Species Name": "Nyctereutes procyonoides",
         "_deepnote_index_column": 41
        },
        {
         "BIN": "BOLD:ADC5958",
         "RecordID": 9787605,
         "Species Name": "Nyctereutes procyonoides",
         "_deepnote_index_column": 42
        },
        {
         "BIN": "BOLD:ADC5958",
         "RecordID": 9787606,
         "Species Name": "Nyctereutes procyonoides",
         "_deepnote_index_column": 43
        },
        {
         "BIN": "BOLD:ADC5958",
         "RecordID": 9787611,
         "Species Name": "Nyctereutes procyonoides",
         "_deepnote_index_column": 44
        },
        {
         "BIN": "BOLD:ADC5958",
         "RecordID": 9795670,
         "Species Name": "Nyctereutes procyonoides",
         "_deepnote_index_column": 45
        },
        {
         "BIN": "BOLD:ADC5958",
         "RecordID": 9787604,
         "Species Name": "Nyctereutes procyonoides",
         "_deepnote_index_column": 46
        },
        {
         "BIN": "BOLD:ADC5958",
         "RecordID": 9787609,
         "Species Name": "Nyctereutes procyonoides",
         "_deepnote_index_column": 47
        },
        {
         "BIN": "BOLD:ADC5958",
         "RecordID": 9787447,
         "Species Name": "Nyctereutes procyonoides",
         "_deepnote_index_column": 48
        },
        {
         "BIN": "BOLD:ADC5958",
         "RecordID": 9787607,
         "Species Name": "Nyctereutes procyonoides",
         "_deepnote_index_column": 49
        },
        {
         "BIN": "BOLD:ADC5958",
         "RecordID": 9787610,
         "Species Name": "Nyctereutes procyonoides",
         "_deepnote_index_column": 50
        },
        {
         "BIN": "BOLD:ADC5840",
         "RecordID": 6963578,
         "Species Name": "Vulpes zerda",
         "_deepnote_index_column": 51
        },
        {
         "BIN": "BOLD:ADC5840",
         "RecordID": 9630467,
         "Species Name": "Vulpes zerda",
         "_deepnote_index_column": 52
        },
        {
         "BIN": "BOLD:ADC5750",
         "RecordID": 9785703,
         "Species Name": "Cuon alpinus",
         "_deepnote_index_column": 53
        },
        {
         "BIN": "BOLD:ADC5750",
         "RecordID": 9630462,
         "Species Name": "Cuon alpinus",
         "_deepnote_index_column": 54
        },
        {
         "BIN": "BOLD:ADC5750",
         "RecordID": 6960503,
         "Species Name": "Cuon alpinus",
         "_deepnote_index_column": 55
        },
        {
         "BIN": "BOLD:ADC5750",
         "RecordID": 9788648,
         "Species Name": "Cuon alpinus",
         "_deepnote_index_column": 56
        },
        {
         "BIN": "BOLD:ADC5726",
         "RecordID": 8458416,
         "Species Name": "Vulpes vulpes",
         "_deepnote_index_column": 57
        },
        {
         "BIN": "BOLD:ADC5726",
         "RecordID": 8458410,
         "Species Name": "Vulpes vulpes",
         "_deepnote_index_column": 58
        },
        {
         "BIN": "BOLD:ADC5726",
         "RecordID": 6959251,
         "Species Name": "Vulpes vulpes",
         "_deepnote_index_column": 59
        },
        {
         "BIN": "BOLD:ADC5726",
         "RecordID": 8458408,
         "Species Name": "Vulpes vulpes",
         "_deepnote_index_column": 60
        },
        {
         "BIN": "BOLD:ADC5726",
         "RecordID": 8458414,
         "Species Name": "Vulpes vulpes",
         "_deepnote_index_column": 61
        },
        {
         "BIN": "BOLD:ADC5726",
         "RecordID": 1020279,
         "Species Name": "Vulpes vulpes",
         "_deepnote_index_column": 62
        },
        {
         "BIN": "BOLD:ADC5726",
         "RecordID": 9787636,
         "Species Name": "Vulpes vulpes",
         "_deepnote_index_column": 63
        },
        {
         "BIN": "BOLD:ADC5726",
         "RecordID": 8458411,
         "Species Name": "Vulpes vulpes",
         "_deepnote_index_column": 64
        },
        {
         "BIN": "BOLD:ADC5726",
         "RecordID": 9636534,
         "Species Name": "Vulpes vulpes",
         "_deepnote_index_column": 65
        },
        {
         "BIN": "BOLD:ADC5726",
         "RecordID": 9787632,
         "Species Name": "Vulpes vulpes",
         "_deepnote_index_column": 66
        },
        {
         "BIN": "BOLD:ADC5726",
         "RecordID": 9787634,
         "Species Name": "Vulpes vulpes",
         "_deepnote_index_column": 67
        },
        {
         "BIN": "BOLD:ADC5726",
         "RecordID": 1108776,
         "Species Name": "Vulpes vulpes",
         "_deepnote_index_column": 68
        },
        {
         "BIN": "BOLD:ADC5726",
         "RecordID": 1020288,
         "Species Name": "Vulpes vulpes",
         "_deepnote_index_column": 69
        },
        {
         "BIN": "BOLD:ADC5726",
         "RecordID": 7561707,
         "Species Name": "Vulpes vulpes",
         "_deepnote_index_column": 70
        },
        {
         "BIN": "BOLD:ADC5726",
         "RecordID": 3564619,
         "Species Name": "Vulpes vulpes",
         "_deepnote_index_column": 71
        },
        {
         "BIN": "BOLD:ADC5726",
         "RecordID": 8458413,
         "Species Name": "Vulpes vulpes",
         "_deepnote_index_column": 72
        },
        {
         "BIN": "BOLD:ADC5726",
         "RecordID": 8458415,
         "Species Name": "Vulpes vulpes",
         "_deepnote_index_column": 73
        },
        {
         "BIN": "BOLD:ADC5726",
         "RecordID": 9787635,
         "Species Name": "Vulpes vulpes",
         "_deepnote_index_column": 74
        },
        {
         "BIN": "BOLD:ADC5726",
         "RecordID": 9787883,
         "Species Name": "Vulpes vulpes",
         "_deepnote_index_column": 75
        },
        {
         "BIN": "BOLD:ADC5726",
         "RecordID": 969865,
         "Species Name": "Vulpes vulpes",
         "_deepnote_index_column": 76
        },
        {
         "BIN": "BOLD:ADC5726",
         "RecordID": 8458403,
         "Species Name": "Vulpes vulpes",
         "_deepnote_index_column": 77
        },
        {
         "BIN": "BOLD:ADC5726",
         "RecordID": 1020353,
         "Species Name": "Vulpes vulpes",
         "_deepnote_index_column": 78
        },
        {
         "BIN": "BOLD:ACW0143",
         "RecordID": 6170884,
         "Species Name": "Vulpes zerda",
         "_deepnote_index_column": 79
        },
        {
         "BIN": "BOLD:ACS5974",
         "RecordID": 8456006,
         "Species Name": "Cerdocyon thous",
         "_deepnote_index_column": 80
        },
        {
         "BIN": "BOLD:ACS3525",
         "RecordID": 9630461,
         "Species Name": "Chrysocyon brachyurus",
         "_deepnote_index_column": 81
        },
        {
         "BIN": "BOLD:ACS3525",
         "RecordID": 6962294,
         "Species Name": "Chrysocyon brachyurus",
         "_deepnote_index_column": 82
        },
        {
         "BIN": "BOLD:ACS3525",
         "RecordID": 11549558,
         "Species Name": "Chrysocyon brachyurus",
         "_deepnote_index_column": 83
        },
        {
         "BIN": "BOLD:ACR0824",
         "RecordID": 6968873,
         "Species Name": "Lycaon pictus",
         "_deepnote_index_column": 84
        },
        {
         "BIN": "BOLD:ACR0824",
         "RecordID": 9630463,
         "Species Name": "Lycaon pictus",
         "_deepnote_index_column": 85
        },
        {
         "BIN": "BOLD:ACR0824",
         "RecordID": 8456548,
         "Species Name": "Lycaon pictus",
         "_deepnote_index_column": 86
        },
        {
         "BIN": "BOLD:ACR0824",
         "RecordID": 8456550,
         "Species Name": "Lycaon pictus",
         "_deepnote_index_column": 87
        },
        {
         "BIN": "BOLD:ACR0824",
         "RecordID": 8456549,
         "Species Name": "Lycaon pictus",
         "_deepnote_index_column": 88
        },
        {
         "BIN": "BOLD:ACR0824",
         "RecordID": 9788711,
         "Species Name": "Lycaon pictus",
         "_deepnote_index_column": 89
        },
        {
         "BIN": "BOLD:ACR0823",
         "RecordID": 9788756,
         "Species Name": "Canis mesomelas",
         "_deepnote_index_column": 90
        },
        {
         "BIN": "BOLD:ACQ4177",
         "RecordID": 11549526,
         "Species Name": "Lycalopex griseus",
         "_deepnote_index_column": 91
        },
        {
         "BIN": "BOLD:ACQ4177",
         "RecordID": 11549534,
         "Species Name": "Lycalopex griseus",
         "_deepnote_index_column": 92
        },
        {
         "BIN": "BOLD:ACQ4177",
         "RecordID": 5109608,
         "Species Name": "Lycalopex gymnocercus",
         "_deepnote_index_column": 93
        },
        {
         "BIN": "BOLD:ACQ4177",
         "RecordID": 11549573,
         "Species Name": "Lycalopex griseus",
         "_deepnote_index_column": 94
        },
        {
         "BIN": "BOLD:ACQ4177",
         "RecordID": 11549565,
         "Species Name": "Lycalopex griseus",
         "_deepnote_index_column": 95
        },
        {
         "BIN": "BOLD:ACQ4177",
         "RecordID": 11549522,
         "Species Name": "Lycalopex griseus",
         "_deepnote_index_column": 96
        },
        {
         "BIN": "BOLD:ACQ4177",
         "RecordID": 11549533,
         "Species Name": "Lycalopex griseus",
         "_deepnote_index_column": 97
        },
        {
         "BIN": "BOLD:ACQ4177",
         "RecordID": 11549564,
         "Species Name": "Lycalopex griseus",
         "_deepnote_index_column": 98
        },
        {
         "BIN": "BOLD:ACQ4177",
         "RecordID": 11549520,
         "Species Name": "Lycalopex griseus",
         "_deepnote_index_column": 99
        },
        {
         "BIN": "BOLD:ACQ4177",
         "RecordID": 11549528,
         "Species Name": "Lycalopex griseus",
         "_deepnote_index_column": 100
        },
        {
         "BIN": "BOLD:ACQ4177",
         "RecordID": 11549563,
         "Species Name": "Lycalopex griseus",
         "_deepnote_index_column": 101
        },
        {
         "BIN": "BOLD:ACQ4177",
         "RecordID": 11549519,
         "Species Name": "Lycalopex griseus",
         "_deepnote_index_column": 102
        },
        {
         "BIN": "BOLD:ACQ4177",
         "RecordID": 11549524,
         "Species Name": "Lycalopex griseus",
         "_deepnote_index_column": 103
        },
        {
         "BIN": "BOLD:ACQ4177",
         "RecordID": 11549529,
         "Species Name": "Lycalopex griseus",
         "_deepnote_index_column": 104
        },
        {
         "BIN": "BOLD:ACQ4177",
         "RecordID": 11549537,
         "Species Name": "Lycalopex griseus",
         "_deepnote_index_column": 105
        },
        {
         "BIN": "BOLD:ACQ4177",
         "RecordID": 11549542,
         "Species Name": "Lycalopex griseus",
         "_deepnote_index_column": 106
        },
        {
         "BIN": "BOLD:ACQ4177",
         "RecordID": 11549523,
         "Species Name": "Lycalopex griseus",
         "_deepnote_index_column": 107
        },
        {
         "BIN": "BOLD:ACQ4177",
         "RecordID": 11549567,
         "Species Name": "Lycalopex griseus",
         "_deepnote_index_column": 108
        },
        {
         "BIN": "BOLD:ACQ4177",
         "RecordID": 11549551,
         "Species Name": "Lycalopex griseus",
         "_deepnote_index_column": 109
        },
        {
         "BIN": "BOLD:ACQ4177",
         "RecordID": 11549568,
         "Species Name": "Lycalopex griseus",
         "_deepnote_index_column": 110
        },
        {
         "BIN": "BOLD:ACQ4177",
         "RecordID": 11549527,
         "Species Name": "Cerdocyon thous",
         "_deepnote_index_column": 111
        },
        {
         "BIN": "BOLD:ACQ4177",
         "RecordID": 11549538,
         "Species Name": "Lycalopex griseus",
         "_deepnote_index_column": 112
        },
        {
         "BIN": "BOLD:ACQ4177",
         "RecordID": 11549539,
         "Species Name": "Lycalopex griseus",
         "_deepnote_index_column": 113
        },
        {
         "BIN": "BOLD:ACQ4177",
         "RecordID": 11549545,
         "Species Name": "Lycalopex griseus",
         "_deepnote_index_column": 114
        },
        {
         "BIN": "BOLD:ACQ4177",
         "RecordID": 11549546,
         "Species Name": "Lycalopex griseus",
         "_deepnote_index_column": 115
        },
        {
         "BIN": "BOLD:ACQ4177",
         "RecordID": 11549544,
         "Species Name": "Lycalopex griseus",
         "_deepnote_index_column": 116
        },
        {
         "BIN": "BOLD:ACQ4177",
         "RecordID": 11549550,
         "Species Name": "Lycalopex griseus",
         "_deepnote_index_column": 117
        },
        {
         "BIN": "BOLD:ACQ4177",
         "RecordID": 11549566,
         "Species Name": "Lycalopex griseus",
         "_deepnote_index_column": 118
        },
        {
         "BIN": "BOLD:ACQ4177",
         "RecordID": 11549535,
         "Species Name": "Lycalopex griseus",
         "_deepnote_index_column": 119
        },
        {
         "BIN": "BOLD:ACQ4177",
         "RecordID": 11549536,
         "Species Name": "Lycalopex griseus",
         "_deepnote_index_column": 120
        },
        {
         "BIN": "BOLD:ACQ4177",
         "RecordID": 11549549,
         "Species Name": "Lycalopex griseus",
         "_deepnote_index_column": 121
        },
        {
         "BIN": "BOLD:ACQ4177",
         "RecordID": 11549540,
         "Species Name": "Lycalopex griseus",
         "_deepnote_index_column": 122
        },
        {
         "BIN": "BOLD:ACQ4177",
         "RecordID": 11549543,
         "Species Name": "Lycalopex griseus",
         "_deepnote_index_column": 123
        },
        {
         "BIN": "BOLD:ACQ4177",
         "RecordID": 11549541,
         "Species Name": "Lycalopex griseus",
         "_deepnote_index_column": 124
        },
        {
         "BIN": "BOLD:ACQ4177",
         "RecordID": 11549530,
         "Species Name": "Lycalopex griseus",
         "_deepnote_index_column": 125
        },
        {
         "BIN": "BOLD:ACQ4177",
         "RecordID": 11549554,
         "Species Name": "Lycalopex griseus",
         "_deepnote_index_column": 126
        },
        {
         "BIN": "BOLD:ACQ4177",
         "RecordID": 11549553,
         "Species Name": "Lycalopex griseus",
         "_deepnote_index_column": 127
        },
        {
         "BIN": "BOLD:ACQ1122",
         "RecordID": 5109911,
         "Species Name": "Canis adustus",
         "_deepnote_index_column": 128
        },
        {
         "BIN": "BOLD:ACQ1122",
         "RecordID": 5109916,
         "Species Name": "Canis adustus",
         "_deepnote_index_column": 129
        },
        {
         "BIN": "BOLD:ACQ1122",
         "RecordID": 5109915,
         "Species Name": "Canis adustus",
         "_deepnote_index_column": 130
        },
        {
         "BIN": "BOLD:ACQ1122",
         "RecordID": 5109913,
         "Species Name": "Canis adustus",
         "_deepnote_index_column": 131
        },
        {
         "BIN": "BOLD:ACQ1122",
         "RecordID": 5109912,
         "Species Name": "Canis adustus",
         "_deepnote_index_column": 132
        },
        {
         "BIN": "BOLD:AAF0792",
         "RecordID": 309075,
         "Species Name": "Cerdocyon thous",
         "_deepnote_index_column": 133
        },
        {
         "BIN": "BOLD:AAF0792",
         "RecordID": 11549518,
         "Species Name": "Cerdocyon thous",
         "_deepnote_index_column": 134
        },
        {
         "BIN": "BOLD:AAF0792",
         "RecordID": 11549521,
         "Species Name": "Cerdocyon thous",
         "_deepnote_index_column": 135
        },
        {
         "BIN": "BOLD:AAC6751",
         "RecordID": 40935,
         "Species Name": "Vulpes vulpes",
         "_deepnote_index_column": 136
        },
        {
         "BIN": "BOLD:AAC6751",
         "RecordID": 6170880,
         "Species Name": "Vulpes vulpes",
         "_deepnote_index_column": 137
        },
        {
         "BIN": "BOLD:AAC6751",
         "RecordID": 6170875,
         "Species Name": "Vulpes vulpes",
         "_deepnote_index_column": 138
        },
        {
         "BIN": "BOLD:AAC6751",
         "RecordID": 58091,
         "Species Name": "Vulpes vulpes",
         "_deepnote_index_column": 139
        },
        {
         "BIN": "BOLD:AAC6751",
         "RecordID": 41172,
         "Species Name": "Vulpes vulpes",
         "_deepnote_index_column": 140
        },
        {
         "BIN": "BOLD:AAC6751",
         "RecordID": 6170877,
         "Species Name": "Vulpes vulpes",
         "_deepnote_index_column": 141
        },
        {
         "BIN": "BOLD:AAC6751",
         "RecordID": 6170878,
         "Species Name": "Vulpes vulpes",
         "_deepnote_index_column": 142
        },
        {
         "BIN": "BOLD:AAC6751",
         "RecordID": 6170882,
         "Species Name": "Vulpes vulpes",
         "_deepnote_index_column": 143
        },
        {
         "BIN": "BOLD:AAC6751",
         "RecordID": 6170876,
         "Species Name": "Vulpes vulpes",
         "_deepnote_index_column": 144
        },
        {
         "BIN": "BOLD:AAC6751",
         "RecordID": 6170879,
         "Species Name": "Vulpes vulpes",
         "_deepnote_index_column": 145
        },
        {
         "BIN": "BOLD:AAC6751",
         "RecordID": 6170881,
         "Species Name": "Vulpes vulpes",
         "_deepnote_index_column": 146
        },
        {
         "BIN": "BOLD:AAC6751",
         "RecordID": 6170883,
         "Species Name": "Vulpes vulpes",
         "_deepnote_index_column": 147
        },
        {
         "BIN": "BOLD:AAC5231",
         "RecordID": 9793068,
         "Species Name": "Vulpes lagopus",
         "_deepnote_index_column": 148
        },
        {
         "BIN": "BOLD:AAC5231",
         "RecordID": 9793072,
         "Species Name": "Vulpes lagopus",
         "_deepnote_index_column": 149
        },
        {
         "BIN": "BOLD:AAC5231",
         "RecordID": 9793095,
         "Species Name": "Vulpes lagopus",
         "_deepnote_index_column": 150
        },
        {
         "BIN": "BOLD:AAC5231",
         "RecordID": 9630468,
         "Species Name": "Vulpes lagopus",
         "_deepnote_index_column": 151
        },
        {
         "BIN": "BOLD:AAC5231",
         "RecordID": 258718,
         "Species Name": "Vulpes lagopus",
         "_deepnote_index_column": 152
        },
        {
         "BIN": "BOLD:AAC5231",
         "RecordID": 9793058,
         "Species Name": "Vulpes lagopus",
         "_deepnote_index_column": 153
        },
        {
         "BIN": "BOLD:AAC5231",
         "RecordID": 9793051,
         "Species Name": "Vulpes lagopus",
         "_deepnote_index_column": 154
        },
        {
         "BIN": "BOLD:AAC5231",
         "RecordID": 9793056,
         "Species Name": "Vulpes lagopus",
         "_deepnote_index_column": 155
        },
        {
         "BIN": "BOLD:AAC5231",
         "RecordID": 40932,
         "Species Name": "Vulpes velox",
         "_deepnote_index_column": 156
        },
        {
         "BIN": "BOLD:AAC5231",
         "RecordID": 9793054,
         "Species Name": "Vulpes lagopus",
         "_deepnote_index_column": 157
        },
        {
         "BIN": "BOLD:AAC5231",
         "RecordID": 258717,
         "Species Name": "Vulpes lagopus",
         "_deepnote_index_column": 158
        },
        {
         "BIN": "BOLD:AAC5231",
         "RecordID": 258719,
         "Species Name": "Vulpes lagopus",
         "_deepnote_index_column": 159
        },
        {
         "BIN": "BOLD:AAC5231",
         "RecordID": 9788774,
         "Species Name": "Vulpes lagopus",
         "_deepnote_index_column": 160
        },
        {
         "BIN": "BOLD:AAC5231",
         "RecordID": 5086652,
         "Species Name": "Vulpes lagopus",
         "_deepnote_index_column": 161
        },
        {
         "BIN": "BOLD:AAC5231",
         "RecordID": 9793079,
         "Species Name": "Vulpes lagopus",
         "_deepnote_index_column": 162
        },
        {
         "BIN": "BOLD:AAC5231",
         "RecordID": 9793082,
         "Species Name": "Vulpes lagopus",
         "_deepnote_index_column": 163
        },
        {
         "BIN": "BOLD:AAC5231",
         "RecordID": 9793067,
         "Species Name": "Vulpes lagopus",
         "_deepnote_index_column": 164
        },
        {
         "BIN": "BOLD:AAC5231",
         "RecordID": 9793059,
         "Species Name": "Vulpes lagopus",
         "_deepnote_index_column": 165
        }
       ]
      },
      "text/html": [
       "<div>\n",
       "<style scoped>\n",
       "    .dataframe tbody tr th:only-of-type {\n",
       "        vertical-align: middle;\n",
       "    }\n",
       "\n",
       "    .dataframe tbody tr th {\n",
       "        vertical-align: top;\n",
       "    }\n",
       "\n",
       "    .dataframe thead th {\n",
       "        text-align: right;\n",
       "    }\n",
       "</style>\n",
       "<table border=\"1\" class=\"dataframe\">\n",
       "  <thead>\n",
       "    <tr style=\"text-align: right;\">\n",
       "      <th></th>\n",
       "      <th>RecordID</th>\n",
       "      <th>Species Name</th>\n",
       "      <th>BIN</th>\n",
       "    </tr>\n",
       "  </thead>\n",
       "  <tbody>\n",
       "    <tr>\n",
       "      <th>0</th>\n",
       "      <td>9788642</td>\n",
       "      <td>Canis adustus</td>\n",
       "      <td>BOLD:AEE9377</td>\n",
       "    </tr>\n",
       "    <tr>\n",
       "      <th>1</th>\n",
       "      <td>11549569</td>\n",
       "      <td>Lycalopex gymnocercus</td>\n",
       "      <td>BOLD:AED1264</td>\n",
       "    </tr>\n",
       "    <tr>\n",
       "      <th>2</th>\n",
       "      <td>11549555</td>\n",
       "      <td>Lycalopex sechurae</td>\n",
       "      <td>BOLD:AED1264</td>\n",
       "    </tr>\n",
       "    <tr>\n",
       "      <th>3</th>\n",
       "      <td>11550007</td>\n",
       "      <td>Lycalopex gymnocercus</td>\n",
       "      <td>BOLD:AED1264</td>\n",
       "    </tr>\n",
       "    <tr>\n",
       "      <th>4</th>\n",
       "      <td>11549562</td>\n",
       "      <td>Lycalopex gymnocercus</td>\n",
       "      <td>BOLD:AED1264</td>\n",
       "    </tr>\n",
       "    <tr>\n",
       "      <th>...</th>\n",
       "      <td>...</td>\n",
       "      <td>...</td>\n",
       "      <td>...</td>\n",
       "    </tr>\n",
       "    <tr>\n",
       "      <th>1963</th>\n",
       "      <td>6170584</td>\n",
       "      <td>Canis lupus</td>\n",
       "      <td>BOLD:AAA1542</td>\n",
       "    </tr>\n",
       "    <tr>\n",
       "      <th>1964</th>\n",
       "      <td>6170606</td>\n",
       "      <td>Canis lupus</td>\n",
       "      <td>BOLD:AAA1542</td>\n",
       "    </tr>\n",
       "    <tr>\n",
       "      <th>1965</th>\n",
       "      <td>6170676</td>\n",
       "      <td>Canis lupus</td>\n",
       "      <td>BOLD:AAA1542</td>\n",
       "    </tr>\n",
       "    <tr>\n",
       "      <th>1966</th>\n",
       "      <td>5108268</td>\n",
       "      <td>Canis lupus</td>\n",
       "      <td>BOLD:AAA1542</td>\n",
       "    </tr>\n",
       "    <tr>\n",
       "      <th>1967</th>\n",
       "      <td>9630460</td>\n",
       "      <td>Canis anthus</td>\n",
       "      <td>BOLD:AAA1542</td>\n",
       "    </tr>\n",
       "  </tbody>\n",
       "</table>\n",
       "<p>1968 rows × 3 columns</p>\n",
       "</div>"
      ],
      "text/plain": [
       "      RecordID           Species Name           BIN\n",
       "0      9788642          Canis adustus  BOLD:AEE9377\n",
       "1     11549569  Lycalopex gymnocercus  BOLD:AED1264\n",
       "2     11549555     Lycalopex sechurae  BOLD:AED1264\n",
       "3     11550007  Lycalopex gymnocercus  BOLD:AED1264\n",
       "4     11549562  Lycalopex gymnocercus  BOLD:AED1264\n",
       "...        ...                    ...           ...\n",
       "1963   6170584            Canis lupus  BOLD:AAA1542\n",
       "1964   6170606            Canis lupus  BOLD:AAA1542\n",
       "1965   6170676            Canis lupus  BOLD:AAA1542\n",
       "1966   5108268            Canis lupus  BOLD:AAA1542\n",
       "1967   9630460           Canis anthus  BOLD:AAA1542\n",
       "\n",
       "[1968 rows x 3 columns]"
      ]
     },
     "execution_count": 12,
     "metadata": {},
     "output_type": "execute_result"
    }
   ],
   "source": [
    "query = '''\n",
    "SELECT species.recordid AS \"RecordID\", species.species_name AS \"Species Name\", bins.bin_uri AS \"BIN\"\n",
    "FROM species INNER JOIN bins\n",
    "ON species.recordid == bins.recordid\n",
    "where species_name != \"None\"\n",
    "ORDER BY bin_uri DESC\n",
    "'''\n",
    "allDataDF = get_data(query)\n",
    "allDataDF"
   ]
  },
  {
   "cell_type": "markdown",
   "metadata": {
    "cell_id": "00027-69309777-471f-4d9d-9109-6bf48518e1ad",
    "deepnote_cell_type": "markdown",
    "tags": []
   },
   "source": [
    "Finally, we can combine previous commands and get the count of each BIN connected to a given species (e.g. \"Vulpes vulpes\")"
   ]
  },
  {
   "cell_type": "code",
   "execution_count": 13,
   "metadata": {
    "cell_id": "00028-e136cd25-243e-4b1c-90a7-942f3156e6b7",
    "deepnote_cell_type": "code",
    "deepnote_to_be_reexecuted": false,
    "execution_millis": 32,
    "execution_start": 1638459122122,
    "scrolled": true,
    "source_hash": "16705d2c",
    "tags": []
   },
   "outputs": [
    {
     "data": {
      "application/vnd.deepnote.dataframe.v2+json": {
       "column_count": 3,
       "columns": [
        {
         "dtype": "object",
         "name": "Species",
         "stats": {
          "categories": [
           {
            "count": 3,
            "name": "Vulpes vulpes"
           },
           {
            "count": 2,
            "name": "Vulpes chama"
           },
           {
            "count": 5,
            "name": "4 others"
           }
          ],
          "nan_count": 0,
          "unique_count": 6
         }
        },
        {
         "dtype": "object",
         "name": "BIN",
         "stats": {
          "categories": [
           {
            "count": 1,
            "name": "BOLD:ADJ8649"
           },
           {
            "count": 1,
            "name": "BOLD:ADW1234"
           },
           {
            "count": 8,
            "name": "8 others"
           }
          ],
          "nan_count": 0,
          "unique_count": 10
         }
        },
        {
         "dtype": "int64",
         "name": "Count",
         "stats": {
          "histogram": [
           {
            "bin_end": 7.2,
            "bin_start": 1,
            "count": 6
           },
           {
            "bin_end": 13.4,
            "bin_start": 7.2,
            "count": 2
           },
           {
            "bin_end": 19.6,
            "bin_start": 13.4,
            "count": 0
           },
           {
            "bin_end": 25.8,
            "bin_start": 19.6,
            "count": 1
           },
           {
            "bin_end": 32,
            "bin_start": 25.8,
            "count": 0
           },
           {
            "bin_end": 38.2,
            "bin_start": 32,
            "count": 0
           },
           {
            "bin_end": 44.4,
            "bin_start": 38.2,
            "count": 0
           },
           {
            "bin_end": 50.6,
            "bin_start": 44.4,
            "count": 0
           },
           {
            "bin_end": 56.800000000000004,
            "bin_start": 50.6,
            "count": 0
           },
           {
            "bin_end": 63,
            "bin_start": 56.800000000000004,
            "count": 1
           }
          ],
          "max": "63",
          "min": "1",
          "nan_count": 0,
          "unique_count": 6
         }
        },
        {
         "dtype": "int64",
         "name": "_deepnote_index_column"
        }
       ],
       "row_count": 10,
       "rows_bottom": null,
       "rows_top": [
        {
         "BIN": "BOLD:ADJ8649",
         "Count": 1,
         "Species": "Vulpes chama",
         "_deepnote_index_column": 0
        },
        {
         "BIN": "BOLD:ADW1234",
         "Count": 1,
         "Species": "Vulpes chama",
         "_deepnote_index_column": 1
        },
        {
         "BIN": "BOLD:ADC8199",
         "Count": 2,
         "Species": "Vulpes corsac",
         "_deepnote_index_column": 2
        },
        {
         "BIN": "BOLD:ADC8514",
         "Count": 2,
         "Species": "Vulpes ferrilata",
         "_deepnote_index_column": 3
        },
        {
         "BIN": "BOLD:AAC5231",
         "Count": 63,
         "Species": "Vulpes lagopus",
         "_deepnote_index_column": 4
        },
        {
         "BIN": "BOLD:ADC5726",
         "Count": 22,
         "Species": "Vulpes vulpes",
         "_deepnote_index_column": 5
        },
        {
         "BIN": "BOLD:AAC6751",
         "Count": 12,
         "Species": "Vulpes vulpes",
         "_deepnote_index_column": 6
        },
        {
         "BIN": "BOLD:ADK6164",
         "Count": 8,
         "Species": "Vulpes vulpes",
         "_deepnote_index_column": 7
        },
        {
         "BIN": "BOLD:ADC5840",
         "Count": 2,
         "Species": "Vulpes zerda",
         "_deepnote_index_column": 8
        },
        {
         "BIN": "BOLD:ACW0143",
         "Count": 1,
         "Species": "Vulpes zerda",
         "_deepnote_index_column": 9
        }
       ]
      },
      "text/html": [
       "<div>\n",
       "<style scoped>\n",
       "    .dataframe tbody tr th:only-of-type {\n",
       "        vertical-align: middle;\n",
       "    }\n",
       "\n",
       "    .dataframe tbody tr th {\n",
       "        vertical-align: top;\n",
       "    }\n",
       "\n",
       "    .dataframe thead th {\n",
       "        text-align: right;\n",
       "    }\n",
       "</style>\n",
       "<table border=\"1\" class=\"dataframe\">\n",
       "  <thead>\n",
       "    <tr style=\"text-align: right;\">\n",
       "      <th></th>\n",
       "      <th>Species</th>\n",
       "      <th>BIN</th>\n",
       "      <th>Count</th>\n",
       "    </tr>\n",
       "  </thead>\n",
       "  <tbody>\n",
       "    <tr>\n",
       "      <th>0</th>\n",
       "      <td>Vulpes chama</td>\n",
       "      <td>BOLD:ADJ8649</td>\n",
       "      <td>1</td>\n",
       "    </tr>\n",
       "    <tr>\n",
       "      <th>1</th>\n",
       "      <td>Vulpes chama</td>\n",
       "      <td>BOLD:ADW1234</td>\n",
       "      <td>1</td>\n",
       "    </tr>\n",
       "    <tr>\n",
       "      <th>2</th>\n",
       "      <td>Vulpes corsac</td>\n",
       "      <td>BOLD:ADC8199</td>\n",
       "      <td>2</td>\n",
       "    </tr>\n",
       "    <tr>\n",
       "      <th>3</th>\n",
       "      <td>Vulpes ferrilata</td>\n",
       "      <td>BOLD:ADC8514</td>\n",
       "      <td>2</td>\n",
       "    </tr>\n",
       "    <tr>\n",
       "      <th>4</th>\n",
       "      <td>Vulpes lagopus</td>\n",
       "      <td>BOLD:AAC5231</td>\n",
       "      <td>63</td>\n",
       "    </tr>\n",
       "    <tr>\n",
       "      <th>5</th>\n",
       "      <td>Vulpes vulpes</td>\n",
       "      <td>BOLD:ADC5726</td>\n",
       "      <td>22</td>\n",
       "    </tr>\n",
       "    <tr>\n",
       "      <th>6</th>\n",
       "      <td>Vulpes vulpes</td>\n",
       "      <td>BOLD:AAC6751</td>\n",
       "      <td>12</td>\n",
       "    </tr>\n",
       "    <tr>\n",
       "      <th>7</th>\n",
       "      <td>Vulpes vulpes</td>\n",
       "      <td>BOLD:ADK6164</td>\n",
       "      <td>8</td>\n",
       "    </tr>\n",
       "    <tr>\n",
       "      <th>8</th>\n",
       "      <td>Vulpes zerda</td>\n",
       "      <td>BOLD:ADC5840</td>\n",
       "      <td>2</td>\n",
       "    </tr>\n",
       "    <tr>\n",
       "      <th>9</th>\n",
       "      <td>Vulpes zerda</td>\n",
       "      <td>BOLD:ACW0143</td>\n",
       "      <td>1</td>\n",
       "    </tr>\n",
       "  </tbody>\n",
       "</table>\n",
       "</div>"
      ],
      "text/plain": [
       "            Species           BIN  Count\n",
       "0      Vulpes chama  BOLD:ADJ8649      1\n",
       "1      Vulpes chama  BOLD:ADW1234      1\n",
       "2     Vulpes corsac  BOLD:ADC8199      2\n",
       "3  Vulpes ferrilata  BOLD:ADC8514      2\n",
       "4    Vulpes lagopus  BOLD:AAC5231     63\n",
       "5     Vulpes vulpes  BOLD:ADC5726     22\n",
       "6     Vulpes vulpes  BOLD:AAC6751     12\n",
       "7     Vulpes vulpes  BOLD:ADK6164      8\n",
       "8      Vulpes zerda  BOLD:ADC5840      2\n",
       "9      Vulpes zerda  BOLD:ACW0143      1"
      ]
     },
     "execution_count": 13,
     "metadata": {},
     "output_type": "execute_result"
    }
   ],
   "source": [
    "query = '''\n",
    "SELECT species.species_name AS Species, bins.bin_uri AS BIN, COUNT(*) AS Count\n",
    "FROM species INNER JOIN bins\n",
    "ON species.recordid == bins.recordid\n",
    "WHERE species.genus_name == \"Vulpes\"\n",
    "GROUP BY BIN\n",
    "ORDER BY Species ASC, Count DESC\n",
    ";\n",
    "'''\n",
    "get_data(query)"
   ]
  }
 ],
 "metadata": {
  "deepnote": {
   "is_reactive": false
  },
  "deepnote_app_layout": "dashboard",
  "deepnote_execution_queue": [],
  "deepnote_notebook_id": "b2c18ac1-9240-4596-846a-235952b395b2",
  "kernelspec": {
   "display_name": "Python 3 (ipykernel)",
   "language": "python",
   "name": "python3"
  },
  "language_info": {
   "codemirror_mode": {
    "name": "ipython",
    "version": 3
   },
   "file_extension": ".py",
   "mimetype": "text/x-python",
   "name": "python",
   "nbconvert_exporter": "python",
   "pygments_lexer": "ipython3",
   "version": "3.8.12"
  }
 },
 "nbformat": 4,
 "nbformat_minor": 2
}
