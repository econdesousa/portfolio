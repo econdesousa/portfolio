{
 "cells": [
  {
   "cell_type": "markdown",
   "source": "# PCA using custom class (and sklearn!!!)",
   "metadata": {
    "id": "8nPqHumg1rXl",
    "cell_id": "00000-2af368ae-506c-45d0-8951-58be2a2814ef",
    "deepnote_app_coordinates": {
     "x": 0,
     "y": 0,
     "w": 12,
     "h": 5
    },
    "deepnote_cell_type": "markdown"
   }
  },
  {
   "cell_type": "markdown",
   "source": "Principal Component Analysis aims to reduce the dimensionality of datasets while conserving as much variance as possible.\nDimensionality reduction may target different purposes. The most relevant are multidimensional data visualization and data clearing for ML.\nHere I’ll focus on the creation of a custom PCA class based on sklearn.\nAs a test sample, the iris dataset will be used.\n![PCA](PCA.png)",
   "metadata": {
    "tags": [],
    "cell_id": "00001-be60e903-2dad-4c03-9a2a-8659aa196ab2",
    "deepnote_app_coordinates": {
     "x": 0,
     "y": 6,
     "w": 12,
     "h": 26
    },
    "deepnote_cell_type": "markdown"
   }
  },
  {
   "cell_type": "markdown",
   "source": "## Imports",
   "metadata": {
    "id": "B2FuhJc4ejbJ",
    "cell_id": "00001-06d49c8e-82ca-4302-b60c-1ffb9932c67f",
    "deepnote_cell_type": "markdown"
   }
  },
  {
   "cell_type": "code",
   "metadata": {
    "id": "qPRdYCquuDqW",
    "executionInfo": {
     "status": "ok",
     "timestamp": 1637153695180,
     "user_tz": 0,
     "elapsed": 1012,
     "user": {
      "displayName": "Nádia Pinto",
      "photoUrl": "https://lh3.googleusercontent.com/a/default-user=s64",
      "userId": "17874983531812220099"
     }
    },
    "cell_id": "00002-8a2f2763-3371-4614-8c95-ba00fdd897f5",
    "deepnote_to_be_reexecuted": false,
    "source_hash": "578a4aae",
    "execution_start": 1637155767412,
    "execution_millis": 856,
    "deepnote_cell_type": "code"
   },
   "source": "import numpy as np\nimport pandas as pd\nfrom sklearn.preprocessing import StandardScaler\nfrom sklearn.decomposition import PCA\nimport matplotlib.pyplot as plt",
   "outputs": [],
   "execution_count": null
  },
  {
   "cell_type": "markdown",
   "source": "## defining custom PCA class\n",
   "metadata": {
    "id": "wOBYyaqnexWv",
    "cell_id": "00003-7e6781f2-c3bd-4b04-bc49-a56a8e0677a1",
    "deepnote_cell_type": "markdown"
   }
  },
  {
   "cell_type": "code",
   "metadata": {
    "id": "wvTPecG7eUSa",
    "executionInfo": {
     "status": "ok",
     "timestamp": 1637153695180,
     "user_tz": 0,
     "elapsed": 2,
     "user": {
      "displayName": "Nádia Pinto",
      "photoUrl": "https://lh3.googleusercontent.com/a/default-user=s64",
      "userId": "17874983531812220099"
     }
    },
    "cell_id": "00004-96b84b41-16a8-4ec5-a060-2e8b5127b64b",
    "deepnote_to_be_reexecuted": false,
    "source_hash": "bc739408",
    "execution_start": 1637155768285,
    "execution_millis": 3,
    "deepnote_cell_type": "code"
   },
   "source": "class PCA_sklearn:\n    # main func\n    def __init__(self, data, n_components=2, target=None,colNames=None):\n        self.data = data\n        self.scaled_data = StandardScaler().fit_transform(self.data)\n        if n_components > self.data.shape[1]:\n            n_components = self.data.shape[1]\n        self.n_components = n_components\n        self.pca = PCA(n_components=self.n_components)\n        self.principalComponents = self.pca.fit_transform(self.scaled_data)\n        if (colNames != None):\n            self.principalDf = pd.DataFrame(\n                self.principalComponents, columns=colNames)\n        else:\n            self.principalDf = pd.DataFrame(\n                self.principalComponents, columns=['PC'+str(i+1) for i in range(self.n_components)])\n\n        if (type(target) != type(None)):\n            self.principalDf = pd.concat([self.principalDf, pd.DataFrame(target, columns=['target'])], axis=1)\n        \n    # to access data\n    def get_data(self):\n        return self.data\n    \n    def get_scaled_data(self):\n        return self.scaled_data\n\n    def get_n_components(self):\n        return self.n_components\n    \n    def get_pca(self):\n        return self.pca\n    \n    def get_principalComponents(self):\n        return self.principalComponents\n    \n    def get_principalDf(self):\n        return self.principalDf\n\n\n    def get_explained_variance(self):\n        return self.pca.explained_variance_ratio_ # returns a vector of the explained variance ratio",
   "outputs": [],
   "execution_count": null
  },
  {
   "cell_type": "markdown",
   "source": "## download sample data and define dataframes",
   "metadata": {
    "id": "biuSknCcf7jE",
    "cell_id": "00005-c725fc7b-273e-47dc-a2f7-2e97b04d43ad",
    "deepnote_cell_type": "markdown"
   }
  },
  {
   "cell_type": "code",
   "metadata": {
    "colab": {
     "base_uri": "https://localhost:8080/",
     "height": 419
    },
    "id": "3zo9k60pebN0",
    "executionInfo": {
     "status": "ok",
     "timestamp": 1637153695588,
     "user_tz": 0,
     "elapsed": 410,
     "user": {
      "displayName": "Nádia Pinto",
      "photoUrl": "https://lh3.googleusercontent.com/a/default-user=s64",
      "userId": "17874983531812220099"
     }
    },
    "outputId": "2644dc37-6496-41b0-9f54-8e9fbc009668",
    "cell_id": "00006-e18dda18-e724-4d8c-9064-37debbe7aa3f",
    "deepnote_to_be_reexecuted": false,
    "source_hash": "920e7514",
    "execution_start": 1637155768300,
    "execution_millis": 559,
    "deepnote_cell_type": "code"
   },
   "source": "url = \"https://archive.ics.uci.edu/ml/machine-learning-databases/iris/iris.data\"\nfeatures = ['sepal length','sepal width','petal length','petal width']\ntarget = ['target']\nfeatures_target = features + target\ndf = pd.read_csv(url, names=features_target)\ndf",
   "outputs": [
    {
     "output_type": "execute_result",
     "execution_count": 3,
     "data": {
      "application/vnd.deepnote.dataframe.v2+json": {
       "row_count": 150,
       "column_count": 5,
       "columns": [
        {
         "name": "sepal length",
         "dtype": "float64",
         "stats": {
          "unique_count": 35,
          "nan_count": 0,
          "min": "4.3",
          "max": "7.9",
          "histogram": [
           {
            "bin_start": 4.3,
            "bin_end": 4.66,
            "count": 9
           },
           {
            "bin_start": 4.66,
            "bin_end": 5.02,
            "count": 23
           },
           {
            "bin_start": 5.02,
            "bin_end": 5.38,
            "count": 14
           },
           {
            "bin_start": 5.38,
            "bin_end": 5.74,
            "count": 27
           },
           {
            "bin_start": 5.74,
            "bin_end": 6.1,
            "count": 16
           },
           {
            "bin_start": 6.1,
            "bin_end": 6.46,
            "count": 26
           },
           {
            "bin_start": 6.46,
            "bin_end": 6.82,
            "count": 18
           },
           {
            "bin_start": 6.82,
            "bin_end": 7.18,
            "count": 6
           },
           {
            "bin_start": 7.18,
            "bin_end": 7.54,
            "count": 5
           },
           {
            "bin_start": 7.54,
            "bin_end": 7.9,
            "count": 6
           }
          ]
         }
        },
        {
         "name": "sepal width",
         "dtype": "float64",
         "stats": {
          "unique_count": 23,
          "nan_count": 0,
          "min": "2.0",
          "max": "4.4",
          "histogram": [
           {
            "bin_start": 2,
            "bin_end": 2.24,
            "count": 4
           },
           {
            "bin_start": 2.24,
            "bin_end": 2.48,
            "count": 7
           },
           {
            "bin_start": 2.48,
            "bin_end": 2.72,
            "count": 22
           },
           {
            "bin_start": 2.72,
            "bin_end": 2.96,
            "count": 24
           },
           {
            "bin_start": 2.96,
            "bin_end": 3.2,
            "count": 38
           },
           {
            "bin_start": 3.2,
            "bin_end": 3.4400000000000004,
            "count": 31
           },
           {
            "bin_start": 3.4400000000000004,
            "bin_end": 3.6800000000000006,
            "count": 9
           },
           {
            "bin_start": 3.6800000000000006,
            "bin_end": 3.9200000000000004,
            "count": 11
           },
           {
            "bin_start": 3.9200000000000004,
            "bin_end": 4.16,
            "count": 2
           },
           {
            "bin_start": 4.16,
            "bin_end": 4.4,
            "count": 2
           }
          ]
         }
        },
        {
         "name": "petal length",
         "dtype": "float64",
         "stats": {
          "unique_count": 43,
          "nan_count": 0,
          "min": "1.0",
          "max": "6.9",
          "histogram": [
           {
            "bin_start": 1,
            "bin_end": 1.59,
            "count": 37
           },
           {
            "bin_start": 1.59,
            "bin_end": 2.18,
            "count": 13
           },
           {
            "bin_start": 2.18,
            "bin_end": 2.7700000000000005,
            "count": 0
           },
           {
            "bin_start": 2.7700000000000005,
            "bin_end": 3.3600000000000003,
            "count": 3
           },
           {
            "bin_start": 3.3600000000000003,
            "bin_end": 3.95,
            "count": 8
           },
           {
            "bin_start": 3.95,
            "bin_end": 4.540000000000001,
            "count": 26
           },
           {
            "bin_start": 4.540000000000001,
            "bin_end": 5.130000000000001,
            "count": 29
           },
           {
            "bin_start": 5.130000000000001,
            "bin_end": 5.720000000000001,
            "count": 18
           },
           {
            "bin_start": 5.720000000000001,
            "bin_end": 6.3100000000000005,
            "count": 11
           },
           {
            "bin_start": 6.3100000000000005,
            "bin_end": 6.9,
            "count": 5
           }
          ]
         }
        },
        {
         "name": "petal width",
         "dtype": "float64",
         "stats": {
          "unique_count": 22,
          "nan_count": 0,
          "min": "0.1",
          "max": "2.5",
          "histogram": [
           {
            "bin_start": 0.1,
            "bin_end": 0.33999999999999997,
            "count": 41
           },
           {
            "bin_start": 0.33999999999999997,
            "bin_end": 0.58,
            "count": 8
           },
           {
            "bin_start": 0.58,
            "bin_end": 0.82,
            "count": 1
           },
           {
            "bin_start": 0.82,
            "bin_end": 1.06,
            "count": 7
           },
           {
            "bin_start": 1.06,
            "bin_end": 1.3,
            "count": 8
           },
           {
            "bin_start": 1.3,
            "bin_end": 1.54,
            "count": 33
           },
           {
            "bin_start": 1.54,
            "bin_end": 1.78,
            "count": 6
           },
           {
            "bin_start": 1.78,
            "bin_end": 2.02,
            "count": 23
           },
           {
            "bin_start": 2.02,
            "bin_end": 2.2600000000000002,
            "count": 9
           },
           {
            "bin_start": 2.2600000000000002,
            "bin_end": 2.5,
            "count": 14
           }
          ]
         }
        },
        {
         "name": "target",
         "dtype": "object",
         "stats": {
          "unique_count": 3,
          "nan_count": 0,
          "categories": [
           {
            "name": "Iris-setosa",
            "count": 50
           },
           {
            "name": "Iris-versicolor",
            "count": 50
           },
           {
            "name": "Iris-virginica",
            "count": 50
           }
          ]
         }
        },
        {
         "name": "_deepnote_index_column",
         "dtype": "int64"
        }
       ],
       "rows_top": [
        {
         "sepal length": 5.1,
         "sepal width": 3.5,
         "petal length": 1.4,
         "petal width": 0.2,
         "target": "Iris-setosa",
         "_deepnote_index_column": 0
        },
        {
         "sepal length": 4.9,
         "sepal width": 3,
         "petal length": 1.4,
         "petal width": 0.2,
         "target": "Iris-setosa",
         "_deepnote_index_column": 1
        },
        {
         "sepal length": 4.7,
         "sepal width": 3.2,
         "petal length": 1.3,
         "petal width": 0.2,
         "target": "Iris-setosa",
         "_deepnote_index_column": 2
        },
        {
         "sepal length": 4.6,
         "sepal width": 3.1,
         "petal length": 1.5,
         "petal width": 0.2,
         "target": "Iris-setosa",
         "_deepnote_index_column": 3
        },
        {
         "sepal length": 5,
         "sepal width": 3.6,
         "petal length": 1.4,
         "petal width": 0.2,
         "target": "Iris-setosa",
         "_deepnote_index_column": 4
        },
        {
         "sepal length": 5.4,
         "sepal width": 3.9,
         "petal length": 1.7,
         "petal width": 0.4,
         "target": "Iris-setosa",
         "_deepnote_index_column": 5
        },
        {
         "sepal length": 4.6,
         "sepal width": 3.4,
         "petal length": 1.4,
         "petal width": 0.3,
         "target": "Iris-setosa",
         "_deepnote_index_column": 6
        },
        {
         "sepal length": 5,
         "sepal width": 3.4,
         "petal length": 1.5,
         "petal width": 0.2,
         "target": "Iris-setosa",
         "_deepnote_index_column": 7
        },
        {
         "sepal length": 4.4,
         "sepal width": 2.9,
         "petal length": 1.4,
         "petal width": 0.2,
         "target": "Iris-setosa",
         "_deepnote_index_column": 8
        },
        {
         "sepal length": 4.9,
         "sepal width": 3.1,
         "petal length": 1.5,
         "petal width": 0.1,
         "target": "Iris-setosa",
         "_deepnote_index_column": 9
        },
        {
         "sepal length": 5.4,
         "sepal width": 3.7,
         "petal length": 1.5,
         "petal width": 0.2,
         "target": "Iris-setosa",
         "_deepnote_index_column": 10
        },
        {
         "sepal length": 4.8,
         "sepal width": 3.4,
         "petal length": 1.6,
         "petal width": 0.2,
         "target": "Iris-setosa",
         "_deepnote_index_column": 11
        },
        {
         "sepal length": 4.8,
         "sepal width": 3,
         "petal length": 1.4,
         "petal width": 0.1,
         "target": "Iris-setosa",
         "_deepnote_index_column": 12
        },
        {
         "sepal length": 4.3,
         "sepal width": 3,
         "petal length": 1.1,
         "petal width": 0.1,
         "target": "Iris-setosa",
         "_deepnote_index_column": 13
        },
        {
         "sepal length": 5.8,
         "sepal width": 4,
         "petal length": 1.2,
         "petal width": 0.2,
         "target": "Iris-setosa",
         "_deepnote_index_column": 14
        },
        {
         "sepal length": 5.7,
         "sepal width": 4.4,
         "petal length": 1.5,
         "petal width": 0.4,
         "target": "Iris-setosa",
         "_deepnote_index_column": 15
        },
        {
         "sepal length": 5.4,
         "sepal width": 3.9,
         "petal length": 1.3,
         "petal width": 0.4,
         "target": "Iris-setosa",
         "_deepnote_index_column": 16
        },
        {
         "sepal length": 5.1,
         "sepal width": 3.5,
         "petal length": 1.4,
         "petal width": 0.3,
         "target": "Iris-setosa",
         "_deepnote_index_column": 17
        },
        {
         "sepal length": 5.7,
         "sepal width": 3.8,
         "petal length": 1.7,
         "petal width": 0.3,
         "target": "Iris-setosa",
         "_deepnote_index_column": 18
        },
        {
         "sepal length": 5.1,
         "sepal width": 3.8,
         "petal length": 1.5,
         "petal width": 0.3,
         "target": "Iris-setosa",
         "_deepnote_index_column": 19
        },
        {
         "sepal length": 5.4,
         "sepal width": 3.4,
         "petal length": 1.7,
         "petal width": 0.2,
         "target": "Iris-setosa",
         "_deepnote_index_column": 20
        },
        {
         "sepal length": 5.1,
         "sepal width": 3.7,
         "petal length": 1.5,
         "petal width": 0.4,
         "target": "Iris-setosa",
         "_deepnote_index_column": 21
        },
        {
         "sepal length": 4.6,
         "sepal width": 3.6,
         "petal length": 1,
         "petal width": 0.2,
         "target": "Iris-setosa",
         "_deepnote_index_column": 22
        },
        {
         "sepal length": 5.1,
         "sepal width": 3.3,
         "petal length": 1.7,
         "petal width": 0.5,
         "target": "Iris-setosa",
         "_deepnote_index_column": 23
        },
        {
         "sepal length": 4.8,
         "sepal width": 3.4,
         "petal length": 1.9,
         "petal width": 0.2,
         "target": "Iris-setosa",
         "_deepnote_index_column": 24
        },
        {
         "sepal length": 5,
         "sepal width": 3,
         "petal length": 1.6,
         "petal width": 0.2,
         "target": "Iris-setosa",
         "_deepnote_index_column": 25
        },
        {
         "sepal length": 5,
         "sepal width": 3.4,
         "petal length": 1.6,
         "petal width": 0.4,
         "target": "Iris-setosa",
         "_deepnote_index_column": 26
        },
        {
         "sepal length": 5.2,
         "sepal width": 3.5,
         "petal length": 1.5,
         "petal width": 0.2,
         "target": "Iris-setosa",
         "_deepnote_index_column": 27
        },
        {
         "sepal length": 5.2,
         "sepal width": 3.4,
         "petal length": 1.4,
         "petal width": 0.2,
         "target": "Iris-setosa",
         "_deepnote_index_column": 28
        },
        {
         "sepal length": 4.7,
         "sepal width": 3.2,
         "petal length": 1.6,
         "petal width": 0.2,
         "target": "Iris-setosa",
         "_deepnote_index_column": 29
        },
        {
         "sepal length": 4.8,
         "sepal width": 3.1,
         "petal length": 1.6,
         "petal width": 0.2,
         "target": "Iris-setosa",
         "_deepnote_index_column": 30
        },
        {
         "sepal length": 5.4,
         "sepal width": 3.4,
         "petal length": 1.5,
         "petal width": 0.4,
         "target": "Iris-setosa",
         "_deepnote_index_column": 31
        },
        {
         "sepal length": 5.2,
         "sepal width": 4.1,
         "petal length": 1.5,
         "petal width": 0.1,
         "target": "Iris-setosa",
         "_deepnote_index_column": 32
        },
        {
         "sepal length": 5.5,
         "sepal width": 4.2,
         "petal length": 1.4,
         "petal width": 0.2,
         "target": "Iris-setosa",
         "_deepnote_index_column": 33
        },
        {
         "sepal length": 4.9,
         "sepal width": 3.1,
         "petal length": 1.5,
         "petal width": 0.1,
         "target": "Iris-setosa",
         "_deepnote_index_column": 34
        },
        {
         "sepal length": 5,
         "sepal width": 3.2,
         "petal length": 1.2,
         "petal width": 0.2,
         "target": "Iris-setosa",
         "_deepnote_index_column": 35
        },
        {
         "sepal length": 5.5,
         "sepal width": 3.5,
         "petal length": 1.3,
         "petal width": 0.2,
         "target": "Iris-setosa",
         "_deepnote_index_column": 36
        },
        {
         "sepal length": 4.9,
         "sepal width": 3.1,
         "petal length": 1.5,
         "petal width": 0.1,
         "target": "Iris-setosa",
         "_deepnote_index_column": 37
        },
        {
         "sepal length": 4.4,
         "sepal width": 3,
         "petal length": 1.3,
         "petal width": 0.2,
         "target": "Iris-setosa",
         "_deepnote_index_column": 38
        },
        {
         "sepal length": 5.1,
         "sepal width": 3.4,
         "petal length": 1.5,
         "petal width": 0.2,
         "target": "Iris-setosa",
         "_deepnote_index_column": 39
        },
        {
         "sepal length": 5,
         "sepal width": 3.5,
         "petal length": 1.3,
         "petal width": 0.3,
         "target": "Iris-setosa",
         "_deepnote_index_column": 40
        },
        {
         "sepal length": 4.5,
         "sepal width": 2.3,
         "petal length": 1.3,
         "petal width": 0.3,
         "target": "Iris-setosa",
         "_deepnote_index_column": 41
        },
        {
         "sepal length": 4.4,
         "sepal width": 3.2,
         "petal length": 1.3,
         "petal width": 0.2,
         "target": "Iris-setosa",
         "_deepnote_index_column": 42
        },
        {
         "sepal length": 5,
         "sepal width": 3.5,
         "petal length": 1.6,
         "petal width": 0.6,
         "target": "Iris-setosa",
         "_deepnote_index_column": 43
        },
        {
         "sepal length": 5.1,
         "sepal width": 3.8,
         "petal length": 1.9,
         "petal width": 0.4,
         "target": "Iris-setosa",
         "_deepnote_index_column": 44
        },
        {
         "sepal length": 4.8,
         "sepal width": 3,
         "petal length": 1.4,
         "petal width": 0.3,
         "target": "Iris-setosa",
         "_deepnote_index_column": 45
        },
        {
         "sepal length": 5.1,
         "sepal width": 3.8,
         "petal length": 1.6,
         "petal width": 0.2,
         "target": "Iris-setosa",
         "_deepnote_index_column": 46
        },
        {
         "sepal length": 4.6,
         "sepal width": 3.2,
         "petal length": 1.4,
         "petal width": 0.2,
         "target": "Iris-setosa",
         "_deepnote_index_column": 47
        },
        {
         "sepal length": 5.3,
         "sepal width": 3.7,
         "petal length": 1.5,
         "petal width": 0.2,
         "target": "Iris-setosa",
         "_deepnote_index_column": 48
        },
        {
         "sepal length": 5,
         "sepal width": 3.3,
         "petal length": 1.4,
         "petal width": 0.2,
         "target": "Iris-setosa",
         "_deepnote_index_column": 49
        },
        {
         "sepal length": 7,
         "sepal width": 3.2,
         "petal length": 4.7,
         "petal width": 1.4,
         "target": "Iris-versicolor",
         "_deepnote_index_column": 50
        },
        {
         "sepal length": 6.4,
         "sepal width": 3.2,
         "petal length": 4.5,
         "petal width": 1.5,
         "target": "Iris-versicolor",
         "_deepnote_index_column": 51
        },
        {
         "sepal length": 6.9,
         "sepal width": 3.1,
         "petal length": 4.9,
         "petal width": 1.5,
         "target": "Iris-versicolor",
         "_deepnote_index_column": 52
        },
        {
         "sepal length": 5.5,
         "sepal width": 2.3,
         "petal length": 4,
         "petal width": 1.3,
         "target": "Iris-versicolor",
         "_deepnote_index_column": 53
        },
        {
         "sepal length": 6.5,
         "sepal width": 2.8,
         "petal length": 4.6,
         "petal width": 1.5,
         "target": "Iris-versicolor",
         "_deepnote_index_column": 54
        },
        {
         "sepal length": 5.7,
         "sepal width": 2.8,
         "petal length": 4.5,
         "petal width": 1.3,
         "target": "Iris-versicolor",
         "_deepnote_index_column": 55
        },
        {
         "sepal length": 6.3,
         "sepal width": 3.3,
         "petal length": 4.7,
         "petal width": 1.6,
         "target": "Iris-versicolor",
         "_deepnote_index_column": 56
        },
        {
         "sepal length": 4.9,
         "sepal width": 2.4,
         "petal length": 3.3,
         "petal width": 1,
         "target": "Iris-versicolor",
         "_deepnote_index_column": 57
        },
        {
         "sepal length": 6.6,
         "sepal width": 2.9,
         "petal length": 4.6,
         "petal width": 1.3,
         "target": "Iris-versicolor",
         "_deepnote_index_column": 58
        },
        {
         "sepal length": 5.2,
         "sepal width": 2.7,
         "petal length": 3.9,
         "petal width": 1.4,
         "target": "Iris-versicolor",
         "_deepnote_index_column": 59
        },
        {
         "sepal length": 5,
         "sepal width": 2,
         "petal length": 3.5,
         "petal width": 1,
         "target": "Iris-versicolor",
         "_deepnote_index_column": 60
        },
        {
         "sepal length": 5.9,
         "sepal width": 3,
         "petal length": 4.2,
         "petal width": 1.5,
         "target": "Iris-versicolor",
         "_deepnote_index_column": 61
        },
        {
         "sepal length": 6,
         "sepal width": 2.2,
         "petal length": 4,
         "petal width": 1,
         "target": "Iris-versicolor",
         "_deepnote_index_column": 62
        },
        {
         "sepal length": 6.1,
         "sepal width": 2.9,
         "petal length": 4.7,
         "petal width": 1.4,
         "target": "Iris-versicolor",
         "_deepnote_index_column": 63
        },
        {
         "sepal length": 5.6,
         "sepal width": 2.9,
         "petal length": 3.6,
         "petal width": 1.3,
         "target": "Iris-versicolor",
         "_deepnote_index_column": 64
        },
        {
         "sepal length": 6.7,
         "sepal width": 3.1,
         "petal length": 4.4,
         "petal width": 1.4,
         "target": "Iris-versicolor",
         "_deepnote_index_column": 65
        },
        {
         "sepal length": 5.6,
         "sepal width": 3,
         "petal length": 4.5,
         "petal width": 1.5,
         "target": "Iris-versicolor",
         "_deepnote_index_column": 66
        },
        {
         "sepal length": 5.8,
         "sepal width": 2.7,
         "petal length": 4.1,
         "petal width": 1,
         "target": "Iris-versicolor",
         "_deepnote_index_column": 67
        },
        {
         "sepal length": 6.2,
         "sepal width": 2.2,
         "petal length": 4.5,
         "petal width": 1.5,
         "target": "Iris-versicolor",
         "_deepnote_index_column": 68
        },
        {
         "sepal length": 5.6,
         "sepal width": 2.5,
         "petal length": 3.9,
         "petal width": 1.1,
         "target": "Iris-versicolor",
         "_deepnote_index_column": 69
        },
        {
         "sepal length": 5.9,
         "sepal width": 3.2,
         "petal length": 4.8,
         "petal width": 1.8,
         "target": "Iris-versicolor",
         "_deepnote_index_column": 70
        },
        {
         "sepal length": 6.1,
         "sepal width": 2.8,
         "petal length": 4,
         "petal width": 1.3,
         "target": "Iris-versicolor",
         "_deepnote_index_column": 71
        },
        {
         "sepal length": 6.3,
         "sepal width": 2.5,
         "petal length": 4.9,
         "petal width": 1.5,
         "target": "Iris-versicolor",
         "_deepnote_index_column": 72
        },
        {
         "sepal length": 6.1,
         "sepal width": 2.8,
         "petal length": 4.7,
         "petal width": 1.2,
         "target": "Iris-versicolor",
         "_deepnote_index_column": 73
        },
        {
         "sepal length": 6.4,
         "sepal width": 2.9,
         "petal length": 4.3,
         "petal width": 1.3,
         "target": "Iris-versicolor",
         "_deepnote_index_column": 74
        },
        {
         "sepal length": 6.6,
         "sepal width": 3,
         "petal length": 4.4,
         "petal width": 1.4,
         "target": "Iris-versicolor",
         "_deepnote_index_column": 75
        },
        {
         "sepal length": 6.8,
         "sepal width": 2.8,
         "petal length": 4.8,
         "petal width": 1.4,
         "target": "Iris-versicolor",
         "_deepnote_index_column": 76
        },
        {
         "sepal length": 6.7,
         "sepal width": 3,
         "petal length": 5,
         "petal width": 1.7,
         "target": "Iris-versicolor",
         "_deepnote_index_column": 77
        },
        {
         "sepal length": 6,
         "sepal width": 2.9,
         "petal length": 4.5,
         "petal width": 1.5,
         "target": "Iris-versicolor",
         "_deepnote_index_column": 78
        },
        {
         "sepal length": 5.7,
         "sepal width": 2.6,
         "petal length": 3.5,
         "petal width": 1,
         "target": "Iris-versicolor",
         "_deepnote_index_column": 79
        },
        {
         "sepal length": 5.5,
         "sepal width": 2.4,
         "petal length": 3.8,
         "petal width": 1.1,
         "target": "Iris-versicolor",
         "_deepnote_index_column": 80
        },
        {
         "sepal length": 5.5,
         "sepal width": 2.4,
         "petal length": 3.7,
         "petal width": 1,
         "target": "Iris-versicolor",
         "_deepnote_index_column": 81
        },
        {
         "sepal length": 5.8,
         "sepal width": 2.7,
         "petal length": 3.9,
         "petal width": 1.2,
         "target": "Iris-versicolor",
         "_deepnote_index_column": 82
        },
        {
         "sepal length": 6,
         "sepal width": 2.7,
         "petal length": 5.1,
         "petal width": 1.6,
         "target": "Iris-versicolor",
         "_deepnote_index_column": 83
        },
        {
         "sepal length": 5.4,
         "sepal width": 3,
         "petal length": 4.5,
         "petal width": 1.5,
         "target": "Iris-versicolor",
         "_deepnote_index_column": 84
        },
        {
         "sepal length": 6,
         "sepal width": 3.4,
         "petal length": 4.5,
         "petal width": 1.6,
         "target": "Iris-versicolor",
         "_deepnote_index_column": 85
        },
        {
         "sepal length": 6.7,
         "sepal width": 3.1,
         "petal length": 4.7,
         "petal width": 1.5,
         "target": "Iris-versicolor",
         "_deepnote_index_column": 86
        },
        {
         "sepal length": 6.3,
         "sepal width": 2.3,
         "petal length": 4.4,
         "petal width": 1.3,
         "target": "Iris-versicolor",
         "_deepnote_index_column": 87
        },
        {
         "sepal length": 5.6,
         "sepal width": 3,
         "petal length": 4.1,
         "petal width": 1.3,
         "target": "Iris-versicolor",
         "_deepnote_index_column": 88
        },
        {
         "sepal length": 5.5,
         "sepal width": 2.5,
         "petal length": 4,
         "petal width": 1.3,
         "target": "Iris-versicolor",
         "_deepnote_index_column": 89
        },
        {
         "sepal length": 5.5,
         "sepal width": 2.6,
         "petal length": 4.4,
         "petal width": 1.2,
         "target": "Iris-versicolor",
         "_deepnote_index_column": 90
        },
        {
         "sepal length": 6.1,
         "sepal width": 3,
         "petal length": 4.6,
         "petal width": 1.4,
         "target": "Iris-versicolor",
         "_deepnote_index_column": 91
        },
        {
         "sepal length": 5.8,
         "sepal width": 2.6,
         "petal length": 4,
         "petal width": 1.2,
         "target": "Iris-versicolor",
         "_deepnote_index_column": 92
        },
        {
         "sepal length": 5,
         "sepal width": 2.3,
         "petal length": 3.3,
         "petal width": 1,
         "target": "Iris-versicolor",
         "_deepnote_index_column": 93
        },
        {
         "sepal length": 5.6,
         "sepal width": 2.7,
         "petal length": 4.2,
         "petal width": 1.3,
         "target": "Iris-versicolor",
         "_deepnote_index_column": 94
        },
        {
         "sepal length": 5.7,
         "sepal width": 3,
         "petal length": 4.2,
         "petal width": 1.2,
         "target": "Iris-versicolor",
         "_deepnote_index_column": 95
        },
        {
         "sepal length": 5.7,
         "sepal width": 2.9,
         "petal length": 4.2,
         "petal width": 1.3,
         "target": "Iris-versicolor",
         "_deepnote_index_column": 96
        },
        {
         "sepal length": 6.2,
         "sepal width": 2.9,
         "petal length": 4.3,
         "petal width": 1.3,
         "target": "Iris-versicolor",
         "_deepnote_index_column": 97
        },
        {
         "sepal length": 5.1,
         "sepal width": 2.5,
         "petal length": 3,
         "petal width": 1.1,
         "target": "Iris-versicolor",
         "_deepnote_index_column": 98
        },
        {
         "sepal length": 5.7,
         "sepal width": 2.8,
         "petal length": 4.1,
         "petal width": 1.3,
         "target": "Iris-versicolor",
         "_deepnote_index_column": 99
        },
        {
         "sepal length": 6.3,
         "sepal width": 3.3,
         "petal length": 6,
         "petal width": 2.5,
         "target": "Iris-virginica",
         "_deepnote_index_column": 100
        },
        {
         "sepal length": 5.8,
         "sepal width": 2.7,
         "petal length": 5.1,
         "petal width": 1.9,
         "target": "Iris-virginica",
         "_deepnote_index_column": 101
        },
        {
         "sepal length": 7.1,
         "sepal width": 3,
         "petal length": 5.9,
         "petal width": 2.1,
         "target": "Iris-virginica",
         "_deepnote_index_column": 102
        },
        {
         "sepal length": 6.3,
         "sepal width": 2.9,
         "petal length": 5.6,
         "petal width": 1.8,
         "target": "Iris-virginica",
         "_deepnote_index_column": 103
        },
        {
         "sepal length": 6.5,
         "sepal width": 3,
         "petal length": 5.8,
         "petal width": 2.2,
         "target": "Iris-virginica",
         "_deepnote_index_column": 104
        },
        {
         "sepal length": 7.6,
         "sepal width": 3,
         "petal length": 6.6,
         "petal width": 2.1,
         "target": "Iris-virginica",
         "_deepnote_index_column": 105
        },
        {
         "sepal length": 4.9,
         "sepal width": 2.5,
         "petal length": 4.5,
         "petal width": 1.7,
         "target": "Iris-virginica",
         "_deepnote_index_column": 106
        },
        {
         "sepal length": 7.3,
         "sepal width": 2.9,
         "petal length": 6.3,
         "petal width": 1.8,
         "target": "Iris-virginica",
         "_deepnote_index_column": 107
        },
        {
         "sepal length": 6.7,
         "sepal width": 2.5,
         "petal length": 5.8,
         "petal width": 1.8,
         "target": "Iris-virginica",
         "_deepnote_index_column": 108
        },
        {
         "sepal length": 7.2,
         "sepal width": 3.6,
         "petal length": 6.1,
         "petal width": 2.5,
         "target": "Iris-virginica",
         "_deepnote_index_column": 109
        },
        {
         "sepal length": 6.5,
         "sepal width": 3.2,
         "petal length": 5.1,
         "petal width": 2,
         "target": "Iris-virginica",
         "_deepnote_index_column": 110
        },
        {
         "sepal length": 6.4,
         "sepal width": 2.7,
         "petal length": 5.3,
         "petal width": 1.9,
         "target": "Iris-virginica",
         "_deepnote_index_column": 111
        },
        {
         "sepal length": 6.8,
         "sepal width": 3,
         "petal length": 5.5,
         "petal width": 2.1,
         "target": "Iris-virginica",
         "_deepnote_index_column": 112
        },
        {
         "sepal length": 5.7,
         "sepal width": 2.5,
         "petal length": 5,
         "petal width": 2,
         "target": "Iris-virginica",
         "_deepnote_index_column": 113
        },
        {
         "sepal length": 5.8,
         "sepal width": 2.8,
         "petal length": 5.1,
         "petal width": 2.4,
         "target": "Iris-virginica",
         "_deepnote_index_column": 114
        },
        {
         "sepal length": 6.4,
         "sepal width": 3.2,
         "petal length": 5.3,
         "petal width": 2.3,
         "target": "Iris-virginica",
         "_deepnote_index_column": 115
        },
        {
         "sepal length": 6.5,
         "sepal width": 3,
         "petal length": 5.5,
         "petal width": 1.8,
         "target": "Iris-virginica",
         "_deepnote_index_column": 116
        },
        {
         "sepal length": 7.7,
         "sepal width": 3.8,
         "petal length": 6.7,
         "petal width": 2.2,
         "target": "Iris-virginica",
         "_deepnote_index_column": 117
        },
        {
         "sepal length": 7.7,
         "sepal width": 2.6,
         "petal length": 6.9,
         "petal width": 2.3,
         "target": "Iris-virginica",
         "_deepnote_index_column": 118
        },
        {
         "sepal length": 6,
         "sepal width": 2.2,
         "petal length": 5,
         "petal width": 1.5,
         "target": "Iris-virginica",
         "_deepnote_index_column": 119
        },
        {
         "sepal length": 6.9,
         "sepal width": 3.2,
         "petal length": 5.7,
         "petal width": 2.3,
         "target": "Iris-virginica",
         "_deepnote_index_column": 120
        },
        {
         "sepal length": 5.6,
         "sepal width": 2.8,
         "petal length": 4.9,
         "petal width": 2,
         "target": "Iris-virginica",
         "_deepnote_index_column": 121
        },
        {
         "sepal length": 7.7,
         "sepal width": 2.8,
         "petal length": 6.7,
         "petal width": 2,
         "target": "Iris-virginica",
         "_deepnote_index_column": 122
        },
        {
         "sepal length": 6.3,
         "sepal width": 2.7,
         "petal length": 4.9,
         "petal width": 1.8,
         "target": "Iris-virginica",
         "_deepnote_index_column": 123
        },
        {
         "sepal length": 6.7,
         "sepal width": 3.3,
         "petal length": 5.7,
         "petal width": 2.1,
         "target": "Iris-virginica",
         "_deepnote_index_column": 124
        },
        {
         "sepal length": 7.2,
         "sepal width": 3.2,
         "petal length": 6,
         "petal width": 1.8,
         "target": "Iris-virginica",
         "_deepnote_index_column": 125
        },
        {
         "sepal length": 6.2,
         "sepal width": 2.8,
         "petal length": 4.8,
         "petal width": 1.8,
         "target": "Iris-virginica",
         "_deepnote_index_column": 126
        },
        {
         "sepal length": 6.1,
         "sepal width": 3,
         "petal length": 4.9,
         "petal width": 1.8,
         "target": "Iris-virginica",
         "_deepnote_index_column": 127
        },
        {
         "sepal length": 6.4,
         "sepal width": 2.8,
         "petal length": 5.6,
         "petal width": 2.1,
         "target": "Iris-virginica",
         "_deepnote_index_column": 128
        },
        {
         "sepal length": 7.2,
         "sepal width": 3,
         "petal length": 5.8,
         "petal width": 1.6,
         "target": "Iris-virginica",
         "_deepnote_index_column": 129
        },
        {
         "sepal length": 7.4,
         "sepal width": 2.8,
         "petal length": 6.1,
         "petal width": 1.9,
         "target": "Iris-virginica",
         "_deepnote_index_column": 130
        },
        {
         "sepal length": 7.9,
         "sepal width": 3.8,
         "petal length": 6.4,
         "petal width": 2,
         "target": "Iris-virginica",
         "_deepnote_index_column": 131
        },
        {
         "sepal length": 6.4,
         "sepal width": 2.8,
         "petal length": 5.6,
         "petal width": 2.2,
         "target": "Iris-virginica",
         "_deepnote_index_column": 132
        },
        {
         "sepal length": 6.3,
         "sepal width": 2.8,
         "petal length": 5.1,
         "petal width": 1.5,
         "target": "Iris-virginica",
         "_deepnote_index_column": 133
        },
        {
         "sepal length": 6.1,
         "sepal width": 2.6,
         "petal length": 5.6,
         "petal width": 1.4,
         "target": "Iris-virginica",
         "_deepnote_index_column": 134
        },
        {
         "sepal length": 7.7,
         "sepal width": 3,
         "petal length": 6.1,
         "petal width": 2.3,
         "target": "Iris-virginica",
         "_deepnote_index_column": 135
        },
        {
         "sepal length": 6.3,
         "sepal width": 3.4,
         "petal length": 5.6,
         "petal width": 2.4,
         "target": "Iris-virginica",
         "_deepnote_index_column": 136
        },
        {
         "sepal length": 6.4,
         "sepal width": 3.1,
         "petal length": 5.5,
         "petal width": 1.8,
         "target": "Iris-virginica",
         "_deepnote_index_column": 137
        },
        {
         "sepal length": 6,
         "sepal width": 3,
         "petal length": 4.8,
         "petal width": 1.8,
         "target": "Iris-virginica",
         "_deepnote_index_column": 138
        },
        {
         "sepal length": 6.9,
         "sepal width": 3.1,
         "petal length": 5.4,
         "petal width": 2.1,
         "target": "Iris-virginica",
         "_deepnote_index_column": 139
        },
        {
         "sepal length": 6.7,
         "sepal width": 3.1,
         "petal length": 5.6,
         "petal width": 2.4,
         "target": "Iris-virginica",
         "_deepnote_index_column": 140
        },
        {
         "sepal length": 6.9,
         "sepal width": 3.1,
         "petal length": 5.1,
         "petal width": 2.3,
         "target": "Iris-virginica",
         "_deepnote_index_column": 141
        },
        {
         "sepal length": 5.8,
         "sepal width": 2.7,
         "petal length": 5.1,
         "petal width": 1.9,
         "target": "Iris-virginica",
         "_deepnote_index_column": 142
        },
        {
         "sepal length": 6.8,
         "sepal width": 3.2,
         "petal length": 5.9,
         "petal width": 2.3,
         "target": "Iris-virginica",
         "_deepnote_index_column": 143
        },
        {
         "sepal length": 6.7,
         "sepal width": 3.3,
         "petal length": 5.7,
         "petal width": 2.5,
         "target": "Iris-virginica",
         "_deepnote_index_column": 144
        },
        {
         "sepal length": 6.7,
         "sepal width": 3,
         "petal length": 5.2,
         "petal width": 2.3,
         "target": "Iris-virginica",
         "_deepnote_index_column": 145
        },
        {
         "sepal length": 6.3,
         "sepal width": 2.5,
         "petal length": 5,
         "petal width": 1.9,
         "target": "Iris-virginica",
         "_deepnote_index_column": 146
        },
        {
         "sepal length": 6.5,
         "sepal width": 3,
         "petal length": 5.2,
         "petal width": 2,
         "target": "Iris-virginica",
         "_deepnote_index_column": 147
        },
        {
         "sepal length": 6.2,
         "sepal width": 3.4,
         "petal length": 5.4,
         "petal width": 2.3,
         "target": "Iris-virginica",
         "_deepnote_index_column": 148
        },
        {
         "sepal length": 5.9,
         "sepal width": 3,
         "petal length": 5.1,
         "petal width": 1.8,
         "target": "Iris-virginica",
         "_deepnote_index_column": 149
        }
       ],
       "rows_bottom": null
      },
      "text/plain": "     sepal length  sepal width  petal length  petal width          target\n0             5.1          3.5           1.4          0.2     Iris-setosa\n1             4.9          3.0           1.4          0.2     Iris-setosa\n2             4.7          3.2           1.3          0.2     Iris-setosa\n3             4.6          3.1           1.5          0.2     Iris-setosa\n4             5.0          3.6           1.4          0.2     Iris-setosa\n..            ...          ...           ...          ...             ...\n145           6.7          3.0           5.2          2.3  Iris-virginica\n146           6.3          2.5           5.0          1.9  Iris-virginica\n147           6.5          3.0           5.2          2.0  Iris-virginica\n148           6.2          3.4           5.4          2.3  Iris-virginica\n149           5.9          3.0           5.1          1.8  Iris-virginica\n\n[150 rows x 5 columns]",
      "text/html": "<div>\n<style scoped>\n    .dataframe tbody tr th:only-of-type {\n        vertical-align: middle;\n    }\n\n    .dataframe tbody tr th {\n        vertical-align: top;\n    }\n\n    .dataframe thead th {\n        text-align: right;\n    }\n</style>\n<table border=\"1\" class=\"dataframe\">\n  <thead>\n    <tr style=\"text-align: right;\">\n      <th></th>\n      <th>sepal length</th>\n      <th>sepal width</th>\n      <th>petal length</th>\n      <th>petal width</th>\n      <th>target</th>\n    </tr>\n  </thead>\n  <tbody>\n    <tr>\n      <th>0</th>\n      <td>5.1</td>\n      <td>3.5</td>\n      <td>1.4</td>\n      <td>0.2</td>\n      <td>Iris-setosa</td>\n    </tr>\n    <tr>\n      <th>1</th>\n      <td>4.9</td>\n      <td>3.0</td>\n      <td>1.4</td>\n      <td>0.2</td>\n      <td>Iris-setosa</td>\n    </tr>\n    <tr>\n      <th>2</th>\n      <td>4.7</td>\n      <td>3.2</td>\n      <td>1.3</td>\n      <td>0.2</td>\n      <td>Iris-setosa</td>\n    </tr>\n    <tr>\n      <th>3</th>\n      <td>4.6</td>\n      <td>3.1</td>\n      <td>1.5</td>\n      <td>0.2</td>\n      <td>Iris-setosa</td>\n    </tr>\n    <tr>\n      <th>4</th>\n      <td>5.0</td>\n      <td>3.6</td>\n      <td>1.4</td>\n      <td>0.2</td>\n      <td>Iris-setosa</td>\n    </tr>\n    <tr>\n      <th>...</th>\n      <td>...</td>\n      <td>...</td>\n      <td>...</td>\n      <td>...</td>\n      <td>...</td>\n    </tr>\n    <tr>\n      <th>145</th>\n      <td>6.7</td>\n      <td>3.0</td>\n      <td>5.2</td>\n      <td>2.3</td>\n      <td>Iris-virginica</td>\n    </tr>\n    <tr>\n      <th>146</th>\n      <td>6.3</td>\n      <td>2.5</td>\n      <td>5.0</td>\n      <td>1.9</td>\n      <td>Iris-virginica</td>\n    </tr>\n    <tr>\n      <th>147</th>\n      <td>6.5</td>\n      <td>3.0</td>\n      <td>5.2</td>\n      <td>2.0</td>\n      <td>Iris-virginica</td>\n    </tr>\n    <tr>\n      <th>148</th>\n      <td>6.2</td>\n      <td>3.4</td>\n      <td>5.4</td>\n      <td>2.3</td>\n      <td>Iris-virginica</td>\n    </tr>\n    <tr>\n      <th>149</th>\n      <td>5.9</td>\n      <td>3.0</td>\n      <td>5.1</td>\n      <td>1.8</td>\n      <td>Iris-virginica</td>\n    </tr>\n  </tbody>\n</table>\n<p>150 rows × 5 columns</p>\n</div>"
     },
     "metadata": {}
    }
   ],
   "execution_count": null
  },
  {
   "cell_type": "markdown",
   "source": "## split data into features and target variable",
   "metadata": {
    "id": "fzzGUeSagsGK",
    "cell_id": "00007-a08d0311-88c4-48b4-bccb-aab4cfb9822f",
    "deepnote_cell_type": "markdown"
   }
  },
  {
   "cell_type": "code",
   "metadata": {
    "id": "VazqeY6SgIAx",
    "executionInfo": {
     "status": "ok",
     "timestamp": 1637153695589,
     "user_tz": 0,
     "elapsed": 7,
     "user": {
      "displayName": "Nádia Pinto",
      "photoUrl": "https://lh3.googleusercontent.com/a/default-user=s64",
      "userId": "17874983531812220099"
     }
    },
    "cell_id": "00008-593b6dbc-2764-4362-80f6-390325ee9189",
    "deepnote_to_be_reexecuted": false,
    "source_hash": "bdb91260",
    "execution_start": 1637155768746,
    "execution_millis": 7,
    "deepnote_cell_type": "code"
   },
   "source": "X = df.loc[:, features]\ny = df.loc[:, target]",
   "outputs": [],
   "execution_count": null
  },
  {
   "cell_type": "markdown",
   "source": "## apply PCA",
   "metadata": {
    "id": "1GtD2xf2gz2Q",
    "cell_id": "00009-82985ad3-d706-497b-9602-17e5b307940d",
    "deepnote_cell_type": "markdown"
   }
  },
  {
   "cell_type": "code",
   "metadata": {
    "colab": {
     "base_uri": "https://localhost:8080/",
     "height": 419
    },
    "id": "k5lIL4wLg5lq",
    "executionInfo": {
     "status": "ok",
     "timestamp": 1637153695590,
     "user_tz": 0,
     "elapsed": 8,
     "user": {
      "displayName": "Nádia Pinto",
      "photoUrl": "https://lh3.googleusercontent.com/a/default-user=s64",
      "userId": "17874983531812220099"
     }
    },
    "outputId": "f777ab80-d32a-454a-8502-f8c1dfa59677",
    "cell_id": "00010-f74b7545-e1d6-4150-b74a-8cfa446efd59",
    "deepnote_to_be_reexecuted": false,
    "source_hash": "afbfd457",
    "execution_start": 1637155768827,
    "execution_millis": 0,
    "deepnote_cell_type": "code"
   },
   "source": "pca = PCA_sklearn(X, n_components=2, target=y,colNames=['Principal Component 1', 'Principal Component 2'])\nprincipalDf = pca.get_principalDf()\nprincipalDf",
   "outputs": [
    {
     "output_type": "execute_result",
     "execution_count": 5,
     "data": {
      "application/vnd.deepnote.dataframe.v2+json": {
       "row_count": 150,
       "column_count": 3,
       "columns": [
        {
         "name": "Principal Component 1",
         "dtype": "float64",
         "stats": {
          "unique_count": 147,
          "nan_count": 0,
          "min": "-2.7741697937051564",
          "max": "3.309141182676078",
          "histogram": [
           {
            "bin_start": -2.7741697937051564,
            "bin_end": -2.165838696067033,
            "count": 34
           },
           {
            "bin_start": -2.165838696067033,
            "bin_end": -1.5575075984289095,
            "count": 16
           },
           {
            "bin_start": -1.5575075984289095,
            "bin_end": -0.9491765007907862,
            "count": 0
           },
           {
            "bin_start": -0.9491765007907862,
            "bin_end": -0.34084540315266265,
            "count": 3
           },
           {
            "bin_start": -0.34084540315266265,
            "bin_end": 0.2674856944854609,
            "count": 14
           },
           {
            "bin_start": 0.2674856944854609,
            "bin_end": 0.875816792123584,
            "count": 22
           },
           {
            "bin_start": 0.875816792123584,
            "bin_end": 1.484147889761708,
            "count": 30
           },
           {
            "bin_start": 1.484147889761708,
            "bin_end": 2.092478987399831,
            "count": 21
           },
           {
            "bin_start": 2.092478987399831,
            "bin_end": 2.700810085037954,
            "count": 6
           },
           {
            "bin_start": 2.700810085037954,
            "bin_end": 3.309141182676078,
            "count": 4
           }
          ]
         }
        },
        {
         "name": "Principal Component 2",
         "dtype": "float64",
         "stats": {
          "unique_count": 147,
          "nan_count": 0,
          "min": "-2.6580626779617607",
          "max": "2.722371076574469",
          "histogram": [
           {
            "bin_start": -2.6580626779617607,
            "bin_end": -2.1200193025081377,
            "count": 2
           },
           {
            "bin_start": -2.1200193025081377,
            "bin_end": -1.5819759270545148,
            "count": 6
           },
           {
            "bin_start": -1.5819759270545148,
            "bin_end": -1.043932551600892,
            "count": 11
           },
           {
            "bin_start": -1.043932551600892,
            "bin_end": -0.505889176147269,
            "count": 22
           },
           {
            "bin_start": -0.505889176147269,
            "bin_end": 0.03215419930635388,
            "count": 37
           },
           {
            "bin_start": 0.03215419930635388,
            "bin_end": 0.5701975747599768,
            "count": 34
           },
           {
            "bin_start": 0.5701975747599768,
            "bin_end": 1.1082409502135997,
            "count": 25
           },
           {
            "bin_start": 1.1082409502135997,
            "bin_end": 1.6462843256672226,
            "count": 6
           },
           {
            "bin_start": 1.6462843256672226,
            "bin_end": 2.1843277011208455,
            "count": 3
           },
           {
            "bin_start": 2.1843277011208455,
            "bin_end": 2.722371076574469,
            "count": 4
           }
          ]
         }
        },
        {
         "name": "target",
         "dtype": "object",
         "stats": {
          "unique_count": 3,
          "nan_count": 0,
          "categories": [
           {
            "name": "Iris-setosa",
            "count": 50
           },
           {
            "name": "Iris-versicolor",
            "count": 50
           },
           {
            "name": "Iris-virginica",
            "count": 50
           }
          ]
         }
        },
        {
         "name": "_deepnote_index_column",
         "dtype": "int64"
        }
       ],
       "rows_top": [
        {
         "Principal Component 1": -2.2645417283949034,
         "Principal Component 2": 0.5057039027737841,
         "target": "Iris-setosa",
         "_deepnote_index_column": 0
        },
        {
         "Principal Component 1": -2.086425500616158,
         "Principal Component 2": -0.6554047293691346,
         "target": "Iris-setosa",
         "_deepnote_index_column": 1
        },
        {
         "Principal Component 1": -2.3679504490625254,
         "Principal Component 2": -0.3184773108472492,
         "target": "Iris-setosa",
         "_deepnote_index_column": 2
        },
        {
         "Principal Component 1": -2.3041971611520085,
         "Principal Component 2": -0.5753677125331953,
         "target": "Iris-setosa",
         "_deepnote_index_column": 3
        },
        {
         "Principal Component 1": -2.3887774935056414,
         "Principal Component 2": 0.6747673967025152,
         "target": "Iris-setosa",
         "_deepnote_index_column": 4
        },
        {
         "Principal Component 1": -2.070536807180553,
         "Principal Component 2": 1.518548559888513,
         "target": "Iris-setosa",
         "_deepnote_index_column": 5
        },
        {
         "Principal Component 1": -2.445711339630283,
         "Principal Component 2": 0.07456267500687389,
         "target": "Iris-setosa",
         "_deepnote_index_column": 6
        },
        {
         "Principal Component 1": -2.233841858709265,
         "Principal Component 2": 0.24761393175226507,
         "target": "Iris-setosa",
         "_deepnote_index_column": 7
        },
        {
         "Principal Component 1": -2.34195767645539,
         "Principal Component 2": -1.0951463625829554,
         "target": "Iris-setosa",
         "_deepnote_index_column": 8
        },
        {
         "Principal Component 1": -2.1886757552808693,
         "Principal Component 2": -0.44862904833755896,
         "target": "Iris-setosa",
         "_deepnote_index_column": 9
        },
        {
         "Principal Component 1": -2.1634865562665224,
         "Principal Component 2": 1.0705955760377264,
         "target": "Iris-setosa",
         "_deepnote_index_column": 10
        },
        {
         "Principal Component 1": -2.3273777541343734,
         "Principal Component 2": 0.15858745465947602,
         "target": "Iris-setosa",
         "_deepnote_index_column": 11
        },
        {
         "Principal Component 1": -2.2240827220450017,
         "Principal Component 2": -0.709118158030226,
         "target": "Iris-setosa",
         "_deepnote_index_column": 12
        },
        {
         "Principal Component 1": -2.6397162608446285,
         "Principal Component 2": -0.938281982107854,
         "target": "Iris-setosa",
         "_deepnote_index_column": 13
        },
        {
         "Principal Component 1": -2.1922915084984287,
         "Principal Component 2": 1.8899785123164656,
         "target": "Iris-setosa",
         "_deepnote_index_column": 14
        },
        {
         "Principal Component 1": -2.2514652145840643,
         "Principal Component 2": 2.722371076574469,
         "target": "Iris-setosa",
         "_deepnote_index_column": 15
        },
        {
         "Principal Component 1": -2.202750480080085,
         "Principal Component 2": 1.5137502825462188,
         "target": "Iris-setosa",
         "_deepnote_index_column": 16
        },
        {
         "Principal Component 1": -2.1901791637910515,
         "Principal Component 2": 0.5143043082206927,
         "target": "Iris-setosa",
         "_deepnote_index_column": 17
        },
        {
         "Principal Component 1": -1.8940742930236676,
         "Principal Component 2": 1.431110706941237,
         "target": "Iris-setosa",
         "_deepnote_index_column": 18
        },
        {
         "Principal Component 1": -2.3399490704234074,
         "Principal Component 2": 1.1580334289850007,
         "target": "Iris-setosa",
         "_deepnote_index_column": 19
        },
        {
         "Principal Component 1": -1.9145563949595166,
         "Principal Component 2": 0.4304651632801381,
         "target": "Iris-setosa",
         "_deepnote_index_column": 20
        },
        {
         "Principal Component 1": -2.2046453975338136,
         "Principal Component 2": 0.952457317288998,
         "target": "Iris-setosa",
         "_deepnote_index_column": 21
        },
        {
         "Principal Component 1": -2.7741697937051564,
         "Principal Component 2": 0.48951702650349477,
         "target": "Iris-setosa",
         "_deepnote_index_column": 22
        },
        {
         "Principal Component 1": -1.8204115633372133,
         "Principal Component 2": 0.10675079283540627,
         "target": "Iris-setosa",
         "_deepnote_index_column": 23
        },
        {
         "Principal Component 1": -2.2282174994597246,
         "Principal Component 2": 0.16218616266619693,
         "target": "Iris-setosa",
         "_deepnote_index_column": 24
        },
        {
         "Principal Component 1": -1.9570240073413965,
         "Principal Component 2": -0.6078925674838078,
         "target": "Iris-setosa",
         "_deepnote_index_column": 25
        },
        {
         "Principal Component 1": -2.052063311276686,
         "Principal Component 2": 0.26601431198165504,
         "target": "Iris-setosa",
         "_deepnote_index_column": 26
        },
        {
         "Principal Component 1": -2.168193653345021,
         "Principal Component 2": 0.5520164953235399,
         "target": "Iris-setosa",
         "_deepnote_index_column": 27
        },
        {
         "Principal Component 1": -2.140305963284157,
         "Principal Component 2": 0.3366404088450542,
         "target": "Iris-setosa",
         "_deepnote_index_column": 28
        },
        {
         "Principal Component 1": -2.2687901943878765,
         "Principal Component 2": -0.31487860284052827,
         "target": "Iris-setosa",
         "_deepnote_index_column": 29
        },
        {
         "Principal Component 1": -2.1445544292771346,
         "Principal Component 2": -0.48394209676925876,
         "target": "Iris-setosa",
         "_deepnote_index_column": 30
        },
        {
         "Principal Component 1": -1.8319381022015864,
         "Principal Component 2": 0.4452668355028073,
         "target": "Iris-setosa",
         "_deepnote_index_column": 31
        },
        {
         "Principal Component 1": -2.6082028676633464,
         "Principal Component 2": 1.8284751927341,
         "target": "Iris-setosa",
         "_deepnote_index_column": 32
        },
        {
         "Principal Component 1": -2.437950859095142,
         "Principal Component 2": 2.1853916156308917,
         "target": "Iris-setosa",
         "_deepnote_index_column": 33
        },
        {
         "Principal Component 1": -2.1886757552808693,
         "Principal Component 2": -0.44862904833755896,
         "target": "Iris-setosa",
         "_deepnote_index_column": 34
        },
        {
         "Principal Component 1": -2.2111198968124217,
         "Principal Component 2": -0.18433781054027856,
         "target": "Iris-setosa",
         "_deepnote_index_column": 35
        },
        {
         "Principal Component 1": -2.0444165193198,
         "Principal Component 2": 0.6849564262949368,
         "target": "Iris-setosa",
         "_deepnote_index_column": 36
        },
        {
         "Principal Component 1": -2.1886757552808693,
         "Principal Component 2": -0.44862904833755896,
         "target": "Iris-setosa",
         "_deepnote_index_column": 37
        },
        {
         "Principal Component 1": -2.4359522029660194,
         "Principal Component 2": -0.882169414775617,
         "target": "Iris-setosa",
         "_deepnote_index_column": 38
        },
        {
         "Principal Component 1": -2.17054720188427,
         "Principal Component 2": 0.29272695496644646,
         "target": "Iris-setosa",
         "_deepnote_index_column": 39
        },
        {
         "Principal Component 1": -2.2865272388409297,
         "Principal Component 2": 0.46799171567093784,
         "target": "Iris-setosa",
         "_deepnote_index_column": 40
        },
        {
         "Principal Component 1": -1.8717072235369505,
         "Principal Component 2": -2.3276916061149096,
         "target": "Iris-setosa",
         "_deepnote_index_column": 41
        },
        {
         "Principal Component 1": -2.557834419537513,
         "Principal Component 2": -0.45381638048979317,
         "target": "Iris-setosa",
         "_deepnote_index_column": 42
        },
        {
         "Principal Component 1": -1.9642792903547366,
         "Principal Component 2": 0.4973916400183832,
         "target": "Iris-setosa",
         "_deepnote_index_column": 43
        },
        {
         "Principal Component 1": -2.1333728329200277,
         "Principal Component 2": 1.1714321117742033,
         "target": "Iris-setosa",
         "_deepnote_index_column": 44
        },
        {
         "Principal Component 1": -2.075357592837306,
         "Principal Component 2": -0.6919173471364096,
         "target": "Iris-setosa",
         "_deepnote_index_column": 45
        },
        {
         "Principal Component 1": -2.3812582168023724,
         "Principal Component 2": 1.1506325928736663,
         "target": "Iris-setosa",
         "_deepnote_index_column": 46
        },
        {
         "Principal Component 1": -2.398191687662638,
         "Principal Component 2": -0.3623907647258571,
         "target": "Iris-setosa",
         "_deepnote_index_column": 47
        },
        {
         "Principal Component 1": -2.226781213091518,
         "Principal Component 2": 1.0254825528235447,
         "target": "Iris-setosa",
         "_deepnote_index_column": 48
        },
        {
         "Principal Component 1": -2.2059541686484017,
         "Principal Component 2": 0.0322378452737796,
         "target": "Iris-setosa",
         "_deepnote_index_column": 49
        },
        {
         "Principal Component 1": 1.1039936528045722,
         "Principal Component 2": 0.8631124458513245,
         "target": "Iris-versicolor",
         "_deepnote_index_column": 50
        },
        {
         "Principal Component 1": 0.7324814400086807,
         "Principal Component 2": 0.5986355733419972,
         "target": "Iris-versicolor",
         "_deepnote_index_column": 51
        },
        {
         "Principal Component 1": 1.2421095053189377,
         "Principal Component 2": 0.6148224496122869,
         "target": "Iris-versicolor",
         "_deepnote_index_column": 52
        },
        {
         "Principal Component 1": 0.3973072828233272,
         "Principal Component 2": -1.7581689474435256,
         "target": "Iris-versicolor",
         "_deepnote_index_column": 53
        },
        {
         "Principal Component 1": 1.072593948201545,
         "Principal Component 2": -0.2117579026798954,
         "target": "Iris-versicolor",
         "_deepnote_index_column": 54
        },
        {
         "Principal Component 1": 0.3844581461690013,
         "Principal Component 2": -0.5910624686227365,
         "target": "Iris-versicolor",
         "_deepnote_index_column": 55
        },
        {
         "Principal Component 1": 0.7487150759515526,
         "Principal Component 2": 0.7786986113887819,
         "target": "Iris-versicolor",
         "_deepnote_index_column": 56
        },
        {
         "Principal Component 1": -0.4978633877981182,
         "Principal Component 2": -1.8488687712754417,
         "target": "Iris-versicolor",
         "_deepnote_index_column": 57
        },
        {
         "Principal Component 1": 0.9262223675330984,
         "Principal Component 2": 0.03033082678338136,
         "target": "Iris-versicolor",
         "_deepnote_index_column": 58
        },
        {
         "Principal Component 1": 0.004968025584318978,
         "Principal Component 2": -1.029401112403088,
         "target": "Iris-versicolor",
         "_deepnote_index_column": 59
        },
        {
         "Principal Component 1": -0.12469746138037062,
         "Principal Component 2": -2.6580626779617607,
         "target": "Iris-versicolor",
         "_deepnote_index_column": 60
        },
        {
         "Principal Component 1": 0.4387301177805465,
         "Principal Component 2": -0.05888128502145437,
         "target": "Iris-versicolor",
         "_deepnote_index_column": 61
        },
        {
         "Principal Component 1": 0.5516339814225077,
         "Principal Component 2": -1.7725815648562542,
         "target": "Iris-versicolor",
         "_deepnote_index_column": 62
        },
        {
         "Principal Component 1": 0.7171650662368513,
         "Principal Component 2": -0.18543431450504383,
         "target": "Iris-versicolor",
         "_deepnote_index_column": 63
        },
        {
         "Principal Component 1": -0.03725838296568845,
         "Principal Component 2": -0.4327950987141687,
         "target": "Iris-versicolor",
         "_deepnote_index_column": 64
        },
        {
         "Principal Component 1": 0.8758905359406832,
         "Principal Component 2": 0.5099981510591476,
         "target": "Iris-versicolor",
         "_deepnote_index_column": 65
        },
        {
         "Principal Component 1": 0.3480064019802084,
         "Principal Component 2": -0.19062164665727788,
         "target": "Iris-versicolor",
         "_deepnote_index_column": 66
        },
        {
         "Principal Component 1": 0.15339254456866705,
         "Principal Component 2": -0.7907254562344853,
         "target": "Iris-versicolor",
         "_deepnote_index_column": 67
        },
        {
         "Principal Component 1": 1.215303209216154,
         "Principal Component 2": -1.633355644515482,
         "target": "Iris-versicolor",
         "_deepnote_index_column": 68
        },
        {
         "Principal Component 1": 0.15694117564425067,
         "Principal Component 2": -1.3031032701729108,
         "target": "Iris-versicolor",
         "_deepnote_index_column": 69
        },
        {
         "Principal Component 1": 0.7382561043698956,
         "Principal Component 2": 0.4024703816185357,
         "target": "Iris-versicolor",
         "_deepnote_index_column": 70
        },
        {
         "Principal Component 1": 0.47236968234456844,
         "Principal Component 2": -0.4166082224438792,
         "target": "Iris-versicolor",
         "_deepnote_index_column": 71
        },
        {
         "Principal Component 1": 1.2279882140834424,
         "Principal Component 2": -0.940914792530272,
         "target": "Iris-versicolor",
         "_deepnote_index_column": 72
        },
        {
         "Principal Component 1": 0.6293810453149018,
         "Principal Component 2": -0.4168116425417719,
         "target": "Iris-versicolor",
         "_deepnote_index_column": 73
        },
        {
         "Principal Component 1": 0.7004727992084582,
         "Principal Component 2": -0.06349392765170202,
         "target": "Iris-versicolor",
         "_deepnote_index_column": 74
        },
        {
         "Principal Component 1": 0.8735369874014337,
         "Principal Component 2": 0.25070861070205414,
         "target": "Iris-versicolor",
         "_deepnote_index_column": 75
        },
        {
         "Principal Component 1": 1.25422219052245,
         "Principal Component 2": -0.0826200998131122,
         "target": "Iris-versicolor",
         "_deepnote_index_column": 76
        },
        {
         "Principal Component 1": 1.3582398473872712,
         "Principal Component 2": 0.3288202662704021,
         "target": "Iris-versicolor",
         "_deepnote_index_column": 77
        },
        {
         "Principal Component 1": 0.6621261375659374,
         "Principal Component 2": -0.22434607094346407,
         "target": "Iris-versicolor",
         "_deepnote_index_column": 78
        },
        {
         "Principal Component 1": -0.04728151331988002,
         "Principal Component 2": -1.0572124126050202,
         "target": "Iris-versicolor",
         "_deepnote_index_column": 79
        },
        {
         "Principal Component 1": 0.12153420888011869,
         "Principal Component 2": -1.5635923798655775,
         "target": "Iris-versicolor",
         "_deepnote_index_column": 80
        },
        {
         "Principal Component 1": 0.014118226051387753,
         "Principal Component 2": -1.5733923546480593,
         "target": "Iris-versicolor",
         "_deepnote_index_column": 81
        },
        {
         "Principal Component 1": 0.23601083732659692,
         "Principal Component 2": -0.7759237840118163,
         "target": "Iris-versicolor",
         "_deepnote_index_column": 82
        },
        {
         "Principal Component 1": 1.0566914280905764,
         "Principal Component 2": -0.6369012837689368,
         "target": "Iris-versicolor",
         "_deepnote_index_column": 83
        },
        {
         "Principal Component 1": 0.22141708833021762,
         "Principal Component 2": -0.2808476930856404,
         "target": "Iris-versicolor",
         "_deepnote_index_column": 84
        },
        {
         "Principal Component 1": 0.43178316074105333,
         "Principal Component 2": 0.8551369202180025,
         "target": "Iris-versicolor",
         "_deepnote_index_column": 85
        },
        {
         "Principal Component 1": 1.0494133552191802,
         "Principal Component 2": 0.5221972645127767,
         "target": "Iris-versicolor",
         "_deepnote_index_column": 86
        },
        {
         "Principal Component 1": 1.0358782103228246,
         "Principal Component 2": -1.39246648438778,
         "target": "Iris-versicolor",
         "_deepnote_index_column": 87
        },
        {
         "Principal Component 1": 0.06706759987298008,
         "Principal Component 2": -0.21262073489338879,
         "target": "Iris-versicolor",
         "_deepnote_index_column": 88
        },
        {
         "Principal Component 1": 0.27542506625183405,
         "Principal Component 2": -1.3298159131577019,
         "target": "Iris-versicolor",
         "_deepnote_index_column": 89
        },
        {
         "Principal Component 1": 0.2723350662617718,
         "Principal Component 2": -1.1194415241194038,
         "target": "Iris-versicolor",
         "_deepnote_index_column": 90
        },
        {
         "Principal Component 1": 0.6231705397262214,
         "Principal Component 2": 0.027542633302294464,
         "target": "Iris-versicolor",
         "_deepnote_index_column": 91
        },
        {
         "Principal Component 1": 0.3300053638372265,
         "Principal Component 2": -0.9889007318191547,
         "target": "Iris-versicolor",
         "_deepnote_index_column": 92
        },
        {
         "Principal Component 1": -0.3736276226873762,
         "Principal Component 2": -2.017932265204172,
         "target": "Iris-versicolor",
         "_deepnote_index_column": 93
        },
        {
         "Principal Component 1": 0.2829443429551026,
         "Principal Component 2": -0.85395071698655,
         "target": "Iris-versicolor",
         "_deepnote_index_column": 94
        },
        {
         "Principal Component 1": 0.08905311031901127,
         "Principal Component 2": -0.17490854779054174,
         "target": "Iris-versicolor",
         "_deepnote_index_column": 95
        },
        {
         "Principal Component 1": 0.22435678320860597,
         "Principal Component 2": -0.3804846594865455,
         "target": "Iris-versicolor",
         "_deepnote_index_column": 96
        },
        {
         "Principal Component 1": 0.5738834855584669,
         "Principal Component 2": -0.15371997408006488,
         "target": "Iris-versicolor",
         "_deepnote_index_column": 97
        },
        {
         "Principal Component 1": -0.4570128725046748,
         "Principal Component 2": -1.5394645102639806,
         "target": "Iris-versicolor",
         "_deepnote_index_column": 98
        },
        {
         "Principal Component 1": 0.25224447326946914,
         "Principal Component 2": -0.595860745965031,
         "target": "Iris-versicolor",
         "_deepnote_index_column": 99
        },
        {
         "Principal Component 1": 1.8476725943096637,
         "Principal Component 2": 0.8716966617734127,
         "target": "Iris-virginica",
         "_deepnote_index_column": 100
        },
        {
         "Principal Component 1": 1.1531898082521288,
         "Principal Component 2": -0.7013261138565754,
         "target": "Iris-virginica",
         "_deepnote_index_column": 101
        },
        {
         "Principal Component 1": 2.206349497126593,
         "Principal Component 2": 0.5544701049349228,
         "target": "Iris-virginica",
         "_deepnote_index_column": 102
        },
        {
         "Principal Component 1": 1.4386854023261815,
         "Principal Component 2": -0.05001052226888553,
         "target": "Iris-virginica",
         "_deepnote_index_column": 103
        },
        {
         "Principal Component 1": 1.867890702555584,
         "Principal Component 2": 0.29119280176116913,
         "target": "Iris-virginica",
         "_deepnote_index_column": 104
        },
        {
         "Principal Component 1": 2.7541967088257526,
         "Principal Component 2": 0.7884322063548452,
         "target": "Iris-virginica",
         "_deepnote_index_column": 105
        },
        {
         "Principal Component 1": 0.35837447484166746,
         "Principal Component 2": -1.560094583977289,
         "target": "Iris-virginica",
         "_deepnote_index_column": 106
        },
        {
         "Principal Component 1": 2.3030058981503188,
         "Principal Component 2": 0.4095166952219437,
         "target": "Iris-virginica",
         "_deepnote_index_column": 107
        },
        {
         "Principal Component 1": 2.0017352992189164,
         "Principal Component 2": -0.723865359312659,
         "target": "Iris-virginica",
         "_deepnote_index_column": 108
        },
        {
         "Principal Component 1": 2.267554599102268,
         "Principal Component 2": 1.9214429914653548,
         "target": "Iris-virginica",
         "_deepnote_index_column": 109
        },
        {
         "Principal Component 1": 1.3659094292022136,
         "Principal Component 2": 0.6939480398041611,
         "target": "Iris-virginica",
         "_deepnote_index_column": 110
        },
        {
         "Principal Component 1": 1.5990645856518693,
         "Principal Component 2": -0.42824883590033935,
         "target": "Iris-virginica",
         "_deepnote_index_column": 111
        },
        {
         "Principal Component 1": 1.8842518537520743,
         "Principal Component 2": 0.4143327579500842,
         "target": "Iris-virginica",
         "_deepnote_index_column": 112
        },
        {
         "Principal Component 1": 1.253086514377591,
         "Principal Component 2": -1.1673913352452454,
         "target": "Iris-virginica",
         "_deepnote_index_column": 113
        },
        {
         "Principal Component 1": 1.4640615229856224,
         "Principal Component 2": -0.4441475694791236,
         "target": "Iris-virginica",
         "_deepnote_index_column": 114
        },
        {
         "Principal Component 1": 1.5918093026385283,
         "Principal Component 2": 0.6770353716018516,
         "target": "Iris-virginica",
         "_deepnote_index_column": 115
        },
        {
         "Principal Component 1": 1.4712801894655434,
         "Principal Component 2": 0.25319247196681555,
         "target": "Iris-virginica",
         "_deepnote_index_column": 116
        },
        {
         "Principal Component 1": 2.437378482193507,
         "Principal Component 2": 2.5567573414948015,
         "target": "Iris-virginica",
         "_deepnote_index_column": 117
        },
        {
         "Principal Component 1": 3.309141182676078,
         "Principal Component 2": -0.0023613201020824923,
         "target": "Iris-virginica",
         "_deepnote_index_column": 118
        },
        {
         "Principal Component 1": 1.2539809866905776,
         "Principal Component 2": -1.7175838442659768,
         "target": "Iris-virginica",
         "_deepnote_index_column": 119
        },
        {
         "Principal Component 1": 2.0404962596630387,
         "Principal Component 2": 0.9073987650150531,
         "target": "Iris-virginica",
         "_deepnote_index_column": 120
        },
        {
         "Principal Component 1": 0.9739151144704733,
         "Principal Component 2": -0.5711743763662661,
         "target": "Iris-virginica",
         "_deepnote_index_column": 121
        },
        {
         "Principal Component 1": 2.8980644358432763,
         "Principal Component 2": 0.3977913591718686,
         "target": "Iris-virginica",
         "_deepnote_index_column": 122
        },
        {
         "Principal Component 1": 1.3291936913234932,
         "Principal Component 2": -0.4867605419037237,
         "target": "Iris-virginica",
         "_deepnote_index_column": 123
        },
        {
         "Principal Component 1": 1.7042407085196052,
         "Principal Component 2": 1.014148424835785,
         "target": "Iris-virginica",
         "_deepnote_index_column": 124
        },
        {
         "Principal Component 1": 1.957727661793435,
         "Principal Component 2": 1.0033345154297773,
         "target": "Iris-virginica",
         "_deepnote_index_column": 125
        },
        {
         "Principal Component 1": 1.1719045079878683,
         "Principal Component 2": -0.3188966173105676,
         "target": "Iris-virginica",
         "_deepnote_index_column": 126
        },
        {
         "Principal Component 1": 1.0197810528162627,
         "Principal Component 2": 0.06554296309664809,
         "target": "Iris-virginica",
         "_deepnote_index_column": 127
        },
        {
         "Principal Component 1": 1.786008861248468,
         "Principal Component 2": -0.19327279985689128,
         "target": "Iris-virginica",
         "_deepnote_index_column": 128
        },
        {
         "Principal Component 1": 1.8647779127074662,
         "Principal Component 2": 0.55538153157899,
         "target": "Iris-virginica",
         "_deepnote_index_column": 129
        },
        {
         "Principal Component 1": 2.4354973914151428,
         "Principal Component 2": 0.24665446806897456,
         "target": "Iris-virginica",
         "_deepnote_index_column": 130
        },
        {
         "Principal Component 1": 2.3160824119611534,
         "Principal Component 2": 2.6261838690226273,
         "target": "Iris-virginica",
         "_deepnote_index_column": 131
        },
        {
         "Principal Component 1": 1.8603714258523156,
         "Principal Component 2": -0.18467239440998312,
         "target": "Iris-virginica",
         "_deepnote_index_column": 132
        },
        {
         "Principal Component 1": 1.1112717256759688,
         "Principal Component 2": -0.29598610243039014,
         "target": "Iris-virginica",
         "_deepnote_index_column": 133
        },
        {
         "Principal Component 1": 1.1974691551180376,
         "Principal Component 2": -0.8171677419136159,
         "target": "Iris-virginica",
         "_deepnote_index_column": 134
        },
        {
         "Principal Component 1": 2.800949403734028,
         "Principal Component 2": 0.8447481937849748,
         "target": "Iris-virginica",
         "_deepnote_index_column": 135
        },
        {
         "Principal Component 1": 1.5801552485205363,
         "Principal Component 2": 1.0724744961271222,
         "target": "Iris-virginica",
         "_deepnote_index_column": 136
        },
        {
         "Principal Component 1": 1.3470444243548017,
         "Principal Component 2": 0.42225596589554615,
         "target": "Iris-virginica",
         "_deepnote_index_column": 137
        },
        {
         "Principal Component 1": 0.923432977766384,
         "Principal Component 2": 0.019230370546893197,
         "target": "Iris-virginica",
         "_deepnote_index_column": 138
        },
        {
         "Principal Component 1": 1.8535519840664405,
         "Principal Component 2": 0.672422728971604,
         "target": "Iris-virginica",
         "_deepnote_index_column": 139
        },
        {
         "Principal Component 1": 2.0161572006777586,
         "Principal Component 2": 0.6103970375551129,
         "target": "Iris-virginica",
         "_deepnote_index_column": 140
        },
        {
         "Principal Component 1": 1.9031168585994869,
         "Principal Component 2": 0.6860248318586996,
         "target": "Iris-virginica",
         "_deepnote_index_column": 141
        },
        {
         "Principal Component 1": 1.1531898082521288,
         "Principal Component 2": -0.7013261138565754,
         "target": "Iris-virginica",
         "_deepnote_index_column": 142
        },
        {
         "Principal Component 1": 2.043308439287809,
         "Principal Component 2": 0.8646848804720187,
         "target": "Iris-virginica",
         "_deepnote_index_column": 143
        },
        {
         "Principal Component 1": 2.0016909669349974,
         "Principal Component 2": 1.0485500466234177,
         "target": "Iris-virginica",
         "_deepnote_index_column": 144
        },
        {
         "Principal Component 1": 1.870522071460125,
         "Principal Component 2": 0.3828218376229984,
         "target": "Iris-virginica",
         "_deepnote_index_column": 145
        },
        {
         "Principal Component 1": 1.558491890723717,
         "Principal Component 2": -0.9053136014070654,
         "target": "Iris-virginica",
         "_deepnote_index_column": 146
        },
        {
         "Principal Component 1": 1.5208450639985898,
         "Principal Component 2": 0.2667945748539109,
         "target": "Iris-virginica",
         "_deepnote_index_column": 147
        },
        {
         "Principal Component 1": 1.3763911906419273,
         "Principal Component 2": 1.0163619287948853,
         "target": "Iris-virginica",
         "_deepnote_index_column": 148
        },
        {
         "Principal Component 1": 0.9592985756160376,
         "Principal Component 2": -0.022283944660567125,
         "target": "Iris-virginica",
         "_deepnote_index_column": 149
        }
       ],
       "rows_bottom": null
      },
      "text/plain": "     Principal Component 1  Principal Component 2          target\n0                -2.264542               0.505704     Iris-setosa\n1                -2.086426              -0.655405     Iris-setosa\n2                -2.367950              -0.318477     Iris-setosa\n3                -2.304197              -0.575368     Iris-setosa\n4                -2.388777               0.674767     Iris-setosa\n..                     ...                    ...             ...\n145               1.870522               0.382822  Iris-virginica\n146               1.558492              -0.905314  Iris-virginica\n147               1.520845               0.266795  Iris-virginica\n148               1.376391               1.016362  Iris-virginica\n149               0.959299              -0.022284  Iris-virginica\n\n[150 rows x 3 columns]",
      "text/html": "<div>\n<style scoped>\n    .dataframe tbody tr th:only-of-type {\n        vertical-align: middle;\n    }\n\n    .dataframe tbody tr th {\n        vertical-align: top;\n    }\n\n    .dataframe thead th {\n        text-align: right;\n    }\n</style>\n<table border=\"1\" class=\"dataframe\">\n  <thead>\n    <tr style=\"text-align: right;\">\n      <th></th>\n      <th>Principal Component 1</th>\n      <th>Principal Component 2</th>\n      <th>target</th>\n    </tr>\n  </thead>\n  <tbody>\n    <tr>\n      <th>0</th>\n      <td>-2.264542</td>\n      <td>0.505704</td>\n      <td>Iris-setosa</td>\n    </tr>\n    <tr>\n      <th>1</th>\n      <td>-2.086426</td>\n      <td>-0.655405</td>\n      <td>Iris-setosa</td>\n    </tr>\n    <tr>\n      <th>2</th>\n      <td>-2.367950</td>\n      <td>-0.318477</td>\n      <td>Iris-setosa</td>\n    </tr>\n    <tr>\n      <th>3</th>\n      <td>-2.304197</td>\n      <td>-0.575368</td>\n      <td>Iris-setosa</td>\n    </tr>\n    <tr>\n      <th>4</th>\n      <td>-2.388777</td>\n      <td>0.674767</td>\n      <td>Iris-setosa</td>\n    </tr>\n    <tr>\n      <th>...</th>\n      <td>...</td>\n      <td>...</td>\n      <td>...</td>\n    </tr>\n    <tr>\n      <th>145</th>\n      <td>1.870522</td>\n      <td>0.382822</td>\n      <td>Iris-virginica</td>\n    </tr>\n    <tr>\n      <th>146</th>\n      <td>1.558492</td>\n      <td>-0.905314</td>\n      <td>Iris-virginica</td>\n    </tr>\n    <tr>\n      <th>147</th>\n      <td>1.520845</td>\n      <td>0.266795</td>\n      <td>Iris-virginica</td>\n    </tr>\n    <tr>\n      <th>148</th>\n      <td>1.376391</td>\n      <td>1.016362</td>\n      <td>Iris-virginica</td>\n    </tr>\n    <tr>\n      <th>149</th>\n      <td>0.959299</td>\n      <td>-0.022284</td>\n      <td>Iris-virginica</td>\n    </tr>\n  </tbody>\n</table>\n<p>150 rows × 3 columns</p>\n</div>"
     },
     "metadata": {}
    }
   ],
   "execution_count": null
  },
  {
   "cell_type": "markdown",
   "source": "### check if colNames are automatically assigned\n\nif the colNames are properly applied in class PCA_sklearn\nthen the following code will result in columns being named automatically PC1, PC2, PC3, PC4, ...\n\n",
   "metadata": {
    "id": "d5jZMsThhDZ3",
    "cell_id": "00011-2ac568b3-7f70-41ae-9714-78bc80013fd1",
    "deepnote_cell_type": "markdown"
   }
  },
  {
   "cell_type": "code",
   "metadata": {
    "colab": {
     "base_uri": "https://localhost:8080/",
     "height": 419
    },
    "id": "nRAt3_4thNZq",
    "executionInfo": {
     "status": "ok",
     "timestamp": 1637153695591,
     "user_tz": 0,
     "elapsed": 8,
     "user": {
      "displayName": "Nádia Pinto",
      "photoUrl": "https://lh3.googleusercontent.com/a/default-user=s64",
      "userId": "17874983531812220099"
     }
    },
    "outputId": "929cf702-a874-4307-a157-d78d740bece3",
    "cell_id": "00012-8573c18f-9499-42f4-a4a7-f2f7488bba91",
    "deepnote_to_be_reexecuted": false,
    "source_hash": "6ddfaaa1",
    "execution_start": 1637155768888,
    "execution_millis": 13,
    "deepnote_cell_type": "code"
   },
   "source": "pca = PCA_sklearn(X, n_components=2, target=y,colNames=['PC1', 'PC2'])\nprincipalDf = pca.get_principalDf()\nprincipalDf",
   "outputs": [
    {
     "output_type": "execute_result",
     "execution_count": 6,
     "data": {
      "application/vnd.deepnote.dataframe.v2+json": {
       "row_count": 150,
       "column_count": 3,
       "columns": [
        {
         "name": "PC1",
         "dtype": "float64",
         "stats": {
          "unique_count": 147,
          "nan_count": 0,
          "min": "-2.7741697937051564",
          "max": "3.309141182676078",
          "histogram": [
           {
            "bin_start": -2.7741697937051564,
            "bin_end": -2.165838696067033,
            "count": 34
           },
           {
            "bin_start": -2.165838696067033,
            "bin_end": -1.5575075984289095,
            "count": 16
           },
           {
            "bin_start": -1.5575075984289095,
            "bin_end": -0.9491765007907862,
            "count": 0
           },
           {
            "bin_start": -0.9491765007907862,
            "bin_end": -0.34084540315266265,
            "count": 3
           },
           {
            "bin_start": -0.34084540315266265,
            "bin_end": 0.2674856944854609,
            "count": 14
           },
           {
            "bin_start": 0.2674856944854609,
            "bin_end": 0.875816792123584,
            "count": 22
           },
           {
            "bin_start": 0.875816792123584,
            "bin_end": 1.484147889761708,
            "count": 30
           },
           {
            "bin_start": 1.484147889761708,
            "bin_end": 2.092478987399831,
            "count": 21
           },
           {
            "bin_start": 2.092478987399831,
            "bin_end": 2.700810085037954,
            "count": 6
           },
           {
            "bin_start": 2.700810085037954,
            "bin_end": 3.309141182676078,
            "count": 4
           }
          ]
         }
        },
        {
         "name": "PC2",
         "dtype": "float64",
         "stats": {
          "unique_count": 147,
          "nan_count": 0,
          "min": "-2.6580626779617607",
          "max": "2.722371076574469",
          "histogram": [
           {
            "bin_start": -2.6580626779617607,
            "bin_end": -2.1200193025081377,
            "count": 2
           },
           {
            "bin_start": -2.1200193025081377,
            "bin_end": -1.5819759270545148,
            "count": 6
           },
           {
            "bin_start": -1.5819759270545148,
            "bin_end": -1.043932551600892,
            "count": 11
           },
           {
            "bin_start": -1.043932551600892,
            "bin_end": -0.505889176147269,
            "count": 22
           },
           {
            "bin_start": -0.505889176147269,
            "bin_end": 0.03215419930635388,
            "count": 37
           },
           {
            "bin_start": 0.03215419930635388,
            "bin_end": 0.5701975747599768,
            "count": 34
           },
           {
            "bin_start": 0.5701975747599768,
            "bin_end": 1.1082409502135997,
            "count": 25
           },
           {
            "bin_start": 1.1082409502135997,
            "bin_end": 1.6462843256672226,
            "count": 6
           },
           {
            "bin_start": 1.6462843256672226,
            "bin_end": 2.1843277011208455,
            "count": 3
           },
           {
            "bin_start": 2.1843277011208455,
            "bin_end": 2.722371076574469,
            "count": 4
           }
          ]
         }
        },
        {
         "name": "target",
         "dtype": "object",
         "stats": {
          "unique_count": 3,
          "nan_count": 0,
          "categories": [
           {
            "name": "Iris-setosa",
            "count": 50
           },
           {
            "name": "Iris-versicolor",
            "count": 50
           },
           {
            "name": "Iris-virginica",
            "count": 50
           }
          ]
         }
        },
        {
         "name": "_deepnote_index_column",
         "dtype": "int64"
        }
       ],
       "rows_top": [
        {
         "PC1": -2.2645417283949034,
         "PC2": 0.5057039027737841,
         "target": "Iris-setosa",
         "_deepnote_index_column": 0
        },
        {
         "PC1": -2.086425500616158,
         "PC2": -0.6554047293691346,
         "target": "Iris-setosa",
         "_deepnote_index_column": 1
        },
        {
         "PC1": -2.3679504490625254,
         "PC2": -0.3184773108472492,
         "target": "Iris-setosa",
         "_deepnote_index_column": 2
        },
        {
         "PC1": -2.3041971611520085,
         "PC2": -0.5753677125331953,
         "target": "Iris-setosa",
         "_deepnote_index_column": 3
        },
        {
         "PC1": -2.3887774935056414,
         "PC2": 0.6747673967025152,
         "target": "Iris-setosa",
         "_deepnote_index_column": 4
        },
        {
         "PC1": -2.070536807180553,
         "PC2": 1.518548559888513,
         "target": "Iris-setosa",
         "_deepnote_index_column": 5
        },
        {
         "PC1": -2.445711339630283,
         "PC2": 0.07456267500687389,
         "target": "Iris-setosa",
         "_deepnote_index_column": 6
        },
        {
         "PC1": -2.233841858709265,
         "PC2": 0.24761393175226507,
         "target": "Iris-setosa",
         "_deepnote_index_column": 7
        },
        {
         "PC1": -2.34195767645539,
         "PC2": -1.0951463625829554,
         "target": "Iris-setosa",
         "_deepnote_index_column": 8
        },
        {
         "PC1": -2.1886757552808693,
         "PC2": -0.44862904833755896,
         "target": "Iris-setosa",
         "_deepnote_index_column": 9
        },
        {
         "PC1": -2.1634865562665224,
         "PC2": 1.0705955760377264,
         "target": "Iris-setosa",
         "_deepnote_index_column": 10
        },
        {
         "PC1": -2.3273777541343734,
         "PC2": 0.15858745465947602,
         "target": "Iris-setosa",
         "_deepnote_index_column": 11
        },
        {
         "PC1": -2.2240827220450017,
         "PC2": -0.709118158030226,
         "target": "Iris-setosa",
         "_deepnote_index_column": 12
        },
        {
         "PC1": -2.6397162608446285,
         "PC2": -0.938281982107854,
         "target": "Iris-setosa",
         "_deepnote_index_column": 13
        },
        {
         "PC1": -2.1922915084984287,
         "PC2": 1.8899785123164656,
         "target": "Iris-setosa",
         "_deepnote_index_column": 14
        },
        {
         "PC1": -2.2514652145840643,
         "PC2": 2.722371076574469,
         "target": "Iris-setosa",
         "_deepnote_index_column": 15
        },
        {
         "PC1": -2.202750480080085,
         "PC2": 1.5137502825462188,
         "target": "Iris-setosa",
         "_deepnote_index_column": 16
        },
        {
         "PC1": -2.1901791637910515,
         "PC2": 0.5143043082206927,
         "target": "Iris-setosa",
         "_deepnote_index_column": 17
        },
        {
         "PC1": -1.8940742930236676,
         "PC2": 1.431110706941237,
         "target": "Iris-setosa",
         "_deepnote_index_column": 18
        },
        {
         "PC1": -2.3399490704234074,
         "PC2": 1.1580334289850007,
         "target": "Iris-setosa",
         "_deepnote_index_column": 19
        },
        {
         "PC1": -1.9145563949595166,
         "PC2": 0.4304651632801381,
         "target": "Iris-setosa",
         "_deepnote_index_column": 20
        },
        {
         "PC1": -2.2046453975338136,
         "PC2": 0.952457317288998,
         "target": "Iris-setosa",
         "_deepnote_index_column": 21
        },
        {
         "PC1": -2.7741697937051564,
         "PC2": 0.48951702650349477,
         "target": "Iris-setosa",
         "_deepnote_index_column": 22
        },
        {
         "PC1": -1.8204115633372133,
         "PC2": 0.10675079283540627,
         "target": "Iris-setosa",
         "_deepnote_index_column": 23
        },
        {
         "PC1": -2.2282174994597246,
         "PC2": 0.16218616266619693,
         "target": "Iris-setosa",
         "_deepnote_index_column": 24
        },
        {
         "PC1": -1.9570240073413965,
         "PC2": -0.6078925674838078,
         "target": "Iris-setosa",
         "_deepnote_index_column": 25
        },
        {
         "PC1": -2.052063311276686,
         "PC2": 0.26601431198165504,
         "target": "Iris-setosa",
         "_deepnote_index_column": 26
        },
        {
         "PC1": -2.168193653345021,
         "PC2": 0.5520164953235399,
         "target": "Iris-setosa",
         "_deepnote_index_column": 27
        },
        {
         "PC1": -2.140305963284157,
         "PC2": 0.3366404088450542,
         "target": "Iris-setosa",
         "_deepnote_index_column": 28
        },
        {
         "PC1": -2.2687901943878765,
         "PC2": -0.31487860284052827,
         "target": "Iris-setosa",
         "_deepnote_index_column": 29
        },
        {
         "PC1": -2.1445544292771346,
         "PC2": -0.48394209676925876,
         "target": "Iris-setosa",
         "_deepnote_index_column": 30
        },
        {
         "PC1": -1.8319381022015864,
         "PC2": 0.4452668355028073,
         "target": "Iris-setosa",
         "_deepnote_index_column": 31
        },
        {
         "PC1": -2.6082028676633464,
         "PC2": 1.8284751927341,
         "target": "Iris-setosa",
         "_deepnote_index_column": 32
        },
        {
         "PC1": -2.437950859095142,
         "PC2": 2.1853916156308917,
         "target": "Iris-setosa",
         "_deepnote_index_column": 33
        },
        {
         "PC1": -2.1886757552808693,
         "PC2": -0.44862904833755896,
         "target": "Iris-setosa",
         "_deepnote_index_column": 34
        },
        {
         "PC1": -2.2111198968124217,
         "PC2": -0.18433781054027856,
         "target": "Iris-setosa",
         "_deepnote_index_column": 35
        },
        {
         "PC1": -2.0444165193198,
         "PC2": 0.6849564262949368,
         "target": "Iris-setosa",
         "_deepnote_index_column": 36
        },
        {
         "PC1": -2.1886757552808693,
         "PC2": -0.44862904833755896,
         "target": "Iris-setosa",
         "_deepnote_index_column": 37
        },
        {
         "PC1": -2.4359522029660194,
         "PC2": -0.882169414775617,
         "target": "Iris-setosa",
         "_deepnote_index_column": 38
        },
        {
         "PC1": -2.17054720188427,
         "PC2": 0.29272695496644646,
         "target": "Iris-setosa",
         "_deepnote_index_column": 39
        },
        {
         "PC1": -2.2865272388409297,
         "PC2": 0.46799171567093784,
         "target": "Iris-setosa",
         "_deepnote_index_column": 40
        },
        {
         "PC1": -1.8717072235369505,
         "PC2": -2.3276916061149096,
         "target": "Iris-setosa",
         "_deepnote_index_column": 41
        },
        {
         "PC1": -2.557834419537513,
         "PC2": -0.45381638048979317,
         "target": "Iris-setosa",
         "_deepnote_index_column": 42
        },
        {
         "PC1": -1.9642792903547366,
         "PC2": 0.4973916400183832,
         "target": "Iris-setosa",
         "_deepnote_index_column": 43
        },
        {
         "PC1": -2.1333728329200277,
         "PC2": 1.1714321117742033,
         "target": "Iris-setosa",
         "_deepnote_index_column": 44
        },
        {
         "PC1": -2.075357592837306,
         "PC2": -0.6919173471364096,
         "target": "Iris-setosa",
         "_deepnote_index_column": 45
        },
        {
         "PC1": -2.3812582168023724,
         "PC2": 1.1506325928736663,
         "target": "Iris-setosa",
         "_deepnote_index_column": 46
        },
        {
         "PC1": -2.398191687662638,
         "PC2": -0.3623907647258571,
         "target": "Iris-setosa",
         "_deepnote_index_column": 47
        },
        {
         "PC1": -2.226781213091518,
         "PC2": 1.0254825528235447,
         "target": "Iris-setosa",
         "_deepnote_index_column": 48
        },
        {
         "PC1": -2.2059541686484017,
         "PC2": 0.0322378452737796,
         "target": "Iris-setosa",
         "_deepnote_index_column": 49
        },
        {
         "PC1": 1.1039936528045722,
         "PC2": 0.8631124458513245,
         "target": "Iris-versicolor",
         "_deepnote_index_column": 50
        },
        {
         "PC1": 0.7324814400086807,
         "PC2": 0.5986355733419972,
         "target": "Iris-versicolor",
         "_deepnote_index_column": 51
        },
        {
         "PC1": 1.2421095053189377,
         "PC2": 0.6148224496122869,
         "target": "Iris-versicolor",
         "_deepnote_index_column": 52
        },
        {
         "PC1": 0.3973072828233272,
         "PC2": -1.7581689474435256,
         "target": "Iris-versicolor",
         "_deepnote_index_column": 53
        },
        {
         "PC1": 1.072593948201545,
         "PC2": -0.2117579026798954,
         "target": "Iris-versicolor",
         "_deepnote_index_column": 54
        },
        {
         "PC1": 0.3844581461690013,
         "PC2": -0.5910624686227365,
         "target": "Iris-versicolor",
         "_deepnote_index_column": 55
        },
        {
         "PC1": 0.7487150759515526,
         "PC2": 0.7786986113887819,
         "target": "Iris-versicolor",
         "_deepnote_index_column": 56
        },
        {
         "PC1": -0.4978633877981182,
         "PC2": -1.8488687712754417,
         "target": "Iris-versicolor",
         "_deepnote_index_column": 57
        },
        {
         "PC1": 0.9262223675330984,
         "PC2": 0.03033082678338136,
         "target": "Iris-versicolor",
         "_deepnote_index_column": 58
        },
        {
         "PC1": 0.004968025584318978,
         "PC2": -1.029401112403088,
         "target": "Iris-versicolor",
         "_deepnote_index_column": 59
        },
        {
         "PC1": -0.12469746138037062,
         "PC2": -2.6580626779617607,
         "target": "Iris-versicolor",
         "_deepnote_index_column": 60
        },
        {
         "PC1": 0.4387301177805465,
         "PC2": -0.05888128502145437,
         "target": "Iris-versicolor",
         "_deepnote_index_column": 61
        },
        {
         "PC1": 0.5516339814225077,
         "PC2": -1.7725815648562542,
         "target": "Iris-versicolor",
         "_deepnote_index_column": 62
        },
        {
         "PC1": 0.7171650662368513,
         "PC2": -0.18543431450504383,
         "target": "Iris-versicolor",
         "_deepnote_index_column": 63
        },
        {
         "PC1": -0.03725838296568845,
         "PC2": -0.4327950987141687,
         "target": "Iris-versicolor",
         "_deepnote_index_column": 64
        },
        {
         "PC1": 0.8758905359406832,
         "PC2": 0.5099981510591476,
         "target": "Iris-versicolor",
         "_deepnote_index_column": 65
        },
        {
         "PC1": 0.3480064019802084,
         "PC2": -0.19062164665727788,
         "target": "Iris-versicolor",
         "_deepnote_index_column": 66
        },
        {
         "PC1": 0.15339254456866705,
         "PC2": -0.7907254562344853,
         "target": "Iris-versicolor",
         "_deepnote_index_column": 67
        },
        {
         "PC1": 1.215303209216154,
         "PC2": -1.633355644515482,
         "target": "Iris-versicolor",
         "_deepnote_index_column": 68
        },
        {
         "PC1": 0.15694117564425067,
         "PC2": -1.3031032701729108,
         "target": "Iris-versicolor",
         "_deepnote_index_column": 69
        },
        {
         "PC1": 0.7382561043698956,
         "PC2": 0.4024703816185357,
         "target": "Iris-versicolor",
         "_deepnote_index_column": 70
        },
        {
         "PC1": 0.47236968234456844,
         "PC2": -0.4166082224438792,
         "target": "Iris-versicolor",
         "_deepnote_index_column": 71
        },
        {
         "PC1": 1.2279882140834424,
         "PC2": -0.940914792530272,
         "target": "Iris-versicolor",
         "_deepnote_index_column": 72
        },
        {
         "PC1": 0.6293810453149018,
         "PC2": -0.4168116425417719,
         "target": "Iris-versicolor",
         "_deepnote_index_column": 73
        },
        {
         "PC1": 0.7004727992084582,
         "PC2": -0.06349392765170202,
         "target": "Iris-versicolor",
         "_deepnote_index_column": 74
        },
        {
         "PC1": 0.8735369874014337,
         "PC2": 0.25070861070205414,
         "target": "Iris-versicolor",
         "_deepnote_index_column": 75
        },
        {
         "PC1": 1.25422219052245,
         "PC2": -0.0826200998131122,
         "target": "Iris-versicolor",
         "_deepnote_index_column": 76
        },
        {
         "PC1": 1.3582398473872712,
         "PC2": 0.3288202662704021,
         "target": "Iris-versicolor",
         "_deepnote_index_column": 77
        },
        {
         "PC1": 0.6621261375659374,
         "PC2": -0.22434607094346407,
         "target": "Iris-versicolor",
         "_deepnote_index_column": 78
        },
        {
         "PC1": -0.04728151331988002,
         "PC2": -1.0572124126050202,
         "target": "Iris-versicolor",
         "_deepnote_index_column": 79
        },
        {
         "PC1": 0.12153420888011869,
         "PC2": -1.5635923798655775,
         "target": "Iris-versicolor",
         "_deepnote_index_column": 80
        },
        {
         "PC1": 0.014118226051387753,
         "PC2": -1.5733923546480593,
         "target": "Iris-versicolor",
         "_deepnote_index_column": 81
        },
        {
         "PC1": 0.23601083732659692,
         "PC2": -0.7759237840118163,
         "target": "Iris-versicolor",
         "_deepnote_index_column": 82
        },
        {
         "PC1": 1.0566914280905764,
         "PC2": -0.6369012837689368,
         "target": "Iris-versicolor",
         "_deepnote_index_column": 83
        },
        {
         "PC1": 0.22141708833021762,
         "PC2": -0.2808476930856404,
         "target": "Iris-versicolor",
         "_deepnote_index_column": 84
        },
        {
         "PC1": 0.43178316074105333,
         "PC2": 0.8551369202180025,
         "target": "Iris-versicolor",
         "_deepnote_index_column": 85
        },
        {
         "PC1": 1.0494133552191802,
         "PC2": 0.5221972645127767,
         "target": "Iris-versicolor",
         "_deepnote_index_column": 86
        },
        {
         "PC1": 1.0358782103228246,
         "PC2": -1.39246648438778,
         "target": "Iris-versicolor",
         "_deepnote_index_column": 87
        },
        {
         "PC1": 0.06706759987298008,
         "PC2": -0.21262073489338879,
         "target": "Iris-versicolor",
         "_deepnote_index_column": 88
        },
        {
         "PC1": 0.27542506625183405,
         "PC2": -1.3298159131577019,
         "target": "Iris-versicolor",
         "_deepnote_index_column": 89
        },
        {
         "PC1": 0.2723350662617718,
         "PC2": -1.1194415241194038,
         "target": "Iris-versicolor",
         "_deepnote_index_column": 90
        },
        {
         "PC1": 0.6231705397262214,
         "PC2": 0.027542633302294464,
         "target": "Iris-versicolor",
         "_deepnote_index_column": 91
        },
        {
         "PC1": 0.3300053638372265,
         "PC2": -0.9889007318191547,
         "target": "Iris-versicolor",
         "_deepnote_index_column": 92
        },
        {
         "PC1": -0.3736276226873762,
         "PC2": -2.017932265204172,
         "target": "Iris-versicolor",
         "_deepnote_index_column": 93
        },
        {
         "PC1": 0.2829443429551026,
         "PC2": -0.85395071698655,
         "target": "Iris-versicolor",
         "_deepnote_index_column": 94
        },
        {
         "PC1": 0.08905311031901127,
         "PC2": -0.17490854779054174,
         "target": "Iris-versicolor",
         "_deepnote_index_column": 95
        },
        {
         "PC1": 0.22435678320860597,
         "PC2": -0.3804846594865455,
         "target": "Iris-versicolor",
         "_deepnote_index_column": 96
        },
        {
         "PC1": 0.5738834855584669,
         "PC2": -0.15371997408006488,
         "target": "Iris-versicolor",
         "_deepnote_index_column": 97
        },
        {
         "PC1": -0.4570128725046748,
         "PC2": -1.5394645102639806,
         "target": "Iris-versicolor",
         "_deepnote_index_column": 98
        },
        {
         "PC1": 0.25224447326946914,
         "PC2": -0.595860745965031,
         "target": "Iris-versicolor",
         "_deepnote_index_column": 99
        },
        {
         "PC1": 1.8476725943096637,
         "PC2": 0.8716966617734127,
         "target": "Iris-virginica",
         "_deepnote_index_column": 100
        },
        {
         "PC1": 1.1531898082521288,
         "PC2": -0.7013261138565754,
         "target": "Iris-virginica",
         "_deepnote_index_column": 101
        },
        {
         "PC1": 2.206349497126593,
         "PC2": 0.5544701049349228,
         "target": "Iris-virginica",
         "_deepnote_index_column": 102
        },
        {
         "PC1": 1.4386854023261815,
         "PC2": -0.05001052226888553,
         "target": "Iris-virginica",
         "_deepnote_index_column": 103
        },
        {
         "PC1": 1.867890702555584,
         "PC2": 0.29119280176116913,
         "target": "Iris-virginica",
         "_deepnote_index_column": 104
        },
        {
         "PC1": 2.7541967088257526,
         "PC2": 0.7884322063548452,
         "target": "Iris-virginica",
         "_deepnote_index_column": 105
        },
        {
         "PC1": 0.35837447484166746,
         "PC2": -1.560094583977289,
         "target": "Iris-virginica",
         "_deepnote_index_column": 106
        },
        {
         "PC1": 2.3030058981503188,
         "PC2": 0.4095166952219437,
         "target": "Iris-virginica",
         "_deepnote_index_column": 107
        },
        {
         "PC1": 2.0017352992189164,
         "PC2": -0.723865359312659,
         "target": "Iris-virginica",
         "_deepnote_index_column": 108
        },
        {
         "PC1": 2.267554599102268,
         "PC2": 1.9214429914653548,
         "target": "Iris-virginica",
         "_deepnote_index_column": 109
        },
        {
         "PC1": 1.3659094292022136,
         "PC2": 0.6939480398041611,
         "target": "Iris-virginica",
         "_deepnote_index_column": 110
        },
        {
         "PC1": 1.5990645856518693,
         "PC2": -0.42824883590033935,
         "target": "Iris-virginica",
         "_deepnote_index_column": 111
        },
        {
         "PC1": 1.8842518537520743,
         "PC2": 0.4143327579500842,
         "target": "Iris-virginica",
         "_deepnote_index_column": 112
        },
        {
         "PC1": 1.253086514377591,
         "PC2": -1.1673913352452454,
         "target": "Iris-virginica",
         "_deepnote_index_column": 113
        },
        {
         "PC1": 1.4640615229856224,
         "PC2": -0.4441475694791236,
         "target": "Iris-virginica",
         "_deepnote_index_column": 114
        },
        {
         "PC1": 1.5918093026385283,
         "PC2": 0.6770353716018516,
         "target": "Iris-virginica",
         "_deepnote_index_column": 115
        },
        {
         "PC1": 1.4712801894655434,
         "PC2": 0.25319247196681555,
         "target": "Iris-virginica",
         "_deepnote_index_column": 116
        },
        {
         "PC1": 2.437378482193507,
         "PC2": 2.5567573414948015,
         "target": "Iris-virginica",
         "_deepnote_index_column": 117
        },
        {
         "PC1": 3.309141182676078,
         "PC2": -0.0023613201020824923,
         "target": "Iris-virginica",
         "_deepnote_index_column": 118
        },
        {
         "PC1": 1.2539809866905776,
         "PC2": -1.7175838442659768,
         "target": "Iris-virginica",
         "_deepnote_index_column": 119
        },
        {
         "PC1": 2.0404962596630387,
         "PC2": 0.9073987650150531,
         "target": "Iris-virginica",
         "_deepnote_index_column": 120
        },
        {
         "PC1": 0.9739151144704733,
         "PC2": -0.5711743763662661,
         "target": "Iris-virginica",
         "_deepnote_index_column": 121
        },
        {
         "PC1": 2.8980644358432763,
         "PC2": 0.3977913591718686,
         "target": "Iris-virginica",
         "_deepnote_index_column": 122
        },
        {
         "PC1": 1.3291936913234932,
         "PC2": -0.4867605419037237,
         "target": "Iris-virginica",
         "_deepnote_index_column": 123
        },
        {
         "PC1": 1.7042407085196052,
         "PC2": 1.014148424835785,
         "target": "Iris-virginica",
         "_deepnote_index_column": 124
        },
        {
         "PC1": 1.957727661793435,
         "PC2": 1.0033345154297773,
         "target": "Iris-virginica",
         "_deepnote_index_column": 125
        },
        {
         "PC1": 1.1719045079878683,
         "PC2": -0.3188966173105676,
         "target": "Iris-virginica",
         "_deepnote_index_column": 126
        },
        {
         "PC1": 1.0197810528162627,
         "PC2": 0.06554296309664809,
         "target": "Iris-virginica",
         "_deepnote_index_column": 127
        },
        {
         "PC1": 1.786008861248468,
         "PC2": -0.19327279985689128,
         "target": "Iris-virginica",
         "_deepnote_index_column": 128
        },
        {
         "PC1": 1.8647779127074662,
         "PC2": 0.55538153157899,
         "target": "Iris-virginica",
         "_deepnote_index_column": 129
        },
        {
         "PC1": 2.4354973914151428,
         "PC2": 0.24665446806897456,
         "target": "Iris-virginica",
         "_deepnote_index_column": 130
        },
        {
         "PC1": 2.3160824119611534,
         "PC2": 2.6261838690226273,
         "target": "Iris-virginica",
         "_deepnote_index_column": 131
        },
        {
         "PC1": 1.8603714258523156,
         "PC2": -0.18467239440998312,
         "target": "Iris-virginica",
         "_deepnote_index_column": 132
        },
        {
         "PC1": 1.1112717256759688,
         "PC2": -0.29598610243039014,
         "target": "Iris-virginica",
         "_deepnote_index_column": 133
        },
        {
         "PC1": 1.1974691551180376,
         "PC2": -0.8171677419136159,
         "target": "Iris-virginica",
         "_deepnote_index_column": 134
        },
        {
         "PC1": 2.800949403734028,
         "PC2": 0.8447481937849748,
         "target": "Iris-virginica",
         "_deepnote_index_column": 135
        },
        {
         "PC1": 1.5801552485205363,
         "PC2": 1.0724744961271222,
         "target": "Iris-virginica",
         "_deepnote_index_column": 136
        },
        {
         "PC1": 1.3470444243548017,
         "PC2": 0.42225596589554615,
         "target": "Iris-virginica",
         "_deepnote_index_column": 137
        },
        {
         "PC1": 0.923432977766384,
         "PC2": 0.019230370546893197,
         "target": "Iris-virginica",
         "_deepnote_index_column": 138
        },
        {
         "PC1": 1.8535519840664405,
         "PC2": 0.672422728971604,
         "target": "Iris-virginica",
         "_deepnote_index_column": 139
        },
        {
         "PC1": 2.0161572006777586,
         "PC2": 0.6103970375551129,
         "target": "Iris-virginica",
         "_deepnote_index_column": 140
        },
        {
         "PC1": 1.9031168585994869,
         "PC2": 0.6860248318586996,
         "target": "Iris-virginica",
         "_deepnote_index_column": 141
        },
        {
         "PC1": 1.1531898082521288,
         "PC2": -0.7013261138565754,
         "target": "Iris-virginica",
         "_deepnote_index_column": 142
        },
        {
         "PC1": 2.043308439287809,
         "PC2": 0.8646848804720187,
         "target": "Iris-virginica",
         "_deepnote_index_column": 143
        },
        {
         "PC1": 2.0016909669349974,
         "PC2": 1.0485500466234177,
         "target": "Iris-virginica",
         "_deepnote_index_column": 144
        },
        {
         "PC1": 1.870522071460125,
         "PC2": 0.3828218376229984,
         "target": "Iris-virginica",
         "_deepnote_index_column": 145
        },
        {
         "PC1": 1.558491890723717,
         "PC2": -0.9053136014070654,
         "target": "Iris-virginica",
         "_deepnote_index_column": 146
        },
        {
         "PC1": 1.5208450639985898,
         "PC2": 0.2667945748539109,
         "target": "Iris-virginica",
         "_deepnote_index_column": 147
        },
        {
         "PC1": 1.3763911906419273,
         "PC2": 1.0163619287948853,
         "target": "Iris-virginica",
         "_deepnote_index_column": 148
        },
        {
         "PC1": 0.9592985756160376,
         "PC2": -0.022283944660567125,
         "target": "Iris-virginica",
         "_deepnote_index_column": 149
        }
       ],
       "rows_bottom": null
      },
      "text/plain": "          PC1       PC2          target\n0   -2.264542  0.505704     Iris-setosa\n1   -2.086426 -0.655405     Iris-setosa\n2   -2.367950 -0.318477     Iris-setosa\n3   -2.304197 -0.575368     Iris-setosa\n4   -2.388777  0.674767     Iris-setosa\n..        ...       ...             ...\n145  1.870522  0.382822  Iris-virginica\n146  1.558492 -0.905314  Iris-virginica\n147  1.520845  0.266795  Iris-virginica\n148  1.376391  1.016362  Iris-virginica\n149  0.959299 -0.022284  Iris-virginica\n\n[150 rows x 3 columns]",
      "text/html": "<div>\n<style scoped>\n    .dataframe tbody tr th:only-of-type {\n        vertical-align: middle;\n    }\n\n    .dataframe tbody tr th {\n        vertical-align: top;\n    }\n\n    .dataframe thead th {\n        text-align: right;\n    }\n</style>\n<table border=\"1\" class=\"dataframe\">\n  <thead>\n    <tr style=\"text-align: right;\">\n      <th></th>\n      <th>PC1</th>\n      <th>PC2</th>\n      <th>target</th>\n    </tr>\n  </thead>\n  <tbody>\n    <tr>\n      <th>0</th>\n      <td>-2.264542</td>\n      <td>0.505704</td>\n      <td>Iris-setosa</td>\n    </tr>\n    <tr>\n      <th>1</th>\n      <td>-2.086426</td>\n      <td>-0.655405</td>\n      <td>Iris-setosa</td>\n    </tr>\n    <tr>\n      <th>2</th>\n      <td>-2.367950</td>\n      <td>-0.318477</td>\n      <td>Iris-setosa</td>\n    </tr>\n    <tr>\n      <th>3</th>\n      <td>-2.304197</td>\n      <td>-0.575368</td>\n      <td>Iris-setosa</td>\n    </tr>\n    <tr>\n      <th>4</th>\n      <td>-2.388777</td>\n      <td>0.674767</td>\n      <td>Iris-setosa</td>\n    </tr>\n    <tr>\n      <th>...</th>\n      <td>...</td>\n      <td>...</td>\n      <td>...</td>\n    </tr>\n    <tr>\n      <th>145</th>\n      <td>1.870522</td>\n      <td>0.382822</td>\n      <td>Iris-virginica</td>\n    </tr>\n    <tr>\n      <th>146</th>\n      <td>1.558492</td>\n      <td>-0.905314</td>\n      <td>Iris-virginica</td>\n    </tr>\n    <tr>\n      <th>147</th>\n      <td>1.520845</td>\n      <td>0.266795</td>\n      <td>Iris-virginica</td>\n    </tr>\n    <tr>\n      <th>148</th>\n      <td>1.376391</td>\n      <td>1.016362</td>\n      <td>Iris-virginica</td>\n    </tr>\n    <tr>\n      <th>149</th>\n      <td>0.959299</td>\n      <td>-0.022284</td>\n      <td>Iris-virginica</td>\n    </tr>\n  </tbody>\n</table>\n<p>150 rows × 3 columns</p>\n</div>"
     },
     "metadata": {}
    }
   ],
   "execution_count": null
  },
  {
   "cell_type": "markdown",
   "source": "## Plot PC1 vs PC2 to visualize data into a 2D-projected space",
   "metadata": {
    "id": "QSn64GOAhc7z",
    "cell_id": "00013-d93ee396-24da-47ae-9470-1db231b2739a",
    "deepnote_cell_type": "markdown"
   }
  },
  {
   "cell_type": "code",
   "metadata": {
    "colab": {
     "base_uri": "https://localhost:8080/",
     "height": 360
    },
    "id": "zyCifKdV1_-U",
    "executionInfo": {
     "status": "ok",
     "timestamp": 1637153695986,
     "user_tz": 0,
     "elapsed": 402,
     "user": {
      "displayName": "Nádia Pinto",
      "photoUrl": "https://lh3.googleusercontent.com/a/default-user=s64",
      "userId": "17874983531812220099"
     }
    },
    "outputId": "3b12a0d1-5d60-4875-f764-e5760985e409",
    "cell_id": "00014-7b0b1757-1a50-479b-b02a-d07f8d8a5412",
    "deepnote_to_be_reexecuted": false,
    "source_hash": "6b15af3e",
    "execution_start": 1637155768897,
    "execution_millis": 454,
    "deepnote_cell_type": "code"
   },
   "source": "plt.figure(figsize = (5 , 5))\nplt.xlabel('PC1', fontsize = 15)\nplt.ylabel('PC2', fontsize = 15)\nplt.title('PCA: 2 components projection', fontsize = 20)\n\noutClasses = np.unique(y) #['Iris-setosa', 'Iris-versicolor', 'Iris-virginica']\ncolors = ['r', 'g', 'b']\n\nfor outClass, color in zip(outClasses,colors):\n  ind = np.where(y[\"target\"] == outClass)\n  plt.scatter(principalDf.loc[ind, 'PC1'] \n             , principalDf.loc[ind, 'PC2']\n             , c = color)\nplt.legend(outClasses)  \nplt.grid()",
   "outputs": [
    {
     "data": {
      "text/plain": "<Figure size 360x360 with 1 Axes>",
      "image/png": "[encoded data removed]"
     },
     "metadata": {
      "needs_background": "light",
      "image/png": {
       "width": 345,
       "height": 343
      }
     },
     "output_type": "display_data"
    }
   ],
   "execution_count": null
  },
  {
   "cell_type": "markdown",
   "source": "## getting the explained variance ratio\n\nThe explained variance ratio refers to the percentage of variance explained by each of the principal components, and is a measure of how much information is captured by each of the principal components.\n\n",
   "metadata": {
    "id": "Ti07IwISnUYE",
    "cell_id": "00015-f17ece99-6f61-432a-97f9-bc4a71fd9361",
    "deepnote_cell_type": "markdown"
   }
  },
  {
   "cell_type": "code",
   "metadata": {
    "colab": {
     "base_uri": "https://localhost:8080/"
    },
    "id": "mdBxb3cym41v",
    "executionInfo": {
     "status": "ok",
     "timestamp": 1637153695986,
     "user_tz": 0,
     "elapsed": 5,
     "user": {
      "displayName": "Nádia Pinto",
      "photoUrl": "https://lh3.googleusercontent.com/a/default-user=s64",
      "userId": "17874983531812220099"
     }
    },
    "outputId": "ace4e9e8-879b-443d-a03c-0497ba3db464",
    "cell_id": "00016-9dd37fdc-4b95-4a49-a0a1-49ec64daca17",
    "deepnote_to_be_reexecuted": false,
    "source_hash": "d143f063",
    "execution_start": 1637155769394,
    "execution_millis": 1,
    "deepnote_cell_type": "code"
   },
   "source": "explained_variance = pca.get_explained_variance()\nprint(\"explained_variance per principal component [%]: \", np.round(explained_variance*100,decimals=2))\nprint(\"sum of explained_variance [%]: \", np.round(sum(explained_variance)*100, decimals=2))",
   "outputs": [
    {
     "name": "stdout",
     "text": "explained_variance per principal component [%]:  [72.77 23.03]\nsum of explained_variance [%]:  95.8\n",
     "output_type": "stream"
    }
   ],
   "execution_count": null
  },
  {
   "cell_type": "markdown",
   "source": "<a style='text-decoration:none;line-height:16px;display:flex;color:#5B5B62;padding:10px;justify-content:end;' href='https://deepnote.com?utm_source=created-in-deepnote-cell&projectId=ca7c41ac-cbd3-4d18-a0c8-dd5e48aa9b9b' target=\"_blank\">\n<img alt='Created in deepnote.com' style='display:inline;max-height:16px;margin:0px;margin-right:7.5px;' src='data:image/svg+xml;base64,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' > </img>\nCreated in <span style='font-weight:600;margin-left:4px;'>Deepnote</span></a>",
   "metadata": {
    "tags": [],
    "created_in_deepnote_cell": true,
    "deepnote_cell_type": "markdown"
   }
  }
 ],
 "nbformat": 4,
 "nbformat_minor": 0,
 "metadata": {
  "colab": {
   "name": "PCA.ipynb",
   "provenance": [],
   "collapsed_sections": [],
   "authorship_tag": "ABX9TyNM1R5T1FIq9HB9KySeazpS"
  },
  "kernelspec": {
   "name": "python3",
   "display_name": "Python 3"
  },
  "language_info": {
   "name": "python"
  },
  "deepnote_notebook_id": "681807d5-c50d-41fe-aa68-d8f423bff365",
  "deepnote": {},
  "deepnote_app_layout": "dashboard",
  "deepnote_execution_queue": []
 }
}